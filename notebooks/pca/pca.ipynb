{
  "nbformat": 4,
  "nbformat_minor": 0,
  "metadata": {
    "colab": {
      "name": "pca.ipynb",
      "provenance": [],
      "collapsed_sections": []
    },
    "kernelspec": {
      "name": "python3",
      "display_name": "Python 3"
    },
    "language_info": {
      "name": "python"
    }
  },
  "cells": [
    {
      "cell_type": "code",
      "execution_count": 136,
      "metadata": {
        "id": "Ic0W_2e6lxE2"
      },
      "outputs": [],
      "source": [
        "import pandas as pd                    #gestionar dataframes\n",
        "import numpy as np  \n",
        "from sklearn.model_selection import train_test_split\n",
        "import seaborn as sns\n",
        "from sklearn.metrics import confusion_matrix\n",
        "import matplotlib.pyplot as plt\n",
        "from sklearn.metrics import accuracy_score\n",
        "import numpy as np"
      ]
    },
    {
      "cell_type": "code",
      "source": [
        "dfpca = pd.read_csv(r\"https://raw.githubusercontent.com/medinaltbx/G6_DP3/master/data/input/merged_data/train/merged_train.csv\", sep=';' , decimal='.')\n",
        "dfpca.head()\n"
      ],
      "metadata": {
        "colab": {
          "base_uri": "https://localhost:8080/",
          "height": 317
        },
        "id": "MTMoT_5Gmf3_",
        "outputId": "a4a51df2-663f-43dd-b330-2194e217c362"
      },
      "execution_count": 137,
      "outputs": [
        {
          "output_type": "execute_result",
          "data": {
            "text/plain": [
              "                         customerid  edad  loannumber  loanamount  totaldue  \\\n",
              "0  8a858e135cb22031015cbafc76964ebd    48           2     10000.0   13000.0   \n",
              "1  8a858e275c7ea5ec015c82482d7c3996    36           2     10000.0   13000.0   \n",
              "2  8a858e5b5bd99460015bdc95cd485634    35           4     10000.0   13000.0   \n",
              "3  8a858efd5ca70688015cabd1f1e94b55    30           2     10000.0   11500.0   \n",
              "4  8a858ea05a859123015a8892914d15b7    31           6     20000.0   24500.0   \n",
              "\n",
              "   termdays  referredby  good_bad_flag  times_loaned  times_late  ...  \\\n",
              "0        30           1            1.0           1.0         0.0  ...   \n",
              "1        30           0            0.0           1.0         1.0  ...   \n",
              "2        30           0            1.0           3.0         2.0  ...   \n",
              "3        15           0            1.0           1.0         1.0  ...   \n",
              "4        30           0            1.0           5.0         2.0  ...   \n",
              "\n",
              "   employment_status_clients_Retired  employment_status_clients_Self-Employed  \\\n",
              "0                                  0                                        0   \n",
              "1                                  0                                        0   \n",
              "2                                  0                                        0   \n",
              "3                                  0                                        0   \n",
              "4                                  0                                        0   \n",
              "\n",
              "   employment_status_clients_Student  employment_status_clients_UNKNOWN  \\\n",
              "0                                  0                                  1   \n",
              "1                                  0                                  0   \n",
              "2                                  0                                  1   \n",
              "3                                  0                                  0   \n",
              "4                                  0                                  0   \n",
              "\n",
              "   employment_status_clients_Unemployed  level_of_education_clients_Graduate  \\\n",
              "0                                     0                                    0   \n",
              "1                                     0                                    0   \n",
              "2                                     0                                    0   \n",
              "3                                     0                                    0   \n",
              "4                                     0                                    0   \n",
              "\n",
              "   level_of_education_clients_Post-Graduate  \\\n",
              "0                                         0   \n",
              "1                                         0   \n",
              "2                                         0   \n",
              "3                                         0   \n",
              "4                                         0   \n",
              "\n",
              "   level_of_education_clients_Primary  level_of_education_clients_Secondary  \\\n",
              "0                                   0                                     0   \n",
              "1                                   0                                     0   \n",
              "2                                   0                                     0   \n",
              "3                                   0                                     0   \n",
              "4                                   0                                     0   \n",
              "\n",
              "   level_of_education_clients_UNKNOWN  \n",
              "0                                   1  \n",
              "1                                   1  \n",
              "2                                   1  \n",
              "3                                   1  \n",
              "4                                   1  \n",
              "\n",
              "[5 rows x 79 columns]"
            ],
            "text/html": [
              "\n",
              "  <div id=\"df-2394455d-c7e6-4d30-a64c-f964509dc2d5\">\n",
              "    <div class=\"colab-df-container\">\n",
              "      <div>\n",
              "<style scoped>\n",
              "    .dataframe tbody tr th:only-of-type {\n",
              "        vertical-align: middle;\n",
              "    }\n",
              "\n",
              "    .dataframe tbody tr th {\n",
              "        vertical-align: top;\n",
              "    }\n",
              "\n",
              "    .dataframe thead th {\n",
              "        text-align: right;\n",
              "    }\n",
              "</style>\n",
              "<table border=\"1\" class=\"dataframe\">\n",
              "  <thead>\n",
              "    <tr style=\"text-align: right;\">\n",
              "      <th></th>\n",
              "      <th>customerid</th>\n",
              "      <th>edad</th>\n",
              "      <th>loannumber</th>\n",
              "      <th>loanamount</th>\n",
              "      <th>totaldue</th>\n",
              "      <th>termdays</th>\n",
              "      <th>referredby</th>\n",
              "      <th>good_bad_flag</th>\n",
              "      <th>times_loaned</th>\n",
              "      <th>times_late</th>\n",
              "      <th>...</th>\n",
              "      <th>employment_status_clients_Retired</th>\n",
              "      <th>employment_status_clients_Self-Employed</th>\n",
              "      <th>employment_status_clients_Student</th>\n",
              "      <th>employment_status_clients_UNKNOWN</th>\n",
              "      <th>employment_status_clients_Unemployed</th>\n",
              "      <th>level_of_education_clients_Graduate</th>\n",
              "      <th>level_of_education_clients_Post-Graduate</th>\n",
              "      <th>level_of_education_clients_Primary</th>\n",
              "      <th>level_of_education_clients_Secondary</th>\n",
              "      <th>level_of_education_clients_UNKNOWN</th>\n",
              "    </tr>\n",
              "  </thead>\n",
              "  <tbody>\n",
              "    <tr>\n",
              "      <th>0</th>\n",
              "      <td>8a858e135cb22031015cbafc76964ebd</td>\n",
              "      <td>48</td>\n",
              "      <td>2</td>\n",
              "      <td>10000.0</td>\n",
              "      <td>13000.0</td>\n",
              "      <td>30</td>\n",
              "      <td>1</td>\n",
              "      <td>1.0</td>\n",
              "      <td>1.0</td>\n",
              "      <td>0.0</td>\n",
              "      <td>...</td>\n",
              "      <td>0</td>\n",
              "      <td>0</td>\n",
              "      <td>0</td>\n",
              "      <td>1</td>\n",
              "      <td>0</td>\n",
              "      <td>0</td>\n",
              "      <td>0</td>\n",
              "      <td>0</td>\n",
              "      <td>0</td>\n",
              "      <td>1</td>\n",
              "    </tr>\n",
              "    <tr>\n",
              "      <th>1</th>\n",
              "      <td>8a858e275c7ea5ec015c82482d7c3996</td>\n",
              "      <td>36</td>\n",
              "      <td>2</td>\n",
              "      <td>10000.0</td>\n",
              "      <td>13000.0</td>\n",
              "      <td>30</td>\n",
              "      <td>0</td>\n",
              "      <td>0.0</td>\n",
              "      <td>1.0</td>\n",
              "      <td>1.0</td>\n",
              "      <td>...</td>\n",
              "      <td>0</td>\n",
              "      <td>0</td>\n",
              "      <td>0</td>\n",
              "      <td>0</td>\n",
              "      <td>0</td>\n",
              "      <td>0</td>\n",
              "      <td>0</td>\n",
              "      <td>0</td>\n",
              "      <td>0</td>\n",
              "      <td>1</td>\n",
              "    </tr>\n",
              "    <tr>\n",
              "      <th>2</th>\n",
              "      <td>8a858e5b5bd99460015bdc95cd485634</td>\n",
              "      <td>35</td>\n",
              "      <td>4</td>\n",
              "      <td>10000.0</td>\n",
              "      <td>13000.0</td>\n",
              "      <td>30</td>\n",
              "      <td>0</td>\n",
              "      <td>1.0</td>\n",
              "      <td>3.0</td>\n",
              "      <td>2.0</td>\n",
              "      <td>...</td>\n",
              "      <td>0</td>\n",
              "      <td>0</td>\n",
              "      <td>0</td>\n",
              "      <td>1</td>\n",
              "      <td>0</td>\n",
              "      <td>0</td>\n",
              "      <td>0</td>\n",
              "      <td>0</td>\n",
              "      <td>0</td>\n",
              "      <td>1</td>\n",
              "    </tr>\n",
              "    <tr>\n",
              "      <th>3</th>\n",
              "      <td>8a858efd5ca70688015cabd1f1e94b55</td>\n",
              "      <td>30</td>\n",
              "      <td>2</td>\n",
              "      <td>10000.0</td>\n",
              "      <td>11500.0</td>\n",
              "      <td>15</td>\n",
              "      <td>0</td>\n",
              "      <td>1.0</td>\n",
              "      <td>1.0</td>\n",
              "      <td>1.0</td>\n",
              "      <td>...</td>\n",
              "      <td>0</td>\n",
              "      <td>0</td>\n",
              "      <td>0</td>\n",
              "      <td>0</td>\n",
              "      <td>0</td>\n",
              "      <td>0</td>\n",
              "      <td>0</td>\n",
              "      <td>0</td>\n",
              "      <td>0</td>\n",
              "      <td>1</td>\n",
              "    </tr>\n",
              "    <tr>\n",
              "      <th>4</th>\n",
              "      <td>8a858ea05a859123015a8892914d15b7</td>\n",
              "      <td>31</td>\n",
              "      <td>6</td>\n",
              "      <td>20000.0</td>\n",
              "      <td>24500.0</td>\n",
              "      <td>30</td>\n",
              "      <td>0</td>\n",
              "      <td>1.0</td>\n",
              "      <td>5.0</td>\n",
              "      <td>2.0</td>\n",
              "      <td>...</td>\n",
              "      <td>0</td>\n",
              "      <td>0</td>\n",
              "      <td>0</td>\n",
              "      <td>0</td>\n",
              "      <td>0</td>\n",
              "      <td>0</td>\n",
              "      <td>0</td>\n",
              "      <td>0</td>\n",
              "      <td>0</td>\n",
              "      <td>1</td>\n",
              "    </tr>\n",
              "  </tbody>\n",
              "</table>\n",
              "<p>5 rows × 79 columns</p>\n",
              "</div>\n",
              "      <button class=\"colab-df-convert\" onclick=\"convertToInteractive('df-2394455d-c7e6-4d30-a64c-f964509dc2d5')\"\n",
              "              title=\"Convert this dataframe to an interactive table.\"\n",
              "              style=\"display:none;\">\n",
              "        \n",
              "  <svg xmlns=\"http://www.w3.org/2000/svg\" height=\"24px\"viewBox=\"0 0 24 24\"\n",
              "       width=\"24px\">\n",
              "    <path d=\"M0 0h24v24H0V0z\" fill=\"none\"/>\n",
              "    <path d=\"M18.56 5.44l.94 2.06.94-2.06 2.06-.94-2.06-.94-.94-2.06-.94 2.06-2.06.94zm-11 1L8.5 8.5l.94-2.06 2.06-.94-2.06-.94L8.5 2.5l-.94 2.06-2.06.94zm10 10l.94 2.06.94-2.06 2.06-.94-2.06-.94-.94-2.06-.94 2.06-2.06.94z\"/><path d=\"M17.41 7.96l-1.37-1.37c-.4-.4-.92-.59-1.43-.59-.52 0-1.04.2-1.43.59L10.3 9.45l-7.72 7.72c-.78.78-.78 2.05 0 2.83L4 21.41c.39.39.9.59 1.41.59.51 0 1.02-.2 1.41-.59l7.78-7.78 2.81-2.81c.8-.78.8-2.07 0-2.86zM5.41 20L4 18.59l7.72-7.72 1.47 1.35L5.41 20z\"/>\n",
              "  </svg>\n",
              "      </button>\n",
              "      \n",
              "  <style>\n",
              "    .colab-df-container {\n",
              "      display:flex;\n",
              "      flex-wrap:wrap;\n",
              "      gap: 12px;\n",
              "    }\n",
              "\n",
              "    .colab-df-convert {\n",
              "      background-color: #E8F0FE;\n",
              "      border: none;\n",
              "      border-radius: 50%;\n",
              "      cursor: pointer;\n",
              "      display: none;\n",
              "      fill: #1967D2;\n",
              "      height: 32px;\n",
              "      padding: 0 0 0 0;\n",
              "      width: 32px;\n",
              "    }\n",
              "\n",
              "    .colab-df-convert:hover {\n",
              "      background-color: #E2EBFA;\n",
              "      box-shadow: 0px 1px 2px rgba(60, 64, 67, 0.3), 0px 1px 3px 1px rgba(60, 64, 67, 0.15);\n",
              "      fill: #174EA6;\n",
              "    }\n",
              "\n",
              "    [theme=dark] .colab-df-convert {\n",
              "      background-color: #3B4455;\n",
              "      fill: #D2E3FC;\n",
              "    }\n",
              "\n",
              "    [theme=dark] .colab-df-convert:hover {\n",
              "      background-color: #434B5C;\n",
              "      box-shadow: 0px 1px 3px 1px rgba(0, 0, 0, 0.15);\n",
              "      filter: drop-shadow(0px 1px 2px rgba(0, 0, 0, 0.3));\n",
              "      fill: #FFFFFF;\n",
              "    }\n",
              "  </style>\n",
              "\n",
              "      <script>\n",
              "        const buttonEl =\n",
              "          document.querySelector('#df-2394455d-c7e6-4d30-a64c-f964509dc2d5 button.colab-df-convert');\n",
              "        buttonEl.style.display =\n",
              "          google.colab.kernel.accessAllowed ? 'block' : 'none';\n",
              "\n",
              "        async function convertToInteractive(key) {\n",
              "          const element = document.querySelector('#df-2394455d-c7e6-4d30-a64c-f964509dc2d5');\n",
              "          const dataTable =\n",
              "            await google.colab.kernel.invokeFunction('convertToInteractive',\n",
              "                                                     [key], {});\n",
              "          if (!dataTable) return;\n",
              "\n",
              "          const docLinkHtml = 'Like what you see? Visit the ' +\n",
              "            '<a target=\"_blank\" href=https://colab.research.google.com/notebooks/data_table.ipynb>data table notebook</a>'\n",
              "            + ' to learn more about interactive tables.';\n",
              "          element.innerHTML = '';\n",
              "          dataTable['output_type'] = 'display_data';\n",
              "          await google.colab.output.renderOutput(dataTable, element);\n",
              "          const docLink = document.createElement('div');\n",
              "          docLink.innerHTML = docLinkHtml;\n",
              "          element.appendChild(docLink);\n",
              "        }\n",
              "      </script>\n",
              "    </div>\n",
              "  </div>\n",
              "  "
            ]
          },
          "metadata": {},
          "execution_count": 137
        }
      ]
    },
    {
      "cell_type": "code",
      "source": [
        "X = dfpca.drop(columns=['good_bad_flag'] + ['customerid'])\n",
        "y = dfpca['good_bad_flag']\n",
        "\n"
      ],
      "metadata": {
        "id": "x8zVVJGwmjDw"
      },
      "execution_count": 138,
      "outputs": []
    },
    {
      "cell_type": "code",
      "source": [
        "from sklearn.preprocessing import StandardScaler\n",
        "sc = StandardScaler()\n",
        "\n",
        "X = sc.fit_transform(X)\n"
      ],
      "metadata": {
        "id": "yk8bVac9O9g9"
      },
      "execution_count": 139,
      "outputs": []
    },
    {
      "cell_type": "code",
      "source": [
        "#here we want to check wether mean tends to 0 and variance =1\n",
        "\n",
        "print(np.mean(X))\n",
        "print(np.var(X))\n"
      ],
      "metadata": {
        "colab": {
          "base_uri": "https://localhost:8080/"
        },
        "id": "LLa4o9tUQDA2",
        "outputId": "51ed4891-0bd3-4c9b-b8e0-284315bdd5b8"
      },
      "execution_count": 140,
      "outputs": [
        {
          "output_type": "stream",
          "name": "stdout",
          "text": [
            "-1.148902568432962e-17\n",
            "0.9610389610389612\n"
          ]
        }
      ]
    },
    {
      "cell_type": "code",
      "source": [
        "X_train, X_test, y_train, y_test = train_test_split(X, y, test_size=0.2, random_state=0)\n"
      ],
      "metadata": {
        "id": "w-t0nedImpyM"
      },
      "execution_count": 141,
      "outputs": []
    },
    {
      "cell_type": "code",
      "source": [
        "print(np.mean(X_train))\n",
        "print(np.var(X_train))"
      ],
      "metadata": {
        "colab": {
          "base_uri": "https://localhost:8080/"
        },
        "id": "0sVq68TRdHe4",
        "outputId": "87920d8a-cfcd-43c5-ca5f-8b416481d550"
      },
      "execution_count": 142,
      "outputs": [
        {
          "output_type": "stream",
          "name": "stdout",
          "text": [
            "-0.00045200702135016907\n",
            "0.9510630498568969\n"
          ]
        }
      ]
    },
    {
      "cell_type": "code",
      "source": [
        "from sklearn.decomposition import PCA\n"
      ],
      "metadata": {
        "id": "zXOQNJIUeng9"
      },
      "execution_count": 143,
      "outputs": []
    },
    {
      "cell_type": "markdown",
      "source": [
        "PCA WITH ALL FEATURES"
      ],
      "metadata": {
        "id": "u3qKGYp3Bh3V"
      }
    },
    {
      "cell_type": "code",
      "source": [
        "#PCA with all features\n",
        "\n",
        "\n",
        "pca = PCA()\n",
        "X_train1 = pca.fit_transform(X_train)\n",
        "X_test1 = pca.transform(X_test)"
      ],
      "metadata": {
        "id": "yvu7VYZ8nPB5"
      },
      "execution_count": 144,
      "outputs": []
    },
    {
      "cell_type": "code",
      "source": [
        "#returns the variance caused by each of the principal components.\n",
        "explained_variance = pca.explained_variance_ratio_\n",
        "print(explained_variance)"
      ],
      "metadata": {
        "colab": {
          "base_uri": "https://localhost:8080/"
        },
        "id": "Om1uIyXFnlcO",
        "outputId": "3da22e26-b96a-496e-8c16-4fc0d8890b74"
      },
      "execution_count": 145,
      "outputs": [
        {
          "output_type": "stream",
          "name": "stdout",
          "text": [
            "[8.26186412e-02 3.42717383e-02 2.50381016e-02 2.43538143e-02\n",
            " 2.23724570e-02 2.05833631e-02 2.02278259e-02 1.97644643e-02\n",
            " 1.89365046e-02 1.85247347e-02 1.84117506e-02 1.81865138e-02\n",
            " 1.80471785e-02 1.77354136e-02 1.76278123e-02 1.75045405e-02\n",
            " 1.74114241e-02 1.72840553e-02 1.71979427e-02 1.71564252e-02\n",
            " 1.71024024e-02 1.70907977e-02 1.70805386e-02 1.70803132e-02\n",
            " 1.70793554e-02 1.70792956e-02 1.70792865e-02 1.70792865e-02\n",
            " 1.70733780e-02 1.69566886e-02 1.67248969e-02 1.66792260e-02\n",
            " 1.62145986e-02 1.53765193e-02 1.50302817e-02 1.49174417e-02\n",
            " 1.47391544e-02 1.44308502e-02 1.43309282e-02 1.42341184e-02\n",
            " 1.38933163e-02 1.38043366e-02 1.35556144e-02 1.33678058e-02\n",
            " 1.31045492e-02 1.26931202e-02 1.25815004e-02 1.23021413e-02\n",
            " 1.20816674e-02 1.16688942e-02 1.14294044e-02 1.13601930e-02\n",
            " 1.06674862e-02 1.01624960e-02 1.00074767e-02 9.60474239e-03\n",
            " 9.27370923e-03 6.87531269e-03 2.69477654e-03 2.21324151e-03\n",
            " 2.30878964e-05 1.06824393e-06 1.73416682e-32 4.51725885e-33\n",
            " 3.12214981e-33 2.77929171e-33 1.04100014e-33 6.30728149e-34\n",
            " 6.30728149e-34 6.30728149e-34 6.30728149e-34 6.30728149e-34\n",
            " 6.30728149e-34 6.30728149e-34 6.30728149e-34 6.30728149e-34\n",
            " 6.27755437e-35]\n"
          ]
        }
      ]
    },
    {
      "cell_type": "code",
      "source": [
        "plt.plot(np.cumsum(pca.explained_variance_ratio_ * 100))\n",
        "plt.xlabel(\"Number of components (Dimensions)\")\n",
        "plt.ylabel(\"Explained variance (%)\")"
      ],
      "metadata": {
        "colab": {
          "base_uri": "https://localhost:8080/",
          "height": 296
        },
        "id": "44GPrHRq8yNK",
        "outputId": "e7855c04-5a7b-44e6-96d7-4209d2828f8c"
      },
      "execution_count": 146,
      "outputs": [
        {
          "output_type": "execute_result",
          "data": {
            "text/plain": [
              "Text(0, 0.5, 'Explained variance (%)')"
            ]
          },
          "metadata": {},
          "execution_count": 146
        },
        {
          "output_type": "display_data",
          "data": {
            "text/plain": [
              "<Figure size 432x288 with 1 Axes>"
            ],
            "image/png": "[encoded data removed]"
          },
          "metadata": {
            "needs_background": "light"
          }
        }
      ]
    },
    {
      "cell_type": "markdown",
      "source": [
        "The first component alone captures about 8% variability in the data and the second one captures about 3,5% variability in the data and so on. We have to fet above 50 components to achieve 80% variability in the data."
      ],
      "metadata": {
        "id": "oshgIvAy9p1z"
      }
    },
    {
      "cell_type": "markdown",
      "source": [
        "Apply Random forest with all features:\n"
      ],
      "metadata": {
        "id": "9ep9ushuBuxz"
      }
    },
    {
      "cell_type": "code",
      "source": [
        "from sklearn.ensemble import RandomForestClassifier\n",
        "\n",
        "classifier = RandomForestClassifier(max_depth=2, random_state=0)\n",
        "classifier.fit(X_train1, y_train)\n",
        "\n",
        "# Predicting the Test set results\n",
        "y_pred1 = classifier.predict(X_test1)\n",
        "\n",
        "from sklearn.metrics import confusion_matrix\n",
        "from sklearn.metrics import accuracy_score\n",
        "\n",
        "cm = confusion_matrix(y_test, y_pred1)\n",
        "print(cm)\n",
        "print(accuracy_score(y_test, y_pred1))"
      ],
      "metadata": {
        "colab": {
          "base_uri": "https://localhost:8080/"
        },
        "id": "kghaVnDunvbc",
        "outputId": "cb2d6096-df3e-4316-84ab-e44ac3427415"
      },
      "execution_count": 147,
      "outputs": [
        {
          "output_type": "stream",
          "name": "stdout",
          "text": [
            "[[  0 143]\n",
            " [  0 513]]\n",
            "0.7820121951219512\n"
          ]
        }
      ]
    },
    {
      "cell_type": "markdown",
      "source": [
        "PCA - 50 **components**:"
      ],
      "metadata": {
        "id": "1BY8kPYz5lHJ"
      }
    },
    {
      "cell_type": "code",
      "source": [
        "pca1 = PCA(n_components=50)\n",
        "X_train2 = pca1.fit_transform(X_train)\n",
        "X_test2 = pca1.transform(X_test)\n"
      ],
      "metadata": {
        "id": "DtouGFdCjPjR"
      },
      "execution_count": 148,
      "outputs": []
    },
    {
      "cell_type": "code",
      "source": [
        "explained_variance2 = pca1.explained_variance_ratio_\n",
        "print(explained_variance2)"
      ],
      "metadata": {
        "colab": {
          "base_uri": "https://localhost:8080/"
        },
        "id": "GMX9Zk9Bh9aW",
        "outputId": "3c3a6f56-35ce-4051-e005-1a38469edfe8"
      },
      "execution_count": 149,
      "outputs": [
        {
          "output_type": "stream",
          "name": "stdout",
          "text": [
            "[0.08261864 0.03427174 0.0250381  0.02435381 0.02237246 0.02058336\n",
            " 0.02022783 0.01976446 0.0189365  0.01852473 0.01841175 0.01818651\n",
            " 0.01804718 0.01773541 0.01762781 0.01750454 0.01741142 0.01728406\n",
            " 0.01719794 0.01715643 0.0171024  0.0170908  0.01708054 0.01708031\n",
            " 0.01707936 0.0170793  0.01707929 0.01707929 0.01707338 0.01695669\n",
            " 0.0167249  0.01667923 0.0162146  0.01537652 0.01503028 0.01491744\n",
            " 0.01473915 0.01443085 0.01433093 0.01423412 0.01389332 0.01380434\n",
            " 0.01355561 0.01336781 0.01310455 0.01269312 0.0125815  0.01230214\n",
            " 0.01208167 0.01166889]\n"
          ]
        }
      ]
    },
    {
      "cell_type": "code",
      "source": [
        "from sklearn.ensemble import RandomForestClassifier\n",
        "\n",
        "classifier = RandomForestClassifier(max_depth=2, random_state=0)\n",
        "classifier.fit(X_train2, y_train)\n",
        "\n",
        "# Predicting the Test set results\n",
        "y_pred2 = classifier.predict(X_test2)\n",
        "\n",
        "from sklearn.metrics import confusion_matrix\n",
        "from sklearn.metrics import accuracy_score\n",
        "\n",
        "cm = confusion_matrix(y_test, y_pred2)\n",
        "print(cm)\n",
        "print(accuracy_score(y_test, y_pred2))"
      ],
      "metadata": {
        "colab": {
          "base_uri": "https://localhost:8080/"
        },
        "id": "5z5ZC9LoRkPW",
        "outputId": "c3704df1-2c83-4dfa-fb10-2825f533d172"
      },
      "execution_count": 150,
      "outputs": [
        {
          "output_type": "stream",
          "name": "stdout",
          "text": [
            "[[  0 143]\n",
            " [  0 513]]\n",
            "0.7820121951219512\n"
          ]
        }
      ]
    },
    {
      "cell_type": "markdown",
      "source": [
        "PCA - 10 component:"
      ],
      "metadata": {
        "id": "bKKU-01W5aPL"
      }
    },
    {
      "cell_type": "code",
      "source": [
        "pca2 = PCA(n_components=10)\n",
        "X_train3 = pca2.fit_transform(X_train)\n",
        "X_test3 = pca2.transform(X_test)\n",
        "\n",
        "classifier = RandomForestClassifier(max_depth=2, random_state=0)\n",
        "classifier.fit(X_train3, y_train)\n",
        "\n",
        "# Predicting the Test set results\n",
        "y_pred3 = classifier.predict(X_test3)\n",
        "\n",
        "\n",
        "cm = confusion_matrix(y_test, y_pred3)\n",
        "print(cm)\n",
        "print(accuracy_score(y_test, y_pred3))"
      ],
      "metadata": {
        "colab": {
          "base_uri": "https://localhost:8080/"
        },
        "id": "V5zBE9W3ju3X",
        "outputId": "7ac8dd23-181b-445c-cd9c-c0bcf1725b8d"
      },
      "execution_count": 151,
      "outputs": [
        {
          "output_type": "stream",
          "name": "stdout",
          "text": [
            "[[  0 143]\n",
            " [  0 513]]\n",
            "0.7820121951219512\n"
          ]
        }
      ]
    },
    {
      "cell_type": "code",
      "source": [
        "X_train3 = pd.DataFrame(X_train3)\n",
        "X_train3"
      ],
      "metadata": {
        "colab": {
          "base_uri": "https://localhost:8080/",
          "height": 424
        },
        "id": "xPupSdTlEyYD",
        "outputId": "a04da20a-60bf-4e68-c3ef-d00069b9b703"
      },
      "execution_count": 152,
      "outputs": [
        {
          "output_type": "execute_result",
          "data": {
            "text/plain": [
              "             0         1         2         3         4         5         6  \\\n",
              "0    -1.585710  0.077119 -0.163340 -0.718797 -0.108541 -0.945980  0.058664   \n",
              "1    -2.102239  0.169465  0.101248 -1.039309 -0.508081 -0.907400  0.160122   \n",
              "2    -0.935667 -0.132603 -0.276846 -0.655463  0.340592 -1.109806 -0.093208   \n",
              "3     2.120210 -1.186739  1.755377 -0.467423  2.776069  0.096103 -0.278464   \n",
              "4     3.752871 -1.046552 -1.022251  0.037072  0.124517 -1.059231 -0.098263   \n",
              "...        ...       ...       ...       ...       ...       ...       ...   \n",
              "2616  4.873084  0.615382  1.918947  0.341429 -2.670528 -0.575085 -0.284439   \n",
              "2617 -1.706795  0.157777 -0.616176 -0.895013  0.246458  0.672064  0.683291   \n",
              "2618 -2.350260  0.167128 -0.904727  1.296269 -0.951889 -1.159538  0.022906   \n",
              "2619  6.187127  0.300133  1.031066  0.851356 -0.870912  0.525466 -0.569480   \n",
              "2620 -1.592117  0.043584 -1.515734  2.183933 -0.283813  0.121563 -0.379639   \n",
              "\n",
              "             7         8         9  \n",
              "0     0.775597 -0.010868  0.218050  \n",
              "1     0.546274 -0.133347  0.196293  \n",
              "2     0.431931 -0.205767  0.072328  \n",
              "3    -1.744844 -2.017766 -1.335919  \n",
              "4     0.928933  0.033816  0.136287  \n",
              "...        ...       ...       ...  \n",
              "2616 -0.173088  0.102325  0.168191  \n",
              "2617  0.188846  0.444638  0.352424  \n",
              "2618  0.014319 -0.350738 -0.063401  \n",
              "2619 -1.219967  0.792318 -0.306256  \n",
              "2620 -0.564064 -1.263306  0.587234  \n",
              "\n",
              "[2621 rows x 10 columns]"
            ],
            "text/html": [
              "\n",
              "  <div id=\"df-21429494-7005-4e41-b197-f846de7e147e\">\n",
              "    <div class=\"colab-df-container\">\n",
              "      <div>\n",
              "<style scoped>\n",
              "    .dataframe tbody tr th:only-of-type {\n",
              "        vertical-align: middle;\n",
              "    }\n",
              "\n",
              "    .dataframe tbody tr th {\n",
              "        vertical-align: top;\n",
              "    }\n",
              "\n",
              "    .dataframe thead th {\n",
              "        text-align: right;\n",
              "    }\n",
              "</style>\n",
              "<table border=\"1\" class=\"dataframe\">\n",
              "  <thead>\n",
              "    <tr style=\"text-align: right;\">\n",
              "      <th></th>\n",
              "      <th>0</th>\n",
              "      <th>1</th>\n",
              "      <th>2</th>\n",
              "      <th>3</th>\n",
              "      <th>4</th>\n",
              "      <th>5</th>\n",
              "      <th>6</th>\n",
              "      <th>7</th>\n",
              "      <th>8</th>\n",
              "      <th>9</th>\n",
              "    </tr>\n",
              "  </thead>\n",
              "  <tbody>\n",
              "    <tr>\n",
              "      <th>0</th>\n",
              "      <td>-1.585710</td>\n",
              "      <td>0.077119</td>\n",
              "      <td>-0.163340</td>\n",
              "      <td>-0.718797</td>\n",
              "      <td>-0.108541</td>\n",
              "      <td>-0.945980</td>\n",
              "      <td>0.058664</td>\n",
              "      <td>0.775597</td>\n",
              "      <td>-0.010868</td>\n",
              "      <td>0.218050</td>\n",
              "    </tr>\n",
              "    <tr>\n",
              "      <th>1</th>\n",
              "      <td>-2.102239</td>\n",
              "      <td>0.169465</td>\n",
              "      <td>0.101248</td>\n",
              "      <td>-1.039309</td>\n",
              "      <td>-0.508081</td>\n",
              "      <td>-0.907400</td>\n",
              "      <td>0.160122</td>\n",
              "      <td>0.546274</td>\n",
              "      <td>-0.133347</td>\n",
              "      <td>0.196293</td>\n",
              "    </tr>\n",
              "    <tr>\n",
              "      <th>2</th>\n",
              "      <td>-0.935667</td>\n",
              "      <td>-0.132603</td>\n",
              "      <td>-0.276846</td>\n",
              "      <td>-0.655463</td>\n",
              "      <td>0.340592</td>\n",
              "      <td>-1.109806</td>\n",
              "      <td>-0.093208</td>\n",
              "      <td>0.431931</td>\n",
              "      <td>-0.205767</td>\n",
              "      <td>0.072328</td>\n",
              "    </tr>\n",
              "    <tr>\n",
              "      <th>3</th>\n",
              "      <td>2.120210</td>\n",
              "      <td>-1.186739</td>\n",
              "      <td>1.755377</td>\n",
              "      <td>-0.467423</td>\n",
              "      <td>2.776069</td>\n",
              "      <td>0.096103</td>\n",
              "      <td>-0.278464</td>\n",
              "      <td>-1.744844</td>\n",
              "      <td>-2.017766</td>\n",
              "      <td>-1.335919</td>\n",
              "    </tr>\n",
              "    <tr>\n",
              "      <th>4</th>\n",
              "      <td>3.752871</td>\n",
              "      <td>-1.046552</td>\n",
              "      <td>-1.022251</td>\n",
              "      <td>0.037072</td>\n",
              "      <td>0.124517</td>\n",
              "      <td>-1.059231</td>\n",
              "      <td>-0.098263</td>\n",
              "      <td>0.928933</td>\n",
              "      <td>0.033816</td>\n",
              "      <td>0.136287</td>\n",
              "    </tr>\n",
              "    <tr>\n",
              "      <th>...</th>\n",
              "      <td>...</td>\n",
              "      <td>...</td>\n",
              "      <td>...</td>\n",
              "      <td>...</td>\n",
              "      <td>...</td>\n",
              "      <td>...</td>\n",
              "      <td>...</td>\n",
              "      <td>...</td>\n",
              "      <td>...</td>\n",
              "      <td>...</td>\n",
              "    </tr>\n",
              "    <tr>\n",
              "      <th>2616</th>\n",
              "      <td>4.873084</td>\n",
              "      <td>0.615382</td>\n",
              "      <td>1.918947</td>\n",
              "      <td>0.341429</td>\n",
              "      <td>-2.670528</td>\n",
              "      <td>-0.575085</td>\n",
              "      <td>-0.284439</td>\n",
              "      <td>-0.173088</td>\n",
              "      <td>0.102325</td>\n",
              "      <td>0.168191</td>\n",
              "    </tr>\n",
              "    <tr>\n",
              "      <th>2617</th>\n",
              "      <td>-1.706795</td>\n",
              "      <td>0.157777</td>\n",
              "      <td>-0.616176</td>\n",
              "      <td>-0.895013</td>\n",
              "      <td>0.246458</td>\n",
              "      <td>0.672064</td>\n",
              "      <td>0.683291</td>\n",
              "      <td>0.188846</td>\n",
              "      <td>0.444638</td>\n",
              "      <td>0.352424</td>\n",
              "    </tr>\n",
              "    <tr>\n",
              "      <th>2618</th>\n",
              "      <td>-2.350260</td>\n",
              "      <td>0.167128</td>\n",
              "      <td>-0.904727</td>\n",
              "      <td>1.296269</td>\n",
              "      <td>-0.951889</td>\n",
              "      <td>-1.159538</td>\n",
              "      <td>0.022906</td>\n",
              "      <td>0.014319</td>\n",
              "      <td>-0.350738</td>\n",
              "      <td>-0.063401</td>\n",
              "    </tr>\n",
              "    <tr>\n",
              "      <th>2619</th>\n",
              "      <td>6.187127</td>\n",
              "      <td>0.300133</td>\n",
              "      <td>1.031066</td>\n",
              "      <td>0.851356</td>\n",
              "      <td>-0.870912</td>\n",
              "      <td>0.525466</td>\n",
              "      <td>-0.569480</td>\n",
              "      <td>-1.219967</td>\n",
              "      <td>0.792318</td>\n",
              "      <td>-0.306256</td>\n",
              "    </tr>\n",
              "    <tr>\n",
              "      <th>2620</th>\n",
              "      <td>-1.592117</td>\n",
              "      <td>0.043584</td>\n",
              "      <td>-1.515734</td>\n",
              "      <td>2.183933</td>\n",
              "      <td>-0.283813</td>\n",
              "      <td>0.121563</td>\n",
              "      <td>-0.379639</td>\n",
              "      <td>-0.564064</td>\n",
              "      <td>-1.263306</td>\n",
              "      <td>0.587234</td>\n",
              "    </tr>\n",
              "  </tbody>\n",
              "</table>\n",
              "<p>2621 rows × 10 columns</p>\n",
              "</div>\n",
              "      <button class=\"colab-df-convert\" onclick=\"convertToInteractive('df-21429494-7005-4e41-b197-f846de7e147e')\"\n",
              "              title=\"Convert this dataframe to an interactive table.\"\n",
              "              style=\"display:none;\">\n",
              "        \n",
              "  <svg xmlns=\"http://www.w3.org/2000/svg\" height=\"24px\"viewBox=\"0 0 24 24\"\n",
              "       width=\"24px\">\n",
              "    <path d=\"M0 0h24v24H0V0z\" fill=\"none\"/>\n",
              "    <path d=\"M18.56 5.44l.94 2.06.94-2.06 2.06-.94-2.06-.94-.94-2.06-.94 2.06-2.06.94zm-11 1L8.5 8.5l.94-2.06 2.06-.94-2.06-.94L8.5 2.5l-.94 2.06-2.06.94zm10 10l.94 2.06.94-2.06 2.06-.94-2.06-.94-.94-2.06-.94 2.06-2.06.94z\"/><path d=\"M17.41 7.96l-1.37-1.37c-.4-.4-.92-.59-1.43-.59-.52 0-1.04.2-1.43.59L10.3 9.45l-7.72 7.72c-.78.78-.78 2.05 0 2.83L4 21.41c.39.39.9.59 1.41.59.51 0 1.02-.2 1.41-.59l7.78-7.78 2.81-2.81c.8-.78.8-2.07 0-2.86zM5.41 20L4 18.59l7.72-7.72 1.47 1.35L5.41 20z\"/>\n",
              "  </svg>\n",
              "      </button>\n",
              "      \n",
              "  <style>\n",
              "    .colab-df-container {\n",
              "      display:flex;\n",
              "      flex-wrap:wrap;\n",
              "      gap: 12px;\n",
              "    }\n",
              "\n",
              "    .colab-df-convert {\n",
              "      background-color: #E8F0FE;\n",
              "      border: none;\n",
              "      border-radius: 50%;\n",
              "      cursor: pointer;\n",
              "      display: none;\n",
              "      fill: #1967D2;\n",
              "      height: 32px;\n",
              "      padding: 0 0 0 0;\n",
              "      width: 32px;\n",
              "    }\n",
              "\n",
              "    .colab-df-convert:hover {\n",
              "      background-color: #E2EBFA;\n",
              "      box-shadow: 0px 1px 2px rgba(60, 64, 67, 0.3), 0px 1px 3px 1px rgba(60, 64, 67, 0.15);\n",
              "      fill: #174EA6;\n",
              "    }\n",
              "\n",
              "    [theme=dark] .colab-df-convert {\n",
              "      background-color: #3B4455;\n",
              "      fill: #D2E3FC;\n",
              "    }\n",
              "\n",
              "    [theme=dark] .colab-df-convert:hover {\n",
              "      background-color: #434B5C;\n",
              "      box-shadow: 0px 1px 3px 1px rgba(0, 0, 0, 0.15);\n",
              "      filter: drop-shadow(0px 1px 2px rgba(0, 0, 0, 0.3));\n",
              "      fill: #FFFFFF;\n",
              "    }\n",
              "  </style>\n",
              "\n",
              "      <script>\n",
              "        const buttonEl =\n",
              "          document.querySelector('#df-21429494-7005-4e41-b197-f846de7e147e button.colab-df-convert');\n",
              "        buttonEl.style.display =\n",
              "          google.colab.kernel.accessAllowed ? 'block' : 'none';\n",
              "\n",
              "        async function convertToInteractive(key) {\n",
              "          const element = document.querySelector('#df-21429494-7005-4e41-b197-f846de7e147e');\n",
              "          const dataTable =\n",
              "            await google.colab.kernel.invokeFunction('convertToInteractive',\n",
              "                                                     [key], {});\n",
              "          if (!dataTable) return;\n",
              "\n",
              "          const docLinkHtml = 'Like what you see? Visit the ' +\n",
              "            '<a target=\"_blank\" href=https://colab.research.google.com/notebooks/data_table.ipynb>data table notebook</a>'\n",
              "            + ' to learn more about interactive tables.';\n",
              "          element.innerHTML = '';\n",
              "          dataTable['output_type'] = 'display_data';\n",
              "          await google.colab.output.renderOutput(dataTable, element);\n",
              "          const docLink = document.createElement('div');\n",
              "          docLink.innerHTML = docLinkHtml;\n",
              "          element.appendChild(docLink);\n",
              "        }\n",
              "      </script>\n",
              "    </div>\n",
              "  </div>\n",
              "  "
            ]
          },
          "metadata": {},
          "execution_count": 152
        }
      ]
    },
    {
      "cell_type": "code",
      "source": [
        "fig = plt.figure(figsize=(10, 8))\n",
        "sns.heatmap(X_train3.corr(), \n",
        "            annot=True)\n"
      ],
      "metadata": {
        "colab": {
          "base_uri": "https://localhost:8080/",
          "height": 504
        },
        "id": "O59ai7EUExd0",
        "outputId": "0fb803c9-7279-49ee-9df3-953e5c1ecb8e"
      },
      "execution_count": 153,
      "outputs": [
        {
          "output_type": "execute_result",
          "data": {
            "text/plain": [
              "<matplotlib.axes._subplots.AxesSubplot at 0x7f58b1c60510>"
            ]
          },
          "metadata": {},
          "execution_count": 153
        },
        {
          "output_type": "display_data",
          "data": {
            "text/plain": [
              "<Figure size 720x576 with 2 Axes>"
            ],
            "image/png": "[encoded data removed]"
          },
          "metadata": {
            "needs_background": "light"
          }
        }
      ]
    },
    {
      "cell_type": "markdown",
      "source": [
        "We can see there is no correlation betweern features"
      ],
      "metadata": {
        "id": "CTwIA6sMFACB"
      }
    },
    {
      "cell_type": "markdown",
      "source": [
        "*Logistic Regression*"
      ],
      "metadata": {
        "id": "8kQLTg8_lL4b"
      }
    },
    {
      "cell_type": "code",
      "source": [
        "\n",
        "\n",
        "from sklearn.linear_model import LogisticRegression\n",
        "clf = LogisticRegression(max_iter=2500)\n",
        "\n"
      ],
      "metadata": {
        "id": "Ttxa6mhijCQi"
      },
      "execution_count": 154,
      "outputs": []
    },
    {
      "cell_type": "code",
      "source": [
        "# Train the model\n",
        "clf.fit(X_train1, y_train)\n"
      ],
      "metadata": {
        "colab": {
          "base_uri": "https://localhost:8080/"
        },
        "id": "vGFQDMqsjFOh",
        "outputId": "60b48645-64d2-430b-e5b2-9eec80a3f08d"
      },
      "execution_count": 167,
      "outputs": [
        {
          "output_type": "execute_result",
          "data": {
            "text/plain": [
              "LogisticRegression(max_iter=2500)"
            ]
          },
          "metadata": {},
          "execution_count": 167
        }
      ]
    },
    {
      "cell_type": "code",
      "source": [
        "\n",
        "# Make predictions\n",
        "y_pred = clf.predict(X_test1) # Predictions\n",
        "y_true = y_test # True values\n",
        "\n"
      ],
      "metadata": {
        "id": "H5xrLsqjjI6u"
      },
      "execution_count": 168,
      "outputs": []
    },
    {
      "cell_type": "code",
      "source": [
        "# Measure accuracy\n",
        "from sklearn.metrics import accuracy_score\n",
        "import numpy as np\n",
        "print(\"Train accuracy:\", np.round(accuracy_score(y_train, \n",
        "                                                 clf.predict(X_train1)), 2))\n",
        "print(\"Test accuracy:\", np.round(accuracy_score(y_true, y_pred1), 2))"
      ],
      "metadata": {
        "colab": {
          "base_uri": "https://localhost:8080/"
        },
        "id": "UIr4BCG1jMDt",
        "outputId": "f3816be1-cba1-4eb9-e582-d68da34706a2"
      },
      "execution_count": 179,
      "outputs": [
        {
          "output_type": "stream",
          "name": "stdout",
          "text": [
            "Train accuracy: 0.79\n",
            "Test accuracy: 0.78\n"
          ]
        }
      ]
    },
    {
      "cell_type": "code",
      "source": [
        "import seaborn as sns\n",
        "from sklearn.metrics import confusion_matrix\n",
        "import matplotlib.pyplot as plt\n",
        "\n",
        "fig = plt.figure(figsize=(15, 10))\n",
        "\n",
        "cf_matrix = confusion_matrix(y_true, y_pred1)\n",
        "print(\"\\nTest confusion_matrix\")\n",
        "sns.heatmap(cf_matrix, annot=True, cmap='Blues')\n",
        "plt.xlabel('Predicted', fontsize=12)\n",
        "plt.ylabel('True', fontsize=12)"
      ],
      "metadata": {
        "colab": {
          "base_uri": "https://localhost:8080/",
          "height": 661
        },
        "id": "qO-nafHH52Hw",
        "outputId": "69c2eb28-dd03-48ed-daf8-c4e8490b1f4d"
      },
      "execution_count": 183,
      "outputs": [
        {
          "output_type": "stream",
          "name": "stdout",
          "text": [
            "\n",
            "Test confusion_matrix\n"
          ]
        },
        {
          "output_type": "execute_result",
          "data": {
            "text/plain": [
              "Text(114.0, 0.5, 'True')"
            ]
          },
          "metadata": {},
          "execution_count": 183
        },
        {
          "output_type": "display_data",
          "data": {
            "text/plain": [
              "<Figure size 1080x720 with 2 Axes>"
            ],
            "image/png": "[encoded data removed]"
          },
          "metadata": {
            "needs_background": "light"
          }
        }
      ]
    }
  ]
}