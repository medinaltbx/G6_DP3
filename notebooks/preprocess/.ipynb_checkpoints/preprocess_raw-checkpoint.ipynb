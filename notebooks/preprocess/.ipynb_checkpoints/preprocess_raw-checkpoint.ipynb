{
 "cells": [
  {
   "cell_type": "code",
   "execution_count": 1,
   "id": "32971bda-78db-47f5-8ab1-7456d3fc90ba",
   "metadata": {},
   "outputs": [],
   "source": [
    "import pandas as pd\n",
    "from datetime import datetime\n",
    "import numpy as np\n",
    "import pickle"
   ]
  },
  {
   "cell_type": "markdown",
   "id": "17a8ee22-d02d-410a-9567-47a5953df208",
   "metadata": {},
   "source": [
    "# Function definition"
   ]
  },
  {
   "cell_type": "code",
   "execution_count": 2,
   "id": "d81042ef-00f7-43bc-ad82-6c023fa2dd11",
   "metadata": {},
   "outputs": [],
   "source": [
    "def manage_current(current):\n",
    "    current.replace({'good_bad_flag': {'Good': 1, 'Bad': 0}},inplace=True)\n",
    "    current.drop(['systemloanid','approveddate','creationdate'],axis=1,inplace=True)\n",
    "    current['referredby'] = [1 if isinstance(s, str) else 0 for s in current['referredby']]\n",
    "    return current\n",
    "\n",
    "today = datetime.today()\n",
    "pd.set_option('display.width', None)\n",
    "\n",
    "def manage_demograficos(demograficos):\n",
    "    demograficos['edad'] = demograficos['birthdate'].apply(\n",
    "        lambda x: today.year - x.year -\n",
    "                  ((today.month, today.day) < (x.month, x.day)))\n",
    "    del demograficos['birthdate']\n",
    "    demograficos.replace(np.nan, \"UNKNOWN\",inplace=True)\n",
    "    categorical_cols = ['bank_account_type', 'bank_name_clients', 'bank_branch_clients', 'employment_status_clients','level_of_education_clients']\n",
    "    # return pd.get_dummies(demograficos, columns=categorical_cols)\n",
    "    return demograficos\n",
    "\n",
    "def get_values(df):\n",
    "    times_loaned = len(df)\n",
    "    times_late = len(df[df['is_late'] == 1])\n",
    "    times_referred = len(df.dropna())\n",
    "    return times_loaned, times_late, times_referred\n",
    "\n",
    "\n",
    "def manage_previous(previous):\n",
    "    # Greater than 0 if not ok, negative if  ok\n",
    "    previous['minutes_late'] = (previous.firstrepaiddate - previous.firstduedate) / pd.Timedelta(minutes=1)\n",
    "    previous['is_late'] = [0 if x < 0 else 1 for x in previous.minutes_late]\n",
    "\n",
    "    res = previous.groupby(\"customerid\").apply(get_values).reset_index()\n",
    "    res['times_loaned'], res['times_late'], res['times_referred'] = zip(*res[0])\n",
    "    del res[0]\n",
    "    return res"
   ]
  },
  {
   "cell_type": "markdown",
   "id": "132798e3-cacb-46dc-a32d-cb6e5b8b71a2",
   "metadata": {},
   "source": [
    "# Read raw data and preprocess it"
   ]
  },
  {
   "cell_type": "code",
   "execution_count": 4,
   "id": "1f9b8f48-433b-4fb5-a8bd-b9b24a5d8a09",
   "metadata": {},
   "outputs": [],
   "source": [
    "concat = pd.DataFrame()\n",
    "encoder = None\n",
    "for set in [\"train\",\"test\"]:\n",
    "    performance = pd.read_csv(rf\"https://raw.githubusercontent.com/medinaltbx/G6_DP3/master/data/input/raw_data/{set}/{set}_performance.csv\",decimal=\",\")\n",
    "    performance = manage_current(performance)\n",
    "\n",
    "    demograficos = pd.read_csv(rf\"https://raw.githubusercontent.com/medinaltbx/G6_DP3/master/data/input/raw_data/{set}/{set}_datos_demograficos.csv\",\n",
    "                                parse_dates=['birthdate'],decimal=\".\")\n",
    "    demograficos = manage_demograficos(demograficos)\n",
    "\n",
    "    demo_perf = demograficos.merge(performance, on=\"customerid\", how=\"inner\")\n",
    "\n",
    "    previous = pd.read_csv(rf\"https://raw.githubusercontent.com/medinaltbx/G6_DP3/master/data/input/raw_data/{set}/{set}_previous_loan.csv\",parse_dates=['firstduedate','firstrepaiddate'],decimal=\".\")\n",
    "    previous = manage_previous(previous)\n",
    "\n",
    "    merged = demo_perf.merge(previous, on=\"customerid\", how=\"left\")\n",
    "    merged.drop([\"longitude_gps\", \"latitude_gps\"],axis=1,inplace=True)\n",
    "    str_cols = [\"loanamount\", \"totaldue\"]\n",
    "    merged[str_cols] = merged[str_cols].apply(pd.to_numeric)\n",
    "\n",
    "    concat = pd.concat([concat,merged],axis=0)\n",
    "\n",
    "# One Hot encoding categorical features\n",
    "categorical = [\"bank_account_type\",\"bank_name_clients\",\"bank_branch_clients\",\"employment_status_clients\",\"level_of_education_clients\"]\n",
    "concat = pd.get_dummies(concat, columns=categorical)\n",
    "\n",
    "train, test =  concat[concat.good_bad_flag.notnull()], concat[~concat.good_bad_flag.notnull()].drop(['good_bad_flag'],axis=1)\n",
    "train, test = train.fillna(0), test.fillna(0)\n",
    "\n",
    "train.to_csv(rf\"merged_train.csv\",sep=';',index=False)\n",
    "test.to_csv(rf\"merged_test.csv\",sep=';',index=False)"
   ]
  }
 ],
 "metadata": {
  "kernelspec": {
   "display_name": "Python 3",
   "language": "python",
   "name": "python3"
  },
  "language_info": {
   "codemirror_mode": {
    "name": "ipython",
    "version": 3
   },
   "file_extension": ".py",
   "mimetype": "text/x-python",
   "name": "python",
   "nbconvert_exporter": "python",
   "pygments_lexer": "ipython3",
   "version": "3.9.2"
  }
 },
 "nbformat": 4,
 "nbformat_minor": 5
}
