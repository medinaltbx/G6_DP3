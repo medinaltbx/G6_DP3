{
 "cells": [
  {
   "cell_type": "code",
   "execution_count": 2,
   "id": "e544dd9b-b4e0-4846-b4a4-20fe213263ff",
   "metadata": {},
   "outputs": [
    {
     "name": "stdout",
     "output_type": "stream",
     "text": [
      "Requirement already satisfied: pandas in /opt/conda/lib/python3.9/site-packages (1.2.4)\n",
      "Requirement already satisfied: sklearn in /opt/conda/lib/python3.9/site-packages (0.0)\n",
      "Requirement already satisfied: xgboost in /opt/conda/lib/python3.9/site-packages (1.6.1)\n",
      "Requirement already satisfied: hyperopt in /opt/conda/lib/python3.9/site-packages (0.2.7)\n",
      "Requirement already satisfied: joblib in /opt/conda/lib/python3.9/site-packages (1.1.0)\n",
      "Requirement already satisfied: python-dateutil>=2.7.3 in /opt/conda/lib/python3.9/site-packages (from pandas) (2.8.1)\n",
      "Requirement already satisfied: pytz>=2017.3 in /opt/conda/lib/python3.9/site-packages (from pandas) (2021.1)\n",
      "Requirement already satisfied: numpy>=1.16.5 in /opt/conda/lib/python3.9/site-packages (from pandas) (1.20.3)\n",
      "Requirement already satisfied: six>=1.5 in /opt/conda/lib/python3.9/site-packages (from python-dateutil>=2.7.3->pandas) (1.16.0)\n",
      "Requirement already satisfied: scikit-learn in /opt/conda/lib/python3.9/site-packages (from sklearn) (0.24.2)\n",
      "Requirement already satisfied: scipy in /opt/conda/lib/python3.9/site-packages (from xgboost) (1.6.3)\n",
      "Requirement already satisfied: networkx>=2.2 in /opt/conda/lib/python3.9/site-packages (from hyperopt) (2.5)\n",
      "Requirement already satisfied: py4j in /opt/conda/lib/python3.9/site-packages (from hyperopt) (0.10.9.5)\n",
      "Requirement already satisfied: tqdm in /opt/conda/lib/python3.9/site-packages (from hyperopt) (4.61.0)\n",
      "Requirement already satisfied: future in /opt/conda/lib/python3.9/site-packages (from hyperopt) (0.18.2)\n",
      "Requirement already satisfied: cloudpickle in /opt/conda/lib/python3.9/site-packages (from hyperopt) (1.6.0)\n",
      "Requirement already satisfied: decorator>=4.3.0 in /opt/conda/lib/python3.9/site-packages (from networkx>=2.2->hyperopt) (5.0.9)\n",
      "Requirement already satisfied: threadpoolctl>=2.0.0 in /opt/conda/lib/python3.9/site-packages (from scikit-learn->sklearn) (2.1.0)\n"
     ]
    }
   ],
   "source": [
    "!pip install pandas sklearn xgboost hyperopt joblib"
   ]
  },
  {
   "cell_type": "code",
   "execution_count": 3,
   "id": "ca9673ff-b912-4ba6-8901-690000880a86",
   "metadata": {},
   "outputs": [],
   "source": [
    "import pandas as pd\n",
    "import xgboost as xgb\n",
    "from sklearn.model_selection import train_test_split, cross_val_score, RepeatedStratifiedKFold, GridSearchCV, RandomizedSearchCV, KFold\n",
    "from sklearn.metrics import accuracy_score, make_scorer\n",
    "from sklearn.pipeline import Pipeline\n",
    "import pickle\n",
    "from hyperopt import STATUS_OK, Trials, fmin, hp, tpe\n",
    "import warnings\n",
    "import joblib\n",
    "from sklearn.feature_selection import SelectKBest, chi2\n",
    "warnings.filterwarnings('ignore')\n"
   ]
  },
  {
   "cell_type": "markdown",
   "id": "faa1e7ac-4ae7-4af6-97e3-2a677a9275bf",
   "metadata": {},
   "source": [
    "## Generate baseline model"
   ]
  },
  {
   "cell_type": "code",
   "execution_count": 4,
   "id": "4c95d495-3250-4258-a9f9-27f95c28fb8a",
   "metadata": {},
   "outputs": [
    {
     "name": "stdout",
     "output_type": "stream",
     "text": [
      "BASELINE ACCURACY:  0.7484756097560976\n"
     ]
    }
   ],
   "source": [
    "df = pd.read_csv(r\"/home/jovyan/work/data/input/merged_data/train/merged_train.csv\",sep=';')\n",
    "df.drop([\"customerid\"],axis=1,inplace=True)\n",
    "X, y = df.drop([\"good_bad_flag\"],axis=1), df['good_bad_flag']\n",
    "X_train, X_test, y_train, y_test = train_test_split(X, y, test_size=0.2)\n",
    "\n",
    "D_train = xgb.DMatrix(X_train, label=y_train)\n",
    "D_test = xgb.DMatrix(X_test, label=y_test)\n",
    "\n",
    "baseline_model = xgb.XGBClassifier()\n",
    "baseline_model.fit(X_train, y_train)\n",
    "\n",
    "y_pred = baseline_model.predict(X_test)\n",
    "baseline_accuracy = accuracy_score(y_test, y_pred)\n",
    "print(\"BASELINE ACCURACY: \", baseline_accuracy)"
   ]
  },
  {
   "cell_type": "code",
   "execution_count": 5,
   "id": "315fe0d9-fa09-48a0-a101-c9dc2d96570a",
   "metadata": {},
   "outputs": [],
   "source": [
    "# We select a k_fold number of splits for grid search \n",
    "k_folds = 5"
   ]
  },
  {
   "cell_type": "markdown",
   "id": "4f96be0b-8ba5-4bfd-b244-7452bde0f713",
   "metadata": {},
   "source": [
    "## Generate model with base variables + Grid Search"
   ]
  },
  {
   "cell_type": "code",
   "execution_count": null,
   "id": "af859f84-a2da-4763-8287-0a44c5174481",
   "metadata": {},
   "outputs": [],
   "source": [
    "df = pd.read_csv(rf\"/home/jovyan/work/data/input/merged_data/train/merged_train.csv\",sep=';')\n",
    "df.drop([\"customerid\"],axis=1,inplace=True)\n",
    "X, y = df.drop([\"good_bad_flag\"],axis=1), df['good_bad_flag']\n",
    "X_train, X_test, y_train, y_test = train_test_split(X, y, test_size=0.2)\n",
    "\n",
    "pipe = Pipeline([('fs', SelectKBest()),('clf', xgb.XGBClassifier(objective='binary:logistic'))])\n",
    "\n",
    "# Define our search space for grid search\n",
    "search_space = [\n",
    "  {\n",
    "    'clf__n_estimators': [100, 200, 300, 400],\n",
    "    'clf__learning_rate': [0.001,0.01, 0.1],\n",
    "    'clf__max_depth': range(5, 10),\n",
    "    'clf__colsample_bytree': [i/10.0 for i in range(1, 3)],\n",
    "    'clf__gamma': [i/10.0 for i in range(3)],\n",
    "    'fs__score_func': [chi2],\n",
    "  }\n",
    "]\n",
    "# Define cross validation\n",
    "kfold = KFold(n_splits=k_folds)\n",
    "# AUC and accuracy as score\n",
    "scoring = {'AUC':'roc_auc', 'Accuracy':make_scorer(accuracy_score)}\n",
    "# Define grid search\n",
    "grid = GridSearchCV(\n",
    "  pipe,\n",
    "  param_grid=search_space,\n",
    "  cv=kfold,\n",
    "  scoring=scoring,\n",
    "  refit='AUC',\n",
    "  verbose=1,\n",
    "  n_jobs=-1\n",
    ")\n",
    "# Fit grid search\n",
    "complete_model = grid.fit(X_train, y_train)\n",
    "predict_complete = complete_model.predict(X_test)\n",
    "complete_accuracy = accuracy_score(y_test, predict_complete)\n",
    "print('Best AUC Score: {}'.format(complete_model.best_score_))\n",
    "print('Accuracy: {}'.format(complete_accuracy))"
   ]
  },
  {
   "cell_type": "markdown",
   "id": "a464c590-cfba-4c2d-a1db-b0082faf4e3e",
   "metadata": {},
   "source": [
    "## Generate model with cluster feature + Grid Search"
   ]
  },
  {
   "cell_type": "code",
   "execution_count": null,
   "id": "246c97b4-38c7-4b1d-ab58-daf03b0d121e",
   "metadata": {},
   "outputs": [],
   "source": [
    "df = pd.read_csv(rf\"/home/jovyan/work/data/input/merged_data/train/cluster_train.csv\",sep=';')\n",
    "df.drop([\"customerid\"],axis=1,inplace=True)\n",
    "X, y = df.drop([\"good_bad_flag\"],axis=1), df['good_bad_flag']\n",
    "X_train, X_test, y_train, y_test = train_test_split(X, y, test_size=0.2)\n",
    "\n",
    "pipe = Pipeline([('fs', SelectKBest()),('clf', xgb.XGBClassifier(objective='binary:logistic'))])\n",
    "\n",
    "# Define our search space for grid search\n",
    "search_space = [\n",
    "  {\n",
    "    'clf__n_estimators': [100, 200, 300, 400],\n",
    "    'clf__learning_rate': [0.001,0.01, 0.1],\n",
    "    'clf__max_depth': range(5, 10),\n",
    "    'clf__colsample_bytree': [i/10.0 for i in range(1, 3)],\n",
    "    'clf__gamma': [i/10.0 for i in range(3)],\n",
    "    'fs__score_func': [chi2],\n",
    "  }\n",
    "]\n",
    "# Define cross validation\n",
    "kfold = KFold(n_splits=k_folds)\n",
    "# AUC and accuracy as score\n",
    "scoring = {'AUC':'roc_auc', 'Accuracy':make_scorer(accuracy_score)}\n",
    "# Define grid search\n",
    "grid = GridSearchCV(\n",
    "  pipe,\n",
    "  param_grid=search_space,\n",
    "  cv=kfold,\n",
    "  scoring=scoring,\n",
    "  refit='AUC',\n",
    "  verbose=1,\n",
    "  n_jobs=-1\n",
    ")\n",
    "# Fit grid search\n",
    "cluster_model = grid.fit(X_train, y_train)\n",
    "predict_cluster = cluster_model.predict(X_test)\n",
    "cluster_accuracy = accuracy_score(y_test, predict_cluster)\n",
    "print('Best AUC Score: {}'.format(cluster_model.best_score_))\n",
    "print('Accuracy: {}'.format(cluster_accuracy))"
   ]
  },
  {
   "cell_type": "markdown",
   "id": "b96a6a05-2728-4364-b935-92e29faccb0a",
   "metadata": {},
   "source": [
    "## Generate model with top 10 features + Grid Search"
   ]
  },
  {
   "cell_type": "code",
   "execution_count": 9,
   "id": "6a1e2647-ce29-4178-8e1e-f71aa168192c",
   "metadata": {},
   "outputs": [
    {
     "name": "stdout",
     "output_type": "stream",
     "text": [
      "Fitting 5 folds for each of 360 candidates, totalling 1800 fits\n",
      "Best AUC Score: 0.6644940569743637\n",
      "Accuracy: 0.7804878048780488\n"
     ]
    }
   ],
   "source": [
    "df = pd.read_csv(rf\"/home/jovyan/work/data/input/merged_data/train/top_10_train.csv\",sep=';')\n",
    "X, y = df.drop([\"good_bad_flag\"],axis=1), df['good_bad_flag']\n",
    "X_train, X_test, y_train, y_test = train_test_split(X, y, test_size=0.2)\n",
    "\n",
    "pipe = Pipeline([('fs', SelectKBest()),('clf', xgb.XGBClassifier(objective='binary:logistic'))])\n",
    "\n",
    "# Define our search space for grid search\n",
    "search_space = [\n",
    "  {\n",
    "    'clf__n_estimators': [100, 200, 300, 400],\n",
    "    'clf__learning_rate': [0.001,0.01, 0.1],\n",
    "    'clf__max_depth': range(5, 10),\n",
    "    'clf__colsample_bytree': [i/10.0 for i in range(1, 3)],\n",
    "    'clf__gamma': [i/10.0 for i in range(3)],\n",
    "    'fs__score_func': [chi2],\n",
    "  }\n",
    "]\n",
    "# Define cross validation\n",
    "kfold = KFold(n_splits=k_folds)\n",
    "# AUC and accuracy as score\n",
    "scoring = {'AUC':'roc_auc', 'Accuracy':make_scorer(accuracy_score)}\n",
    "# Define grid search\n",
    "grid = GridSearchCV(\n",
    "  pipe,\n",
    "  param_grid=search_space,\n",
    "  cv=kfold,\n",
    "  scoring=scoring,\n",
    "  refit='AUC',\n",
    "  verbose=1,\n",
    "  n_jobs=-1\n",
    ")\n",
    "# Fit grid search\n",
    "top_10_model = grid.fit(X_train, y_train)\n",
    "predict_top_10 = top_10_model.predict(X_test)\n",
    "top_10_accuracy = accuracy_score(y_test, predict_top_10)\n",
    "print('Best AUC Score: {}'.format(top_10_model.best_score_))\n",
    "print('Accuracy: {}'.format(top_10_accuracy))"
   ]
  },
  {
   "cell_type": "markdown",
   "id": "6d89bc7d-3ecf-441d-baba-b89b40fa82d8",
   "metadata": {},
   "source": [
    "## Generate model with PCA + Grid Search"
   ]
  },
  {
   "cell_type": "code",
   "execution_count": null,
   "id": "2c677fec-6d47-42e8-a42f-8389b158b019",
   "metadata": {},
   "outputs": [],
   "source": [
    "df = pd.read_csv(rf\"/home/jovyan/work/data/input/merged_data/train/pca_train.csv\",sep=';')\n",
    "X, y = df.drop([\"good_bad_flag\"],axis=1), df['good_bad_flag']\n",
    "X_train, X_test, y_train, y_test = train_test_split(X, y, test_size=0.2)\n",
    "\n",
    "pipe = Pipeline([('fs', SelectKBest()),('clf', xgb.XGBClassifier(objective='binary:logistic'))])\n",
    "\n",
    "# Define our search space for grid search\n",
    "search_space = [\n",
    "  {\n",
    "    'clf__n_estimators': [100, 200, 300, 400],\n",
    "    'clf__learning_rate': [0.001,0.01, 0.1],\n",
    "    'clf__max_depth': range(5, 10),\n",
    "    'clf__colsample_bytree': [i/10.0 for i in range(1, 3)],\n",
    "    'clf__gamma': [i/10.0 for i in range(3)],\n",
    "    'fs__score_func': [chi2],\n",
    "  }\n",
    "]\n",
    "# Define cross validation\n",
    "kfold = KFold(n_splits=k_folds)\n",
    "# AUC and accuracy as score\n",
    "scoring = {'AUC':'roc_auc', 'Accuracy':make_scorer(accuracy_score)}\n",
    "# Define grid search\n",
    "grid = GridSearchCV(\n",
    "  pipe,\n",
    "  param_grid=search_space,\n",
    "  cv=kfold,\n",
    "  scoring=scoring,\n",
    "  refit='AUC',\n",
    "  verbose=1,\n",
    "  n_jobs=-1\n",
    ")\n",
    "# Fit grid search\n",
    "pca_model = grid.fit(X_train, y_train)\n",
    "predict_pca = pca_model.predict(X_test)\n",
    "pca_accuracy = accuracy_score(y_test, predict_pca)\n",
    "print('Best AUC Score: {}'.format(pca_model.best_score_))\n",
    "print('Accuracy: {}'.format(pca_accuracy))"
   ]
  },
  {
   "cell_type": "markdown",
   "id": "734f3b6e-334a-481c-824d-e106a79e7e2e",
   "metadata": {},
   "source": [
    "# Model comparison"
   ]
  },
  {
   "cell_type": "code",
   "execution_count": null,
   "id": "561336a6-d156-4df8-8f21-83ae938016fb",
   "metadata": {},
   "outputs": [],
   "source": [
    "accuracies = [(baseline_accuracy, baseline_model, \"baseline\"), \n",
    "              (complete_accuracy, complete_model, \"complete\"),\n",
    "              (top_10_accuracy, top_10_model, \"top_10\"),\n",
    "              (cluster_accuracy, cluster_model, \"cluster\")]\n",
    "\n",
    "best_model, max_acc, name = None, 0, None\n",
    "for t in accuracies:\n",
    "    if t[0] > max_acc:\n",
    "        max_acc = t[0]\n",
    "        best_model = t[1]\n",
    "        name = t[2]\n",
    "\n",
    "print(\"Best Model: \", name)\n",
    "print(\"Best Accuracy: \", max_acc)\n",
    "\n",
    "# Save best model\n",
    "# with open(r\"best_model.pkl\",\"wb\") as file:\n",
    "#     pickle.dump(best_model, file)\n",
    "joblib.dump(best_model, '/home/jovyan/work/data/output/best_model.pkl')"
   ]
  },
  {
   "cell_type": "code",
   "execution_count": 20,
   "id": "38003a81",
   "metadata": {},
   "outputs": [
    {
     "data": {
      "image/png": "[encoded data removed]",
      "text/plain": [
       "<Figure size 432x288 with 2 Axes>"
      ]
     },
     "metadata": {
      "needs_background": "light"
     },
     "output_type": "display_data"
    },
    {
     "data": {
      "text/plain": [
       "<Figure size 432x288 with 0 Axes>"
      ]
     },
     "metadata": {},
     "output_type": "display_data"
    }
   ],
   "source": [
    "from sklearn.metrics import confusion_matrix\n",
    "import seaborn as sns\n",
    "import matplotlib.pyplot as plt\n",
    "import numpy as np\n",
    "\n",
    "df = pd.read_csv(rf\"/home/jovyan/work/data/input/merged_data/train/top_10_train.csv\",sep=';')\n",
    "X, y = df.drop([\"good_bad_flag\"],axis=1), df['good_bad_flag']\n",
    "X_train, X_test, y_train, y_test = train_test_split(X, y, test_size=0.2)\n",
    "\n",
    "#Generate the confusion matrix\n",
    "cf_matrix = confusion_matrix(y_test, predict_top_10)\n",
    "\n",
    "ax = sns.heatmap(cf_matrix/np.sum(cf_matrix), annot=True, \n",
    "            fmt='.2%', cmap='Blues')\n",
    "\n",
    "ax.set_title('Best model confussion matrix');\n",
    "ax.set_xlabel('\\nPredicted Values')\n",
    "ax.set_ylabel('Actual Values ');\n",
    "\n",
    "## Ticket labels - List must be in alphabetical order\n",
    "ax.xaxis.set_ticklabels(['False','True'])\n",
    "ax.yaxis.set_ticklabels(['False','True'])\n",
    "\n",
    "## Display the visualization of the Confusion Matrix.\n",
    "plt.show()\n",
    "plt.savefig('my_fig.png', dpi=my_dpi)\n"
   ]
  }
 ],
 "metadata": {
  "kernelspec": {
   "display_name": "Python 3",
   "language": "python",
   "name": "python3"
  },
  "language_info": {
   "codemirror_mode": {
    "name": "ipython",
    "version": 3
   },
   "file_extension": ".py",
   "mimetype": "text/x-python",
   "name": "python",
   "nbconvert_exporter": "python",
   "pygments_lexer": "ipython3",
   "version": "3.9.2"
  }
 },
 "nbformat": 4,
 "nbformat_minor": 5
}
