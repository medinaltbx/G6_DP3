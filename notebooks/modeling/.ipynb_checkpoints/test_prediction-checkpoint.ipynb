{
 "cells": [
  {
   "cell_type": "code",
   "execution_count": 2,
   "id": "299d1117",
   "metadata": {},
   "outputs": [
    {
     "name": "stdout",
     "output_type": "stream",
     "text": [
      "Requirement already satisfied: pandas in /opt/conda/lib/python3.9/site-packages (1.2.4)\n",
      "Requirement already satisfied: numpy in /opt/conda/lib/python3.9/site-packages (1.20.3)\n",
      "Requirement already satisfied: xgboost in /opt/conda/lib/python3.9/site-packages (1.6.1)\n",
      "Requirement already satisfied: python-dateutil>=2.7.3 in /opt/conda/lib/python3.9/site-packages (from pandas) (2.8.1)\n",
      "Requirement already satisfied: pytz>=2017.3 in /opt/conda/lib/python3.9/site-packages (from pandas) (2021.1)\n",
      "Requirement already satisfied: six>=1.5 in /opt/conda/lib/python3.9/site-packages (from python-dateutil>=2.7.3->pandas) (1.16.0)\n",
      "Requirement already satisfied: scipy in /opt/conda/lib/python3.9/site-packages (from xgboost) (1.6.3)\n"
     ]
    }
   ],
   "source": [
    "!pip install pandas numpy xgboost"
   ]
  },
  {
   "cell_type": "code",
   "execution_count": 13,
   "id": "36e71ae8",
   "metadata": {},
   "outputs": [],
   "source": [
    "import pandas as pd\n",
    "import pickle\n",
    "import xgboost as xgb\n",
    "import joblib"
   ]
  },
  {
   "cell_type": "markdown",
   "id": "597e872b",
   "metadata": {},
   "source": [
    "## Cargamos el modelo final y el set de test"
   ]
  },
  {
   "cell_type": "code",
   "execution_count": 23,
   "id": "5e6fcf81",
   "metadata": {},
   "outputs": [],
   "source": [
    "final_model = joblib.load('/home/jovyan/work/data/output/best_model.pkl')\n",
    "\n",
    "top_10_test = pd.read_csv(\"https://raw.githubusercontent.com/medinaltbx/G6_DP3/master/data/input/merged_data/test/top_10_test.csv\",sep=';')\n",
    "\n",
    "to_predict, labels = top_10_test.drop(['customerid'],axis=1), top_10_test['customerid']\n"
   ]
  },
  {
   "cell_type": "code",
   "execution_count": 9,
   "id": "fb4c2dc4",
   "metadata": {},
   "outputs": [
    {
     "name": "stdout",
     "output_type": "stream",
     "text": [
      "/home/jovyan/work/notebooks/modeling\n",
      "/opt/conda/lib/python39.zip\n",
      "/opt/conda/lib/python3.9\n",
      "/opt/conda/lib/python3.9/lib-dynload\n",
      "\n",
      "/opt/conda/lib/python3.9/site-packages\n",
      "/opt/conda/lib/python3.9/site-packages/IPython/extensions\n",
      "/home/jovyan/.ipython\n"
     ]
    }
   ],
   "source": [
    "import sys\n",
    "for p in sys.path: print(p)"
   ]
  }
 ],
 "metadata": {
  "kernelspec": {
   "display_name": "Python 3",
   "language": "python",
   "name": "python3"
  },
  "language_info": {
   "codemirror_mode": {
    "name": "ipython",
    "version": 3
   },
   "file_extension": ".py",
   "mimetype": "text/x-python",
   "name": "python",
   "nbconvert_exporter": "python",
   "pygments_lexer": "ipython3",
   "version": "3.9.2"
  }
 },
 "nbformat": 4,
 "nbformat_minor": 5
}
