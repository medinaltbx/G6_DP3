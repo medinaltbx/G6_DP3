{
 "cells": [
  {
   "cell_type": "code",
   "execution_count": 2,
   "id": "05f3310d",
   "metadata": {},
   "outputs": [
    {
     "name": "stdout",
     "output_type": "stream",
     "text": [
      "Requirement already satisfied: pandas in /opt/conda/lib/python3.9/site-packages (1.2.4)\n",
      "Requirement already satisfied: numpy in /opt/conda/lib/python3.9/site-packages (1.20.3)\n",
      "Requirement already satisfied: xgboost in /opt/conda/lib/python3.9/site-packages (1.6.1)\n",
      "Requirement already satisfied: python-dateutil>=2.7.3 in /opt/conda/lib/python3.9/site-packages (from pandas) (2.8.1)\n",
      "Requirement already satisfied: pytz>=2017.3 in /opt/conda/lib/python3.9/site-packages (from pandas) (2021.1)\n",
      "Requirement already satisfied: six>=1.5 in /opt/conda/lib/python3.9/site-packages (from python-dateutil>=2.7.3->pandas) (1.16.0)\n",
      "Requirement already satisfied: scipy in /opt/conda/lib/python3.9/site-packages (from xgboost) (1.6.3)\n"
     ]
    }
   ],
   "source": [
    "!pip install pandas numpy xgboost"
   ]
  },
  {
   "cell_type": "code",
   "execution_count": 13,
   "id": "e5ae96e7",
   "metadata": {},
   "outputs": [],
   "source": [
    "import pandas as pd\n",
    "import pickle\n",
    "import xgboost as xgb\n",
    "import joblib"
   ]
  },
  {
   "cell_type": "markdown",
   "id": "36eb611c",
   "metadata": {},
   "source": [
    "## Cargamos el modelo final y el set de test"
   ]
  },
  {
   "cell_type": "code",
   "execution_count": 16,
   "id": "23e79dee",
   "metadata": {},
   "outputs": [
    {
     "data": {
      "text/html": [
       "<div>\n",
       "<style scoped>\n",
       "    .dataframe tbody tr th:only-of-type {\n",
       "        vertical-align: middle;\n",
       "    }\n",
       "\n",
       "    .dataframe tbody tr th {\n",
       "        vertical-align: top;\n",
       "    }\n",
       "\n",
       "    .dataframe thead th {\n",
       "        text-align: right;\n",
       "    }\n",
       "</style>\n",
       "<table border=\"1\" class=\"dataframe\">\n",
       "  <thead>\n",
       "    <tr style=\"text-align: right;\">\n",
       "      <th></th>\n",
       "      <th>edad</th>\n",
       "      <th>times_late</th>\n",
       "      <th>loannumber</th>\n",
       "      <th>totaldue</th>\n",
       "      <th>loanamount</th>\n",
       "      <th>bank_name_clients_GT Bank</th>\n",
       "      <th>times_loaned</th>\n",
       "      <th>employment_status_clients_Permanent</th>\n",
       "      <th>termdays</th>\n",
       "      <th>times_referred</th>\n",
       "    </tr>\n",
       "  </thead>\n",
       "  <tbody>\n",
       "    <tr>\n",
       "      <th>0</th>\n",
       "      <td>48</td>\n",
       "      <td>0</td>\n",
       "      <td>2</td>\n",
       "      <td>13000</td>\n",
       "      <td>10000</td>\n",
       "      <td>1</td>\n",
       "      <td>1</td>\n",
       "      <td>0</td>\n",
       "      <td>30</td>\n",
       "      <td>1</td>\n",
       "    </tr>\n",
       "    <tr>\n",
       "      <th>1</th>\n",
       "      <td>36</td>\n",
       "      <td>1</td>\n",
       "      <td>2</td>\n",
       "      <td>13000</td>\n",
       "      <td>10000</td>\n",
       "      <td>0</td>\n",
       "      <td>1</td>\n",
       "      <td>1</td>\n",
       "      <td>30</td>\n",
       "      <td>0</td>\n",
       "    </tr>\n",
       "    <tr>\n",
       "      <th>2</th>\n",
       "      <td>35</td>\n",
       "      <td>2</td>\n",
       "      <td>4</td>\n",
       "      <td>13000</td>\n",
       "      <td>10000</td>\n",
       "      <td>0</td>\n",
       "      <td>3</td>\n",
       "      <td>0</td>\n",
       "      <td>30</td>\n",
       "      <td>0</td>\n",
       "    </tr>\n",
       "    <tr>\n",
       "      <th>3</th>\n",
       "      <td>30</td>\n",
       "      <td>1</td>\n",
       "      <td>2</td>\n",
       "      <td>11500</td>\n",
       "      <td>10000</td>\n",
       "      <td>1</td>\n",
       "      <td>1</td>\n",
       "      <td>1</td>\n",
       "      <td>15</td>\n",
       "      <td>0</td>\n",
       "    </tr>\n",
       "    <tr>\n",
       "      <th>4</th>\n",
       "      <td>31</td>\n",
       "      <td>2</td>\n",
       "      <td>6</td>\n",
       "      <td>24500</td>\n",
       "      <td>20000</td>\n",
       "      <td>0</td>\n",
       "      <td>5</td>\n",
       "      <td>1</td>\n",
       "      <td>30</td>\n",
       "      <td>0</td>\n",
       "    </tr>\n",
       "  </tbody>\n",
       "</table>\n",
       "</div>"
      ],
      "text/plain": [
       "   edad  times_late  loannumber  totaldue  loanamount  \\\n",
       "0    48           0           2     13000       10000   \n",
       "1    36           1           2     13000       10000   \n",
       "2    35           2           4     13000       10000   \n",
       "3    30           1           2     11500       10000   \n",
       "4    31           2           6     24500       20000   \n",
       "\n",
       "   bank_name_clients_GT Bank  times_loaned  \\\n",
       "0                          1             1   \n",
       "1                          0             1   \n",
       "2                          0             3   \n",
       "3                          1             1   \n",
       "4                          0             5   \n",
       "\n",
       "   employment_status_clients_Permanent  termdays  times_referred  \n",
       "0                                    0        30               1  \n",
       "1                                    1        30               0  \n",
       "2                                    0        30               0  \n",
       "3                                    1        15               0  \n",
       "4                                    1        30               0  "
      ]
     },
     "execution_count": 16,
     "metadata": {},
     "output_type": "execute_result"
    }
   ],
   "source": [
    "final_model = joblib.load('/home/jovyan/work/data/output/best_model.pkl')\n",
    "\n",
    "top_10_test = pd.read_csv(\"https://raw.githubusercontent.com/medinaltbx/G6_DP3/master/data/input/merged_data/test/top_10_test.csv\",sep=';')\n",
    "\n",
    "top_10_test.head()"
   ]
  },
  {
   "cell_type": "code",
   "execution_count": 9,
   "id": "7e027a45",
   "metadata": {},
   "outputs": [
    {
     "name": "stdout",
     "output_type": "stream",
     "text": [
      "/home/jovyan/work/notebooks/modeling\n",
      "/opt/conda/lib/python39.zip\n",
      "/opt/conda/lib/python3.9\n",
      "/opt/conda/lib/python3.9/lib-dynload\n",
      "\n",
      "/opt/conda/lib/python3.9/site-packages\n",
      "/opt/conda/lib/python3.9/site-packages/IPython/extensions\n",
      "/home/jovyan/.ipython\n"
     ]
    }
   ],
   "source": [
    "import sys\n",
    "for p in sys.path: print(p)"
   ]
  }
 ],
 "metadata": {
  "kernelspec": {
   "display_name": "Python 3",
   "language": "python",
   "name": "python3"
  },
  "language_info": {
   "codemirror_mode": {
    "name": "ipython",
    "version": 3
   },
   "file_extension": ".py",
   "mimetype": "text/x-python",
   "name": "python",
   "nbconvert_exporter": "python",
   "pygments_lexer": "ipython3",
   "version": "3.9.2"
  }
 },
 "nbformat": 4,
 "nbformat_minor": 5
}
