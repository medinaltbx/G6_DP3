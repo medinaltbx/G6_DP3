{
 "cells": [
  {
   "cell_type": "code",
   "execution_count": null,
   "id": "25cd6332",
   "metadata": {},
   "outputs": [
    {
     "name": "stdout",
     "output_type": "stream",
     "text": [
      "Requirement already satisfied: pandas in /opt/conda/lib/python3.9/site-packages (1.2.4)\n",
      "Requirement already satisfied: sklearn in /opt/conda/lib/python3.9/site-packages (0.0)\n",
      "Requirement already satisfied: seaborn in /opt/conda/lib/python3.9/site-packages (0.11.1)\n",
      "Requirement already satisfied: xgboost in /opt/conda/lib/python3.9/site-packages (1.6.1)\n",
      "Collecting pandas_profiling\n",
      "  Downloading pandas_profiling-3.2.0-py2.py3-none-any.whl (262 kB)\n",
      "\u001b[K     |████████████████████████████████| 262 kB 685 kB/s eta 0:00:01\n",
      "\u001b[?25hRequirement already satisfied: python-dateutil>=2.7.3 in /opt/conda/lib/python3.9/site-packages (from pandas) (2.8.1)\n",
      "Requirement already satisfied: pytz>=2017.3 in /opt/conda/lib/python3.9/site-packages (from pandas) (2021.1)\n",
      "Requirement already satisfied: numpy>=1.16.5 in /opt/conda/lib/python3.9/site-packages (from pandas) (1.20.3)\n",
      "Requirement already satisfied: six>=1.5 in /opt/conda/lib/python3.9/site-packages (from python-dateutil>=2.7.3->pandas) (1.16.0)\n",
      "Requirement already satisfied: scikit-learn in /opt/conda/lib/python3.9/site-packages (from sklearn) (0.24.2)\n",
      "Requirement already satisfied: matplotlib>=2.2 in /opt/conda/lib/python3.9/site-packages (from seaborn) (3.4.2)\n",
      "Requirement already satisfied: scipy>=1.0 in /opt/conda/lib/python3.9/site-packages (from seaborn) (1.6.3)\n",
      "Requirement already satisfied: cycler>=0.10 in /opt/conda/lib/python3.9/site-packages (from matplotlib>=2.2->seaborn) (0.10.0)\n",
      "Requirement already satisfied: pyparsing>=2.2.1 in /opt/conda/lib/python3.9/site-packages (from matplotlib>=2.2->seaborn) (2.4.7)\n",
      "Requirement already satisfied: pillow>=6.2.0 in /opt/conda/lib/python3.9/site-packages (from matplotlib>=2.2->seaborn) (8.2.0)\n",
      "Requirement already satisfied: kiwisolver>=1.0.1 in /opt/conda/lib/python3.9/site-packages (from matplotlib>=2.2->seaborn) (1.3.1)\n",
      "Requirement already satisfied: PyYAML>=5.0.0 in /opt/conda/lib/python3.9/site-packages (from pandas_profiling) (5.4.1)\n",
      "Requirement already satisfied: jinja2>=2.11.1 in /opt/conda/lib/python3.9/site-packages (from pandas_profiling) (3.0.1)\n",
      "Collecting multimethod>=1.4\n",
      "  Downloading multimethod-1.8-py3-none-any.whl (9.8 kB)\n",
      "Collecting tangled-up-in-unicode==0.2.0\n",
      "  Downloading tangled_up_in_unicode-0.2.0-py3-none-any.whl (4.7 MB)\n",
      "\u001b[K     |████████████████████████████████| 4.7 MB 6.0 MB/s eta 0:00:01\n",
      "\u001b[?25hRequirement already satisfied: tqdm>=4.48.2 in /opt/conda/lib/python3.9/site-packages (from pandas_profiling) (4.61.0)\n",
      "Collecting missingno>=0.4.2\n",
      "  Downloading missingno-0.5.1-py3-none-any.whl (8.7 kB)\n",
      "Collecting visions[type_image_path]==0.7.4\n",
      "  Downloading visions-0.7.4-py3-none-any.whl (102 kB)\n",
      "\u001b[K     |████████████████████████████████| 102 kB 9.5 MB/s eta 0:00:01\n",
      "\u001b[?25hCollecting phik>=0.11.1\n",
      "  Downloading phik-0.12.2-cp39-cp39-manylinux_2_17_x86_64.manylinux2014_x86_64.whl (709 kB)\n",
      "\u001b[K     |██████████▋                     | 235 kB 11.4 MB/s eta 0:00:01"
     ]
    }
   ],
   "source": [
    "!pip install pandas sklearn seaborn xgboost pandas_profiling"
   ]
  },
  {
   "cell_type": "code",
   "execution_count": null,
   "id": "7857668d",
   "metadata": {},
   "outputs": [],
   "source": [
    "import pandas as pd                  \n",
    "import numpy as np  \n",
    "import seaborn as sns\n",
    "import matplotlib \n",
    "from pandas_profiling import ProfileReport\n",
    "import pathlib\n",
    "import xgboost as xgb\n",
    "from xgboost import plot_importance\n",
    "from matplotlib import pyplot\n",
    "import matplotlib.pyplot as plt\n",
    "import sklearn\n",
    "%matplotlib inline\n"
   ]
  },
  {
   "cell_type": "code",
   "execution_count": null,
   "id": "42270b13",
   "metadata": {},
   "outputs": [],
   "source": [
    "df = pd.read_csv(r\"https://raw.githubusercontent.com/medinaltbx/G6_DP3/master/data/input/merged_data/train/merged_train.csv\", sep=';' , decimal='.')\n",
    "df.drop(['customerid'], axis=1, inplace=True)\n",
    "df=df.astype(int)"
   ]
  },
  {
   "cell_type": "code",
   "execution_count": null,
   "id": "6ba624e6",
   "metadata": {},
   "outputs": [],
   "source": [
    "# profile = ProfileReport(df, title='Pandas Profiling Report for ', explorative=True, vars={\"num\": {\"low_categorical_threshold\": 0}} )\n",
    "# profile.to_file(\"profile.html\")"
   ]
  },
  {
   "cell_type": "code",
   "execution_count": null,
   "id": "687d76a5",
   "metadata": {},
   "outputs": [],
   "source": [
    "X, y = df.drop([\"good_bad_flag\"],axis=1), df['good_bad_flag']\n",
    "model = xgb.XGBClassifier()\n",
    "model.fit(X, y)\n",
    "plot_importance(model)\n",
    "plt.rcParams['figure.figsize'] = [100, 50]\n",
    "plt.rc('legend', fontsize=16)\n",
    "plt.show()"
   ]
  },
  {
   "cell_type": "code",
   "execution_count": null,
   "id": "82393117",
   "metadata": {},
   "outputs": [],
   "source": [
    "filtered_merged = pd.DataFrame(df, columns = ['good_bad_flag','edad', 'times_late', 'loannumber', 'totaldue', 'loanamount', 'bank_name_clients_GT Bank', 'times_loaned','employment_status_clients_Permanent', 'termdays','times_referred'])"
   ]
  },
  {
   "cell_type": "code",
   "execution_count": null,
   "id": "c35d80ea",
   "metadata": {},
   "outputs": [],
   "source": [
    "filtered_merged"
   ]
  },
  {
   "cell_type": "code",
   "execution_count": null,
   "id": "cb582720",
   "metadata": {},
   "outputs": [],
   "source": [
    "filtered_merged.to_csv(\"top_10_train.csv\",sep=';',encoding='utf8',index=False)"
   ]
  },
  {
   "cell_type": "code",
   "execution_count": null,
   "id": "26bc7a4c-c24b-4126-ab0c-3694e7ac5884",
   "metadata": {},
   "outputs": [],
   "source": [
    "# Extraemos las variables también del dataset de test\n",
    "df_test = pd.read_csv(r\"https://raw.githubusercontent.com/medinaltbx/G6_DP3/master/data/input/merged_data/test/merged_test.csv\", sep=';' , decimal='.')\n",
    "df_test.drop(['customerid'], axis=1, inplace=True)\n",
    "filtered_merged_test = pd.DataFrame(df, columns = ['edad', 'times_late', 'loannumber', 'totaldue', 'loanamount', 'bank_name_clients_GT Bank', 'times_loaned','employment_status_clients_Permanent', 'termdays','times_referred'])\n",
    "filtered_merged_test.to_csv(\"/home/jovyan/work/data/input/merged_data/test/top_10_test.csv\",sep=';',encoding='utf8',index=False)"
   ]
  },
  {
   "cell_type": "code",
   "execution_count": null,
   "id": "3773fe7f-ec54-4acf-9332-3c7021fbf80f",
   "metadata": {},
   "outputs": [],
   "source": []
  }
 ],
 "metadata": {
  "kernelspec": {
   "display_name": "Python 3",
   "language": "python",
   "name": "python3"
  },
  "language_info": {
   "codemirror_mode": {
    "name": "ipython",
    "version": 3
   },
   "file_extension": ".py",
   "mimetype": "text/x-python",
   "name": "python",
   "nbconvert_exporter": "python",
   "pygments_lexer": "ipython3",
   "version": "3.9.2"
  }
 },
 "nbformat": 4,
 "nbformat_minor": 5
}
