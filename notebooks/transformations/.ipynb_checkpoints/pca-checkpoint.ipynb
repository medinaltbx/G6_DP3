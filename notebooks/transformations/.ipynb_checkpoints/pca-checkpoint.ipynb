{
 "cells": [
  {
   "cell_type": "code",
   "execution_count": 1,
   "metadata": {
    "id": "Ic0W_2e6lxE2"
   },
   "outputs": [],
   "source": [
<<<<<<< Updated upstream
    "import pandas as pd                    \n",
=======
    "import pandas as pd                    #gestionar dataframes\n",
>>>>>>> Stashed changes
    "import numpy as np  \n",
    "from sklearn.model_selection import train_test_split\n",
    "import seaborn as sns\n",
    "from sklearn.metrics import confusion_matrix\n",
    "import matplotlib.pyplot as plt\n",
    "from sklearn.metrics import accuracy_score\n",
<<<<<<< Updated upstream
    "import numpy as np\n",
    "from sklearn.decomposition import PCA"
=======
    "import numpy as np"
>>>>>>> Stashed changes
   ]
  },
  {
   "cell_type": "code",
   "execution_count": 2,
   "metadata": {
    "colab": {
     "base_uri": "https://localhost:8080/",
     "height": 317
    },
    "id": "MTMoT_5Gmf3_",
<<<<<<< Updated upstream
    "outputId": "de66a074-b808-4bd9-b7c4-534d0760f52b"
=======
    "outputId": "a4a51df2-663f-43dd-b330-2194e217c362"
>>>>>>> Stashed changes
   },
   "outputs": [
    {
     "data": {
      "text/html": [
       "<div>\n",
       "<style scoped>\n",
       "    .dataframe tbody tr th:only-of-type {\n",
       "        vertical-align: middle;\n",
       "    }\n",
       "\n",
       "    .dataframe tbody tr th {\n",
       "        vertical-align: top;\n",
       "    }\n",
       "\n",
       "    .dataframe thead th {\n",
       "        text-align: right;\n",
       "    }\n",
       "</style>\n",
       "<table border=\"1\" class=\"dataframe\">\n",
       "  <thead>\n",
       "    <tr style=\"text-align: right;\">\n",
       "      <th></th>\n",
       "      <th>customerid</th>\n",
       "      <th>edad</th>\n",
       "      <th>loannumber</th>\n",
       "      <th>loanamount</th>\n",
       "      <th>totaldue</th>\n",
       "      <th>termdays</th>\n",
       "      <th>referredby</th>\n",
       "      <th>good_bad_flag</th>\n",
       "      <th>times_loaned</th>\n",
       "      <th>times_late</th>\n",
       "      <th>...</th>\n",
       "      <th>employment_status_clients_Retired</th>\n",
       "      <th>employment_status_clients_Self-Employed</th>\n",
       "      <th>employment_status_clients_Student</th>\n",
       "      <th>employment_status_clients_UNKNOWN</th>\n",
       "      <th>employment_status_clients_Unemployed</th>\n",
       "      <th>level_of_education_clients_Graduate</th>\n",
       "      <th>level_of_education_clients_Post-Graduate</th>\n",
       "      <th>level_of_education_clients_Primary</th>\n",
       "      <th>level_of_education_clients_Secondary</th>\n",
       "      <th>level_of_education_clients_UNKNOWN</th>\n",
       "    </tr>\n",
       "  </thead>\n",
       "  <tbody>\n",
       "    <tr>\n",
       "      <th>0</th>\n",
       "      <td>8a858e135cb22031015cbafc76964ebd</td>\n",
       "      <td>48</td>\n",
       "      <td>2</td>\n",
       "      <td>10000.0</td>\n",
       "      <td>13000.0</td>\n",
       "      <td>30</td>\n",
       "      <td>1</td>\n",
       "      <td>1.0</td>\n",
       "      <td>1.0</td>\n",
       "      <td>0.0</td>\n",
       "      <td>...</td>\n",
       "      <td>0</td>\n",
       "      <td>0</td>\n",
       "      <td>0</td>\n",
       "      <td>1</td>\n",
       "      <td>0</td>\n",
       "      <td>0</td>\n",
       "      <td>0</td>\n",
       "      <td>0</td>\n",
       "      <td>0</td>\n",
       "      <td>1</td>\n",
       "    </tr>\n",
       "    <tr>\n",
       "      <th>1</th>\n",
       "      <td>8a858e275c7ea5ec015c82482d7c3996</td>\n",
       "      <td>36</td>\n",
       "      <td>2</td>\n",
       "      <td>10000.0</td>\n",
       "      <td>13000.0</td>\n",
       "      <td>30</td>\n",
       "      <td>0</td>\n",
       "      <td>0.0</td>\n",
       "      <td>1.0</td>\n",
       "      <td>1.0</td>\n",
       "      <td>...</td>\n",
       "      <td>0</td>\n",
       "      <td>0</td>\n",
       "      <td>0</td>\n",
       "      <td>0</td>\n",
       "      <td>0</td>\n",
       "      <td>0</td>\n",
       "      <td>0</td>\n",
       "      <td>0</td>\n",
       "      <td>0</td>\n",
       "      <td>1</td>\n",
       "    </tr>\n",
       "    <tr>\n",
       "      <th>2</th>\n",
       "      <td>8a858e5b5bd99460015bdc95cd485634</td>\n",
       "      <td>35</td>\n",
       "      <td>4</td>\n",
       "      <td>10000.0</td>\n",
       "      <td>13000.0</td>\n",
       "      <td>30</td>\n",
       "      <td>0</td>\n",
       "      <td>1.0</td>\n",
       "      <td>3.0</td>\n",
       "      <td>2.0</td>\n",
       "      <td>...</td>\n",
       "      <td>0</td>\n",
       "      <td>0</td>\n",
       "      <td>0</td>\n",
       "      <td>1</td>\n",
       "      <td>0</td>\n",
       "      <td>0</td>\n",
       "      <td>0</td>\n",
       "      <td>0</td>\n",
       "      <td>0</td>\n",
       "      <td>1</td>\n",
       "    </tr>\n",
       "    <tr>\n",
       "      <th>3</th>\n",
       "      <td>8a858efd5ca70688015cabd1f1e94b55</td>\n",
       "      <td>30</td>\n",
       "      <td>2</td>\n",
       "      <td>10000.0</td>\n",
       "      <td>11500.0</td>\n",
       "      <td>15</td>\n",
       "      <td>0</td>\n",
       "      <td>1.0</td>\n",
       "      <td>1.0</td>\n",
       "      <td>1.0</td>\n",
       "      <td>...</td>\n",
       "      <td>0</td>\n",
       "      <td>0</td>\n",
       "      <td>0</td>\n",
       "      <td>0</td>\n",
       "      <td>0</td>\n",
       "      <td>0</td>\n",
       "      <td>0</td>\n",
       "      <td>0</td>\n",
       "      <td>0</td>\n",
       "      <td>1</td>\n",
       "    </tr>\n",
       "    <tr>\n",
       "      <th>4</th>\n",
       "      <td>8a858ea05a859123015a8892914d15b7</td>\n",
       "      <td>31</td>\n",
       "      <td>6</td>\n",
       "      <td>20000.0</td>\n",
       "      <td>24500.0</td>\n",
       "      <td>30</td>\n",
       "      <td>0</td>\n",
       "      <td>1.0</td>\n",
       "      <td>5.0</td>\n",
       "      <td>2.0</td>\n",
       "      <td>...</td>\n",
       "      <td>0</td>\n",
       "      <td>0</td>\n",
       "      <td>0</td>\n",
       "      <td>0</td>\n",
       "      <td>0</td>\n",
       "      <td>0</td>\n",
       "      <td>0</td>\n",
       "      <td>0</td>\n",
       "      <td>0</td>\n",
       "      <td>1</td>\n",
       "    </tr>\n",
       "  </tbody>\n",
       "</table>\n",
       "<p>5 rows × 79 columns</p>\n",
       "</div>"
      ],
      "text/plain": [
       "                         customerid  edad  loannumber  loanamount  totaldue  \\\n",
       "0  8a858e135cb22031015cbafc76964ebd    48           2     10000.0   13000.0   \n",
       "1  8a858e275c7ea5ec015c82482d7c3996    36           2     10000.0   13000.0   \n",
       "2  8a858e5b5bd99460015bdc95cd485634    35           4     10000.0   13000.0   \n",
       "3  8a858efd5ca70688015cabd1f1e94b55    30           2     10000.0   11500.0   \n",
       "4  8a858ea05a859123015a8892914d15b7    31           6     20000.0   24500.0   \n",
       "\n",
       "   termdays  referredby  good_bad_flag  times_loaned  times_late  ...  \\\n",
       "0        30           1            1.0           1.0         0.0  ...   \n",
       "1        30           0            0.0           1.0         1.0  ...   \n",
       "2        30           0            1.0           3.0         2.0  ...   \n",
       "3        15           0            1.0           1.0         1.0  ...   \n",
       "4        30           0            1.0           5.0         2.0  ...   \n",
       "\n",
       "   employment_status_clients_Retired  employment_status_clients_Self-Employed  \\\n",
       "0                                  0                                        0   \n",
       "1                                  0                                        0   \n",
       "2                                  0                                        0   \n",
       "3                                  0                                        0   \n",
       "4                                  0                                        0   \n",
       "\n",
       "   employment_status_clients_Student  employment_status_clients_UNKNOWN  \\\n",
       "0                                  0                                  1   \n",
       "1                                  0                                  0   \n",
       "2                                  0                                  1   \n",
       "3                                  0                                  0   \n",
       "4                                  0                                  0   \n",
       "\n",
       "   employment_status_clients_Unemployed  level_of_education_clients_Graduate  \\\n",
       "0                                     0                                    0   \n",
       "1                                     0                                    0   \n",
       "2                                     0                                    0   \n",
       "3                                     0                                    0   \n",
       "4                                     0                                    0   \n",
       "\n",
       "   level_of_education_clients_Post-Graduate  \\\n",
       "0                                         0   \n",
       "1                                         0   \n",
       "2                                         0   \n",
       "3                                         0   \n",
       "4                                         0   \n",
       "\n",
       "   level_of_education_clients_Primary  level_of_education_clients_Secondary  \\\n",
       "0                                   0                                     0   \n",
       "1                                   0                                     0   \n",
       "2                                   0                                     0   \n",
       "3                                   0                                     0   \n",
       "4                                   0                                     0   \n",
       "\n",
       "   level_of_education_clients_UNKNOWN  \n",
       "0                                   1  \n",
       "1                                   1  \n",
       "2                                   1  \n",
       "3                                   1  \n",
       "4                                   1  \n",
       "\n",
       "[5 rows x 79 columns]"
      ]
     },
     "execution_count": 2,
     "metadata": {},
     "output_type": "execute_result"
    }
   ],
   "source": [
    "dfpca = pd.read_csv(r\"https://raw.githubusercontent.com/medinaltbx/G6_DP3/master/data/input/merged_data/train/merged_train.csv\", sep=';' , decimal='.')\n",
    "dfpca.head()\n"
   ]
  },
  {
   "cell_type": "code",
   "execution_count": 3,
   "metadata": {
    "id": "x8zVVJGwmjDw"
   },
   "outputs": [],
   "source": [
    "X = dfpca.drop(columns=['good_bad_flag'] + ['customerid'])\n",
    "y = dfpca['good_bad_flag']\n",
    "\n"
   ]
  },
  {
   "cell_type": "code",
   "execution_count": 4,
   "metadata": {
    "id": "yk8bVac9O9g9"
   },
   "outputs": [],
   "source": [
    "from sklearn.preprocessing import StandardScaler\n",
    "sc = StandardScaler()\n",
    "\n",
    "X = sc.fit_transform(X)\n"
   ]
  },
  {
   "cell_type": "code",
   "execution_count": 5,
   "metadata": {
    "colab": {
     "base_uri": "https://localhost:8080/"
    },
    "id": "LLa4o9tUQDA2",
<<<<<<< Updated upstream
    "outputId": "ab4d48f4-91fd-4c1a-ae67-30708db91530"
=======
    "outputId": "51ed4891-0bd3-4c9b-b8e0-284315bdd5b8"
>>>>>>> Stashed changes
   },
   "outputs": [
    {
     "name": "stdout",
     "output_type": "stream",
     "text": [
      "-1.148902568432962e-17\n",
      "0.9610389610389612\n"
     ]
    }
   ],
   "source": [
    "#here we want to check wether mean tends to 0 and variance =1\n",
    "\n",
    "print(np.mean(X))\n",
    "print(np.var(X))\n"
   ]
  },
  {
   "cell_type": "code",
   "execution_count": 6,
   "metadata": {
    "id": "w-t0nedImpyM"
   },
   "outputs": [],
   "source": [
    "X_train, X_test, y_train, y_test = train_test_split(X, y, test_size=0.2, random_state=0)\n"
   ]
  },
  {
   "cell_type": "code",
   "execution_count": 7,
   "metadata": {
    "colab": {
     "base_uri": "https://localhost:8080/"
    },
    "id": "0sVq68TRdHe4",
<<<<<<< Updated upstream
    "outputId": "fdaa4950-99e0-4156-fd10-2aca2de4b2b9"
=======
    "outputId": "87920d8a-cfcd-43c5-ca5f-8b416481d550"
>>>>>>> Stashed changes
   },
   "outputs": [
    {
     "name": "stdout",
     "output_type": "stream",
     "text": [
      "-0.00045200702135016907\n",
      "0.9510630498568969\n"
     ]
    }
   ],
   "source": [
    "print(np.mean(X_train))\n",
    "print(np.var(X_train))"
   ]
  },
  {
<<<<<<< Updated upstream
=======
   "cell_type": "code",
   "execution_count": 8,
   "metadata": {
    "id": "zXOQNJIUeng9"
   },
   "outputs": [],
   "source": [
    "from sklearn.decomposition import PCA\n"
   ]
  },
  {
>>>>>>> Stashed changes
   "cell_type": "markdown",
   "metadata": {
    "id": "u3qKGYp3Bh3V"
   },
   "source": [
    "PCA WITH ALL FEATURES"
   ]
  },
  {
   "cell_type": "code",
<<<<<<< Updated upstream
   "execution_count": 8,
=======
   "execution_count": 9,
>>>>>>> Stashed changes
   "metadata": {
    "id": "yvu7VYZ8nPB5"
   },
   "outputs": [],
   "source": [
    "#PCA with all features\n",
    "\n",
    "\n",
    "pca = PCA()\n",
    "X_train1 = pca.fit_transform(X_train)\n",
    "X_test1 = pca.transform(X_test)"
   ]
  },
  {
   "cell_type": "code",
<<<<<<< Updated upstream
   "execution_count": 9,
=======
   "execution_count": 10,
>>>>>>> Stashed changes
   "metadata": {
    "colab": {
     "base_uri": "https://localhost:8080/"
    },
    "id": "Om1uIyXFnlcO",
<<<<<<< Updated upstream
    "outputId": "d5db4187-37a4-4046-af75-4c777c96ddc7"
=======
    "outputId": "3da22e26-b96a-496e-8c16-4fc0d8890b74"
>>>>>>> Stashed changes
   },
   "outputs": [
    {
     "name": "stdout",
     "output_type": "stream",
     "text": [
      "[8.26186412e-02 3.42717383e-02 2.50381016e-02 2.43538143e-02\n",
      " 2.23724570e-02 2.05833631e-02 2.02278259e-02 1.97644643e-02\n",
      " 1.89365046e-02 1.85247347e-02 1.84117506e-02 1.81865138e-02\n",
      " 1.80471785e-02 1.77354136e-02 1.76278123e-02 1.75045405e-02\n",
      " 1.74114241e-02 1.72840553e-02 1.71979427e-02 1.71564252e-02\n",
      " 1.71024024e-02 1.70907977e-02 1.70805386e-02 1.70803132e-02\n",
      " 1.70793554e-02 1.70792956e-02 1.70792865e-02 1.70792865e-02\n",
      " 1.70733780e-02 1.69566886e-02 1.67248969e-02 1.66792260e-02\n",
      " 1.62145986e-02 1.53765193e-02 1.50302817e-02 1.49174417e-02\n",
      " 1.47391544e-02 1.44308502e-02 1.43309282e-02 1.42341184e-02\n",
      " 1.38933163e-02 1.38043366e-02 1.35556144e-02 1.33678058e-02\n",
      " 1.31045492e-02 1.26931202e-02 1.25815004e-02 1.23021413e-02\n",
      " 1.20816674e-02 1.16688942e-02 1.14294044e-02 1.13601930e-02\n",
      " 1.06674862e-02 1.01624960e-02 1.00074767e-02 9.60474239e-03\n",
      " 9.27370923e-03 6.87531269e-03 2.69477654e-03 2.21324151e-03\n",
<<<<<<< Updated upstream
      " 2.30878964e-05 1.06824393e-06 1.90071806e-32 5.69401356e-33\n",
      " 3.09850104e-33 2.40996927e-33 1.31671089e-33 1.31151133e-33\n",
      " 6.53020121e-34 6.30728149e-34 6.30728149e-34 6.30728149e-34\n",
      " 6.30728149e-34 6.30728149e-34 6.30728149e-34 2.59354806e-34\n",
      " 6.32001298e-35]\n"
=======
      " 2.30878964e-05 1.06824393e-06 2.21925042e-32 5.50730985e-33\n",
      " 4.51557421e-33 1.89961264e-33 1.69723606e-33 6.32500585e-34\n",
      " 6.30728149e-34 6.30728149e-34 6.30728149e-34 6.30728149e-34\n",
      " 6.30728149e-34 6.30728149e-34 6.30728149e-34 6.30728149e-34\n",
      " 1.72502819e-34]\n"
>>>>>>> Stashed changes
     ]
    }
   ],
   "source": [
    "#returns the variance caused by each of the principal components.\n",
    "explained_variance = pca.explained_variance_ratio_\n",
    "print(explained_variance)"
   ]
  },
  {
   "cell_type": "code",
<<<<<<< Updated upstream
   "execution_count": 10,
=======
   "execution_count": 11,
>>>>>>> Stashed changes
   "metadata": {
    "colab": {
     "base_uri": "https://localhost:8080/",
     "height": 296
    },
    "id": "44GPrHRq8yNK",
<<<<<<< Updated upstream
    "outputId": "e35b3303-af99-4ad8-e64d-936490152051"
=======
    "outputId": "e7855c04-5a7b-44e6-96d7-4209d2828f8c"
>>>>>>> Stashed changes
   },
   "outputs": [
    {
     "data": {
      "text/plain": [
       "Text(0, 0.5, 'Explained variance (%)')"
      ]
     },
<<<<<<< Updated upstream
     "execution_count": 10,
=======
     "execution_count": 11,
>>>>>>> Stashed changes
     "metadata": {},
     "output_type": "execute_result"
    },
    {
     "data": {
<<<<<<< Updated upstream
      "image/png": "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\n",
=======
      "image/png": "iVBORw0KGgoAAAANSUhEUgAAAYUAAAEGCAYAAACKB4k+AAAAOXRFWHRTb2Z0d2FyZQBNYXRwbG90bGliIHZlcnNpb24zLjUuMiwgaHR0cHM6Ly9tYXRwbG90bGliLm9yZy8qNh9FAAAACXBIWXMAAAsTAAALEwEAmpwYAAAriUlEQVR4nO3dd5hU9fn+8fdD7x2RKh0Fqa4UMYolRmOMXTQWQARFY4t+oyYmljRLjDE/k1hAiqKIirFjQawJZSnSm4gILk06LLDl+f1xDuuE7C6zZfbM7tyv65pr5pQ55545MM+e8vkcc3dEREQAKkUdQEREkoeKgoiI5FFREBGRPCoKIiKSR0VBRETyVIk6QEk0adLE27ZtG3UMEZFyZc6cOVvcvWl+08p1UWjbti3p6elRxxARKVfM7OuCpunwkYiI5FFREBGRPCoKIiKSR0VBRETyqCiIiEiehBUFM3vGzDaZ2aKYcY3M7H0zWxk+NwzHm5n9zcxWmdkCM+uTqFwiIlKwRO4pjAPOPGTcncA0d+8ETAuHAc4COoWPkcA/E5hLREQKkLB2Cu7+iZm1PWT0ucCg8PV44CPgjnD8BA/68Z5hZg3MrLm7ZyQqn4gkr31ZOWTs2Me32zNZvy2TDTv3kZ3roK7+85x2TDN6tm5Q6sst68ZrzWJ+6DcAzcLXLYFvYuZbF477n6JgZiMJ9iZo06ZN4pKKSJn4dnsm7y7ewMpNu1mzZQ9rtuwhY+e+An//zco2X7I6ol6NClEU8ri7m1mRy767PwU8BZCWlqY/G0TKob0Hspm6aAOvzF3Hv7/8DneoX7MqbZvUpl/7xhzVuBatG9aiRYOatGxQkyPr16BaFV0XUxbKuihsPHhYyMyaA5vC8euB1jHztQrHiUgFsnXPAUZ/upoJ//ma3fuzad2oJjed2okL+rTkqMa1o44nlH1ReB0YAjwQPr8WM/7nZjYJ6Afs0PkEkYpj654DPP3pasb/ew2ZWTmc3b05Vw1oS9pRDalUSceDkknCioKZvUBwUrmJma0D7iEoBpPNbDjwNXBJOPvbwI+BVcBeYFiicolI2dmxN4unP13NM59/RWZWDj/p0YKbTu1Ip2Z1o44mBUjk1UeXFTDptHzmdeCGRGURkbK1e382Yz/7iqc+Xc2ufdmc3aM5t57eiY5HqBgku3LddbaIJJf92TlMnLGWx6evYuueA5x+TDNuO6MzxzSvF3U0iZOKgoiUWG6u89oX63nkvRWs25bJCR0a838/6kLvNg2jjiZFpKIgIiXyyYrN/OmdZSzN2EnX5vWYcHV3ftCpCaYGBeWSioKIFMui9Tt4cOoyPl25hVYNa/LYpb04p0cLXU1UzqkoiEiRZOzI5OGpy3l1/nrq16zKb37SlSv6t6F6lcpRR5NSoKIgInHJPJDDk598yRMff0muw7UndWDUoA7Ur1k16mhSilQURKRQ7s4bCzJ44O2lfLtjH2d3b86dZx1N60a1oo4mCaCiICIFWrVpF3f/axEzVm+lW4t6PDq4F/3aN446liSQioKI/I/MAzn87cOVjP50NbWqVeEP5x/Lpce3obJOIld4Kgoi8l8+WLKRe15fzPrtmVx0XCvuOutoGtepHnUsKSMqCiICwPrtmdz7+mLeX7KRzs3qMPnaAfRt1yjqWFLGVBREUlxWTi7PfPYVf/1gJQB3nnU0w09sR9XKun9BKlJREElh89Zu464pC1m2YRenH9OMe3/alVYNdVVRKlNREElBO/dl8ed3l/PsjK9pVrcGT155HD/qdmTUsSQJqCiIpJj3Fm/gN68tYtOu/QwZ0Jbbf9SFOtX1UyAB/UsQSRFbdu/nntcX89aCDI4+si5PXplGrwTc+F3KNxUFkQrO3fnX/PXc98YS9u7P4bYfdua6QR10IlnypaIgUoFt2LGPX7+6kGnLNtG7TQMeurCHboUphVJREKmA3J2X5qzjd28uISsnl7vPPoZhA9upRbIcloqCSAWTsSOTu6Ys5KPlm+nbthEPXdSDtk1qRx1LygkVBZEKwt2ZMnc9976xmOwc576fduPK/kfppjdSJCoKIhXApl37+NWURXywdCPHt23Iny/uyVGNtXcgRaeiIFLOvbUgg7v/tZA9B3J07kBKTEVBpJzavvcAv3ltMW988S09W9XnkUt60vEIXVkkJaOiIFIOTV+2iV++soBtew5w2w87M2pQB6qo3YGUAhUFkXIk80AOv39rCRNnrqVLs7qMHXo8x7asH3UsqUBUFETKiYXrdnDzi/P4asseRvygHbf/qAvVq1SOOpZUMCoKIkkuJ9d54uMvefT9FTStW52Jw/txQscmUceSCkpFQSSJfbs9k1tfnM/Mr7Zydo/m/PG87tSvVTXqWFKBqSiIJKmpizK445WFZOfk8ueLe3Jhn5aY6VJTSSwVBZEks/dANr97cwkvzPqGHq3q87dLe6ubCikzKgoiSWRpxk5+/vxcVm/Zw6hBHbj19M5Uq6JLTaXsqCiIJAF359kZX/P7t5ZSv2ZVnhvej4E6mSwRUFEQidi2PQf45SsLeH/JRk7p0pQ/X9yTxnWqRx1LUlQkRcHMbgWuARxYCAwDmgOTgMbAHOBKdz8QRT6RspK+Zis3vTCPzbv3c/fZx3D1wHbq1VQiVeYHK82sJXATkObuxwKVgUuBB4FH3b0jsA0YXtbZRMpKbq7zj49WMfipGVSpXIlXRp3ANT9or4IgkYvqDFYVoKaZVQFqARnAqcDL4fTxwHnRRBNJrC279zN03GwemrqcM7sdyZs3nUiPVg2ijiUCRHD4yN3Xm9mfgbVAJvAeweGi7e6eHc62DmiZ3/vNbCQwEqBNmzaJDyxSimas/o6bXpjH9swsfn/esVzer43aHkhSKbQomFkrgkM7PwBaEPyILwLeAt5x99yirtDMGgLnAu2A7cBLwJnxvt/dnwKeAkhLS/Oirl8kCjm5zj+mr+LRD1ZwVOPajB12PN1aqCM7ST4FFgUzG0vw1/qbBMf7NwE1gM4EP+K/NrM73f2TIq7zdOArd98crmcKMBBoYGZVwr2FVsD6on4YkWS0Zfd+bn1xPp+u3MK5vVrwh/O7U6e6LvyT5FTYv8xH3H1RPuMXAVPMrBpQnOM3a4H+ZlaLYM/jNCAdmA5cRHAF0hDgtWIsWySppK/Zyg3Pz2X73iweuKA7g49vrcNFktQKPNGcX0Ewsw5m1j2cfsDdVxV1he4+k+CE8lyCy1ErERwOugP4hZmtIrgsdUxRly2SLNyd0Z+uZvBTM6hZtTKvXj+QS/vq/IEkv7j3Yc3sV0BHINfMqrv7lcVdqbvfA9xzyOjVQN/iLlMkWezcl8UvX1rA1MUbOLPbkTx0cQ/q1VDPplI+FHZO4Sbg7+6eE47q6e6Dw2kLyiKcSHmzNGMno56bw7ptmdx99jEMP7Gd9g6kXClsT+E7YKqZ/T93fx14z8ymEhzuebdM0omUIy/PWcfd/1pIvRpVeWFkf45v2yjqSCJFVmBRcPeJZvYKcLuZXQP8FngBqOruO8oqoEiy25eVw31vLOGFWWsZ0L4xf7usN03rqu8iKZ8Od06hAzAZGA38Lhz3G0BFQQT4Zuterp84l4XrdzBqUAdu+2FnqlRWV9dSfhV2TmEckEXQDcV6dx9hZr2Bp81strvfX0YZRZLSR8s3ccuL88nJdZ668jjO6HZk1JFESqywPYXe7t4TwMzmAbj7POAcMzu3LMKJJKPcXOdvH67ksWkr6dKsLk9ccZzujCYVRmFFYaqZvQtUBZ6PneDualgmKWlHZha3TJrH9OWbuaB3S/5wfndqVqscdSyRUlPYieY7zKwekOvuu8swk0hSWr5hFyOfTWf9tkx+d243ruh/lC43lQqnwDNiZnYFsLugghC2bj4xYclEksibC77lvL9/zt4DOUwa2Z8rB7RVQZAKqbDDR42BeWY2h6Br680EHeJ1BE4GtgB3JjyhSIRycp2H3l3Gkx+v5rijGvKPy/vQrF6NqGOJJExhh48eM7PHCW5+MxDoQdCB3VKCW2WuLZuIItHYvvcAN74wj09XbuHyfm2455xuVKuiy02lYiu0nULYxcX74UMkZSzbsJORE+aQsSOTP13Qncv66oZOkhrUqbvIId5ZmMFtL31BnepVmDRyAMcd1TDqSCJlRkVBJJSb6/zl/RU8Pn0Vvds04MkrjuMInT+QFKOiIELQ3fWtk+YzbdkmBqe15v7zulG9itofSOo5bFEws2bAH4EW7n6WmXUFBri7boIjFcJXW/ZwzfjZfP3dXrU/kJQXz6UU4wi6ym4RDq8AbklQHpEy9enKzZz7+Gds25vFc9f0U/sDSXnxFIUm7j4ZyAVw92wgp/C3iCQ3d2f8v9cwdOxsmtevyWs3DKR/+8ZRxxKJXDznFPaYWWPAAcysP+o6W8qxrJxc7nl9Mc/PXMvpxzTjr5f2ok51nV4TgfiKwi+A14EOZvY50BS4KKGpRBJk174srp84l09XbuH6QR24/YwuVKqkw0UiBx22KLj7XDM7GegCGLDc3bMSnkyklGXsyGTY2Nms2rSbhy/qwcVpraOOJJJ0DntOwcxuAOq4+2J3XwTUMbPrEx9NpPQs+XYn5/39c9Zvy2TcsL4qCCIFiOdE8wh3335wwN23ASMSlkiklH22cguXPPkfKpnx0qgBnNipSdSRRJJWPOcUKpuZufvBE82VgWqJjSVSOv41bz23v/QFHY+ow7hhfTmyvlooixQmnqIwFXjRzJ4Mh68Nx4kktac/Wc0f3l7KgPaNefKq46hXo2rUkUSSXjxF4Q6CQjAqHH4fGJ2wRCIllJvr/OHtpYz57CvO7tGcv1zSU11WiMQpnquPcoF/hg+RpLY/O4fbX1rAG198y9AT2vLbn3TVJaciRRBP30cDgXuBo8L5DXB3b5/YaCJFs2tfFtc9N4fPV33HHWcezXUnt1eXFSJFFM/hozHArQS35FT3FpKUNu3ax7Cxs1m+YRePXNyTC49rFXUkkXIpnqKww93fSXgSkWJas2UPVz4zky27DjB6SBqDuhwRdSSRciueojDdzB4GpgD7D45097kJSyUSp0XrdzB07CxyHV4Y2Z9erRtEHUmkXIunKPQLn9NixjlwaunHEYnfv7/cwsgJc6hfsyoThvelQ9M6UUcSKffiufrolLIIIlIU7yzM4OZJ82nbpBYTru6nRmkipSSu/oLN7GygG5D3P8/d709UKJHCPD9zLb/+10L6tGnImCFpNKilBvYipSWeDvGeAAYDNxJcjnoxweWpxWZmDczsZTNbZmZLzWyAmTUys/fNbGX43LAk65CKx915/MOV/OrVhQzq3JTnhvdTQRApZfF0iHeCu18FbHP3+4ABQOcSrvcxYKq7Hw30BJYCdwLT3L0TMC0cFgGCVsr3v7mEP7+3ggt6t+Spq9KoWU2tlEVKWzxFITN83mtmLYAsoHlxV2hm9YGTCNo/4O4Hwl5YzwXGh7ONB84r7jqkYsnKyeW2l75g7OdrGH5iO/58cU+qVo7nn66IFFU85xTeNLMGwMPAXIIrj0rS91E7YDMw1sx6EjSKuxlo5u4Z4TwbgGb5vdnMRgIjAdq0aVOCGFIeZB7I4fqJc5i+fDP/96MuXD+og1opiySQhT1ixzezWXWghrsX+x7NZpYGzAAGuvtMM3sM2Anc6O4NYubb5u6FnldIS0vz9PT04kaRJLdjbxZXj5/NvLXb+P153flZP/0RIFIazGyOu6flN63APQUzO9XdPzSzC/KZhrtPKWaedcA6d58ZDr9McP5go5k1d/cMM2sObCrm8qUC2LhzH1eNmcVXW/bw95/14azuxT5iKSJFUNjho5OBD4Fz8pnmBC2ci8zdN5jZN2bWxd2XA6cBS8LHEOCB8Pm14ixfyr81W/ZwxZiZbNtzgLHDjmdgR90pTaSsFFgU3P0eM6sEvOPuk0t5vTcCE82sGrAaGEZw0nuymQ0HvgYuKeV1SjlwsNuKnFzn+RH96aluK0TKVKEnmt0918x+CZRqUXD3+fx3txkHnVaa65HyZcbq7xgxPp26NaowYWQ/Oh6hbitEylo81/V9YGa3m1nrsIFZIzNrlPBkklLeW7yBq56ZRbP6NXh51AkqCCIRieeS1MHh8w0x4xzQTXakVLyU/g13vLKA7q0aMG7o8TSsrVbKIlGJp0O8dmURRFLTkx9/yZ/eWcYPOjXhiSuOo3b1uLrjEpEEibdDvGOBrvx3h3gTEhVKKj5354Gpy3jy49Wc3aM5f7mkJ9WrqNsKkajFc4/me4BBBEXhbeAs4DNARUGKJTsnl1+/uogX07/hiv5tuO+nx1K5klopiySDePYULiLotG6euw8zs2bAc4mNJRXVvqwcbnphHu8t2cjNp3XiltM7qdsKkSQST1HIDC9NzTazegQtjVsnOJdUQDv3ZTFifDozv9rKved0ZehAna4SSTbxFIX0sEO8pwk6r9sN/CeRoaTi2bxrP0OemcWKjbt47NJenNurZdSRRCQf8Vx9dH348gkzmwrUc/cFiY0lFck3W/dy5ZiZbNi5j9FD0hjU5YioI4lIAeI50fw6MAl4zd3XJDyRVCjLNuzkqjGz2J+dy8Rr+nPcUbqhnkgyi6dF8yPAicCS8BaaF5mZ7pIuhzXn661c8sR/MIOXrhuggiBSDsRz+Ohj4GMzqwycCowAngHqJTiblGPTl21i1MQ5NK9fkwlX96V1o1pRRxKROMTbeK0mQRfag4E+fH/bTJH/8a9567n9pS/ocmRdxl/dlyZ1qkcdSUTiFM85hclAX2Aq8DjwsbvnJjqYlE9jP/+K+95YQv/2jXj6qjTq1qgadSQRKYJ49hTGAJe5e06iw0j55e48+v4K/vbhKn7UrRmPXdqbGlXVbYVIeRPPOYV3yyKIlF85uc49ry/iuRlrGZzWmj+cfyxVKsdzDYOIJBt1SSklciA7l1snz+etBRlcd3IH7jizi7qtECnHVBSk2Pbsz+a65+bw6cot/OrHRzPypA5RRxKREiqwKJhZn8Le6O5zSz+OlBdb9xxg2LjZLFq/g4cv6sHFaeoOS6QiKGxP4ZHwuQbB/ZS/AAzoAaQDAxIbTZJVxo5Mrhwzi7Vb9/LPy/twRrcjo44kIqWkwKLg7qcAmNkUoI+7LwyHjwXuLZN0knRWbdrNVWNmsmtfNhOu7kv/9o2jjiQipSiecwpdDhYEAHdfZGbHJDCTJKkF67YzdOxsKhm8MLI/x7asH3UkESll8RSFBWY2mu9vrHM5oF5SU8znq7YwckI6DWtX49nh/WjXpHbUkUQkAeIpCsOAUcDN4fAnwD8TlkiSztRFGdz0wnzaNanNhOF9aVZP/SGKVFTxNF7bZ2ZPAG+7+/IyyCRJZNKstfzq1YX0at2AsUP7Ur+Wuq0QqcgO2+zUzH4KzCfo+wgz6xXeY0EquH9+9CV3TlnISZ2b8tw1/VQQRFJAPH0R3EPQId52AHefD+jmuhWYu/PHt5fy4NRlnNurBU9flUatamrnKJIK4vmfnuXuOw7pusATlEcilp2Ty69eXcjk9HVcNeAo7j2nG5UqqdsKkVQRT1FYbGY/AyqbWSfgJuDfiY0lUdiXlcPNk+bx7uKN3HRaJ249vZP6MRJJMfEcProR6AbsB14AdgK3JDCTRGD3/myuHjebdxdv5J5zuvKLH3ZWQRBJQfFcfbQX+HX4kApo654DDB07i8Xf7uTRwT05v3erqCOJSETiufNaZ+B2oG3s/O5+auJiSVnJ2JHJFaNnsm5bJk9ecRynd20WdSQRiVA85xReAp4ARgO6+1oF8tWWPVwxeiY7MrMYr36MRIT4ikK2u6sFcwWz+NsdDHlmFrkOk9SPkYiE4jnR/IaZXW9mzc2s0cFHSVdsZpXNbJ6ZvRkOtzOzmWa2ysxeNLNqJV2H5C99zVYufWoG1SpXYvK1A1QQRCRPPEVhCPB/BJehzgkf6aWw7puBpTHDDwKPuntHYBswvBTWIYf4aPkmrhgzk6Z1qvPSqBPoeESdqCOJSBI5bFFw93b5PNqXZKVm1go4m+A8BRZc+3gq8HI4y3jgvJKsQ/7XWwsyGDEhnfZN6jD5ugG0bFAz6kgikmQKux3nqe7+oZldkN90d59SgvX+FfglUDccbgxsd/fscHgd0LIEy5dDvDh7LXdNWUifNg0ZM/R46tdUP0Yi8r8KO9F8MvAhcE4+0xwoVlEws58Am9x9jpkNKsb7RwIjAdq0aVOcCCln9Ker+f1bSzmpc1OevOI4alarHHUkEUlShd2O857weVgpr3Mg8FMz+zHB/Z/rAY8BDcysSri30ApYX0Cup4CnANLS0tQHUyHcnUc/WMnfpq3krGOP5LFLe1OtSjynkUQkVcXV9aWZnU3Q1UXe3VXc/f7irNDd7wLuCpc7CLjd3S83s5eAi4BJBCe3XyvO8iWQm+v87q0ljP18DRcf14o/XdCdKpVVEESkcPHcT+EJYDBBH0gGXAwclYAsdwC/MLNVBOcYxiRgHSkhJ9e5c8oCxn6+hmED2/LghT1UEEQkLvHsKZzg7j3MbIG732dmjwDvlMbK3f0j4KPw9WqC+zZICRzIzuXWF+fz1sIM9XQqIkUWT1HIDJ/3mlkL4DugeeIiSXHty8rh+olz+XDZJn7942MYcVKJrhwWkRQUT1F408waAA8DcwmuPBqdyFBSdLv3ZzNifDozvvqOP57fnZ/105VZIlJ08XSd/bvw5SthlxQ13H1HYmNJUezYm8XQcbNYsG4Hj17Si/N6q4mHiBRPYY3X8m20Fk4raeM1KSVbdu/nyjGz+HLTbv5xeR9+1O3IqCOJSDlW2J5Cfo3WDip24zUpPRt27OPy0TNYvz2T0UPSOKlz06gjiUg5V1jjtdJutCal6Jute7l89Ey27jnAhKv70bddiTuuFRGJq51CYzP7m5nNNbM5ZvaYmeluLBFavXk3lzz5H3ZkZvHcNSoIIlJ64mnRNAnYDFxI0OJ4M/BiIkNJwVZs3MUlT87gQHYuk0b2p1frBlFHEpEKJJ5LUpvHXIEE8HszG5yoQFKwJd/u5IoxM6lSyXh+ZH86HlH38G8SESmCePYU3jOzS82sUvi4BHg30cHkvy1Yt53Lnp5B9SqVePHaASoIIpIQ8RSFEcDzwP7wMQm41sx2mdnORIaTwNy127j86ZnUrVGFydcOoF2T2lFHEpEKKp7Ga/qTNEKz12xl6DOzaFq3Os+P6E8L3S1NRBIonquPhh8yXNnM7klcJDnoP19+x1VjZtGsfg1evHaACoKIJFw8h49OM7O3zay5mR0LzOD722hKgny2cgvDxs2iVcOaTBrZn2b1ahz+TSIiJRTP4aOfhVcbLQT2AD9z988TniyFfbR8EyOfnUP7JrWZeE0/GtepHnUkEUkR8Rw+6gTcDLwCfA1caWa1Eh0sVU1ftomRE+bQsWkdXhjRXwVBRMpUPIeP3gB+4+7XAicDK4HZCU2VoqYt3ci1z86h85F1eH5EPxrWrhZ1JBFJMfE0Xuvr7jsB3N2BR8zsjcTGSj0fLNnIqIlzOKZ5PZ69uh/1a1WNOpKIpKAC9xTM7JcA7r7TzC4+ZPLQRIZKNe8t3sCoiXPo2rwezw5XQRCR6BR2+OjSmNd3HTLtzARkSUnvLt7A9RPn0q1FfZ69ph/1a6ogiEh0CisKVsDr/IalGN5dvIEbJs6le6v6TBjel3o1VBBEJFqFFQUv4HV+w1JEUxd9XxDGX62CICLJobATzT3Dvo0MqBnTz5EBaklVAu8u3sDPnw/3EK7uS10VBBFJEoXdea1yWQZJFR8s2aiCICJJK552ClJKpi/fxPUT59K1eT3GqyCISBJSUSgjn6zYnNcwbcLV/XQOQUSSkopCGfj3l1sYMSGdDk3r8JzaIYhIElNRSLB5a7dxzfh0jmpci4nX9KNBLXVdISLJS0UhgZZt2MnQsbNpUqc6zw3vRyP1ZSQiSU5FIUHWbNnDlWNmUbNqZSZe048jdD8EESkHVBQSIGNHJpePnklOrvPcNX1p3Ug9jYtI+aCiUMq27TnAlWNmsSMziwlX96XjEbpJnYiUH/F0nS1x2rM/m2HjZrN2614mXN2XY1vWjzqSiEiRaE+hlBzIzuW65+awYN12Hr+sN/3bN446kohIkZV5UTCz1mY23cyWmNliM7s5HN/IzN43s5Xhc8OyzlZcObnOLybP59OVW3jgwh6c0e3IqCOJiBRLFHsK2cBt7t4V6A/cYGZdgTuBae7eCZgWDic9d+e+Nxbz5oIM7jrraC5Jax11JBGRYivzouDuGe4+N3y9C1gKtATOBcaHs40HzivrbMXx9+mrmPCfrxl5UnuuPblD1HFEREok0nMKZtYW6A3MBJq5e0Y4aQPQLKpc8Xpx9lr+/N4Kzu/dkjvPPDrqOCIiJRZZUTCzOsArwC3uvjN2mrs7BdzIx8xGmlm6maVv3ry5DJLm74MlG7lrykJO6tyUhy7qQaVKuhmdiJR/kRQFM6tKUBAmuvuUcPRGM2seTm8ObMrvve7+lLunuXta06ZNyybwIeau3cYNz8+le8v6/PPyPlStrIu4RKRiiOLqIwPGAEvd/S8xk14HhoSvhwCvlXW2eKzfnsnICekcWb8Gzww9ntrV1dRDRCqOKH7RBgJXAgvNbH447lfAA8BkMxsOfA1cEkG2Qu3Zn80149PZn5XLpJFpNK5TPepIIiKlqsyLgrt/RnCf5/ycVpZZiiI3bIuwfMNOnhl6vLqvEJEKSQfD4/SX91fw7uKN3H12VwZ1OSLqOCIiCaGiEIc3vviWx6ev4tLjWzNsYNuo44iIJIyKwmGs2rSbO15ZwHFHNeT+c48lOE8uIlIxqSgUYu+BbK6fOIeaVSvz95/1oVoVfV0iUrHpesoCuDt3v7qIlZt28+zV/Tiyvu6cJiIVn/70LcCk2d8wZd56bjmtMyd2ahJ1HBGRMqGikI9F63dwz+uL+UGnJtx4aseo44iIlBkVhUPs2pfFz5+fS6Na1fjr4F7q00hEUorOKcRwd3796iLWbt3LpJED1GJZRFKO9hRiTE7/hte/+JZf/LAzfds1ijqOiEiZU1EILd+wi3teX8yJHZswapDOI4hIalJRIGiP8PPn51KnelX+MrgnlXUeQURSlM4pAI9NW8mqzUF7hCPqqj2CiKSulN9TWL89k7Gfr+H83i3VHkFEUl7KF4W/vLcCgNvO6BJxEhGR6KV0UViasZMp89Yx9IS2tGxQM+o4IiKRS+mi8NDUZdStXoXrB3WIOoqISFJI2aLwny+/Y/ryzdxwSkca1KoWdRwRkaSQkkXB3XngnaW0qF+DISe0jTqOiEjSSMmi8NbCDL5Yt4NfnNGFGlUrRx1HRCRppGRRqF2tCj/s2ozze7eMOoqISFJJycZrpxx9BKccfUTUMUREkk5K7imIiEj+VBRERCSPioKIiORRURARkTwqCiIikkdFQURE8qgoiIhIHhUFERHJY+4edYZiM7PNwNfFfHsTYEspxiltylcyyldyyZ5R+YrvKHdvmt+Ecl0USsLM0t09LeocBVG+klG+kkv2jMqXGDp8JCIieVQUREQkTyoXhaeiDnAYylcyyldyyZ5R+RIgZc8piIjI/0rlPQURETmEioKIiORJyaJgZmea2XIzW2VmdyZBnmfMbJOZLYoZ18jM3jezleFzwwjztTaz6Wa2xMwWm9nNyZTRzGqY2Swz+yLMd184vp2ZzQy384tmVi2KfDE5K5vZPDN7M9nymdkaM1toZvPNLD0clxTbN8zSwMxeNrNlZrbUzAYkSz4z6xJ+bwcfO83slmTJV1QpVxTMrDLwd+AsoCtwmZl1jTYV44AzDxl3JzDN3TsB08LhqGQDt7l7V6A/cEP4nSVLxv3Aqe7eE+gFnGlm/YEHgUfdvSOwDRgeUb6DbgaWxgwnW75T3L1XzLX1ybJ9AR4Dprr70UBPgu8xKfK5+/Lwe+sFHAfsBV5NlnxF5u4p9QAGAO/GDN8F3JUEudoCi2KGlwPNw9fNgeVRZ4zJ9hrww2TMCNQC5gL9CFqTVslvu0eQqxXBD8OpwJuAJVm+NUCTQ8YlxfYF6gNfEV4Yk2z5Dsl0BvB5suaL55FyewpAS+CbmOF14bhk08zdM8LXG4BmUYY5yMzaAr2BmSRRxvDQzHxgE/A+8CWw3d2zw1mi3s5/BX4J5IbDjUmufA68Z2ZzzGxkOC5Ztm87YDMwNjz8NtrMaidRvliXAi+Er5Mx32GlYlEodzz4UyPya4fNrA7wCnCLu++MnRZ1RnfP8WD3vRXQFzg6qiyHMrOfAJvcfU7UWQpxorv3ITiseoOZnRQ7MeLtWwXoA/zT3XsDezjkUEzU//4AwnNCPwVeOnRaMuSLVyoWhfVA65jhVuG4ZLPRzJoDhM+bogxjZlUJCsJEd58Sjk6qjADuvh2YTnA4poGZVQknRbmdBwI/NbM1wCSCQ0iPkTz5cPf14fMmguPhfUme7bsOWOfuM8PhlwmKRLLkO+gsYK67bwyHky1fXFKxKMwGOoVXflQj2N17PeJM+XkdGBK+HkJwHD8SZmbAGGCpu/8lZlJSZDSzpmbWIHxdk+B8x1KC4nBR1Pnc/S53b+XubQn+vX3o7pcnSz4zq21mdQ++Jjguvogk2b7uvgH4xsy6hKNOA5aQJPliXMb3h44g+fLFJ+qTGlE8gB8DKwiOO/86CfK8AGQAWQR/FQ0nOOY8DVgJfAA0ijDfiQS7vguA+eHjx8mSEegBzAvzLQJ+G45vD8wCVhHs0ldPgm09CHgzmfKFOb4IH4sP/p9Ilu0bZukFpIfb+F9AwyTLVxv4DqgfMy5p8hXloW4uREQkTyoePhIRkQKoKIiISB4VBRERyaOiICIieVQUREQkj4pCijAzN7NHYoZvN7N7S2nZ48zsosPPWeL1XBz2kDk90euKmpn9qhjv+evBlshm9lHYE/CCsGfRxw+25Qin/7sU4xYl4+jS7IDSzLqb2bjSWp6oKKSS/cAFZtYk6iCxYlr0xmM4MMLdT0lUniRSpKJgZo2B/u7+Sczoy929B0E7jv3ENJ5y9xNKJWURufs17r6kFJe3EGhlZm1Ka5mpTkUhdWQT3DP21kMnHPqXvpntDp8HmdnHZvaama02swfM7HIL7l2w0Mw6xCzmdDNLN7MVYV8/Bzupe9jMZod/sV4bs9xPzex1gpaph+a5LFz+IjN7MBz3W4JGdGPM7OF83nNH+J4vzOyBcFwvM5sRrvvVg/3Zh39FPxrmXWpmx5vZlLDf+9+H87QN/8KeGM7zspnVCqedFnbMttCCe2FUD8evMbP7zGxuOO3ocHztcL5Z4fvODccPDdc7NVz3Q+H4B4CaFvTNPzF8/1vhZ1tkZoPz2b4XAlPz2/DufoCgM742ZtazONvYglbjr4TbcraZDQzH3xt+to/C998U85n/J3M4X1pB2/lgNjP7Q/jeGWbWLBx/cTjvF2YWW/zeIGgpLqUh6tZzepTNA9gN1CPoIrk+cDtwbzhtHHBR7Lzh8yBgO0G3v9UJ+ua5L5x2M/DXmPdPJfgjoxNBq+wawEjg7nCe6gQtUtuFy90DtMsnZwtgLdCUoCO0D4HzwmkfAWn5vOcs4N9ArXC4Ufi8ADg5fH1/TN6PgAdjPse3MZ9xHUFL1LYErbgHhvM9E35nNQh62e0cjp9A0EEg4Xd7Y/j6emB0+PqPwBXh6wYErelrA0OB1eH2qAF8DbSO3Qbh6wuBp2OG6+fzHYwHzokZ/p/viqAl8OBibuPnCTrNA2hD0OUJwL3hd18daELQqrdqQZkP5jrMdvaDnwV4iO//DS0EWh78HmOWPRB4I+r/YxXloT2FFOJBz6YTgJuK8LbZ7p7h7vsJugV5Lxy/kOCH86DJ7p7r7isJfuiOJuhD5yoLurSeSfBj2ymcf5a7f5XP+o4HPnL3zR50Kz0ROCmf+WKdDox1973h59xqZvUJfjg+DucZf8hyDvZ3tRBYHPMZV/N9h4nfuPvn4evnCPZUugBfufuKApZ7sLPAOXz//ZwB3Bl+Dx8RFICDhzumufsOd99HsNd0VD6fbyHwQzN70Mx+4O478pmnOUH30oWxAsbHs41PBx4PP8PrQD0Les0FeMvd97v7FoJO35rFkbmw7XyA4J4T8N/f4+fAODMbAVSOWdYmgiIjpaAox3OlYvgrwU1oxsaMyyY8lGhmlYDY20Luj3mdGzOcy3//+zm0vxQn+BG60d3fjZ1gZoMI9hSiFPs5Dv2MBz9Xfp8p3uXmxCzHgAvdfXnsjGbW75B1x77n+5W6rzCzPgT9Tf3ezKa5+/2HzJZJUGzyZcEdB7vz33d+OzQzFLyNKxGcs9h3yHIPfX8OwY2D4slckCwPdwGI+U7c/brwOzsbmGNmx7n7dwSfOzPOZcthaE8hxbj7VmAy/33rxzUEtxGEoD/4qsVY9MVmVik8Bt2e4K5T7wKjLOh2GzPrbEEvnIWZBZxsZk3CH7LLgI8P8573gWExx/wbhX+ZbjOzH4TzXBnHcg7VxswGhK9/BnwWfq62ZtaxCMt9F7jRwl9QM+sdx7qzYr63FsBed38OeJig2+hDLQU65jP+YLfnfyLY81kQx7rz8x5wY8wyexU2cxyZi7ydzayDu890998S7BUd3KPrTNARopQC7SmkpkeAn8cMPw28ZmZfEJwbKM5f8WsJ/qPXA65z931mNppg139u+IO4GTivsIW4e4aZ3UnQrbQRHJootMthd58a/kilm9kB4G2Cq3eGAE+ExWI1MKyIn2k5wQ1nniE4tPPP8HMNA16y4Mqp2cATh1nO7wj20BaEe2JfAT85zHueCuefS3DI72EzyyXoSXdUPvO/BVwLjI4ZN9HM9hMc7/8AOPcw6yzMTcDfzWwBwe/GJ8B1hczfvbDMxdnO4fI6hfNPI+jVFeAUgs8vpUC9pIrkw4Lbjr7p7sdGnSVeZvYZ8BMPbjSUEiy48utjgpPg2YebXw5Ph49EKo7b+P4EdqpoA9ypglB6tKcgIiJ5tKcgIiJ5VBRERCSPioKIiORRURARkTwqCiIikuf/A3TF2KGNuOsjAAAAAElFTkSuQmCC\n",
>>>>>>> Stashed changes
      "text/plain": [
       "<Figure size 432x288 with 1 Axes>"
      ]
     },
     "metadata": {
      "needs_background": "light"
     },
     "output_type": "display_data"
    }
   ],
   "source": [
    "plt.plot(np.cumsum(pca.explained_variance_ratio_ * 100))\n",
    "plt.xlabel(\"Number of components (Dimensions)\")\n",
    "plt.ylabel(\"Explained variance (%)\")"
   ]
  },
  {
   "cell_type": "markdown",
   "metadata": {
    "id": "oshgIvAy9p1z"
   },
   "source": [
    "The first component alone captures about 8% variability in the data and the second one captures about 3,5% variability in the data and so on. We have to fet above 50 components to achieve 80% variability in the data."
   ]
  },
  {
   "cell_type": "markdown",
   "metadata": {
    "id": "9ep9ushuBuxz"
   },
   "source": [
    "Apply Random forest with all features:\n"
   ]
  },
  {
   "cell_type": "code",
<<<<<<< Updated upstream
   "execution_count": 11,
=======
   "execution_count": 12,
>>>>>>> Stashed changes
   "metadata": {
    "colab": {
     "base_uri": "https://localhost:8080/"
    },
    "id": "kghaVnDunvbc",
<<<<<<< Updated upstream
    "outputId": "22525104-588d-4507-8676-1c8516c0a7eb"
=======
    "outputId": "cb2d6096-df3e-4316-84ab-e44ac3427415"
>>>>>>> Stashed changes
   },
   "outputs": [
    {
     "name": "stdout",
     "output_type": "stream",
     "text": [
      "[[  0 143]\n",
      " [  0 513]]\n",
      "0.7820121951219512\n"
     ]
    }
   ],
   "source": [
    "from sklearn.ensemble import RandomForestClassifier\n",
    "\n",
    "classifier = RandomForestClassifier(max_depth=2, random_state=0)\n",
    "classifier.fit(X_train1, y_train)\n",
    "\n",
    "# Predicting the Test set results\n",
    "y_pred1 = classifier.predict(X_test1)\n",
    "\n",
    "from sklearn.metrics import confusion_matrix\n",
    "from sklearn.metrics import accuracy_score\n",
    "\n",
    "cm = confusion_matrix(y_test, y_pred1)\n",
    "print(cm)\n",
    "print(accuracy_score(y_test, y_pred1))"
   ]
  },
  {
   "cell_type": "markdown",
   "metadata": {
    "id": "1BY8kPYz5lHJ"
   },
   "source": [
    "PCA - 50 **components**:"
   ]
  },
  {
   "cell_type": "code",
<<<<<<< Updated upstream
   "execution_count": 12,
=======
   "execution_count": 13,
>>>>>>> Stashed changes
   "metadata": {
    "id": "DtouGFdCjPjR"
   },
   "outputs": [],
   "source": [
    "pca1 = PCA(n_components=50)\n",
    "X_train2 = pca1.fit_transform(X_train)\n",
    "X_test2 = pca1.transform(X_test)\n"
   ]
  },
  {
   "cell_type": "code",
<<<<<<< Updated upstream
   "execution_count": 13,
=======
   "execution_count": 14,
>>>>>>> Stashed changes
   "metadata": {
    "colab": {
     "base_uri": "https://localhost:8080/"
    },
    "id": "GMX9Zk9Bh9aW",
<<<<<<< Updated upstream
    "outputId": "8e18ef37-ce15-4d25-c36f-79bdb075db58",
=======
    "outputId": "3c3a6f56-35ce-4051-e005-1a38469edfe8",
>>>>>>> Stashed changes
    "tags": []
   },
   "outputs": [
    {
     "name": "stdout",
     "output_type": "stream",
     "text": [
      "[0.08261864 0.03427174 0.0250381  0.02435381 0.02237246 0.02058336\n",
      " 0.02022783 0.01976446 0.0189365  0.01852473 0.01841175 0.01818651\n",
      " 0.01804718 0.01773541 0.01762781 0.01750454 0.01741142 0.01728406\n",
      " 0.01719794 0.01715643 0.0171024  0.0170908  0.01708054 0.01708031\n",
      " 0.01707936 0.0170793  0.01707929 0.01707929 0.01707338 0.01695669\n",
      " 0.0167249  0.01667923 0.0162146  0.01537652 0.01503028 0.01491744\n",
      " 0.01473915 0.01443085 0.01433093 0.01423412 0.01389332 0.01380434\n",
      " 0.01355561 0.01336781 0.01310455 0.01269312 0.0125815  0.01230214\n",
      " 0.01208167 0.01166889]\n"
     ]
    }
   ],
   "source": [
    "explained_variance2 = pca1.explained_variance_ratio_\n",
    "print(explained_variance2)"
   ]
  },
  {
   "cell_type": "code",
<<<<<<< Updated upstream
   "execution_count": 14,
=======
   "execution_count": 15,
>>>>>>> Stashed changes
   "metadata": {
    "colab": {
     "base_uri": "https://localhost:8080/"
    },
    "id": "5z5ZC9LoRkPW",
<<<<<<< Updated upstream
    "outputId": "95e7f414-efe2-4e2d-ec5d-a9a3e0c8aa15"
=======
    "outputId": "c3704df1-2c83-4dfa-fb10-2825f533d172"
>>>>>>> Stashed changes
   },
   "outputs": [
    {
     "name": "stdout",
     "output_type": "stream",
     "text": [
      "[[  0 143]\n",
      " [  0 513]]\n",
      "0.7820121951219512\n"
     ]
    }
   ],
   "source": [
    "from sklearn.ensemble import RandomForestClassifier\n",
    "\n",
    "classifier = RandomForestClassifier(max_depth=2, random_state=0)\n",
    "classifier.fit(X_train2, y_train)\n",
    "\n",
    "# Predicting the Test set results\n",
    "y_pred2 = classifier.predict(X_test2)\n",
    "\n",
    "from sklearn.metrics import confusion_matrix\n",
    "from sklearn.metrics import accuracy_score\n",
    "\n",
    "cm = confusion_matrix(y_test, y_pred2)\n",
    "print(cm)\n",
    "print(accuracy_score(y_test, y_pred2))"
   ]
  },
  {
   "cell_type": "markdown",
   "metadata": {
    "id": "bKKU-01W5aPL"
   },
   "source": [
    "PCA - 10 component:"
   ]
  },
  {
   "cell_type": "code",
<<<<<<< Updated upstream
   "execution_count": 15,
=======
   "execution_count": 16,
>>>>>>> Stashed changes
   "metadata": {
    "colab": {
     "base_uri": "https://localhost:8080/"
    },
    "id": "V5zBE9W3ju3X",
<<<<<<< Updated upstream
    "outputId": "693dbff0-85cc-4ca1-c232-c132add5f7c4"
=======
    "outputId": "7ac8dd23-181b-445c-cd9c-c0bcf1725b8d"
>>>>>>> Stashed changes
   },
   "outputs": [
    {
     "name": "stdout",
     "output_type": "stream",
     "text": [
      "[[  0 143]\n",
      " [  0 513]]\n",
      "0.7820121951219512\n"
     ]
    }
   ],
   "source": [
    "pca2 = PCA(n_components=10)\n",
    "X_train3 = pca2.fit_transform(X_train)\n",
    "X_test3 = pca2.transform(X_test)\n",
    "\n",
    "classifier = RandomForestClassifier(max_depth=2, random_state=0)\n",
    "classifier.fit(X_train3, y_train)\n",
    "\n",
    "# Predicting the Test set results\n",
    "y_pred3 = classifier.predict(X_test3)\n",
    "\n",
    "\n",
    "cm = confusion_matrix(y_test, y_pred3)\n",
    "print(cm)\n",
    "print(accuracy_score(y_test, y_pred3))"
   ]
  },
  {
   "cell_type": "code",
<<<<<<< Updated upstream
   "execution_count": 16,
=======
   "execution_count": 17,
>>>>>>> Stashed changes
   "metadata": {
    "colab": {
     "base_uri": "https://localhost:8080/",
     "height": 424
    },
    "id": "xPupSdTlEyYD",
<<<<<<< Updated upstream
    "outputId": "0f053a99-9843-469f-dda2-1af6569e8c85"
=======
    "outputId": "a04da20a-60bf-4e68-c3ef-d00069b9b703"
>>>>>>> Stashed changes
   },
   "outputs": [
    {
     "data": {
      "text/html": [
       "<div>\n",
       "<style scoped>\n",
       "    .dataframe tbody tr th:only-of-type {\n",
       "        vertical-align: middle;\n",
       "    }\n",
       "\n",
       "    .dataframe tbody tr th {\n",
       "        vertical-align: top;\n",
       "    }\n",
       "\n",
       "    .dataframe thead th {\n",
       "        text-align: right;\n",
       "    }\n",
       "</style>\n",
       "<table border=\"1\" class=\"dataframe\">\n",
       "  <thead>\n",
       "    <tr style=\"text-align: right;\">\n",
       "      <th></th>\n",
       "      <th>0</th>\n",
       "      <th>1</th>\n",
       "      <th>2</th>\n",
       "      <th>3</th>\n",
       "      <th>4</th>\n",
       "      <th>5</th>\n",
       "      <th>6</th>\n",
       "      <th>7</th>\n",
       "      <th>8</th>\n",
       "      <th>9</th>\n",
       "    </tr>\n",
       "  </thead>\n",
       "  <tbody>\n",
       "    <tr>\n",
       "      <th>0</th>\n",
<<<<<<< Updated upstream
       "      <td>-1.585511</td>\n",
       "      <td>0.078097</td>\n",
       "      <td>-0.170172</td>\n",
       "      <td>-0.880154</td>\n",
       "      <td>-0.026918</td>\n",
       "      <td>-0.713417</td>\n",
       "      <td>0.930630</td>\n",
       "      <td>-0.050124</td>\n",
       "      <td>0.218827</td>\n",
       "      <td>0.176147</td>\n",
       "    </tr>\n",
       "    <tr>\n",
       "      <th>1</th>\n",
       "      <td>-2.101978</td>\n",
       "      <td>0.161660</td>\n",
       "      <td>0.085662</td>\n",
       "      <td>-1.214273</td>\n",
       "      <td>0.477404</td>\n",
       "      <td>-0.777683</td>\n",
       "      <td>0.802930</td>\n",
       "      <td>-0.235625</td>\n",
       "      <td>0.296684</td>\n",
       "      <td>-0.058316</td>\n",
       "    </tr>\n",
       "    <tr>\n",
       "      <th>2</th>\n",
       "      <td>-0.934017</td>\n",
       "      <td>-0.142729</td>\n",
       "      <td>-0.381695</td>\n",
       "      <td>-0.728519</td>\n",
       "      <td>-0.384309</td>\n",
       "      <td>-0.974595</td>\n",
       "      <td>0.726966</td>\n",
       "      <td>-0.170262</td>\n",
       "      <td>0.184895</td>\n",
       "      <td>-0.182865</td>\n",
       "    </tr>\n",
       "    <tr>\n",
       "      <th>3</th>\n",
       "      <td>2.129266</td>\n",
       "      <td>-1.248712</td>\n",
       "      <td>0.729079</td>\n",
       "      <td>0.063603</td>\n",
       "      <td>-2.034496</td>\n",
       "      <td>-0.740141</td>\n",
       "      <td>-1.987940</td>\n",
       "      <td>0.683781</td>\n",
       "      <td>0.169073</td>\n",
       "      <td>-3.260698</td>\n",
       "    </tr>\n",
       "    <tr>\n",
       "      <th>4</th>\n",
       "      <td>3.753720</td>\n",
       "      <td>-1.062702</td>\n",
       "      <td>-1.109433</td>\n",
       "      <td>-0.095756</td>\n",
       "      <td>-0.236141</td>\n",
       "      <td>-0.908387</td>\n",
       "      <td>0.830394</td>\n",
       "      <td>-0.181006</td>\n",
       "      <td>0.321829</td>\n",
       "      <td>0.074648</td>\n",
=======
       "      <td>-1.586438</td>\n",
       "      <td>0.085959</td>\n",
       "      <td>-0.458590</td>\n",
       "      <td>-0.858518</td>\n",
       "      <td>-0.020707</td>\n",
       "      <td>-0.637985</td>\n",
       "      <td>0.793632</td>\n",
       "      <td>0.357894</td>\n",
       "      <td>0.042265</td>\n",
       "      <td>-0.202104</td>\n",
       "    </tr>\n",
       "    <tr>\n",
       "      <th>1</th>\n",
       "      <td>-2.103138</td>\n",
       "      <td>0.184913</td>\n",
       "      <td>-0.317946</td>\n",
       "      <td>-1.232605</td>\n",
       "      <td>0.325536</td>\n",
       "      <td>-0.708045</td>\n",
       "      <td>0.707387</td>\n",
       "      <td>0.019560</td>\n",
       "      <td>0.045232</td>\n",
       "      <td>-0.397979</td>\n",
       "    </tr>\n",
       "    <tr>\n",
       "      <th>2</th>\n",
       "      <td>-0.935532</td>\n",
       "      <td>-0.142857</td>\n",
       "      <td>-0.659230</td>\n",
       "      <td>-0.630296</td>\n",
       "      <td>-0.336877</td>\n",
       "      <td>-0.927958</td>\n",
       "      <td>0.528468</td>\n",
       "      <td>-0.113181</td>\n",
       "      <td>0.103771</td>\n",
       "      <td>-0.339722</td>\n",
       "    </tr>\n",
       "    <tr>\n",
       "      <th>3</th>\n",
       "      <td>2.125045</td>\n",
       "      <td>-1.213439</td>\n",
       "      <td>0.628327</td>\n",
       "      <td>0.114186</td>\n",
       "      <td>-2.033684</td>\n",
       "      <td>-1.201977</td>\n",
       "      <td>-1.573677</td>\n",
       "      <td>-3.585399</td>\n",
       "      <td>1.380955</td>\n",
       "      <td>0.280185</td>\n",
       "    </tr>\n",
       "    <tr>\n",
       "      <th>4</th>\n",
       "      <td>3.752706</td>\n",
       "      <td>-1.086266</td>\n",
       "      <td>-1.082308</td>\n",
       "      <td>0.075566</td>\n",
       "      <td>-0.097130</td>\n",
       "      <td>-0.665113</td>\n",
       "      <td>0.753117</td>\n",
       "      <td>0.427626</td>\n",
       "      <td>0.217337</td>\n",
       "      <td>-0.428506</td>\n",
>>>>>>> Stashed changes
       "    </tr>\n",
       "    <tr>\n",
       "      <th>...</th>\n",
       "      <td>...</td>\n",
       "      <td>...</td>\n",
       "      <td>...</td>\n",
       "      <td>...</td>\n",
       "      <td>...</td>\n",
       "      <td>...</td>\n",
       "      <td>...</td>\n",
       "      <td>...</td>\n",
       "      <td>...</td>\n",
       "      <td>...</td>\n",
       "    </tr>\n",
       "    <tr>\n",
       "      <th>2616</th>\n",
<<<<<<< Updated upstream
       "      <td>4.870750</td>\n",
       "      <td>0.639538</td>\n",
       "      <td>2.089101</td>\n",
       "      <td>0.102857</td>\n",
       "      <td>2.600607</td>\n",
       "      <td>-0.548304</td>\n",
       "      <td>0.369396</td>\n",
       "      <td>-0.408570</td>\n",
       "      <td>0.003852</td>\n",
       "      <td>0.455450</td>\n",
       "    </tr>\n",
       "    <tr>\n",
       "      <th>2617</th>\n",
       "      <td>-1.708827</td>\n",
       "      <td>0.133957</td>\n",
       "      <td>-0.423984</td>\n",
       "      <td>-1.172373</td>\n",
       "      <td>0.016233</td>\n",
       "      <td>1.025810</td>\n",
       "      <td>0.506058</td>\n",
       "      <td>-0.074991</td>\n",
       "      <td>-0.022358</td>\n",
       "      <td>0.563183</td>\n",
       "    </tr>\n",
       "    <tr>\n",
       "      <th>2618</th>\n",
       "      <td>-2.348214</td>\n",
       "      <td>0.143070</td>\n",
       "      <td>-1.079531</td>\n",
       "      <td>1.181415</td>\n",
       "      <td>1.149116</td>\n",
       "      <td>-1.013156</td>\n",
       "      <td>0.611390</td>\n",
       "      <td>-0.285827</td>\n",
       "      <td>0.122208</td>\n",
       "      <td>-0.329410</td>\n",
       "    </tr>\n",
       "    <tr>\n",
       "      <th>2619</th>\n",
       "      <td>6.185775</td>\n",
       "      <td>0.358648</td>\n",
       "      <td>1.338921</td>\n",
       "      <td>1.076608</td>\n",
       "      <td>0.744949</td>\n",
       "      <td>0.209743</td>\n",
       "      <td>-0.914314</td>\n",
       "      <td>-0.331030</td>\n",
       "      <td>-1.777106</td>\n",
       "      <td>0.519065</td>\n",
       "    </tr>\n",
       "    <tr>\n",
       "      <th>2620</th>\n",
       "      <td>-1.588903</td>\n",
       "      <td>0.016166</td>\n",
       "      <td>-2.111463</td>\n",
       "      <td>2.384806</td>\n",
       "      <td>0.458637</td>\n",
       "      <td>-0.050976</td>\n",
       "      <td>-1.129862</td>\n",
       "      <td>0.542605</td>\n",
       "      <td>1.360260</td>\n",
       "      <td>0.109752</td>\n",
=======
       "      <td>4.870412</td>\n",
       "      <td>0.704643</td>\n",
       "      <td>2.157061</td>\n",
       "      <td>-0.700250</td>\n",
       "      <td>2.133643</td>\n",
       "      <td>-0.476452</td>\n",
       "      <td>0.259980</td>\n",
       "      <td>0.065925</td>\n",
       "      <td>-0.282187</td>\n",
       "      <td>-0.241961</td>\n",
       "    </tr>\n",
       "    <tr>\n",
       "      <th>2617</th>\n",
       "      <td>-1.708913</td>\n",
       "      <td>0.170698</td>\n",
       "      <td>-0.670951</td>\n",
       "      <td>-0.671316</td>\n",
       "      <td>-0.629029</td>\n",
       "      <td>0.999908</td>\n",
       "      <td>0.519890</td>\n",
       "      <td>0.322157</td>\n",
       "      <td>-0.472013</td>\n",
       "      <td>0.244892</td>\n",
       "    </tr>\n",
       "    <tr>\n",
       "      <th>2618</th>\n",
       "      <td>-2.349314</td>\n",
       "      <td>0.159948</td>\n",
       "      <td>-0.556955</td>\n",
       "      <td>1.348315</td>\n",
       "      <td>0.974340</td>\n",
       "      <td>-1.044929</td>\n",
       "      <td>0.415641</td>\n",
       "      <td>-0.460156</td>\n",
       "      <td>0.274458</td>\n",
       "      <td>-0.441967</td>\n",
       "    </tr>\n",
       "    <tr>\n",
       "      <th>2619</th>\n",
       "      <td>6.185907</td>\n",
       "      <td>0.389651</td>\n",
       "      <td>1.306675</td>\n",
       "      <td>0.439107</td>\n",
       "      <td>0.993866</td>\n",
       "      <td>0.414368</td>\n",
       "      <td>-1.316517</td>\n",
       "      <td>0.363594</td>\n",
       "      <td>-0.540546</td>\n",
       "      <td>0.270523</td>\n",
       "    </tr>\n",
       "    <tr>\n",
       "      <th>2620</th>\n",
       "      <td>-1.588644</td>\n",
       "      <td>-0.020039</td>\n",
       "      <td>-1.015946</td>\n",
       "      <td>2.845605</td>\n",
       "      <td>0.828509</td>\n",
       "      <td>-0.109467</td>\n",
       "      <td>-0.957160</td>\n",
       "      <td>-0.134104</td>\n",
       "      <td>0.992547</td>\n",
       "      <td>-0.718125</td>\n",
>>>>>>> Stashed changes
       "    </tr>\n",
       "  </tbody>\n",
       "</table>\n",
       "<p>2621 rows × 10 columns</p>\n",
       "</div>"
      ],
      "text/plain": [
       "             0         1         2         3         4         5         6  \\\n",
<<<<<<< Updated upstream
       "0    -1.585511  0.078097 -0.170172 -0.880154 -0.026918 -0.713417  0.930630   \n",
       "1    -2.101978  0.161660  0.085662 -1.214273  0.477404 -0.777683  0.802930   \n",
       "2    -0.934017 -0.142729 -0.381695 -0.728519 -0.384309 -0.974595  0.726966   \n",
       "3     2.129266 -1.248712  0.729079  0.063603 -2.034496 -0.740141 -1.987940   \n",
       "4     3.753720 -1.062702 -1.109433 -0.095756 -0.236141 -0.908387  0.830394   \n",
       "...        ...       ...       ...       ...       ...       ...       ...   \n",
       "2616  4.870750  0.639538  2.089101  0.102857  2.600607 -0.548304  0.369396   \n",
       "2617 -1.708827  0.133957 -0.423984 -1.172373  0.016233  1.025810  0.506058   \n",
       "2618 -2.348214  0.143070 -1.079531  1.181415  1.149116 -1.013156  0.611390   \n",
       "2619  6.185775  0.358648  1.338921  1.076608  0.744949  0.209743 -0.914314   \n",
       "2620 -1.588903  0.016166 -2.111463  2.384806  0.458637 -0.050976 -1.129862   \n",
       "\n",
       "             7         8         9  \n",
       "0    -0.050124  0.218827  0.176147  \n",
       "1    -0.235625  0.296684 -0.058316  \n",
       "2    -0.170262  0.184895 -0.182865  \n",
       "3     0.683781  0.169073 -3.260698  \n",
       "4    -0.181006  0.321829  0.074648  \n",
       "...        ...       ...       ...  \n",
       "2616 -0.408570  0.003852  0.455450  \n",
       "2617 -0.074991 -0.022358  0.563183  \n",
       "2618 -0.285827  0.122208 -0.329410  \n",
       "2619 -0.331030 -1.777106  0.519065  \n",
       "2620  0.542605  1.360260  0.109752  \n",
=======
       "0    -1.586438  0.085959 -0.458590 -0.858518 -0.020707 -0.637985  0.793632   \n",
       "1    -2.103138  0.184913 -0.317946 -1.232605  0.325536 -0.708045  0.707387   \n",
       "2    -0.935532 -0.142857 -0.659230 -0.630296 -0.336877 -0.927958  0.528468   \n",
       "3     2.125045 -1.213439  0.628327  0.114186 -2.033684 -1.201977 -1.573677   \n",
       "4     3.752706 -1.086266 -1.082308  0.075566 -0.097130 -0.665113  0.753117   \n",
       "...        ...       ...       ...       ...       ...       ...       ...   \n",
       "2616  4.870412  0.704643  2.157061 -0.700250  2.133643 -0.476452  0.259980   \n",
       "2617 -1.708913  0.170698 -0.670951 -0.671316 -0.629029  0.999908  0.519890   \n",
       "2618 -2.349314  0.159948 -0.556955  1.348315  0.974340 -1.044929  0.415641   \n",
       "2619  6.185907  0.389651  1.306675  0.439107  0.993866  0.414368 -1.316517   \n",
       "2620 -1.588644 -0.020039 -1.015946  2.845605  0.828509 -0.109467 -0.957160   \n",
       "\n",
       "             7         8         9  \n",
       "0     0.357894  0.042265 -0.202104  \n",
       "1     0.019560  0.045232 -0.397979  \n",
       "2    -0.113181  0.103771 -0.339722  \n",
       "3    -3.585399  1.380955  0.280185  \n",
       "4     0.427626  0.217337 -0.428506  \n",
       "...        ...       ...       ...  \n",
       "2616  0.065925 -0.282187 -0.241961  \n",
       "2617  0.322157 -0.472013  0.244892  \n",
       "2618 -0.460156  0.274458 -0.441967  \n",
       "2619  0.363594 -0.540546  0.270523  \n",
       "2620 -0.134104  0.992547 -0.718125  \n",
>>>>>>> Stashed changes
       "\n",
       "[2621 rows x 10 columns]"
      ]
     },
<<<<<<< Updated upstream
     "execution_count": 16,
=======
     "execution_count": 17,
>>>>>>> Stashed changes
     "metadata": {},
     "output_type": "execute_result"
    }
   ],
   "source": [
    "X_train3 = pd.DataFrame(X_train3)\n",
    "X_train3"
   ]
  },
  {
   "cell_type": "code",
<<<<<<< Updated upstream
   "execution_count": 17,
=======
   "execution_count": 18,
>>>>>>> Stashed changes
   "metadata": {
    "colab": {
     "base_uri": "https://localhost:8080/",
     "height": 504
    },
    "id": "O59ai7EUExd0",
<<<<<<< Updated upstream
    "outputId": "54a40afc-9426-4c1f-b758-f77413d61e68"
=======
    "outputId": "0fb803c9-7279-49ee-9df3-953e5c1ecb8e"
>>>>>>> Stashed changes
   },
   "outputs": [
    {
     "data": {
      "text/plain": [
       "<AxesSubplot:>"
      ]
     },
<<<<<<< Updated upstream
     "execution_count": 17,
=======
     "execution_count": 18,
>>>>>>> Stashed changes
     "metadata": {},
     "output_type": "execute_result"
    },
    {
     "data": {
<<<<<<< Updated upstream
      "image/png": "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\n",
=======
      "image/png": "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\n",
>>>>>>> Stashed changes
      "text/plain": [
       "<Figure size 720x576 with 2 Axes>"
      ]
     },
     "metadata": {
      "needs_background": "light"
     },
     "output_type": "display_data"
    }
   ],
   "source": [
    "fig = plt.figure(figsize=(10, 8))\n",
    "sns.heatmap(X_train3.corr(), \n",
    "            annot=True)\n"
   ]
  },
  {
   "cell_type": "markdown",
   "metadata": {
    "id": "CTwIA6sMFACB"
   },
   "source": [
    "We can see there is no correlation betweern features"
   ]
  },
  {
   "cell_type": "markdown",
   "metadata": {
    "id": "8kQLTg8_lL4b"
   },
   "source": [
    "*Logistic Regression*"
   ]
  },
  {
   "cell_type": "code",
<<<<<<< Updated upstream
   "execution_count": 18,
=======
   "execution_count": 19,
>>>>>>> Stashed changes
   "metadata": {
    "id": "Ttxa6mhijCQi"
   },
   "outputs": [],
   "source": [
    "\n",
    "\n",
    "from sklearn.linear_model import LogisticRegression\n",
    "clf = LogisticRegression(max_iter=2500)\n",
    "\n"
   ]
  },
  {
   "cell_type": "code",
<<<<<<< Updated upstream
   "execution_count": 19,
=======
   "execution_count": 20,
>>>>>>> Stashed changes
   "metadata": {
    "colab": {
     "base_uri": "https://localhost:8080/"
    },
    "id": "vGFQDMqsjFOh",
<<<<<<< Updated upstream
    "outputId": "2b7f4380-03b6-4e5f-861a-bc9ebcb0fde1"
=======
    "outputId": "60b48645-64d2-430b-e5b2-9eec80a3f08d"
>>>>>>> Stashed changes
   },
   "outputs": [
    {
     "data": {
      "text/plain": [
       "LogisticRegression(max_iter=2500)"
      ]
     },
<<<<<<< Updated upstream
     "execution_count": 19,
=======
     "execution_count": 20,
>>>>>>> Stashed changes
     "metadata": {},
     "output_type": "execute_result"
    }
   ],
   "source": [
    "# Train the model\n",
    "clf.fit(X_train1, y_train)\n"
   ]
  },
  {
   "cell_type": "code",
<<<<<<< Updated upstream
   "execution_count": 20,
=======
   "execution_count": 21,
>>>>>>> Stashed changes
   "metadata": {
    "id": "H5xrLsqjjI6u"
   },
   "outputs": [],
   "source": [
    "\n",
    "# Make predictions\n",
    "y_pred = clf.predict(X_test1) # Predictions\n",
    "y_true = y_test # True values\n",
    "\n"
   ]
  },
  {
   "cell_type": "code",
<<<<<<< Updated upstream
   "execution_count": 21,
=======
   "execution_count": 22,
>>>>>>> Stashed changes
   "metadata": {
    "colab": {
     "base_uri": "https://localhost:8080/"
    },
    "id": "UIr4BCG1jMDt",
<<<<<<< Updated upstream
    "outputId": "d9ea775d-f351-4de9-ee29-2074df2e15d1"
=======
    "outputId": "f3816be1-cba1-4eb9-e582-d68da34706a2"
>>>>>>> Stashed changes
   },
   "outputs": [
    {
     "name": "stdout",
     "output_type": "stream",
     "text": [
      "Train accuracy: 0.79\n",
      "Test accuracy: 0.78\n"
     ]
    }
   ],
   "source": [
    "# Measure accuracy\n",
    "from sklearn.metrics import accuracy_score\n",
    "import numpy as np\n",
    "print(\"Train accuracy:\", np.round(accuracy_score(y_train, \n",
    "                                                 clf.predict(X_train1)), 2))\n",
    "print(\"Test accuracy:\", np.round(accuracy_score(y_true, y_pred1), 2))"
   ]
  },
  {
   "cell_type": "code",
<<<<<<< Updated upstream
   "execution_count": 22,
=======
   "execution_count": 23,
>>>>>>> Stashed changes
   "metadata": {
    "colab": {
     "base_uri": "https://localhost:8080/",
     "height": 661
    },
    "id": "qO-nafHH52Hw",
<<<<<<< Updated upstream
    "outputId": "09a80e3a-ce84-4017-a7b4-7f33557acdb9"
=======
    "outputId": "69c2eb28-dd03-48ed-daf8-c4e8490b1f4d"
>>>>>>> Stashed changes
   },
   "outputs": [
    {
     "name": "stdout",
     "output_type": "stream",
     "text": [
      "\n",
      "Test confusion_matrix\n"
     ]
    },
    {
     "data": {
      "text/plain": [
       "Text(114.0, 0.5, 'True')"
      ]
     },
<<<<<<< Updated upstream
     "execution_count": 22,
=======
     "execution_count": 23,
>>>>>>> Stashed changes
     "metadata": {},
     "output_type": "execute_result"
    },
    {
     "data": {
<<<<<<< Updated upstream
      "image/png": "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\n",
=======
      "image/png": "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\n",
>>>>>>> Stashed changes
      "text/plain": [
       "<Figure size 1080x720 with 2 Axes>"
      ]
     },
     "metadata": {
      "needs_background": "light"
     },
     "output_type": "display_data"
    }
   ],
   "source": [
    "import seaborn as sns\n",
    "from sklearn.metrics import confusion_matrix\n",
    "import matplotlib.pyplot as plt\n",
    "\n",
    "fig = plt.figure(figsize=(15, 10))\n",
    "\n",
    "cf_matrix = confusion_matrix(y_true, y_pred1)\n",
    "print(\"\\nTest confusion_matrix\")\n",
    "sns.heatmap(cf_matrix, annot=True, cmap='Blues')\n",
    "plt.xlabel('Predicted', fontsize=12)\n",
    "plt.ylabel('True', fontsize=12)"
   ]
  },
  {
   "cell_type": "markdown",
<<<<<<< Updated upstream
   "metadata": {
    "id": "XA08g4MUrEFh"
   },
=======
   "metadata": {},
>>>>>>> Stashed changes
   "source": [
    "# Exportamos ambos dataset transformados"
   ]
  },
  {
   "cell_type": "code",
<<<<<<< Updated upstream
   "execution_count": 25,
   "metadata": {
    "colab": {
     "base_uri": "https://localhost:8080/"
    },
    "id": "RhVKCjZsrEFh",
    "outputId": "176d5604-cd8a-481c-98bf-87a464e96b87"
   },
   "outputs": [
    {
     "name": "stdout",
     "output_type": "stream",
     "text": [
      "             0         1         2         3         4         5         6  \\\n",
      "0    -0.509450  1.220460 -0.354683 -0.038418  0.660003  0.511900  0.056675   \n",
      "1    -0.432268 -0.358001  0.152677 -0.002420 -0.080478 -0.166446 -0.038767   \n",
      "2    -0.365026  0.950222  0.569697 -0.008316 -0.044559 -0.161087  0.000001   \n",
      "3    -0.392184 -0.073518 -0.750293  0.014011 -0.159378 -0.069127  0.049004   \n",
      "4    -0.324899 -0.377523  0.317614 -0.003957  0.042805 -0.588561  0.588137   \n",
      "...        ...       ...       ...       ...       ...       ...       ...   \n",
      "3272 -0.390515 -0.072539 -0.747311  0.012820 -0.157762 -0.057194  0.057973   \n",
      "3273 -0.345133  1.227016 -0.348470  0.023891 -0.103810 -0.035865  0.113739   \n",
      "3274  1.328355  0.386113  0.599803 -0.742811  0.026828 -0.176856 -0.744385   \n",
      "3275  1.389498 -0.601560  0.216961  0.466453  0.377572 -0.014422  0.136340   \n",
      "3276 -0.530052  1.221962 -0.359914 -0.042694  0.667628  0.508531  0.059570   \n",
      "\n",
      "             7         8         9  ...        41        42        43  \\\n",
      "0    -0.030811 -0.199418  0.179850  ...  0.000102 -0.000409  0.000208   \n",
      "1    -0.140172  0.066604 -0.152738  ... -0.000120  0.000085 -0.000116   \n",
      "2    -0.348229 -0.202632  0.034829  ...  0.000549 -0.000726 -0.000483   \n",
      "3    -0.126112  0.151466 -0.112964  ...  0.000208  0.000113  0.000468   \n",
      "4     0.378610  0.094262  0.157773  ...  0.000011  0.000152 -0.000139   \n",
      "...        ...       ...       ...  ...       ...       ...       ...   \n",
      "3272 -0.116710  0.134799 -0.100970  ...  0.000118  0.000275  0.000123   \n",
      "3273 -0.347403 -0.087223  0.062094  ...  0.000142  0.000174  0.000251   \n",
      "3274  0.338980  0.640912  0.304023  ... -0.000184  0.000089 -0.000345   \n",
      "3275 -0.587631 -0.156866  0.005671  ...  0.000273  0.000313  0.000508   \n",
      "3276 -0.078474 -0.154003  0.142519  ...  0.000150 -0.000320  0.000386   \n",
      "\n",
      "            44        45        46        47        48        49  \\\n",
      "0    -0.000040  0.000285 -0.000683  0.001833  0.000585  0.001202   \n",
      "1    -0.000038 -0.000315 -0.001363  0.000856  0.000102  0.000631   \n",
      "2    -0.000332 -0.000325 -0.000548 -0.002763 -0.000119 -0.001593   \n",
      "3     0.000233  0.000441  0.000901 -0.000698 -0.000291  0.000438   \n",
      "4     0.000309 -0.000362 -0.000177 -0.001517 -0.001303  0.000314   \n",
      "...        ...       ...       ...       ...       ...       ...   \n",
      "3272 -0.000069  0.000038  0.000933 -0.000101  0.000149  0.000736   \n",
      "3273  0.000143  0.000210  0.000625 -0.000207 -0.000190  0.000162   \n",
      "3274 -0.000154  0.000117  0.001168  0.000931 -0.001996 -0.004944   \n",
      "3275 -0.000694 -0.000105  0.000465 -0.000039  0.001119 -0.000527   \n",
      "3276  0.000377  0.000558  0.000614  0.000936  0.000518  0.000349   \n",
      "\n",
      "      good_bad_flag  \n",
      "0               1.0  \n",
      "1               0.0  \n",
      "2               1.0  \n",
      "3               1.0  \n",
      "4               1.0  \n",
      "...             ...  \n",
      "3272            0.0  \n",
      "3273            1.0  \n",
      "3274            1.0  \n",
      "3275            1.0  \n",
      "3276            1.0  \n",
      "\n",
      "[3277 rows x 51 columns]\n",
      "           0         1         2         3         4         5         6   \\\n",
      "0   -0.454886 -0.347786  0.145985 -0.022802 -0.076814 -0.144291 -0.008826   \n",
      "1    0.306024  0.488954  0.747776  0.157639 -0.787055  0.454498 -0.274442   \n",
      "2    1.527457  0.354671  0.632504 -0.065288  0.407496 -0.377400  0.585693   \n",
      "3   -0.335506  1.228476 -0.344767  0.024734 -0.104508 -0.029434  0.118404   \n",
      "4   -0.591282 -0.385621  0.214651 -0.118348  0.709901  0.285381 -0.262578   \n",
      "..        ...       ...       ...       ...       ...       ...       ...   \n",
      "380 -0.401804 -0.074021 -0.752344  0.012699 -0.156461 -0.068928  0.050310   \n",
      "381 -0.421691 -0.350048  0.167145 -0.019883 -0.095435 -0.188847 -0.058651   \n",
      "382 -0.432744 -0.366880  0.177935 -0.001663 -0.096210 -0.209456 -0.072398   \n",
      "383 -0.313114 -0.397339  0.269705 -0.057844 -0.053760 -0.316756 -0.599990   \n",
      "384  0.156129 -0.518653  0.411519  1.274452 -0.235235  0.567817  0.244438   \n",
      "\n",
      "           7         8         9   ...        40        41        42  \\\n",
      "0   -0.172138  0.094712 -0.169514  ...  0.000037  0.000080  0.000439   \n",
      "1    1.030890  0.301254 -0.144613  ... -0.000025 -0.000331 -0.000062   \n",
      "2    0.392853  0.615350 -0.295954  ...  0.000005  0.000505 -0.000437   \n",
      "3   -0.333807 -0.096590  0.069104  ... -0.000033  0.000106  0.000275   \n",
      "4    0.153048 -0.220543 -0.382042  ...  0.000097  0.000006 -0.000549   \n",
      "..        ...       ...       ...  ...       ...       ...       ...   \n",
      "380 -0.137438  0.155966 -0.116944  ... -0.000042  0.000207  0.000098   \n",
      "381 -0.136447  0.036663 -0.141786  ...  0.000207  0.000583 -0.000726   \n",
      "382 -0.149622  0.041857 -0.184675  ... -0.000023  0.000130 -0.000013   \n",
      "383 -0.111096  0.329796  0.543165  ... -0.000055 -0.000404  0.000174   \n",
      "384 -0.397516  0.183693 -0.053766  ... -0.000032  0.000136  0.000081   \n",
      "\n",
      "           43        44        45        46        47        48        49  \n",
      "0   -0.000082 -0.000094  0.000041  0.000724 -0.000195  0.000947  0.000958  \n",
      "1   -0.001719  0.001085  0.001198  0.000409  0.000499 -0.001111 -0.000660  \n",
      "2   -0.000801  0.000258  0.001601 -0.001133 -0.002568 -0.000043 -0.005078  \n",
      "3    0.000075 -0.000056  0.000363 -0.000167 -0.000131  0.000091  0.000307  \n",
      "4    0.000242  0.000235  0.001073  0.000562  0.000751  0.000348  0.000049  \n",
      "..        ...       ...       ...       ...       ...       ...       ...  \n",
      "380  0.000500  0.000266  0.000251  0.001419 -0.000565 -0.000332  0.000429  \n",
      "381 -0.000344 -0.000345 -0.000304  0.000014 -0.002904 -0.000078 -0.001213  \n",
      "382  0.000184 -0.000058  0.000062 -0.000171 -0.000165 -0.000004  0.000515  \n",
      "383  0.000026 -0.000787 -0.000192 -0.000282 -0.000482  0.000003 -0.000549  \n",
      "384 -0.000269 -0.000369  0.000269  0.001026 -0.000113  0.002101  0.003353  \n",
      "\n",
      "[385 rows x 50 columns]\n"
     ]
    },
    {
     "ename": "FileNotFoundError",
     "evalue": "[Errno 2] No such file or directory: 'data/pca_train.csv'",
     "output_type": "error",
     "traceback": [
      "\u001b[0;31m---------------------------------------------------------------------------\u001b[0m",
      "\u001b[0;31mFileNotFoundError\u001b[0m                         Traceback (most recent call last)",
      "\u001b[0;32m<ipython-input-25-6fea9764737d>\u001b[0m in \u001b[0;36m<module>\u001b[0;34m\u001b[0m\n\u001b[1;32m     20\u001b[0m \u001b[0mprint\u001b[0m\u001b[0;34m(\u001b[0m\u001b[0mtest\u001b[0m\u001b[0;34m)\u001b[0m\u001b[0;34m\u001b[0m\u001b[0;34m\u001b[0m\u001b[0m\n\u001b[1;32m     21\u001b[0m \u001b[0;34m\u001b[0m\u001b[0m\n\u001b[0;32m---> 22\u001b[0;31m \u001b[0mtrain\u001b[0m\u001b[0;34m.\u001b[0m\u001b[0mto_csv\u001b[0m\u001b[0;34m(\u001b[0m\u001b[0;34m\"data/pca_train.csv\"\u001b[0m\u001b[0;34m,\u001b[0m\u001b[0msep\u001b[0m\u001b[0;34m=\u001b[0m\u001b[0;34m';'\u001b[0m\u001b[0;34m,\u001b[0m \u001b[0mencoding\u001b[0m \u001b[0;34m=\u001b[0m \u001b[0;34m'utf8'\u001b[0m\u001b[0;34m,\u001b[0m\u001b[0mindex\u001b[0m\u001b[0;34m=\u001b[0m \u001b[0;32mFalse\u001b[0m\u001b[0;34m)\u001b[0m\u001b[0;34m\u001b[0m\u001b[0;34m\u001b[0m\u001b[0m\n\u001b[0m\u001b[1;32m     23\u001b[0m \u001b[0mtest\u001b[0m\u001b[0;34m.\u001b[0m\u001b[0mto_csv\u001b[0m\u001b[0;34m(\u001b[0m\u001b[0;34m\"work/pca_test.csv\"\u001b[0m\u001b[0;34m,\u001b[0m\u001b[0msep\u001b[0m\u001b[0;34m=\u001b[0m\u001b[0;34m';'\u001b[0m\u001b[0;34m,\u001b[0m \u001b[0mencoding\u001b[0m \u001b[0;34m=\u001b[0m \u001b[0;34m'utf8'\u001b[0m\u001b[0;34m,\u001b[0m\u001b[0mindex\u001b[0m\u001b[0;34m=\u001b[0m \u001b[0;32mFalse\u001b[0m\u001b[0;34m)\u001b[0m\u001b[0;34m\u001b[0m\u001b[0;34m\u001b[0m\u001b[0m\n",
      "\u001b[0;32m/opt/conda/lib/python3.9/site-packages/pandas/core/generic.py\u001b[0m in \u001b[0;36mto_csv\u001b[0;34m(self, path_or_buf, sep, na_rep, float_format, columns, header, index, index_label, mode, encoding, compression, quoting, quotechar, line_terminator, chunksize, date_format, doublequote, escapechar, decimal, errors, storage_options)\u001b[0m\n\u001b[1;32m   3385\u001b[0m         )\n\u001b[1;32m   3386\u001b[0m \u001b[0;34m\u001b[0m\u001b[0m\n\u001b[0;32m-> 3387\u001b[0;31m         return DataFrameRenderer(formatter).to_csv(\n\u001b[0m\u001b[1;32m   3388\u001b[0m             \u001b[0mpath_or_buf\u001b[0m\u001b[0;34m,\u001b[0m\u001b[0;34m\u001b[0m\u001b[0;34m\u001b[0m\u001b[0m\n\u001b[1;32m   3389\u001b[0m             \u001b[0mline_terminator\u001b[0m\u001b[0;34m=\u001b[0m\u001b[0mline_terminator\u001b[0m\u001b[0;34m,\u001b[0m\u001b[0;34m\u001b[0m\u001b[0;34m\u001b[0m\u001b[0m\n",
      "\u001b[0;32m/opt/conda/lib/python3.9/site-packages/pandas/io/formats/format.py\u001b[0m in \u001b[0;36mto_csv\u001b[0;34m(self, path_or_buf, encoding, sep, columns, index_label, mode, compression, quoting, quotechar, line_terminator, chunksize, date_format, doublequote, escapechar, errors, storage_options)\u001b[0m\n\u001b[1;32m   1081\u001b[0m             \u001b[0mformatter\u001b[0m\u001b[0;34m=\u001b[0m\u001b[0mself\u001b[0m\u001b[0;34m.\u001b[0m\u001b[0mfmt\u001b[0m\u001b[0;34m,\u001b[0m\u001b[0;34m\u001b[0m\u001b[0;34m\u001b[0m\u001b[0m\n\u001b[1;32m   1082\u001b[0m         )\n\u001b[0;32m-> 1083\u001b[0;31m         \u001b[0mcsv_formatter\u001b[0m\u001b[0;34m.\u001b[0m\u001b[0msave\u001b[0m\u001b[0;34m(\u001b[0m\u001b[0;34m)\u001b[0m\u001b[0;34m\u001b[0m\u001b[0;34m\u001b[0m\u001b[0m\n\u001b[0m\u001b[1;32m   1084\u001b[0m \u001b[0;34m\u001b[0m\u001b[0m\n\u001b[1;32m   1085\u001b[0m         \u001b[0;32mif\u001b[0m \u001b[0mcreated_buffer\u001b[0m\u001b[0;34m:\u001b[0m\u001b[0;34m\u001b[0m\u001b[0;34m\u001b[0m\u001b[0m\n",
      "\u001b[0;32m/opt/conda/lib/python3.9/site-packages/pandas/io/formats/csvs.py\u001b[0m in \u001b[0;36msave\u001b[0;34m(self)\u001b[0m\n\u001b[1;32m    226\u001b[0m         \"\"\"\n\u001b[1;32m    227\u001b[0m         \u001b[0;31m# apply compression and byte/text conversion\u001b[0m\u001b[0;34m\u001b[0m\u001b[0;34m\u001b[0m\u001b[0;34m\u001b[0m\u001b[0m\n\u001b[0;32m--> 228\u001b[0;31m         with get_handle(\n\u001b[0m\u001b[1;32m    229\u001b[0m             \u001b[0mself\u001b[0m\u001b[0;34m.\u001b[0m\u001b[0mfilepath_or_buffer\u001b[0m\u001b[0;34m,\u001b[0m\u001b[0;34m\u001b[0m\u001b[0;34m\u001b[0m\u001b[0m\n\u001b[1;32m    230\u001b[0m             \u001b[0mself\u001b[0m\u001b[0;34m.\u001b[0m\u001b[0mmode\u001b[0m\u001b[0;34m,\u001b[0m\u001b[0;34m\u001b[0m\u001b[0;34m\u001b[0m\u001b[0m\n",
      "\u001b[0;32m/opt/conda/lib/python3.9/site-packages/pandas/io/common.py\u001b[0m in \u001b[0;36mget_handle\u001b[0;34m(path_or_buf, mode, encoding, compression, memory_map, is_text, errors, storage_options)\u001b[0m\n\u001b[1;32m    640\u001b[0m                 \u001b[0merrors\u001b[0m \u001b[0;34m=\u001b[0m \u001b[0;34m\"replace\"\u001b[0m\u001b[0;34m\u001b[0m\u001b[0;34m\u001b[0m\u001b[0m\n\u001b[1;32m    641\u001b[0m             \u001b[0;31m# Encoding\u001b[0m\u001b[0;34m\u001b[0m\u001b[0;34m\u001b[0m\u001b[0;34m\u001b[0m\u001b[0m\n\u001b[0;32m--> 642\u001b[0;31m             handle = open(\n\u001b[0m\u001b[1;32m    643\u001b[0m                 \u001b[0mhandle\u001b[0m\u001b[0;34m,\u001b[0m\u001b[0;34m\u001b[0m\u001b[0;34m\u001b[0m\u001b[0m\n\u001b[1;32m    644\u001b[0m                 \u001b[0mioargs\u001b[0m\u001b[0;34m.\u001b[0m\u001b[0mmode\u001b[0m\u001b[0;34m,\u001b[0m\u001b[0;34m\u001b[0m\u001b[0;34m\u001b[0m\u001b[0m\n",
      "\u001b[0;31mFileNotFoundError\u001b[0m: [Errno 2] No such file or directory: 'data/pca_train.csv'"
     ]
    }
   ],
   "source": [
    "from sklearn.preprocessing import MinMaxScaler\n",
    "\n",
=======
   "execution_count": null,
   "metadata": {},
   "outputs": [],
   "source": [
>>>>>>> Stashed changes
    "train = pd.read_csv(r\"https://raw.githubusercontent.com/medinaltbx/G6_DP3/master/data/input/merged_data/train/merged_train.csv\", sep=';')\n",
    "test = pd.read_csv(r\"https://raw.githubusercontent.com/medinaltbx/G6_DP3/master/data/input/merged_data/test/merged_test.csv\", sep=';')\n",
    "\n",
    "train, target_train = train.drop(columns=['good_bad_flag'] + ['customerid']), train[\"good_bad_flag\"]\n",
    "test = test.drop(columns=['customerid'],axis=1)\n",
    "\n",
<<<<<<< Updated upstream
    "sc = MinMaxScaler()\n",
=======
    "sc = StandardScaler()\n",
>>>>>>> Stashed changes
    "train = sc.fit_transform(train)\n",
    "test = sc.transform(test)\n",
    "\n",
    "pca10 = PCA(n_components=50)\n",
    "train = pd.DataFrame(pca10.fit_transform(train))\n",
<<<<<<< Updated upstream
    "test = pd.DataFrame(pca10.transform(test))\n",
    "\n",
    "train[\"good_bad_flag\"] = target_train\n",
=======
    "train[\"good_bad_flag\"] = target_train\n",
    "test = pd.DataFrame(pca10.transform(test))\n",
>>>>>>> Stashed changes
    "\n",
    "print(train)\n",
    "print(test)\n",
    "\n",
    "train.to_csv(\"pca_train.csv\",sep=';', encoding = 'utf8',index= False)\n",
    "test.to_csv(\"pca_test.csv\",sep=';', encoding = 'utf8',index= False)"
   ]
  }
 ],
 "metadata": {
  "colab": {
   "collapsed_sections": [],
   "name": "pca.ipynb",
   "provenance": []
  },
  "kernelspec": {
   "display_name": "Python 3",
   "language": "python",
   "name": "python3"
  },
  "language_info": {
   "codemirror_mode": {
    "name": "ipython",
    "version": 3
   },
   "file_extension": ".py",
   "mimetype": "text/x-python",
   "name": "python",
   "nbconvert_exporter": "python",
   "pygments_lexer": "ipython3",
<<<<<<< Updated upstream
   "version": "3.9.2"
  }
 },
 "nbformat": 4,
 "nbformat_minor": 1
=======
   "version": "3.8.8"
  }
 },
 "nbformat": 4,
 "nbformat_minor": 4
>>>>>>> Stashed changes
}
