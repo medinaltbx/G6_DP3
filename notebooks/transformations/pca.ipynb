{
 "cells": [
  {
   "cell_type": "code",
   "execution_count": 25,
   "metadata": {
    "id": "Ic0W_2e6lxE2"
   },
   "outputs": [],
   "source": [
    "import pandas as pd                    \n",
    "import numpy as np  \n",
    "from sklearn.model_selection import train_test_split\n",
    "import seaborn as sns\n",
    "from sklearn.metrics import confusion_matrix\n",
    "import matplotlib.pyplot as plt\n",
    "from sklearn.metrics import accuracy_score\n",
    "import numpy as np\n",
    "from sklearn.decomposition import PCA"
   ]
  },
  {
   "cell_type": "code",
   "execution_count": 26,
   "metadata": {
    "colab": {
     "base_uri": "https://localhost:8080/",
     "height": 317
    },
    "id": "MTMoT_5Gmf3_",
    "outputId": "de66a074-b808-4bd9-b7c4-534d0760f52b"
   },
   "outputs": [
    {
     "output_type": "execute_result",
     "data": {
      "text/plain": [
       "                         customerid  edad  loannumber  loanamount  totaldue  \\\n",
       "0  8a858e135cb22031015cbafc76964ebd    48           2     10000.0   13000.0   \n",
       "1  8a858e275c7ea5ec015c82482d7c3996    36           2     10000.0   13000.0   \n",
       "2  8a858e5b5bd99460015bdc95cd485634    35           4     10000.0   13000.0   \n",
       "3  8a858efd5ca70688015cabd1f1e94b55    30           2     10000.0   11500.0   \n",
       "4  8a858ea05a859123015a8892914d15b7    31           6     20000.0   24500.0   \n",
       "\n",
       "   termdays  referredby  good_bad_flag  times_loaned  times_late  ...  \\\n",
       "0        30           1            1.0           1.0         0.0  ...   \n",
       "1        30           0            0.0           1.0         1.0  ...   \n",
       "2        30           0            1.0           3.0         2.0  ...   \n",
       "3        15           0            1.0           1.0         1.0  ...   \n",
       "4        30           0            1.0           5.0         2.0  ...   \n",
       "\n",
       "   employment_status_clients_Retired  employment_status_clients_Self-Employed  \\\n",
       "0                                  0                                        0   \n",
       "1                                  0                                        0   \n",
       "2                                  0                                        0   \n",
       "3                                  0                                        0   \n",
       "4                                  0                                        0   \n",
       "\n",
       "   employment_status_clients_Student  employment_status_clients_UNKNOWN  \\\n",
       "0                                  0                                  1   \n",
       "1                                  0                                  0   \n",
       "2                                  0                                  1   \n",
       "3                                  0                                  0   \n",
       "4                                  0                                  0   \n",
       "\n",
       "   employment_status_clients_Unemployed  level_of_education_clients_Graduate  \\\n",
       "0                                     0                                    0   \n",
       "1                                     0                                    0   \n",
       "2                                     0                                    0   \n",
       "3                                     0                                    0   \n",
       "4                                     0                                    0   \n",
       "\n",
       "   level_of_education_clients_Post-Graduate  \\\n",
       "0                                         0   \n",
       "1                                         0   \n",
       "2                                         0   \n",
       "3                                         0   \n",
       "4                                         0   \n",
       "\n",
       "   level_of_education_clients_Primary  level_of_education_clients_Secondary  \\\n",
       "0                                   0                                     0   \n",
       "1                                   0                                     0   \n",
       "2                                   0                                     0   \n",
       "3                                   0                                     0   \n",
       "4                                   0                                     0   \n",
       "\n",
       "   level_of_education_clients_UNKNOWN  \n",
       "0                                   1  \n",
       "1                                   1  \n",
       "2                                   1  \n",
       "3                                   1  \n",
       "4                                   1  \n",
       "\n",
       "[5 rows x 79 columns]"
      ],
      "text/html": [
       "\n",
       "  <div id=\"df-5d9f4b68-43ae-41e9-b5eb-5d1fc166c89e\">\n",
       "    <div class=\"colab-df-container\">\n",
       "      <div>\n",
       "<style scoped>\n",
       "    .dataframe tbody tr th:only-of-type {\n",
       "        vertical-align: middle;\n",
       "    }\n",
       "\n",
       "    .dataframe tbody tr th {\n",
       "        vertical-align: top;\n",
       "    }\n",
       "\n",
       "    .dataframe thead th {\n",
       "        text-align: right;\n",
       "    }\n",
       "</style>\n",
       "<table border=\"1\" class=\"dataframe\">\n",
       "  <thead>\n",
       "    <tr style=\"text-align: right;\">\n",
       "      <th></th>\n",
       "      <th>customerid</th>\n",
       "      <th>edad</th>\n",
       "      <th>loannumber</th>\n",
       "      <th>loanamount</th>\n",
       "      <th>totaldue</th>\n",
       "      <th>termdays</th>\n",
       "      <th>referredby</th>\n",
       "      <th>good_bad_flag</th>\n",
       "      <th>times_loaned</th>\n",
       "      <th>times_late</th>\n",
       "      <th>...</th>\n",
       "      <th>employment_status_clients_Retired</th>\n",
       "      <th>employment_status_clients_Self-Employed</th>\n",
       "      <th>employment_status_clients_Student</th>\n",
       "      <th>employment_status_clients_UNKNOWN</th>\n",
       "      <th>employment_status_clients_Unemployed</th>\n",
       "      <th>level_of_education_clients_Graduate</th>\n",
       "      <th>level_of_education_clients_Post-Graduate</th>\n",
       "      <th>level_of_education_clients_Primary</th>\n",
       "      <th>level_of_education_clients_Secondary</th>\n",
       "      <th>level_of_education_clients_UNKNOWN</th>\n",
       "    </tr>\n",
       "  </thead>\n",
       "  <tbody>\n",
       "    <tr>\n",
       "      <th>0</th>\n",
       "      <td>8a858e135cb22031015cbafc76964ebd</td>\n",
       "      <td>48</td>\n",
       "      <td>2</td>\n",
       "      <td>10000.0</td>\n",
       "      <td>13000.0</td>\n",
       "      <td>30</td>\n",
       "      <td>1</td>\n",
       "      <td>1.0</td>\n",
       "      <td>1.0</td>\n",
       "      <td>0.0</td>\n",
       "      <td>...</td>\n",
       "      <td>0</td>\n",
       "      <td>0</td>\n",
       "      <td>0</td>\n",
       "      <td>1</td>\n",
       "      <td>0</td>\n",
       "      <td>0</td>\n",
       "      <td>0</td>\n",
       "      <td>0</td>\n",
       "      <td>0</td>\n",
       "      <td>1</td>\n",
       "    </tr>\n",
       "    <tr>\n",
       "      <th>1</th>\n",
       "      <td>8a858e275c7ea5ec015c82482d7c3996</td>\n",
       "      <td>36</td>\n",
       "      <td>2</td>\n",
       "      <td>10000.0</td>\n",
       "      <td>13000.0</td>\n",
       "      <td>30</td>\n",
       "      <td>0</td>\n",
       "      <td>0.0</td>\n",
       "      <td>1.0</td>\n",
       "      <td>1.0</td>\n",
       "      <td>...</td>\n",
       "      <td>0</td>\n",
       "      <td>0</td>\n",
       "      <td>0</td>\n",
       "      <td>0</td>\n",
       "      <td>0</td>\n",
       "      <td>0</td>\n",
       "      <td>0</td>\n",
       "      <td>0</td>\n",
       "      <td>0</td>\n",
       "      <td>1</td>\n",
       "    </tr>\n",
       "    <tr>\n",
       "      <th>2</th>\n",
       "      <td>8a858e5b5bd99460015bdc95cd485634</td>\n",
       "      <td>35</td>\n",
       "      <td>4</td>\n",
       "      <td>10000.0</td>\n",
       "      <td>13000.0</td>\n",
       "      <td>30</td>\n",
       "      <td>0</td>\n",
       "      <td>1.0</td>\n",
       "      <td>3.0</td>\n",
       "      <td>2.0</td>\n",
       "      <td>...</td>\n",
       "      <td>0</td>\n",
       "      <td>0</td>\n",
       "      <td>0</td>\n",
       "      <td>1</td>\n",
       "      <td>0</td>\n",
       "      <td>0</td>\n",
       "      <td>0</td>\n",
       "      <td>0</td>\n",
       "      <td>0</td>\n",
       "      <td>1</td>\n",
       "    </tr>\n",
       "    <tr>\n",
       "      <th>3</th>\n",
       "      <td>8a858efd5ca70688015cabd1f1e94b55</td>\n",
       "      <td>30</td>\n",
       "      <td>2</td>\n",
       "      <td>10000.0</td>\n",
       "      <td>11500.0</td>\n",
       "      <td>15</td>\n",
       "      <td>0</td>\n",
       "      <td>1.0</td>\n",
       "      <td>1.0</td>\n",
       "      <td>1.0</td>\n",
       "      <td>...</td>\n",
       "      <td>0</td>\n",
       "      <td>0</td>\n",
       "      <td>0</td>\n",
       "      <td>0</td>\n",
       "      <td>0</td>\n",
       "      <td>0</td>\n",
       "      <td>0</td>\n",
       "      <td>0</td>\n",
       "      <td>0</td>\n",
       "      <td>1</td>\n",
       "    </tr>\n",
       "    <tr>\n",
       "      <th>4</th>\n",
       "      <td>8a858ea05a859123015a8892914d15b7</td>\n",
       "      <td>31</td>\n",
       "      <td>6</td>\n",
       "      <td>20000.0</td>\n",
       "      <td>24500.0</td>\n",
       "      <td>30</td>\n",
       "      <td>0</td>\n",
       "      <td>1.0</td>\n",
       "      <td>5.0</td>\n",
       "      <td>2.0</td>\n",
       "      <td>...</td>\n",
       "      <td>0</td>\n",
       "      <td>0</td>\n",
       "      <td>0</td>\n",
       "      <td>0</td>\n",
       "      <td>0</td>\n",
       "      <td>0</td>\n",
       "      <td>0</td>\n",
       "      <td>0</td>\n",
       "      <td>0</td>\n",
       "      <td>1</td>\n",
       "    </tr>\n",
       "  </tbody>\n",
       "</table>\n",
       "<p>5 rows × 79 columns</p>\n",
       "</div>\n",
       "      <button class=\"colab-df-convert\" onclick=\"convertToInteractive('df-5d9f4b68-43ae-41e9-b5eb-5d1fc166c89e')\"\n",
       "              title=\"Convert this dataframe to an interactive table.\"\n",
       "              style=\"display:none;\">\n",
       "        \n",
       "  <svg xmlns=\"http://www.w3.org/2000/svg\" height=\"24px\"viewBox=\"0 0 24 24\"\n",
       "       width=\"24px\">\n",
       "    <path d=\"M0 0h24v24H0V0z\" fill=\"none\"/>\n",
       "    <path d=\"M18.56 5.44l.94 2.06.94-2.06 2.06-.94-2.06-.94-.94-2.06-.94 2.06-2.06.94zm-11 1L8.5 8.5l.94-2.06 2.06-.94-2.06-.94L8.5 2.5l-.94 2.06-2.06.94zm10 10l.94 2.06.94-2.06 2.06-.94-2.06-.94-.94-2.06-.94 2.06-2.06.94z\"/><path d=\"M17.41 7.96l-1.37-1.37c-.4-.4-.92-.59-1.43-.59-.52 0-1.04.2-1.43.59L10.3 9.45l-7.72 7.72c-.78.78-.78 2.05 0 2.83L4 21.41c.39.39.9.59 1.41.59.51 0 1.02-.2 1.41-.59l7.78-7.78 2.81-2.81c.8-.78.8-2.07 0-2.86zM5.41 20L4 18.59l7.72-7.72 1.47 1.35L5.41 20z\"/>\n",
       "  </svg>\n",
       "      </button>\n",
       "      \n",
       "  <style>\n",
       "    .colab-df-container {\n",
       "      display:flex;\n",
       "      flex-wrap:wrap;\n",
       "      gap: 12px;\n",
       "    }\n",
       "\n",
       "    .colab-df-convert {\n",
       "      background-color: #E8F0FE;\n",
       "      border: none;\n",
       "      border-radius: 50%;\n",
       "      cursor: pointer;\n",
       "      display: none;\n",
       "      fill: #1967D2;\n",
       "      height: 32px;\n",
       "      padding: 0 0 0 0;\n",
       "      width: 32px;\n",
       "    }\n",
       "\n",
       "    .colab-df-convert:hover {\n",
       "      background-color: #E2EBFA;\n",
       "      box-shadow: 0px 1px 2px rgba(60, 64, 67, 0.3), 0px 1px 3px 1px rgba(60, 64, 67, 0.15);\n",
       "      fill: #174EA6;\n",
       "    }\n",
       "\n",
       "    [theme=dark] .colab-df-convert {\n",
       "      background-color: #3B4455;\n",
       "      fill: #D2E3FC;\n",
       "    }\n",
       "\n",
       "    [theme=dark] .colab-df-convert:hover {\n",
       "      background-color: #434B5C;\n",
       "      box-shadow: 0px 1px 3px 1px rgba(0, 0, 0, 0.15);\n",
       "      filter: drop-shadow(0px 1px 2px rgba(0, 0, 0, 0.3));\n",
       "      fill: #FFFFFF;\n",
       "    }\n",
       "  </style>\n",
       "\n",
       "      <script>\n",
       "        const buttonEl =\n",
       "          document.querySelector('#df-5d9f4b68-43ae-41e9-b5eb-5d1fc166c89e button.colab-df-convert');\n",
       "        buttonEl.style.display =\n",
       "          google.colab.kernel.accessAllowed ? 'block' : 'none';\n",
       "\n",
       "        async function convertToInteractive(key) {\n",
       "          const element = document.querySelector('#df-5d9f4b68-43ae-41e9-b5eb-5d1fc166c89e');\n",
       "          const dataTable =\n",
       "            await google.colab.kernel.invokeFunction('convertToInteractive',\n",
       "                                                     [key], {});\n",
       "          if (!dataTable) return;\n",
       "\n",
       "          const docLinkHtml = 'Like what you see? Visit the ' +\n",
       "            '<a target=\"_blank\" href=https://colab.research.google.com/notebooks/data_table.ipynb>data table notebook</a>'\n",
       "            + ' to learn more about interactive tables.';\n",
       "          element.innerHTML = '';\n",
       "          dataTable['output_type'] = 'display_data';\n",
       "          await google.colab.output.renderOutput(dataTable, element);\n",
       "          const docLink = document.createElement('div');\n",
       "          docLink.innerHTML = docLinkHtml;\n",
       "          element.appendChild(docLink);\n",
       "        }\n",
       "      </script>\n",
       "    </div>\n",
       "  </div>\n",
       "  "
      ]
     },
     "metadata": {},
     "execution_count": 26
    }
   ],
   "source": [
    "dfpca = pd.read_csv(r\"https://raw.githubusercontent.com/medinaltbx/G6_DP3/master/data/input/merged_data/train/merged_train.csv\", sep=';' , decimal='.')\n",
    "dfpca.head()\n"
   ]
  },
  {
   "cell_type": "code",
   "execution_count": 27,
   "metadata": {
    "id": "x8zVVJGwmjDw"
   },
   "outputs": [],
   "source": [
    "X = dfpca.drop(columns=['good_bad_flag'] + ['customerid'])\n",
    "y = dfpca['good_bad_flag']\n",
    "\n"
   ]
  },
  {
   "cell_type": "code",
   "execution_count": 28,
   "metadata": {
    "id": "yk8bVac9O9g9"
   },
   "outputs": [],
   "source": [
    "from sklearn.preprocessing import StandardScaler\n",
    "sc = StandardScaler()\n",
    "\n",
    "X = sc.fit_transform(X)\n"
   ]
  },
  {
   "cell_type": "code",
   "execution_count": 29,
   "metadata": {
    "colab": {
     "base_uri": "https://localhost:8080/"
    },
    "id": "LLa4o9tUQDA2",
    "outputId": "ab4d48f4-91fd-4c1a-ae67-30708db91530"
   },
   "outputs": [
    {
     "output_type": "stream",
     "name": "stdout",
     "text": [
      "-1.148902568432962e-17\n",
      "0.9610389610389612\n"
     ]
    }
   ],
   "source": [
    "#here we want to check wether mean tends to 0 and variance =1\n",
    "\n",
    "print(np.mean(X))\n",
    "print(np.var(X))\n"
   ]
  },
  {
   "cell_type": "code",
   "execution_count": 30,
   "metadata": {
    "id": "w-t0nedImpyM"
   },
   "outputs": [],
   "source": [
    "X_train, X_test, y_train, y_test = train_test_split(X, y, test_size=0.2, random_state=0)\n"
   ]
  },
  {
   "cell_type": "code",
   "execution_count": 31,
   "metadata": {
    "colab": {
     "base_uri": "https://localhost:8080/"
    },
    "id": "0sVq68TRdHe4",
    "outputId": "fdaa4950-99e0-4156-fd10-2aca2de4b2b9"
   },
   "outputs": [
    {
     "output_type": "stream",
     "name": "stdout",
     "text": [
      "-0.00045200702135016907\n",
      "0.9510630498568969\n"
     ]
    }
   ],
   "source": [
    "print(np.mean(X_train))\n",
    "print(np.var(X_train))"
   ]
  },
  {
   "cell_type": "markdown",
   "metadata": {
    "id": "u3qKGYp3Bh3V"
   },
   "source": [
    "PCA WITH ALL FEATURES"
   ]
  },
  {
   "cell_type": "code",
   "execution_count": 32,
   "metadata": {
    "id": "yvu7VYZ8nPB5"
   },
   "outputs": [],
   "source": [
    "#PCA with all features\n",
    "\n",
    "\n",
    "pca = PCA()\n",
    "X_train1 = pca.fit_transform(X_train)\n",
    "X_test1 = pca.transform(X_test)"
   ]
  },
  {
   "cell_type": "code",
   "execution_count": 33,
   "metadata": {
    "colab": {
     "base_uri": "https://localhost:8080/"
    },
    "id": "Om1uIyXFnlcO",
    "outputId": "d5db4187-37a4-4046-af75-4c777c96ddc7"
   },
   "outputs": [
    {
     "output_type": "stream",
     "name": "stdout",
     "text": [
      "[8.26186412e-02 3.42717383e-02 2.50381016e-02 2.43538143e-02\n",
      " 2.23724570e-02 2.05833631e-02 2.02278259e-02 1.97644643e-02\n",
      " 1.89365046e-02 1.85247347e-02 1.84117506e-02 1.81865138e-02\n",
      " 1.80471785e-02 1.77354136e-02 1.76278123e-02 1.75045405e-02\n",
      " 1.74114241e-02 1.72840553e-02 1.71979427e-02 1.71564252e-02\n",
      " 1.71024024e-02 1.70907977e-02 1.70805386e-02 1.70803132e-02\n",
      " 1.70793554e-02 1.70792956e-02 1.70792865e-02 1.70792865e-02\n",
      " 1.70733780e-02 1.69566886e-02 1.67248969e-02 1.66792260e-02\n",
      " 1.62145986e-02 1.53765193e-02 1.50302817e-02 1.49174417e-02\n",
      " 1.47391544e-02 1.44308502e-02 1.43309282e-02 1.42341184e-02\n",
      " 1.38933163e-02 1.38043366e-02 1.35556144e-02 1.33678058e-02\n",
      " 1.31045492e-02 1.26931202e-02 1.25815004e-02 1.23021413e-02\n",
      " 1.20816674e-02 1.16688942e-02 1.14294044e-02 1.13601930e-02\n",
      " 1.06674862e-02 1.01624960e-02 1.00074767e-02 9.60474239e-03\n",
      " 9.27370923e-03 6.87531269e-03 2.69477654e-03 2.21324151e-03\n",
      " 2.30878964e-05 1.06824393e-06 1.73416682e-32 4.51725885e-33\n",
      " 3.12214981e-33 2.77929171e-33 1.04100014e-33 6.30728149e-34\n",
      " 6.30728149e-34 6.30728149e-34 6.30728149e-34 6.30728149e-34\n",
      " 6.30728149e-34 6.30728149e-34 6.30728149e-34 6.30728149e-34\n",
      " 6.27755437e-35]\n"
     ]
    }
   ],
   "source": [
    "#returns the variance caused by each of the principal components.\n",
    "explained_variance = pca.explained_variance_ratio_\n",
    "print(explained_variance)"
   ]
  },
  {
   "cell_type": "code",
   "execution_count": 34,
   "metadata": {
    "colab": {
     "base_uri": "https://localhost:8080/",
     "height": 296
    },
    "id": "44GPrHRq8yNK",
    "outputId": "e35b3303-af99-4ad8-e64d-936490152051"
   },
   "outputs": [
    {
     "output_type": "execute_result",
     "data": {
      "text/plain": [
       "Text(0, 0.5, 'Explained variance (%)')"
      ]
     },
     "metadata": {},
     "execution_count": 34
    },
    {
     "output_type": "display_data",
     "data": {
      "text/plain": [
       "<Figure size 432x288 with 1 Axes>"
      ],
      "image/png": "[encoded data removed]"
     },
     "metadata": {
      "needs_background": "light"
     }
    }
   ],
   "source": [
    "plt.plot(np.cumsum(pca.explained_variance_ratio_ * 100))\n",
    "plt.xlabel(\"Number of components (Dimensions)\")\n",
    "plt.ylabel(\"Explained variance (%)\")"
   ]
  },
  {
   "cell_type": "markdown",
   "metadata": {
    "id": "oshgIvAy9p1z"
   },
   "source": [
    "The first component alone captures about 8% variability in the data and the second one captures about 3,5% variability in the data and so on. We have to fet above 50 components to achieve 80% variability in the data."
   ]
  },
  {
   "cell_type": "markdown",
   "metadata": {
    "id": "9ep9ushuBuxz"
   },
   "source": [
    "Apply Random forest with all features:\n"
   ]
  },
  {
   "cell_type": "code",
   "execution_count": 35,
   "metadata": {
    "colab": {
     "base_uri": "https://localhost:8080/"
    },
    "id": "kghaVnDunvbc",
    "outputId": "22525104-588d-4507-8676-1c8516c0a7eb"
   },
   "outputs": [
    {
     "output_type": "stream",
     "name": "stdout",
     "text": [
      "[[  0 143]\n",
      " [  0 513]]\n",
      "0.7820121951219512\n"
     ]
    }
   ],
   "source": [
    "from sklearn.ensemble import RandomForestClassifier\n",
    "\n",
    "classifier = RandomForestClassifier(max_depth=2, random_state=0)\n",
    "classifier.fit(X_train1, y_train)\n",
    "\n",
    "# Predicting the Test set results\n",
    "y_pred1 = classifier.predict(X_test1)\n",
    "\n",
    "from sklearn.metrics import confusion_matrix\n",
    "from sklearn.metrics import accuracy_score\n",
    "\n",
    "cm = confusion_matrix(y_test, y_pred1)\n",
    "print(cm)\n",
    "print(accuracy_score(y_test, y_pred1))"
   ]
  },
  {
   "cell_type": "markdown",
   "metadata": {
    "id": "1BY8kPYz5lHJ"
   },
   "source": [
    "PCA - 50 **components**:"
   ]
  },
  {
   "cell_type": "code",
   "execution_count": 36,
   "metadata": {
    "id": "DtouGFdCjPjR"
   },
   "outputs": [],
   "source": [
    "pca1 = PCA(n_components=50)\n",
    "X_train2 = pca1.fit_transform(X_train)\n",
    "X_test2 = pca1.transform(X_test)\n"
   ]
  },
  {
   "cell_type": "code",
   "execution_count": 37,
   "metadata": {
    "colab": {
     "base_uri": "https://localhost:8080/"
    },
    "id": "GMX9Zk9Bh9aW",
    "outputId": "8e18ef37-ce15-4d25-c36f-79bdb075db58",
    "tags": []
   },
   "outputs": [
    {
     "output_type": "stream",
     "name": "stdout",
     "text": [
      "[0.08261864 0.03427174 0.0250381  0.02435381 0.02237246 0.02058336\n",
      " 0.02022783 0.01976446 0.0189365  0.01852473 0.01841175 0.01818651\n",
      " 0.01804718 0.01773541 0.01762781 0.01750454 0.01741142 0.01728406\n",
      " 0.01719794 0.01715643 0.0171024  0.0170908  0.01708054 0.01708031\n",
      " 0.01707936 0.0170793  0.01707929 0.01707929 0.01707338 0.01695669\n",
      " 0.0167249  0.01667923 0.0162146  0.01537652 0.01503028 0.01491744\n",
      " 0.01473915 0.01443085 0.01433093 0.01423412 0.01389332 0.01380434\n",
      " 0.01355561 0.01336781 0.01310455 0.01269312 0.0125815  0.01230214\n",
      " 0.01208167 0.01166889]\n"
     ]
    }
   ],
   "source": [
    "explained_variance2 = pca1.explained_variance_ratio_\n",
    "print(explained_variance2)"
   ]
  },
  {
   "cell_type": "code",
   "execution_count": 38,
   "metadata": {
    "colab": {
     "base_uri": "https://localhost:8080/"
    },
    "id": "5z5ZC9LoRkPW",
    "outputId": "95e7f414-efe2-4e2d-ec5d-a9a3e0c8aa15"
   },
   "outputs": [
    {
     "output_type": "stream",
     "name": "stdout",
     "text": [
      "[[  0 143]\n",
      " [  0 513]]\n",
      "0.7820121951219512\n"
     ]
    }
   ],
   "source": [
    "from sklearn.ensemble import RandomForestClassifier\n",
    "\n",
    "classifier = RandomForestClassifier(max_depth=2, random_state=0)\n",
    "classifier.fit(X_train2, y_train)\n",
    "\n",
    "# Predicting the Test set results\n",
    "y_pred2 = classifier.predict(X_test2)\n",
    "\n",
    "from sklearn.metrics import confusion_matrix\n",
    "from sklearn.metrics import accuracy_score\n",
    "\n",
    "cm = confusion_matrix(y_test, y_pred2)\n",
    "print(cm)\n",
    "print(accuracy_score(y_test, y_pred2))"
   ]
  },
  {
   "cell_type": "markdown",
   "metadata": {
    "id": "bKKU-01W5aPL"
   },
   "source": [
    "PCA - 10 component:"
   ]
  },
  {
   "cell_type": "code",
   "execution_count": 39,
   "metadata": {
    "colab": {
     "base_uri": "https://localhost:8080/"
    },
    "id": "V5zBE9W3ju3X",
    "outputId": "693dbff0-85cc-4ca1-c232-c132add5f7c4"
   },
   "outputs": [
    {
     "output_type": "stream",
     "name": "stdout",
     "text": [
      "[[  0 143]\n",
      " [  0 513]]\n",
      "0.7820121951219512\n"
     ]
    }
   ],
   "source": [
    "pca2 = PCA(n_components=10)\n",
    "X_train3 = pca2.fit_transform(X_train)\n",
    "X_test3 = pca2.transform(X_test)\n",
    "\n",
    "classifier = RandomForestClassifier(max_depth=2, random_state=0)\n",
    "classifier.fit(X_train3, y_train)\n",
    "\n",
    "# Predicting the Test set results\n",
    "y_pred3 = classifier.predict(X_test3)\n",
    "\n",
    "\n",
    "cm = confusion_matrix(y_test, y_pred3)\n",
    "print(cm)\n",
    "print(accuracy_score(y_test, y_pred3))"
   ]
  },
  {
   "cell_type": "code",
   "execution_count": 40,
   "metadata": {
    "colab": {
     "base_uri": "https://localhost:8080/",
     "height": 424
    },
    "id": "xPupSdTlEyYD",
    "outputId": "0f053a99-9843-469f-dda2-1af6569e8c85"
   },
   "outputs": [
    {
     "output_type": "execute_result",
     "data": {
      "text/plain": [
       "             0         1         2         3         4         5         6  \\\n",
       "0    -1.586834  0.073024 -0.417560 -0.988084 -0.608896 -0.486774 -0.890998   \n",
       "1    -2.102891  0.140457 -0.317474 -1.256667 -1.039410 -0.514842 -0.571719   \n",
       "2    -0.936078 -0.132968 -0.554698 -1.049710 -0.142350 -0.959524 -0.673798   \n",
       "3     2.128378 -1.237212  1.290569 -1.243497  2.232792 -1.837966  1.207297   \n",
       "4     3.751937 -1.034081 -0.999569 -0.203319 -0.354135 -0.834310 -1.041458   \n",
       "...        ...       ...       ...       ...       ...       ...       ...   \n",
       "2616  4.870867  0.571281  1.729537  0.394630 -2.800947 -0.041480  0.127958   \n",
       "2617 -1.707412  0.151452 -0.685923 -0.718512  0.222927  1.456685 -0.237197   \n",
       "2618 -2.349591  0.180057 -0.699261  1.297991 -1.020282 -0.966328 -0.419615   \n",
       "2619  6.185166  0.336018  1.164939  1.303071 -0.255450  0.183320  0.969786   \n",
       "2620 -1.589037  0.133811 -1.234106  2.520287  0.168946 -0.141442  1.106235   \n",
       "\n",
       "             7         8         9  \n",
       "0    -0.280076 -0.278723  0.135502  \n",
       "1    -0.338089 -0.179436  0.031407  \n",
       "2    -0.283091 -0.244594  0.107775  \n",
       "3     1.085342  1.314778 -0.562096  \n",
       "4    -0.106509 -0.318177 -0.032968  \n",
       "...        ...       ...       ...  \n",
       "2616 -0.530652 -0.057673 -0.113280  \n",
       "2617 -0.034129 -0.305384 -0.610385  \n",
       "2618 -0.361932  0.031960  0.040617  \n",
       "2619 -0.193206 -0.410868  0.119983  \n",
       "2620 -0.517273  0.682967  0.479554  \n",
       "\n",
       "[2621 rows x 10 columns]"
      ],
      "text/html": [
       "\n",
       "  <div id=\"df-1c05fc1e-ad2d-450e-9628-4c5af9dde84b\">\n",
       "    <div class=\"colab-df-container\">\n",
       "      <div>\n",
       "<style scoped>\n",
       "    .dataframe tbody tr th:only-of-type {\n",
       "        vertical-align: middle;\n",
       "    }\n",
       "\n",
       "    .dataframe tbody tr th {\n",
       "        vertical-align: top;\n",
       "    }\n",
       "\n",
       "    .dataframe thead th {\n",
       "        text-align: right;\n",
       "    }\n",
       "</style>\n",
       "<table border=\"1\" class=\"dataframe\">\n",
       "  <thead>\n",
       "    <tr style=\"text-align: right;\">\n",
       "      <th></th>\n",
       "      <th>0</th>\n",
       "      <th>1</th>\n",
       "      <th>2</th>\n",
       "      <th>3</th>\n",
       "      <th>4</th>\n",
       "      <th>5</th>\n",
       "      <th>6</th>\n",
       "      <th>7</th>\n",
       "      <th>8</th>\n",
       "      <th>9</th>\n",
       "    </tr>\n",
       "  </thead>\n",
       "  <tbody>\n",
       "    <tr>\n",
       "      <th>0</th>\n",
       "      <td>-1.586834</td>\n",
       "      <td>0.073024</td>\n",
       "      <td>-0.417560</td>\n",
       "      <td>-0.988084</td>\n",
       "      <td>-0.608896</td>\n",
       "      <td>-0.486774</td>\n",
       "      <td>-0.890998</td>\n",
       "      <td>-0.280076</td>\n",
       "      <td>-0.278723</td>\n",
       "      <td>0.135502</td>\n",
       "    </tr>\n",
       "    <tr>\n",
       "      <th>1</th>\n",
       "      <td>-2.102891</td>\n",
       "      <td>0.140457</td>\n",
       "      <td>-0.317474</td>\n",
       "      <td>-1.256667</td>\n",
       "      <td>-1.039410</td>\n",
       "      <td>-0.514842</td>\n",
       "      <td>-0.571719</td>\n",
       "      <td>-0.338089</td>\n",
       "      <td>-0.179436</td>\n",
       "      <td>0.031407</td>\n",
       "    </tr>\n",
       "    <tr>\n",
       "      <th>2</th>\n",
       "      <td>-0.936078</td>\n",
       "      <td>-0.132968</td>\n",
       "      <td>-0.554698</td>\n",
       "      <td>-1.049710</td>\n",
       "      <td>-0.142350</td>\n",
       "      <td>-0.959524</td>\n",
       "      <td>-0.673798</td>\n",
       "      <td>-0.283091</td>\n",
       "      <td>-0.244594</td>\n",
       "      <td>0.107775</td>\n",
       "    </tr>\n",
       "    <tr>\n",
       "      <th>3</th>\n",
       "      <td>2.128378</td>\n",
       "      <td>-1.237212</td>\n",
       "      <td>1.290569</td>\n",
       "      <td>-1.243497</td>\n",
       "      <td>2.232792</td>\n",
       "      <td>-1.837966</td>\n",
       "      <td>1.207297</td>\n",
       "      <td>1.085342</td>\n",
       "      <td>1.314778</td>\n",
       "      <td>-0.562096</td>\n",
       "    </tr>\n",
       "    <tr>\n",
       "      <th>4</th>\n",
       "      <td>3.751937</td>\n",
       "      <td>-1.034081</td>\n",
       "      <td>-0.999569</td>\n",
       "      <td>-0.203319</td>\n",
       "      <td>-0.354135</td>\n",
       "      <td>-0.834310</td>\n",
       "      <td>-1.041458</td>\n",
       "      <td>-0.106509</td>\n",
       "      <td>-0.318177</td>\n",
       "      <td>-0.032968</td>\n",
       "    </tr>\n",
       "    <tr>\n",
       "      <th>...</th>\n",
       "      <td>...</td>\n",
       "      <td>...</td>\n",
       "      <td>...</td>\n",
       "      <td>...</td>\n",
       "      <td>...</td>\n",
       "      <td>...</td>\n",
       "      <td>...</td>\n",
       "      <td>...</td>\n",
       "      <td>...</td>\n",
       "      <td>...</td>\n",
       "    </tr>\n",
       "    <tr>\n",
       "      <th>2616</th>\n",
       "      <td>4.870867</td>\n",
       "      <td>0.571281</td>\n",
       "      <td>1.729537</td>\n",
       "      <td>0.394630</td>\n",
       "      <td>-2.800947</td>\n",
       "      <td>-0.041480</td>\n",
       "      <td>0.127958</td>\n",
       "      <td>-0.530652</td>\n",
       "      <td>-0.057673</td>\n",
       "      <td>-0.113280</td>\n",
       "    </tr>\n",
       "    <tr>\n",
       "      <th>2617</th>\n",
       "      <td>-1.707412</td>\n",
       "      <td>0.151452</td>\n",
       "      <td>-0.685923</td>\n",
       "      <td>-0.718512</td>\n",
       "      <td>0.222927</td>\n",
       "      <td>1.456685</td>\n",
       "      <td>-0.237197</td>\n",
       "      <td>-0.034129</td>\n",
       "      <td>-0.305384</td>\n",
       "      <td>-0.610385</td>\n",
       "    </tr>\n",
       "    <tr>\n",
       "      <th>2618</th>\n",
       "      <td>-2.349591</td>\n",
       "      <td>0.180057</td>\n",
       "      <td>-0.699261</td>\n",
       "      <td>1.297991</td>\n",
       "      <td>-1.020282</td>\n",
       "      <td>-0.966328</td>\n",
       "      <td>-0.419615</td>\n",
       "      <td>-0.361932</td>\n",
       "      <td>0.031960</td>\n",
       "      <td>0.040617</td>\n",
       "    </tr>\n",
       "    <tr>\n",
       "      <th>2619</th>\n",
       "      <td>6.185166</td>\n",
       "      <td>0.336018</td>\n",
       "      <td>1.164939</td>\n",
       "      <td>1.303071</td>\n",
       "      <td>-0.255450</td>\n",
       "      <td>0.183320</td>\n",
       "      <td>0.969786</td>\n",
       "      <td>-0.193206</td>\n",
       "      <td>-0.410868</td>\n",
       "      <td>0.119983</td>\n",
       "    </tr>\n",
       "    <tr>\n",
       "      <th>2620</th>\n",
       "      <td>-1.589037</td>\n",
       "      <td>0.133811</td>\n",
       "      <td>-1.234106</td>\n",
       "      <td>2.520287</td>\n",
       "      <td>0.168946</td>\n",
       "      <td>-0.141442</td>\n",
       "      <td>1.106235</td>\n",
       "      <td>-0.517273</td>\n",
       "      <td>0.682967</td>\n",
       "      <td>0.479554</td>\n",
       "    </tr>\n",
       "  </tbody>\n",
       "</table>\n",
       "<p>2621 rows × 10 columns</p>\n",
       "</div>\n",
       "      <button class=\"colab-df-convert\" onclick=\"convertToInteractive('df-1c05fc1e-ad2d-450e-9628-4c5af9dde84b')\"\n",
       "              title=\"Convert this dataframe to an interactive table.\"\n",
       "              style=\"display:none;\">\n",
       "        \n",
       "  <svg xmlns=\"http://www.w3.org/2000/svg\" height=\"24px\"viewBox=\"0 0 24 24\"\n",
       "       width=\"24px\">\n",
       "    <path d=\"M0 0h24v24H0V0z\" fill=\"none\"/>\n",
       "    <path d=\"M18.56 5.44l.94 2.06.94-2.06 2.06-.94-2.06-.94-.94-2.06-.94 2.06-2.06.94zm-11 1L8.5 8.5l.94-2.06 2.06-.94-2.06-.94L8.5 2.5l-.94 2.06-2.06.94zm10 10l.94 2.06.94-2.06 2.06-.94-2.06-.94-.94-2.06-.94 2.06-2.06.94z\"/><path d=\"M17.41 7.96l-1.37-1.37c-.4-.4-.92-.59-1.43-.59-.52 0-1.04.2-1.43.59L10.3 9.45l-7.72 7.72c-.78.78-.78 2.05 0 2.83L4 21.41c.39.39.9.59 1.41.59.51 0 1.02-.2 1.41-.59l7.78-7.78 2.81-2.81c.8-.78.8-2.07 0-2.86zM5.41 20L4 18.59l7.72-7.72 1.47 1.35L5.41 20z\"/>\n",
       "  </svg>\n",
       "      </button>\n",
       "      \n",
       "  <style>\n",
       "    .colab-df-container {\n",
       "      display:flex;\n",
       "      flex-wrap:wrap;\n",
       "      gap: 12px;\n",
       "    }\n",
       "\n",
       "    .colab-df-convert {\n",
       "      background-color: #E8F0FE;\n",
       "      border: none;\n",
       "      border-radius: 50%;\n",
       "      cursor: pointer;\n",
       "      display: none;\n",
       "      fill: #1967D2;\n",
       "      height: 32px;\n",
       "      padding: 0 0 0 0;\n",
       "      width: 32px;\n",
       "    }\n",
       "\n",
       "    .colab-df-convert:hover {\n",
       "      background-color: #E2EBFA;\n",
       "      box-shadow: 0px 1px 2px rgba(60, 64, 67, 0.3), 0px 1px 3px 1px rgba(60, 64, 67, 0.15);\n",
       "      fill: #174EA6;\n",
       "    }\n",
       "\n",
       "    [theme=dark] .colab-df-convert {\n",
       "      background-color: #3B4455;\n",
       "      fill: #D2E3FC;\n",
       "    }\n",
       "\n",
       "    [theme=dark] .colab-df-convert:hover {\n",
       "      background-color: #434B5C;\n",
       "      box-shadow: 0px 1px 3px 1px rgba(0, 0, 0, 0.15);\n",
       "      filter: drop-shadow(0px 1px 2px rgba(0, 0, 0, 0.3));\n",
       "      fill: #FFFFFF;\n",
       "    }\n",
       "  </style>\n",
       "\n",
       "      <script>\n",
       "        const buttonEl =\n",
       "          document.querySelector('#df-1c05fc1e-ad2d-450e-9628-4c5af9dde84b button.colab-df-convert');\n",
       "        buttonEl.style.display =\n",
       "          google.colab.kernel.accessAllowed ? 'block' : 'none';\n",
       "\n",
       "        async function convertToInteractive(key) {\n",
       "          const element = document.querySelector('#df-1c05fc1e-ad2d-450e-9628-4c5af9dde84b');\n",
       "          const dataTable =\n",
       "            await google.colab.kernel.invokeFunction('convertToInteractive',\n",
       "                                                     [key], {});\n",
       "          if (!dataTable) return;\n",
       "\n",
       "          const docLinkHtml = 'Like what you see? Visit the ' +\n",
       "            '<a target=\"_blank\" href=https://colab.research.google.com/notebooks/data_table.ipynb>data table notebook</a>'\n",
       "            + ' to learn more about interactive tables.';\n",
       "          element.innerHTML = '';\n",
       "          dataTable['output_type'] = 'display_data';\n",
       "          await google.colab.output.renderOutput(dataTable, element);\n",
       "          const docLink = document.createElement('div');\n",
       "          docLink.innerHTML = docLinkHtml;\n",
       "          element.appendChild(docLink);\n",
       "        }\n",
       "      </script>\n",
       "    </div>\n",
       "  </div>\n",
       "  "
      ]
     },
     "metadata": {},
     "execution_count": 40
    }
   ],
   "source": [
    "X_train3 = pd.DataFrame(X_train3)\n",
    "X_train3"
   ]
  },
  {
   "cell_type": "code",
   "execution_count": 41,
   "metadata": {
    "colab": {
     "base_uri": "https://localhost:8080/",
     "height": 504
    },
    "id": "O59ai7EUExd0",
    "outputId": "54a40afc-9426-4c1f-b758-f77413d61e68"
   },
   "outputs": [
    {
     "output_type": "execute_result",
     "data": {
      "text/plain": [
       "<matplotlib.axes._subplots.AxesSubplot at 0x7fad30aec910>"
      ]
     },
     "metadata": {},
     "execution_count": 41
    },
    {
     "output_type": "display_data",
     "data": {
      "text/plain": [
       "<Figure size 720x576 with 2 Axes>"
      ],
      "image/png": "[encoded data removed]"
     },
     "metadata": {
      "needs_background": "light"
     }
    }
   ],
   "source": [
    "fig = plt.figure(figsize=(10, 8))\n",
    "sns.heatmap(X_train3.corr(), \n",
    "            annot=True)\n"
   ]
  },
  {
   "cell_type": "markdown",
   "metadata": {
    "id": "CTwIA6sMFACB"
   },
   "source": [
    "We can see there is no correlation betweern features"
   ]
  },
  {
   "cell_type": "markdown",
   "metadata": {
    "id": "8kQLTg8_lL4b"
   },
   "source": [
    "*Logistic Regression*"
   ]
  },
  {
   "cell_type": "code",
   "execution_count": 42,
   "metadata": {
    "id": "Ttxa6mhijCQi"
   },
   "outputs": [],
   "source": [
    "\n",
    "\n",
    "from sklearn.linear_model import LogisticRegression\n",
    "clf = LogisticRegression(max_iter=2500)\n",
    "\n"
   ]
  },
  {
   "cell_type": "code",
   "execution_count": 43,
   "metadata": {
    "colab": {
     "base_uri": "https://localhost:8080/"
    },
    "id": "vGFQDMqsjFOh",
    "outputId": "2b7f4380-03b6-4e5f-861a-bc9ebcb0fde1"
   },
   "outputs": [
    {
     "output_type": "execute_result",
     "data": {
      "text/plain": [
       "LogisticRegression(max_iter=2500)"
      ]
     },
     "metadata": {},
     "execution_count": 43
    }
   ],
   "source": [
    "# Train the model\n",
    "clf.fit(X_train1, y_train)\n"
   ]
  },
  {
   "cell_type": "code",
   "execution_count": 44,
   "metadata": {
    "id": "H5xrLsqjjI6u"
   },
   "outputs": [],
   "source": [
    "\n",
    "# Make predictions\n",
    "y_pred = clf.predict(X_test1) # Predictions\n",
    "y_true = y_test # True values\n",
    "\n"
   ]
  },
  {
   "cell_type": "code",
   "execution_count": 45,
   "metadata": {
    "colab": {
     "base_uri": "https://localhost:8080/"
    },
    "id": "UIr4BCG1jMDt",
    "outputId": "d9ea775d-f351-4de9-ee29-2074df2e15d1"
   },
   "outputs": [
    {
     "output_type": "stream",
     "name": "stdout",
     "text": [
      "Train accuracy: 0.79\n",
      "Test accuracy: 0.78\n"
     ]
    }
   ],
   "source": [
    "# Measure accuracy\n",
    "from sklearn.metrics import accuracy_score\n",
    "import numpy as np\n",
    "print(\"Train accuracy:\", np.round(accuracy_score(y_train, \n",
    "                                                 clf.predict(X_train1)), 2))\n",
    "print(\"Test accuracy:\", np.round(accuracy_score(y_true, y_pred1), 2))"
   ]
  },
  {
   "cell_type": "code",
   "execution_count": 46,
   "metadata": {
    "colab": {
     "base_uri": "https://localhost:8080/",
     "height": 661
    },
    "id": "qO-nafHH52Hw",
    "outputId": "09a80e3a-ce84-4017-a7b4-7f33557acdb9"
   },
   "outputs": [
    {
     "output_type": "stream",
     "name": "stdout",
     "text": [
      "\n",
      "Test confusion_matrix\n"
     ]
    },
    {
     "output_type": "execute_result",
     "data": {
      "text/plain": [
       "Text(114.0, 0.5, 'True')"
      ]
     },
     "metadata": {},
     "execution_count": 46
    },
    {
     "output_type": "display_data",
     "data": {
      "text/plain": [
       "<Figure size 1080x720 with 2 Axes>"
      ],
      "image/png": "[encoded data removed]"
     },
     "metadata": {
      "needs_background": "light"
     }
    }
   ],
   "source": [
    "import seaborn as sns\n",
    "from sklearn.metrics import confusion_matrix\n",
    "import matplotlib.pyplot as plt\n",
    "\n",
    "fig = plt.figure(figsize=(15, 10))\n",
    "\n",
    "cf_matrix = confusion_matrix(y_true, y_pred1)\n",
    "print(\"\\nTest confusion_matrix\")\n",
    "sns.heatmap(cf_matrix, annot=True, cmap='Blues')\n",
    "plt.xlabel('Predicted', fontsize=12)\n",
    "plt.ylabel('True', fontsize=12)"
   ]
  },
  {
   "cell_type": "markdown",
   "metadata": {
    "id": "XA08g4MUrEFh"
   },
   "source": [
    "# Exportamos ambos dataset transformados"
   ]
  },
  {
   "cell_type": "code",
   "execution_count": 47,
   "metadata": {
    "colab": {
     "base_uri": "https://localhost:8080/"
    },
    "id": "RhVKCjZsrEFh",
    "outputId": "176d5604-cd8a-481c-98bf-87a464e96b87"
   },
   "outputs": [
    {
     "output_type": "stream",
     "name": "stdout",
     "text": [
      "             0         1         2         3         4         5         6  \\\n",
      "0    -0.509450  1.220460 -0.354683 -0.038418  0.660003  0.511900  0.056675   \n",
      "1    -0.432268 -0.358001  0.152677 -0.002420 -0.080478 -0.166446 -0.038767   \n",
      "2    -0.365026  0.950222  0.569697 -0.008316 -0.044559 -0.161087  0.000001   \n",
      "3    -0.392184 -0.073518 -0.750293  0.014011 -0.159378 -0.069127  0.049004   \n",
      "4    -0.324899 -0.377523  0.317614 -0.003957  0.042805 -0.588561  0.588137   \n",
      "...        ...       ...       ...       ...       ...       ...       ...   \n",
      "3272 -0.390515 -0.072539 -0.747311  0.012820 -0.157762 -0.057194  0.057973   \n",
      "3273 -0.345133  1.227016 -0.348470  0.023891 -0.103810 -0.035865  0.113739   \n",
      "3274  1.328355  0.386113  0.599803 -0.742811  0.026828 -0.176856 -0.744385   \n",
      "3275  1.389498 -0.601560  0.216961  0.466453  0.377572 -0.014422  0.136340   \n",
      "3276 -0.530052  1.221962 -0.359914 -0.042694  0.667628  0.508531  0.059570   \n",
      "\n",
      "             7         8         9  ...        41        42        43  \\\n",
      "0    -0.030811 -0.199418  0.179850  ... -0.000253 -0.000416 -0.000681   \n",
      "1    -0.140172  0.066604 -0.152738  ... -0.000049  0.000180  0.001247   \n",
      "2    -0.348229 -0.202632  0.034829  ... -0.000112 -0.000031 -0.000223   \n",
      "3    -0.126112  0.151466 -0.112964  ...  0.000227  0.000255  0.000219   \n",
      "4     0.378610  0.094262  0.157773  ...  0.000070  0.000171  0.000551   \n",
      "...        ...       ...       ...  ...       ...       ...       ...   \n",
      "3272 -0.116710  0.134799 -0.100970  ...  0.000098  0.000368 -0.000332   \n",
      "3273 -0.347403 -0.087223  0.062094  ...  0.000116  0.000267  0.000074   \n",
      "3274  0.338980  0.640912  0.304023  ... -0.000170 -0.000649 -0.000052   \n",
      "3275 -0.587631 -0.156866  0.005671  ...  0.000148  0.000129 -0.000846   \n",
      "3276 -0.078474 -0.154003  0.142519  ... -0.000136 -0.000191 -0.000394   \n",
      "\n",
      "            44        45        46        47        48        49  \\\n",
      "0    -0.000736 -0.000430  0.000321  0.000888 -0.000389 -0.000864   \n",
      "1    -0.001445  0.000928 -0.000013 -0.002217 -0.000952 -0.005176   \n",
      "2    -0.000148 -0.000373 -0.001921  0.003293  0.000277  0.002512   \n",
      "3     0.000170 -0.000176  0.000627 -0.000522 -0.001087  0.000888   \n",
      "4    -0.000346  0.000486  0.000160 -0.000554  0.000712  0.002327   \n",
      "...        ...       ...       ...       ...       ...       ...   \n",
      "3272 -0.000045  0.000034  0.000379 -0.000235 -0.000739  0.000968   \n",
      "3273 -0.000008 -0.000039  0.000129 -0.000611 -0.000717  0.000733   \n",
      "3274  0.001071  0.000076 -0.000375 -0.003441  0.002486  0.000435   \n",
      "3275  0.000257  0.000265 -0.000877 -0.000583 -0.001496 -0.000055   \n",
      "3276 -0.000325 -0.000653  0.000633 -0.000175 -0.001187  0.000508   \n",
      "\n",
      "      good_bad_flag  \n",
      "0               1.0  \n",
      "1               0.0  \n",
      "2               1.0  \n",
      "3               1.0  \n",
      "4               1.0  \n",
      "...             ...  \n",
      "3272            0.0  \n",
      "3273            1.0  \n",
      "3274            1.0  \n",
      "3275            1.0  \n",
      "3276            1.0  \n",
      "\n",
      "[3277 rows x 51 columns]\n",
      "           0         1         2         3         4         5         6   \\\n",
      "0   -0.454886 -0.347786  0.145985 -0.022802 -0.076814 -0.144291 -0.008826   \n",
      "1    0.306024  0.488954  0.747776  0.157639 -0.787055  0.454498 -0.274442   \n",
      "2    1.527457  0.354671  0.632504 -0.065288  0.407496 -0.377400  0.585693   \n",
      "3   -0.335506  1.228476 -0.344767  0.024734 -0.104508 -0.029434  0.118404   \n",
      "4   -0.591282 -0.385621  0.214651 -0.118348  0.709901  0.285381 -0.262578   \n",
      "..        ...       ...       ...       ...       ...       ...       ...   \n",
      "380 -0.401804 -0.074021 -0.752344  0.012699 -0.156461 -0.068928  0.050310   \n",
      "381 -0.421691 -0.350048  0.167145 -0.019883 -0.095435 -0.188847 -0.058651   \n",
      "382 -0.432744 -0.366880  0.177935 -0.001663 -0.096210 -0.209456 -0.072398   \n",
      "383 -0.313114 -0.397339  0.269705 -0.057844 -0.053760 -0.316756 -0.599990   \n",
      "384  0.156129 -0.518653  0.411519  1.274452 -0.235235  0.567817  0.244438   \n",
      "\n",
      "           7         8         9   ...        40        41        42  \\\n",
      "0   -0.172138  0.094712 -0.169514  ... -0.000043 -0.000024  0.000171   \n",
      "1    1.030890  0.301254 -0.144613  ... -0.000164 -0.000425 -0.000617   \n",
      "2    0.392853  0.615350 -0.295954  ...  0.000040  0.000304 -0.000612   \n",
      "3   -0.333807 -0.096590  0.069104  ...  0.000010  0.000073  0.000015   \n",
      "4    0.153048 -0.220543 -0.382042  ...  0.000077 -0.000180 -0.000304   \n",
      "..        ...       ...       ...  ...       ...       ...       ...   \n",
      "380 -0.137438  0.155966 -0.116944  ...  0.000057  0.000229  0.000436   \n",
      "381 -0.136447  0.036663 -0.141786  ...  0.000155 -0.000027  0.000081   \n",
      "382 -0.149622  0.041857 -0.184675  ...  0.000040  0.000064 -0.000032   \n",
      "383 -0.111096  0.329796  0.543165  ... -0.000026 -0.000162 -0.000686   \n",
      "384 -0.397516  0.183693 -0.053766  ... -0.000055 -0.000013 -0.000182   \n",
      "\n",
      "           43        44        45        46        47        48        49  \n",
      "0   -0.000553 -0.000028 -0.000174  0.000473  0.000139 -0.000895  0.000822  \n",
      "1    0.001200 -0.000718 -0.000852  0.000674 -0.001610  0.000274  0.001351  \n",
      "2   -0.000202 -0.000183 -0.000772 -0.000376 -0.001964  0.002121  0.003721  \n",
      "3    0.000072 -0.000325 -0.000063 -0.000323 -0.000250 -0.000929  0.000416  \n",
      "4   -0.000438 -0.000243 -0.000469  0.001749  0.000874  0.000329 -0.000347  \n",
      "..        ...       ...       ...       ...       ...       ...       ...  \n",
      "380  0.000050  0.000329 -0.000137  0.000900 -0.000674 -0.000862  0.001048  \n",
      "381 -0.000377  0.000056 -0.000427 -0.001279  0.003403  0.000156  0.002733  \n",
      "382 -0.000010  0.000066 -0.000009  0.000246  0.000260 -0.000057 -0.000315  \n",
      "383 -0.000073  0.001080  0.000959 -0.000253  0.000038  0.000434 -0.000517  \n",
      "384 -0.000664  0.000304  0.000118  0.001496  0.000928 -0.002423 -0.000164  \n",
      "\n",
      "[385 rows x 50 columns]\n"
     ]
    }
   ],
   "source": [
    "from sklearn.preprocessing import MinMaxScaler\n",
    "\n",
    "train = pd.read_csv(r\"https://raw.githubusercontent.com/medinaltbx/G6_DP3/master/data/input/merged_data/train/merged_train.csv\", sep=';')\n",
    "test = pd.read_csv(r\"https://raw.githubusercontent.com/medinaltbx/G6_DP3/master/data/input/merged_data/test/merged_test.csv\", sep=';')\n",
    "\n",
    "train, target_train = train.drop(columns=['good_bad_flag'] + ['customerid']), train[\"good_bad_flag\"]\n",
    "test = test.drop(columns=['customerid'],axis=1)\n",
    "\n",
    "sc = MinMaxScaler()\n",
    "train = sc.fit_transform(train)\n",
    "test = sc.transform(test)\n",
    "\n",
    "pca10 = PCA(n_components=50)\n",
    "train = pd.DataFrame(pca10.fit_transform(train))\n",
    "test = pd.DataFrame(pca10.transform(test))\n",
    "\n",
    "train[\"good_bad_flag\"] = target_train\n",
    "\n",
    "print(train)\n",
    "print(test)\n",
    "\n",
    "train.to_csv(\"pca_train.csv\",sep=';', encoding = 'utf8',index= False)\n",
    "test.to_csv(\"pca_test.csv\",sep=';', encoding = 'utf8',index= False)"
   ]
  }
 ],
 "metadata": {
  "colab": {
   "collapsed_sections": [],
   "name": "pca.ipynb",
   "provenance": []
  },
  "kernelspec": {
   "display_name": "Python 3 (ipykernel)",
   "language": "python",
   "name": "python3"
  },
  "language_info": {
   "codemirror_mode": {
    "name": "ipython",
    "version": 3
   },
   "file_extension": ".py",
   "mimetype": "text/x-python",
   "name": "python",
   "nbconvert_exporter": "python",
   "pygments_lexer": "ipython3",
   "version": "3.9.12"
  }
 },
 "nbformat": 4,
 "nbformat_minor": 0
}