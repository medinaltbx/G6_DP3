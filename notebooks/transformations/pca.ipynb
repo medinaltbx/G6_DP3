{
 "cells": [
  {
   "cell_type": "code",
   "execution_count": 1,
   "metadata": {
    "id": "Ic0W_2e6lxE2"
   },
   "outputs": [],
   "source": [
    "import pandas as pd                    \n",
    "import numpy as np  \n",
    "from sklearn.model_selection import train_test_split\n",
    "import seaborn as sns\n",
    "from sklearn.metrics import confusion_matrix\n",
    "import matplotlib.pyplot as plt\n",
    "from sklearn.metrics import accuracy_score\n",
    "import numpy as np\n",
    "from sklearn.decomposition import PCA"
   ]
  },
  {
   "cell_type": "code",
   "execution_count": 2,
   "metadata": {
    "colab": {
     "base_uri": "https://localhost:8080/",
     "height": 317
    },
    "id": "MTMoT_5Gmf3_",
    "outputId": "de66a074-b808-4bd9-b7c4-534d0760f52b"
   },
   "outputs": [
    {
     "data": {
      "text/html": [
       "<div>\n",
       "<style scoped>\n",
       "    .dataframe tbody tr th:only-of-type {\n",
       "        vertical-align: middle;\n",
       "    }\n",
       "\n",
       "    .dataframe tbody tr th {\n",
       "        vertical-align: top;\n",
       "    }\n",
       "\n",
       "    .dataframe thead th {\n",
       "        text-align: right;\n",
       "    }\n",
       "</style>\n",
       "<table border=\"1\" class=\"dataframe\">\n",
       "  <thead>\n",
       "    <tr style=\"text-align: right;\">\n",
       "      <th></th>\n",
       "      <th>customerid</th>\n",
       "      <th>edad</th>\n",
       "      <th>loannumber</th>\n",
       "      <th>loanamount</th>\n",
       "      <th>totaldue</th>\n",
       "      <th>termdays</th>\n",
       "      <th>referredby</th>\n",
       "      <th>good_bad_flag</th>\n",
       "      <th>times_loaned</th>\n",
       "      <th>times_late</th>\n",
       "      <th>...</th>\n",
       "      <th>employment_status_clients_Retired</th>\n",
       "      <th>employment_status_clients_Self-Employed</th>\n",
       "      <th>employment_status_clients_Student</th>\n",
       "      <th>employment_status_clients_UNKNOWN</th>\n",
       "      <th>employment_status_clients_Unemployed</th>\n",
       "      <th>level_of_education_clients_Graduate</th>\n",
       "      <th>level_of_education_clients_Post-Graduate</th>\n",
       "      <th>level_of_education_clients_Primary</th>\n",
       "      <th>level_of_education_clients_Secondary</th>\n",
       "      <th>level_of_education_clients_UNKNOWN</th>\n",
       "    </tr>\n",
       "  </thead>\n",
       "  <tbody>\n",
       "    <tr>\n",
       "      <th>0</th>\n",
       "      <td>8a858e135cb22031015cbafc76964ebd</td>\n",
       "      <td>48</td>\n",
       "      <td>2</td>\n",
       "      <td>10000.0</td>\n",
       "      <td>13000.0</td>\n",
       "      <td>30</td>\n",
       "      <td>1</td>\n",
       "      <td>1.0</td>\n",
       "      <td>1.0</td>\n",
       "      <td>0.0</td>\n",
       "      <td>...</td>\n",
       "      <td>0</td>\n",
       "      <td>0</td>\n",
       "      <td>0</td>\n",
       "      <td>1</td>\n",
       "      <td>0</td>\n",
       "      <td>0</td>\n",
       "      <td>0</td>\n",
       "      <td>0</td>\n",
       "      <td>0</td>\n",
       "      <td>1</td>\n",
       "    </tr>\n",
       "    <tr>\n",
       "      <th>1</th>\n",
       "      <td>8a858e275c7ea5ec015c82482d7c3996</td>\n",
       "      <td>36</td>\n",
       "      <td>2</td>\n",
       "      <td>10000.0</td>\n",
       "      <td>13000.0</td>\n",
       "      <td>30</td>\n",
       "      <td>0</td>\n",
       "      <td>0.0</td>\n",
       "      <td>1.0</td>\n",
       "      <td>1.0</td>\n",
       "      <td>...</td>\n",
       "      <td>0</td>\n",
       "      <td>0</td>\n",
       "      <td>0</td>\n",
       "      <td>0</td>\n",
       "      <td>0</td>\n",
       "      <td>0</td>\n",
       "      <td>0</td>\n",
       "      <td>0</td>\n",
       "      <td>0</td>\n",
       "      <td>1</td>\n",
       "    </tr>\n",
       "    <tr>\n",
       "      <th>2</th>\n",
       "      <td>8a858e5b5bd99460015bdc95cd485634</td>\n",
       "      <td>35</td>\n",
       "      <td>4</td>\n",
       "      <td>10000.0</td>\n",
       "      <td>13000.0</td>\n",
       "      <td>30</td>\n",
       "      <td>0</td>\n",
       "      <td>1.0</td>\n",
       "      <td>3.0</td>\n",
       "      <td>2.0</td>\n",
       "      <td>...</td>\n",
       "      <td>0</td>\n",
       "      <td>0</td>\n",
       "      <td>0</td>\n",
       "      <td>1</td>\n",
       "      <td>0</td>\n",
       "      <td>0</td>\n",
       "      <td>0</td>\n",
       "      <td>0</td>\n",
       "      <td>0</td>\n",
       "      <td>1</td>\n",
       "    </tr>\n",
       "    <tr>\n",
       "      <th>3</th>\n",
       "      <td>8a858efd5ca70688015cabd1f1e94b55</td>\n",
       "      <td>30</td>\n",
       "      <td>2</td>\n",
       "      <td>10000.0</td>\n",
       "      <td>11500.0</td>\n",
       "      <td>15</td>\n",
       "      <td>0</td>\n",
       "      <td>1.0</td>\n",
       "      <td>1.0</td>\n",
       "      <td>1.0</td>\n",
       "      <td>...</td>\n",
       "      <td>0</td>\n",
       "      <td>0</td>\n",
       "      <td>0</td>\n",
       "      <td>0</td>\n",
       "      <td>0</td>\n",
       "      <td>0</td>\n",
       "      <td>0</td>\n",
       "      <td>0</td>\n",
       "      <td>0</td>\n",
       "      <td>1</td>\n",
       "    </tr>\n",
       "    <tr>\n",
       "      <th>4</th>\n",
       "      <td>8a858ea05a859123015a8892914d15b7</td>\n",
       "      <td>31</td>\n",
       "      <td>6</td>\n",
       "      <td>20000.0</td>\n",
       "      <td>24500.0</td>\n",
       "      <td>30</td>\n",
       "      <td>0</td>\n",
       "      <td>1.0</td>\n",
       "      <td>5.0</td>\n",
       "      <td>2.0</td>\n",
       "      <td>...</td>\n",
       "      <td>0</td>\n",
       "      <td>0</td>\n",
       "      <td>0</td>\n",
       "      <td>0</td>\n",
       "      <td>0</td>\n",
       "      <td>0</td>\n",
       "      <td>0</td>\n",
       "      <td>0</td>\n",
       "      <td>0</td>\n",
       "      <td>1</td>\n",
       "    </tr>\n",
       "  </tbody>\n",
       "</table>\n",
       "<p>5 rows × 79 columns</p>\n",
       "</div>"
      ],
      "text/plain": [
       "                         customerid  edad  loannumber  loanamount  totaldue  \\\n",
       "0  8a858e135cb22031015cbafc76964ebd    48           2     10000.0   13000.0   \n",
       "1  8a858e275c7ea5ec015c82482d7c3996    36           2     10000.0   13000.0   \n",
       "2  8a858e5b5bd99460015bdc95cd485634    35           4     10000.0   13000.0   \n",
       "3  8a858efd5ca70688015cabd1f1e94b55    30           2     10000.0   11500.0   \n",
       "4  8a858ea05a859123015a8892914d15b7    31           6     20000.0   24500.0   \n",
       "\n",
       "   termdays  referredby  good_bad_flag  times_loaned  times_late  ...  \\\n",
       "0        30           1            1.0           1.0         0.0  ...   \n",
       "1        30           0            0.0           1.0         1.0  ...   \n",
       "2        30           0            1.0           3.0         2.0  ...   \n",
       "3        15           0            1.0           1.0         1.0  ...   \n",
       "4        30           0            1.0           5.0         2.0  ...   \n",
       "\n",
       "   employment_status_clients_Retired  employment_status_clients_Self-Employed  \\\n",
       "0                                  0                                        0   \n",
       "1                                  0                                        0   \n",
       "2                                  0                                        0   \n",
       "3                                  0                                        0   \n",
       "4                                  0                                        0   \n",
       "\n",
       "   employment_status_clients_Student  employment_status_clients_UNKNOWN  \\\n",
       "0                                  0                                  1   \n",
       "1                                  0                                  0   \n",
       "2                                  0                                  1   \n",
       "3                                  0                                  0   \n",
       "4                                  0                                  0   \n",
       "\n",
       "   employment_status_clients_Unemployed  level_of_education_clients_Graduate  \\\n",
       "0                                     0                                    0   \n",
       "1                                     0                                    0   \n",
       "2                                     0                                    0   \n",
       "3                                     0                                    0   \n",
       "4                                     0                                    0   \n",
       "\n",
       "   level_of_education_clients_Post-Graduate  \\\n",
       "0                                         0   \n",
       "1                                         0   \n",
       "2                                         0   \n",
       "3                                         0   \n",
       "4                                         0   \n",
       "\n",
       "   level_of_education_clients_Primary  level_of_education_clients_Secondary  \\\n",
       "0                                   0                                     0   \n",
       "1                                   0                                     0   \n",
       "2                                   0                                     0   \n",
       "3                                   0                                     0   \n",
       "4                                   0                                     0   \n",
       "\n",
       "   level_of_education_clients_UNKNOWN  \n",
       "0                                   1  \n",
       "1                                   1  \n",
       "2                                   1  \n",
       "3                                   1  \n",
       "4                                   1  \n",
       "\n",
       "[5 rows x 79 columns]"
      ]
     },
     "execution_count": 2,
     "metadata": {},
     "output_type": "execute_result"
    }
   ],
   "source": [
    "dfpca = pd.read_csv(r\"https://raw.githubusercontent.com/medinaltbx/G6_DP3/master/data/input/merged_data/train/merged_train.csv\", sep=';' , decimal='.')\n",
    "dfpca.head()\n"
   ]
  },
  {
   "cell_type": "code",
   "execution_count": 3,
   "metadata": {
    "id": "x8zVVJGwmjDw"
   },
   "outputs": [],
   "source": [
    "X = dfpca.drop(columns=['good_bad_flag'] + ['customerid'])\n",
    "y = dfpca['good_bad_flag']\n",
    "\n"
   ]
  },
  {
   "cell_type": "code",
   "execution_count": 4,
   "metadata": {
    "id": "yk8bVac9O9g9"
   },
   "outputs": [],
   "source": [
    "from sklearn.preprocessing import StandardScaler\n",
    "sc = StandardScaler()\n",
    "\n",
    "X = sc.fit_transform(X)\n"
   ]
  },
  {
   "cell_type": "code",
   "execution_count": 5,
   "metadata": {
    "colab": {
     "base_uri": "https://localhost:8080/"
    },
    "id": "LLa4o9tUQDA2",
    "outputId": "ab4d48f4-91fd-4c1a-ae67-30708db91530"
   },
   "outputs": [
    {
     "name": "stdout",
     "output_type": "stream",
     "text": [
      "-1.148902568432962e-17\n",
      "0.9610389610389612\n"
     ]
    }
   ],
   "source": [
    "#here we want to check wether mean tends to 0 and variance =1\n",
    "\n",
    "print(np.mean(X))\n",
    "print(np.var(X))\n"
   ]
  },
  {
   "cell_type": "code",
   "execution_count": 6,
   "metadata": {
    "id": "w-t0nedImpyM"
   },
   "outputs": [],
   "source": [
    "X_train, X_test, y_train, y_test = train_test_split(X, y, test_size=0.2, random_state=0)\n"
   ]
  },
  {
   "cell_type": "code",
   "execution_count": 7,
   "metadata": {
    "colab": {
     "base_uri": "https://localhost:8080/"
    },
    "id": "0sVq68TRdHe4",
    "outputId": "fdaa4950-99e0-4156-fd10-2aca2de4b2b9"
   },
   "outputs": [
    {
     "name": "stdout",
     "output_type": "stream",
     "text": [
      "-0.00045200702135016907\n",
      "0.9510630498568969\n"
     ]
    }
   ],
   "source": [
    "print(np.mean(X_train))\n",
    "print(np.var(X_train))"
   ]
  },
  {
   "cell_type": "markdown",
   "metadata": {
    "id": "u3qKGYp3Bh3V"
   },
   "source": [
    "PCA WITH ALL FEATURES"
   ]
  },
  {
   "cell_type": "code",
   "execution_count": 8,
   "metadata": {
    "id": "yvu7VYZ8nPB5"
   },
   "outputs": [],
   "source": [
    "#PCA with all features\n",
    "\n",
    "\n",
    "pca = PCA()\n",
    "X_train1 = pca.fit_transform(X_train)\n",
    "X_test1 = pca.transform(X_test)"
   ]
  },
  {
   "cell_type": "code",
   "execution_count": 9,
   "metadata": {
    "colab": {
     "base_uri": "https://localhost:8080/"
    },
    "id": "Om1uIyXFnlcO",
    "outputId": "d5db4187-37a4-4046-af75-4c777c96ddc7"
   },
   "outputs": [
    {
     "name": "stdout",
     "output_type": "stream",
     "text": [
      "[8.26186412e-02 3.42717383e-02 2.50381016e-02 2.43538143e-02\n",
      " 2.23724570e-02 2.05833631e-02 2.02278259e-02 1.97644643e-02\n",
      " 1.89365046e-02 1.85247347e-02 1.84117506e-02 1.81865138e-02\n",
      " 1.80471785e-02 1.77354136e-02 1.76278123e-02 1.75045405e-02\n",
      " 1.74114241e-02 1.72840553e-02 1.71979427e-02 1.71564252e-02\n",
      " 1.71024024e-02 1.70907977e-02 1.70805386e-02 1.70803132e-02\n",
      " 1.70793554e-02 1.70792956e-02 1.70792865e-02 1.70792865e-02\n",
      " 1.70733780e-02 1.69566886e-02 1.67248969e-02 1.66792260e-02\n",
      " 1.62145986e-02 1.53765193e-02 1.50302817e-02 1.49174417e-02\n",
      " 1.47391544e-02 1.44308502e-02 1.43309282e-02 1.42341184e-02\n",
      " 1.38933163e-02 1.38043366e-02 1.35556144e-02 1.33678058e-02\n",
      " 1.31045492e-02 1.26931202e-02 1.25815004e-02 1.23021413e-02\n",
      " 1.20816674e-02 1.16688942e-02 1.14294044e-02 1.13601930e-02\n",
      " 1.06674862e-02 1.01624960e-02 1.00074767e-02 9.60474239e-03\n",
      " 9.27370923e-03 6.87531269e-03 2.69477654e-03 2.21324151e-03\n",
      " 2.30878964e-05 1.06824393e-06 1.90071806e-32 5.69401356e-33\n",
      " 3.09850104e-33 2.40996927e-33 1.31671089e-33 1.31151133e-33\n",
      " 6.53020121e-34 6.30728149e-34 6.30728149e-34 6.30728149e-34\n",
      " 6.30728149e-34 6.30728149e-34 6.30728149e-34 2.59354806e-34\n",
      " 6.32001298e-35]\n"
     ]
    }
   ],
   "source": [
    "#returns the variance caused by each of the principal components.\n",
    "explained_variance = pca.explained_variance_ratio_\n",
    "print(explained_variance)"
   ]
  },
  {
   "cell_type": "code",
   "execution_count": 10,
   "metadata": {
    "colab": {
     "base_uri": "https://localhost:8080/",
     "height": 296
    },
    "id": "44GPrHRq8yNK",
    "outputId": "e35b3303-af99-4ad8-e64d-936490152051"
   },
   "outputs": [
    {
     "data": {
      "text/plain": [
       "Text(0, 0.5, 'Explained variance (%)')"
      ]
     },
     "execution_count": 10,
     "metadata": {},
     "output_type": "execute_result"
    },
    {
     "data": {
      "image/png": "[encoded data removed]",
      "text/plain": [
       "<Figure size 432x288 with 1 Axes>"
      ]
     },
     "metadata": {
      "needs_background": "light"
     },
     "output_type": "display_data"
    }
   ],
   "source": [
    "plt.plot(np.cumsum(pca.explained_variance_ratio_ * 100))\n",
    "plt.xlabel(\"Number of components (Dimensions)\")\n",
    "plt.ylabel(\"Explained variance (%)\")"
   ]
  },
  {
   "cell_type": "markdown",
   "metadata": {
    "id": "oshgIvAy9p1z"
   },
   "source": [
    "The first component alone captures about 8% variability in the data and the second one captures about 3,5% variability in the data and so on. We have to fet above 50 components to achieve 80% variability in the data."
   ]
  },
  {
   "cell_type": "markdown",
   "metadata": {
    "id": "9ep9ushuBuxz"
   },
   "source": [
    "Apply Random forest with all features:\n"
   ]
  },
  {
   "cell_type": "code",
   "execution_count": 11,
   "metadata": {
    "colab": {
     "base_uri": "https://localhost:8080/"
    },
    "id": "kghaVnDunvbc",
    "outputId": "22525104-588d-4507-8676-1c8516c0a7eb"
   },
   "outputs": [
    {
     "name": "stdout",
     "output_type": "stream",
     "text": [
      "[[  0 143]\n",
      " [  0 513]]\n",
      "0.7820121951219512\n"
     ]
    }
   ],
   "source": [
    "from sklearn.ensemble import RandomForestClassifier\n",
    "\n",
    "classifier = RandomForestClassifier(max_depth=2, random_state=0)\n",
    "classifier.fit(X_train1, y_train)\n",
    "\n",
    "# Predicting the Test set results\n",
    "y_pred1 = classifier.predict(X_test1)\n",
    "\n",
    "from sklearn.metrics import confusion_matrix\n",
    "from sklearn.metrics import accuracy_score\n",
    "\n",
    "cm = confusion_matrix(y_test, y_pred1)\n",
    "print(cm)\n",
    "print(accuracy_score(y_test, y_pred1))"
   ]
  },
  {
   "cell_type": "markdown",
   "metadata": {
    "id": "1BY8kPYz5lHJ"
   },
   "source": [
    "PCA - 50 **components**:"
   ]
  },
  {
   "cell_type": "code",
   "execution_count": 12,
   "metadata": {
    "id": "DtouGFdCjPjR"
   },
   "outputs": [],
   "source": [
    "pca1 = PCA(n_components=50)\n",
    "X_train2 = pca1.fit_transform(X_train)\n",
    "X_test2 = pca1.transform(X_test)\n"
   ]
  },
  {
   "cell_type": "code",
   "execution_count": 13,
   "metadata": {
    "colab": {
     "base_uri": "https://localhost:8080/"
    },
    "id": "GMX9Zk9Bh9aW",
    "outputId": "8e18ef37-ce15-4d25-c36f-79bdb075db58",
    "tags": []
   },
   "outputs": [
    {
     "name": "stdout",
     "output_type": "stream",
     "text": [
      "[0.08261864 0.03427174 0.0250381  0.02435381 0.02237246 0.02058336\n",
      " 0.02022783 0.01976446 0.0189365  0.01852473 0.01841175 0.01818651\n",
      " 0.01804718 0.01773541 0.01762781 0.01750454 0.01741142 0.01728406\n",
      " 0.01719794 0.01715643 0.0171024  0.0170908  0.01708054 0.01708031\n",
      " 0.01707936 0.0170793  0.01707929 0.01707929 0.01707338 0.01695669\n",
      " 0.0167249  0.01667923 0.0162146  0.01537652 0.01503028 0.01491744\n",
      " 0.01473915 0.01443085 0.01433093 0.01423412 0.01389332 0.01380434\n",
      " 0.01355561 0.01336781 0.01310455 0.01269312 0.0125815  0.01230214\n",
      " 0.01208167 0.01166889]\n"
     ]
    }
   ],
   "source": [
    "explained_variance2 = pca1.explained_variance_ratio_\n",
    "print(explained_variance2)"
   ]
  },
  {
   "cell_type": "code",
   "execution_count": 14,
   "metadata": {
    "colab": {
     "base_uri": "https://localhost:8080/"
    },
    "id": "5z5ZC9LoRkPW",
    "outputId": "95e7f414-efe2-4e2d-ec5d-a9a3e0c8aa15"
   },
   "outputs": [
    {
     "name": "stdout",
     "output_type": "stream",
     "text": [
      "[[  0 143]\n",
      " [  0 513]]\n",
      "0.7820121951219512\n"
     ]
    }
   ],
   "source": [
    "from sklearn.ensemble import RandomForestClassifier\n",
    "\n",
    "classifier = RandomForestClassifier(max_depth=2, random_state=0)\n",
    "classifier.fit(X_train2, y_train)\n",
    "\n",
    "# Predicting the Test set results\n",
    "y_pred2 = classifier.predict(X_test2)\n",
    "\n",
    "from sklearn.metrics import confusion_matrix\n",
    "from sklearn.metrics import accuracy_score\n",
    "\n",
    "cm = confusion_matrix(y_test, y_pred2)\n",
    "print(cm)\n",
    "print(accuracy_score(y_test, y_pred2))"
   ]
  },
  {
   "cell_type": "markdown",
   "metadata": {
    "id": "bKKU-01W5aPL"
   },
   "source": [
    "PCA - 10 component:"
   ]
  },
  {
   "cell_type": "code",
   "execution_count": 15,
   "metadata": {
    "colab": {
     "base_uri": "https://localhost:8080/"
    },
    "id": "V5zBE9W3ju3X",
    "outputId": "693dbff0-85cc-4ca1-c232-c132add5f7c4"
   },
   "outputs": [
    {
     "name": "stdout",
     "output_type": "stream",
     "text": [
      "[[  0 143]\n",
      " [  0 513]]\n",
      "0.7820121951219512\n"
     ]
    }
   ],
   "source": [
    "pca2 = PCA(n_components=10)\n",
    "X_train3 = pca2.fit_transform(X_train)\n",
    "X_test3 = pca2.transform(X_test)\n",
    "\n",
    "classifier = RandomForestClassifier(max_depth=2, random_state=0)\n",
    "classifier.fit(X_train3, y_train)\n",
    "\n",
    "# Predicting the Test set results\n",
    "y_pred3 = classifier.predict(X_test3)\n",
    "\n",
    "\n",
    "cm = confusion_matrix(y_test, y_pred3)\n",
    "print(cm)\n",
    "print(accuracy_score(y_test, y_pred3))"
   ]
  },
  {
   "cell_type": "code",
   "execution_count": 16,
   "metadata": {
    "colab": {
     "base_uri": "https://localhost:8080/",
     "height": 424
    },
    "id": "xPupSdTlEyYD",
    "outputId": "0f053a99-9843-469f-dda2-1af6569e8c85"
   },
   "outputs": [
    {
     "data": {
      "text/html": [
       "<div>\n",
       "<style scoped>\n",
       "    .dataframe tbody tr th:only-of-type {\n",
       "        vertical-align: middle;\n",
       "    }\n",
       "\n",
       "    .dataframe tbody tr th {\n",
       "        vertical-align: top;\n",
       "    }\n",
       "\n",
       "    .dataframe thead th {\n",
       "        text-align: right;\n",
       "    }\n",
       "</style>\n",
       "<table border=\"1\" class=\"dataframe\">\n",
       "  <thead>\n",
       "    <tr style=\"text-align: right;\">\n",
       "      <th></th>\n",
       "      <th>0</th>\n",
       "      <th>1</th>\n",
       "      <th>2</th>\n",
       "      <th>3</th>\n",
       "      <th>4</th>\n",
       "      <th>5</th>\n",
       "      <th>6</th>\n",
       "      <th>7</th>\n",
       "      <th>8</th>\n",
       "      <th>9</th>\n",
       "    </tr>\n",
       "  </thead>\n",
       "  <tbody>\n",
       "    <tr>\n",
       "      <th>0</th>\n",
       "      <td>-1.585511</td>\n",
       "      <td>0.078097</td>\n",
       "      <td>-0.170172</td>\n",
       "      <td>-0.880154</td>\n",
       "      <td>-0.026918</td>\n",
       "      <td>-0.713417</td>\n",
       "      <td>0.930630</td>\n",
       "      <td>-0.050124</td>\n",
       "      <td>0.218827</td>\n",
       "      <td>0.176147</td>\n",
       "    </tr>\n",
       "    <tr>\n",
       "      <th>1</th>\n",
       "      <td>-2.101978</td>\n",
       "      <td>0.161660</td>\n",
       "      <td>0.085662</td>\n",
       "      <td>-1.214273</td>\n",
       "      <td>0.477404</td>\n",
       "      <td>-0.777683</td>\n",
       "      <td>0.802930</td>\n",
       "      <td>-0.235625</td>\n",
       "      <td>0.296684</td>\n",
       "      <td>-0.058316</td>\n",
       "    </tr>\n",
       "    <tr>\n",
       "      <th>2</th>\n",
       "      <td>-0.934017</td>\n",
       "      <td>-0.142729</td>\n",
       "      <td>-0.381695</td>\n",
       "      <td>-0.728519</td>\n",
       "      <td>-0.384309</td>\n",
       "      <td>-0.974595</td>\n",
       "      <td>0.726966</td>\n",
       "      <td>-0.170262</td>\n",
       "      <td>0.184895</td>\n",
       "      <td>-0.182865</td>\n",
       "    </tr>\n",
       "    <tr>\n",
       "      <th>3</th>\n",
       "      <td>2.129266</td>\n",
       "      <td>-1.248712</td>\n",
       "      <td>0.729079</td>\n",
       "      <td>0.063603</td>\n",
       "      <td>-2.034496</td>\n",
       "      <td>-0.740141</td>\n",
       "      <td>-1.987940</td>\n",
       "      <td>0.683781</td>\n",
       "      <td>0.169073</td>\n",
       "      <td>-3.260698</td>\n",
       "    </tr>\n",
       "    <tr>\n",
       "      <th>4</th>\n",
       "      <td>3.753720</td>\n",
       "      <td>-1.062702</td>\n",
       "      <td>-1.109433</td>\n",
       "      <td>-0.095756</td>\n",
       "      <td>-0.236141</td>\n",
       "      <td>-0.908387</td>\n",
       "      <td>0.830394</td>\n",
       "      <td>-0.181006</td>\n",
       "      <td>0.321829</td>\n",
       "      <td>0.074648</td>\n",
       "    </tr>\n",
       "    <tr>\n",
       "      <th>...</th>\n",
       "      <td>...</td>\n",
       "      <td>...</td>\n",
       "      <td>...</td>\n",
       "      <td>...</td>\n",
       "      <td>...</td>\n",
       "      <td>...</td>\n",
       "      <td>...</td>\n",
       "      <td>...</td>\n",
       "      <td>...</td>\n",
       "      <td>...</td>\n",
       "    </tr>\n",
       "    <tr>\n",
       "      <th>2616</th>\n",
       "      <td>4.870750</td>\n",
       "      <td>0.639538</td>\n",
       "      <td>2.089101</td>\n",
       "      <td>0.102857</td>\n",
       "      <td>2.600607</td>\n",
       "      <td>-0.548304</td>\n",
       "      <td>0.369396</td>\n",
       "      <td>-0.408570</td>\n",
       "      <td>0.003852</td>\n",
       "      <td>0.455450</td>\n",
       "    </tr>\n",
       "    <tr>\n",
       "      <th>2617</th>\n",
       "      <td>-1.708827</td>\n",
       "      <td>0.133957</td>\n",
       "      <td>-0.423984</td>\n",
       "      <td>-1.172373</td>\n",
       "      <td>0.016233</td>\n",
       "      <td>1.025810</td>\n",
       "      <td>0.506058</td>\n",
       "      <td>-0.074991</td>\n",
       "      <td>-0.022358</td>\n",
       "      <td>0.563183</td>\n",
       "    </tr>\n",
       "    <tr>\n",
       "      <th>2618</th>\n",
       "      <td>-2.348214</td>\n",
       "      <td>0.143070</td>\n",
       "      <td>-1.079531</td>\n",
       "      <td>1.181415</td>\n",
       "      <td>1.149116</td>\n",
       "      <td>-1.013156</td>\n",
       "      <td>0.611390</td>\n",
       "      <td>-0.285827</td>\n",
       "      <td>0.122208</td>\n",
       "      <td>-0.329410</td>\n",
       "    </tr>\n",
       "    <tr>\n",
       "      <th>2619</th>\n",
       "      <td>6.185775</td>\n",
       "      <td>0.358648</td>\n",
       "      <td>1.338921</td>\n",
       "      <td>1.076608</td>\n",
       "      <td>0.744949</td>\n",
       "      <td>0.209743</td>\n",
       "      <td>-0.914314</td>\n",
       "      <td>-0.331030</td>\n",
       "      <td>-1.777106</td>\n",
       "      <td>0.519065</td>\n",
       "    </tr>\n",
       "    <tr>\n",
       "      <th>2620</th>\n",
       "      <td>-1.588903</td>\n",
       "      <td>0.016166</td>\n",
       "      <td>-2.111463</td>\n",
       "      <td>2.384806</td>\n",
       "      <td>0.458637</td>\n",
       "      <td>-0.050976</td>\n",
       "      <td>-1.129862</td>\n",
       "      <td>0.542605</td>\n",
       "      <td>1.360260</td>\n",
       "      <td>0.109752</td>\n",
       "    </tr>\n",
       "  </tbody>\n",
       "</table>\n",
       "<p>2621 rows × 10 columns</p>\n",
       "</div>"
      ],
      "text/plain": [
       "             0         1         2         3         4         5         6  \\\n",
       "0    -1.585511  0.078097 -0.170172 -0.880154 -0.026918 -0.713417  0.930630   \n",
       "1    -2.101978  0.161660  0.085662 -1.214273  0.477404 -0.777683  0.802930   \n",
       "2    -0.934017 -0.142729 -0.381695 -0.728519 -0.384309 -0.974595  0.726966   \n",
       "3     2.129266 -1.248712  0.729079  0.063603 -2.034496 -0.740141 -1.987940   \n",
       "4     3.753720 -1.062702 -1.109433 -0.095756 -0.236141 -0.908387  0.830394   \n",
       "...        ...       ...       ...       ...       ...       ...       ...   \n",
       "2616  4.870750  0.639538  2.089101  0.102857  2.600607 -0.548304  0.369396   \n",
       "2617 -1.708827  0.133957 -0.423984 -1.172373  0.016233  1.025810  0.506058   \n",
       "2618 -2.348214  0.143070 -1.079531  1.181415  1.149116 -1.013156  0.611390   \n",
       "2619  6.185775  0.358648  1.338921  1.076608  0.744949  0.209743 -0.914314   \n",
       "2620 -1.588903  0.016166 -2.111463  2.384806  0.458637 -0.050976 -1.129862   \n",
       "\n",
       "             7         8         9  \n",
       "0    -0.050124  0.218827  0.176147  \n",
       "1    -0.235625  0.296684 -0.058316  \n",
       "2    -0.170262  0.184895 -0.182865  \n",
       "3     0.683781  0.169073 -3.260698  \n",
       "4    -0.181006  0.321829  0.074648  \n",
       "...        ...       ...       ...  \n",
       "2616 -0.408570  0.003852  0.455450  \n",
       "2617 -0.074991 -0.022358  0.563183  \n",
       "2618 -0.285827  0.122208 -0.329410  \n",
       "2619 -0.331030 -1.777106  0.519065  \n",
       "2620  0.542605  1.360260  0.109752  \n",
       "\n",
       "[2621 rows x 10 columns]"
      ]
     },
     "execution_count": 16,
     "metadata": {},
     "output_type": "execute_result"
    }
   ],
   "source": [
    "X_train3 = pd.DataFrame(X_train3)\n",
    "X_train3"
   ]
  },
  {
   "cell_type": "code",
   "execution_count": 17,
   "metadata": {
    "colab": {
     "base_uri": "https://localhost:8080/",
     "height": 504
    },
    "id": "O59ai7EUExd0",
    "outputId": "54a40afc-9426-4c1f-b758-f77413d61e68"
   },
   "outputs": [
    {
     "data": {
      "text/plain": [
       "<AxesSubplot:>"
      ]
     },
     "execution_count": 17,
     "metadata": {},
     "output_type": "execute_result"
    },
    {
     "data": {
      "image/png": "[encoded data removed]",
      "text/plain": [
       "<Figure size 720x576 with 2 Axes>"
      ]
     },
     "metadata": {
      "needs_background": "light"
     },
     "output_type": "display_data"
    }
   ],
   "source": [
    "fig = plt.figure(figsize=(10, 8))\n",
    "sns.heatmap(X_train3.corr(), \n",
    "            annot=True)\n"
   ]
  },
  {
   "cell_type": "markdown",
   "metadata": {
    "id": "CTwIA6sMFACB"
   },
   "source": [
    "We can see there is no correlation betweern features"
   ]
  },
  {
   "cell_type": "markdown",
   "metadata": {
    "id": "8kQLTg8_lL4b"
   },
   "source": [
    "*Logistic Regression*"
   ]
  },
  {
   "cell_type": "code",
   "execution_count": 18,
   "metadata": {
    "id": "Ttxa6mhijCQi"
   },
   "outputs": [],
   "source": [
    "\n",
    "\n",
    "from sklearn.linear_model import LogisticRegression\n",
    "clf = LogisticRegression(max_iter=2500)\n",
    "\n"
   ]
  },
  {
   "cell_type": "code",
   "execution_count": 19,
   "metadata": {
    "colab": {
     "base_uri": "https://localhost:8080/"
    },
    "id": "vGFQDMqsjFOh",
    "outputId": "2b7f4380-03b6-4e5f-861a-bc9ebcb0fde1"
   },
   "outputs": [
    {
     "data": {
      "text/plain": [
       "LogisticRegression(max_iter=2500)"
      ]
     },
     "execution_count": 19,
     "metadata": {},
     "output_type": "execute_result"
    }
   ],
   "source": [
    "# Train the model\n",
    "clf.fit(X_train1, y_train)\n"
   ]
  },
  {
   "cell_type": "code",
   "execution_count": 20,
   "metadata": {
    "id": "H5xrLsqjjI6u"
   },
   "outputs": [],
   "source": [
    "\n",
    "# Make predictions\n",
    "y_pred = clf.predict(X_test1) # Predictions\n",
    "y_true = y_test # True values\n",
    "\n"
   ]
  },
  {
   "cell_type": "code",
   "execution_count": 21,
   "metadata": {
    "colab": {
     "base_uri": "https://localhost:8080/"
    },
    "id": "UIr4BCG1jMDt",
    "outputId": "d9ea775d-f351-4de9-ee29-2074df2e15d1"
   },
   "outputs": [
    {
     "name": "stdout",
     "output_type": "stream",
     "text": [
      "Train accuracy: 0.79\n",
      "Test accuracy: 0.78\n"
     ]
    }
   ],
   "source": [
    "# Measure accuracy\n",
    "from sklearn.metrics import accuracy_score\n",
    "import numpy as np\n",
    "print(\"Train accuracy:\", np.round(accuracy_score(y_train, \n",
    "                                                 clf.predict(X_train1)), 2))\n",
    "print(\"Test accuracy:\", np.round(accuracy_score(y_true, y_pred1), 2))"
   ]
  },
  {
   "cell_type": "code",
   "execution_count": 22,
   "metadata": {
    "colab": {
     "base_uri": "https://localhost:8080/",
     "height": 661
    },
    "id": "qO-nafHH52Hw",
    "outputId": "09a80e3a-ce84-4017-a7b4-7f33557acdb9"
   },
   "outputs": [
    {
     "name": "stdout",
     "output_type": "stream",
     "text": [
      "\n",
      "Test confusion_matrix\n"
     ]
    },
    {
     "data": {
      "text/plain": [
       "Text(114.0, 0.5, 'True')"
      ]
     },
     "execution_count": 22,
     "metadata": {},
     "output_type": "execute_result"
    },
    {
     "data": {
      "image/png": "[encoded data removed]",
      "text/plain": [
       "<Figure size 1080x720 with 2 Axes>"
      ]
     },
     "metadata": {
      "needs_background": "light"
     },
     "output_type": "display_data"
    }
   ],
   "source": [
    "import seaborn as sns\n",
    "from sklearn.metrics import confusion_matrix\n",
    "import matplotlib.pyplot as plt\n",
    "\n",
    "fig = plt.figure(figsize=(15, 10))\n",
    "\n",
    "cf_matrix = confusion_matrix(y_true, y_pred1)\n",
    "print(\"\\nTest confusion_matrix\")\n",
    "sns.heatmap(cf_matrix, annot=True, cmap='Blues')\n",
    "plt.xlabel('Predicted', fontsize=12)\n",
    "plt.ylabel('True', fontsize=12)"
   ]
  },
  {
   "cell_type": "markdown",
   "metadata": {
    "id": "XA08g4MUrEFh"
   },
   "source": [
    "# Exportamos ambos dataset transformados"
   ]
  },
  {
   "cell_type": "code",
   "execution_count": 34,
   "metadata": {
    "colab": {
     "base_uri": "https://localhost:8080/"
    },
    "id": "RhVKCjZsrEFh",
    "outputId": "176d5604-cd8a-481c-98bf-87a464e96b87"
   },
   "outputs": [
    {
     "name": "stdout",
     "output_type": "stream",
     "text": [
      "             0         1         2         3         4         5         6  \\\n",
      "0     0.029099  0.391901  0.681459  0.304423  0.292165  0.511460  0.201800   \n",
      "1     0.029099  0.391902  0.409879  0.242791  0.302773  0.455490  0.044981   \n",
      "2     0.029099  0.391902  0.385268  0.241612  0.405786  0.468619  0.061877   \n",
      "3     0.014549  0.547583  0.312486  0.096819  0.287125  0.451900  0.036668   \n",
      "4     0.227935  0.351634  0.342420  0.044905  0.383895  0.503560  0.065978   \n",
      "...        ...       ...       ...       ...       ...       ...       ...   \n",
      "3272  0.014549  0.547583  0.514971  0.145255  0.322048  0.545248  0.033048   \n",
      "3273  0.014549  0.547583  0.447174  0.129698  0.334527  0.486074  0.037944   \n",
      "3274  0.591658  0.634306  0.482312  0.164169  0.294929  0.470760  0.062855   \n",
      "3275  0.227935  0.351634  0.454141  0.073147  0.449312  0.479268  0.045496   \n",
      "3276  0.014549  0.547583  0.516308  0.143004  0.275217  0.508148  0.199044   \n",
      "\n",
      "             7         8         9  ...        41        42        43  \\\n",
      "0     0.947075  0.452876  0.336188  ...  0.422578  0.485121  0.442114   \n",
      "1     0.224099  0.403079  0.459512  ...  0.422167  0.484411  0.442804   \n",
      "2     0.762822  0.208906  0.509402  ...  0.422030  0.485762  0.442582   \n",
      "3     0.368790  0.568856  0.241413  ...  0.422082  0.484576  0.442682   \n",
      "4     0.192338  0.310859  0.437578  ...  0.422154  0.484391  0.443135   \n",
      "...        ...       ...       ...  ...       ...       ...       ...   \n",
      "3272  0.379961  0.564497  0.230420  ...  0.422065  0.484297  0.442577   \n",
      "3273  0.908990  0.404079  0.307984  ...  0.422127  0.484512  0.442732   \n",
      "3274  0.581754  0.453156  0.684245  ...  0.422836  0.484311  0.444132   \n",
      "3275  0.276910  0.744258  0.755715  ...  0.422032  0.484444  0.442999   \n",
      "3276  0.936456  0.468025  0.357094  ...  0.422503  0.484781  0.442299   \n",
      "\n",
      "            44        45        46        47        48        49  \\\n",
      "0     0.487512  0.467046  0.359183  0.422763  0.456599  0.447982   \n",
      "1     0.487455  0.467202  0.358745  0.423361  0.453537  0.452859   \n",
      "2     0.486941  0.466011  0.359114  0.422972  0.453952  0.451144   \n",
      "3     0.488276  0.467590  0.358856  0.424169  0.455629  0.449062   \n",
      "4     0.487690  0.466701  0.357979  0.421960  0.457818  0.451517   \n",
      "...        ...       ...       ...       ...       ...       ...   \n",
      "3272  0.487968  0.466754  0.359062  0.423753  0.455838  0.447843   \n",
      "3273  0.488078  0.467147  0.359056  0.423902  0.455706  0.448256   \n",
      "3274  0.488368  0.466405  0.358107  0.424275  0.453044  0.447705   \n",
      "3275  0.487438  0.467028  0.359852  0.423184  0.456459  0.449020   \n",
      "3276  0.488062  0.467437  0.359068  0.422620  0.456288  0.449051   \n",
      "\n",
      "      good_bad_flag  \n",
      "0               1.0  \n",
      "1               0.0  \n",
      "2               1.0  \n",
      "3               1.0  \n",
      "4               1.0  \n",
      "...             ...  \n",
      "3272            0.0  \n",
      "3273            1.0  \n",
      "3274            1.0  \n",
      "3275            1.0  \n",
      "3276            1.0  \n",
      "\n",
      "[3277 rows x 51 columns]\n",
      "           0         1         2         3         4         5         6   \\\n",
      "0    0.014549  0.547583  0.651553  0.174163  0.280156  0.509168  0.025680   \n",
      "1    0.591658  0.634307  0.524415  0.180200  0.455804  0.466564  0.107894   \n",
      "2    0.227935  0.351634  0.385196  0.059726  0.521163  0.397330  0.060744   \n",
      "3    0.014549  0.547583  0.605203  0.165749  0.351853  0.428507  0.037704   \n",
      "4    0.029099  0.391902  0.365037  0.232372  0.285962  0.513552  0.216101   \n",
      "..        ...       ...       ...       ...       ...       ...       ...   \n",
      "380  0.014549  0.547583  0.267427  0.086535  0.272126  0.509359  0.033585   \n",
      "381  0.029099  0.391902  0.295898  0.219063  0.345247  0.491817  0.054859   \n",
      "382  0.029099  0.391902  0.364674  0.232475  0.301856  0.455333  0.045284   \n",
      "383  0.227935  0.351633  0.704882  0.125267  0.346617  0.467408  0.048665   \n",
      "384  0.029099  0.391901  0.432613  0.248120  0.290874  0.511909  0.028928   \n",
      "\n",
      "           7         8         9   ...        40        41        42  \\\n",
      "0    0.216823  0.429190  0.472480  ...  0.456397  0.422179  0.483921   \n",
      "1    0.480711  0.080195  0.404372  ...  0.456478  0.422501  0.484489   \n",
      "2    0.647391  0.576747  0.809622  ...  0.456265  0.422015  0.484826   \n",
      "3    0.890312  0.394163  0.289155  ...  0.456427  0.422139  0.484462   \n",
      "4    0.247615  0.441643  0.519774  ...  0.456329  0.422748  0.484746   \n",
      "..        ...       ...       ...  ...       ...       ...       ...   \n",
      "380  0.383896  0.578868  0.255342  ...  0.456658  0.422067  0.484529   \n",
      "381  0.234870  0.383772  0.452840  ...  0.456251  0.421960  0.485704   \n",
      "382  0.219795  0.396618  0.466253  ...  0.456487  0.422247  0.484788   \n",
      "383  0.172236  0.343690  0.429580  ...  0.456348  0.422702  0.484100   \n",
      "384  0.223535  0.520385  0.665156  ...  0.456597  0.422139  0.484540   \n",
      "\n",
      "           43        44        45        46        47        48        49  \n",
      "0    0.442397  0.487398  0.466871  0.358971  0.423331  0.455875  0.447754  \n",
      "1    0.442581  0.487375  0.465816  0.355713  0.423102  0.454142  0.447112  \n",
      "2    0.444088  0.487908  0.467425  0.356660  0.421269  0.454535  0.457332  \n",
      "3    0.442643  0.487763  0.467284  0.359088  0.424137  0.456385  0.447655  \n",
      "4    0.441884  0.488343  0.466839  0.359307  0.422602  0.452792  0.451357  \n",
      "..        ...       ...       ...       ...       ...       ...       ...  \n",
      "380  0.442708  0.488405  0.467329  0.358874  0.423964  0.455195  0.449129  \n",
      "381  0.442515  0.487082  0.466099  0.358971  0.423061  0.453621  0.451579  \n",
      "382  0.442624  0.487472  0.467118  0.358924  0.423757  0.455147  0.448942  \n",
      "383  0.443590  0.486918  0.466609  0.358428  0.424245  0.456684  0.447197  \n",
      "384  0.441941  0.486003  0.466576  0.358127  0.423961  0.455353  0.447844  \n",
      "\n",
      "[385 rows x 50 columns]\n"
     ]
    },
    {
     "ename": "FileNotFoundError",
     "evalue": "[Errno 2] No such file or directory: 'work/data/pca_train.csv'",
     "output_type": "error",
     "traceback": [
      "\u001b[0;31m---------------------------------------------------------------------------\u001b[0m",
      "\u001b[0;31mFileNotFoundError\u001b[0m                         Traceback (most recent call last)",
      "\u001b[0;32m<ipython-input-34-a9f434e44edf>\u001b[0m in \u001b[0;36m<module>\u001b[0;34m\u001b[0m\n\u001b[1;32m     21\u001b[0m \u001b[0mprint\u001b[0m\u001b[0;34m(\u001b[0m\u001b[0mtest\u001b[0m\u001b[0;34m)\u001b[0m\u001b[0;34m\u001b[0m\u001b[0;34m\u001b[0m\u001b[0m\n\u001b[1;32m     22\u001b[0m \u001b[0;34m\u001b[0m\u001b[0m\n\u001b[0;32m---> 23\u001b[0;31m \u001b[0mtrain\u001b[0m\u001b[0;34m.\u001b[0m\u001b[0mto_csv\u001b[0m\u001b[0;34m(\u001b[0m\u001b[0;34m\"work/data/pca_train.csv\"\u001b[0m\u001b[0;34m,\u001b[0m\u001b[0msep\u001b[0m\u001b[0;34m=\u001b[0m\u001b[0;34m';'\u001b[0m\u001b[0;34m,\u001b[0m \u001b[0mencoding\u001b[0m \u001b[0;34m=\u001b[0m \u001b[0;34m'utf8'\u001b[0m\u001b[0;34m,\u001b[0m\u001b[0mindex\u001b[0m\u001b[0;34m=\u001b[0m \u001b[0;32mFalse\u001b[0m\u001b[0;34m)\u001b[0m\u001b[0;34m\u001b[0m\u001b[0;34m\u001b[0m\u001b[0m\n\u001b[0m\u001b[1;32m     24\u001b[0m \u001b[0mtest\u001b[0m\u001b[0;34m.\u001b[0m\u001b[0mto_csv\u001b[0m\u001b[0;34m(\u001b[0m\u001b[0;34m\"pca_test.csv\"\u001b[0m\u001b[0;34m,\u001b[0m\u001b[0msep\u001b[0m\u001b[0;34m=\u001b[0m\u001b[0;34m';'\u001b[0m\u001b[0;34m,\u001b[0m \u001b[0mencoding\u001b[0m \u001b[0;34m=\u001b[0m \u001b[0;34m'utf8'\u001b[0m\u001b[0;34m,\u001b[0m\u001b[0mindex\u001b[0m\u001b[0;34m=\u001b[0m \u001b[0;32mFalse\u001b[0m\u001b[0;34m)\u001b[0m\u001b[0;34m\u001b[0m\u001b[0;34m\u001b[0m\u001b[0m\n",
      "\u001b[0;32m/opt/conda/lib/python3.9/site-packages/pandas/core/generic.py\u001b[0m in \u001b[0;36mto_csv\u001b[0;34m(self, path_or_buf, sep, na_rep, float_format, columns, header, index, index_label, mode, encoding, compression, quoting, quotechar, line_terminator, chunksize, date_format, doublequote, escapechar, decimal, errors, storage_options)\u001b[0m\n\u001b[1;32m   3385\u001b[0m         )\n\u001b[1;32m   3386\u001b[0m \u001b[0;34m\u001b[0m\u001b[0m\n\u001b[0;32m-> 3387\u001b[0;31m         return DataFrameRenderer(formatter).to_csv(\n\u001b[0m\u001b[1;32m   3388\u001b[0m             \u001b[0mpath_or_buf\u001b[0m\u001b[0;34m,\u001b[0m\u001b[0;34m\u001b[0m\u001b[0;34m\u001b[0m\u001b[0m\n\u001b[1;32m   3389\u001b[0m             \u001b[0mline_terminator\u001b[0m\u001b[0;34m=\u001b[0m\u001b[0mline_terminator\u001b[0m\u001b[0;34m,\u001b[0m\u001b[0;34m\u001b[0m\u001b[0;34m\u001b[0m\u001b[0m\n",
      "\u001b[0;32m/opt/conda/lib/python3.9/site-packages/pandas/io/formats/format.py\u001b[0m in \u001b[0;36mto_csv\u001b[0;34m(self, path_or_buf, encoding, sep, columns, index_label, mode, compression, quoting, quotechar, line_terminator, chunksize, date_format, doublequote, escapechar, errors, storage_options)\u001b[0m\n\u001b[1;32m   1081\u001b[0m             \u001b[0mformatter\u001b[0m\u001b[0;34m=\u001b[0m\u001b[0mself\u001b[0m\u001b[0;34m.\u001b[0m\u001b[0mfmt\u001b[0m\u001b[0;34m,\u001b[0m\u001b[0;34m\u001b[0m\u001b[0;34m\u001b[0m\u001b[0m\n\u001b[1;32m   1082\u001b[0m         )\n\u001b[0;32m-> 1083\u001b[0;31m         \u001b[0mcsv_formatter\u001b[0m\u001b[0;34m.\u001b[0m\u001b[0msave\u001b[0m\u001b[0;34m(\u001b[0m\u001b[0;34m)\u001b[0m\u001b[0;34m\u001b[0m\u001b[0;34m\u001b[0m\u001b[0m\n\u001b[0m\u001b[1;32m   1084\u001b[0m \u001b[0;34m\u001b[0m\u001b[0m\n\u001b[1;32m   1085\u001b[0m         \u001b[0;32mif\u001b[0m \u001b[0mcreated_buffer\u001b[0m\u001b[0;34m:\u001b[0m\u001b[0;34m\u001b[0m\u001b[0;34m\u001b[0m\u001b[0m\n",
      "\u001b[0;32m/opt/conda/lib/python3.9/site-packages/pandas/io/formats/csvs.py\u001b[0m in \u001b[0;36msave\u001b[0;34m(self)\u001b[0m\n\u001b[1;32m    226\u001b[0m         \"\"\"\n\u001b[1;32m    227\u001b[0m         \u001b[0;31m# apply compression and byte/text conversion\u001b[0m\u001b[0;34m\u001b[0m\u001b[0;34m\u001b[0m\u001b[0;34m\u001b[0m\u001b[0m\n\u001b[0;32m--> 228\u001b[0;31m         with get_handle(\n\u001b[0m\u001b[1;32m    229\u001b[0m             \u001b[0mself\u001b[0m\u001b[0;34m.\u001b[0m\u001b[0mfilepath_or_buffer\u001b[0m\u001b[0;34m,\u001b[0m\u001b[0;34m\u001b[0m\u001b[0;34m\u001b[0m\u001b[0m\n\u001b[1;32m    230\u001b[0m             \u001b[0mself\u001b[0m\u001b[0;34m.\u001b[0m\u001b[0mmode\u001b[0m\u001b[0;34m,\u001b[0m\u001b[0;34m\u001b[0m\u001b[0;34m\u001b[0m\u001b[0m\n",
      "\u001b[0;32m/opt/conda/lib/python3.9/site-packages/pandas/io/common.py\u001b[0m in \u001b[0;36mget_handle\u001b[0;34m(path_or_buf, mode, encoding, compression, memory_map, is_text, errors, storage_options)\u001b[0m\n\u001b[1;32m    640\u001b[0m                 \u001b[0merrors\u001b[0m \u001b[0;34m=\u001b[0m \u001b[0;34m\"replace\"\u001b[0m\u001b[0;34m\u001b[0m\u001b[0;34m\u001b[0m\u001b[0m\n\u001b[1;32m    641\u001b[0m             \u001b[0;31m# Encoding\u001b[0m\u001b[0;34m\u001b[0m\u001b[0;34m\u001b[0m\u001b[0;34m\u001b[0m\u001b[0m\n\u001b[0;32m--> 642\u001b[0;31m             handle = open(\n\u001b[0m\u001b[1;32m    643\u001b[0m                 \u001b[0mhandle\u001b[0m\u001b[0;34m,\u001b[0m\u001b[0;34m\u001b[0m\u001b[0;34m\u001b[0m\u001b[0m\n\u001b[1;32m    644\u001b[0m                 \u001b[0mioargs\u001b[0m\u001b[0;34m.\u001b[0m\u001b[0mmode\u001b[0m\u001b[0;34m,\u001b[0m\u001b[0;34m\u001b[0m\u001b[0;34m\u001b[0m\u001b[0m\n",
      "\u001b[0;31mFileNotFoundError\u001b[0m: [Errno 2] No such file or directory: 'work/data/pca_train.csv'"
     ]
    }
   ],
   "source": [
    "from sklearn.preprocessing import MinMaxScaler\n",
    "\n",
    "train = pd.read_csv(r\"https://raw.githubusercontent.com/medinaltbx/G6_DP3/master/data/input/merged_data/train/merged_train.csv\", sep=';')\n",
    "test = pd.read_csv(r\"https://raw.githubusercontent.com/medinaltbx/G6_DP3/master/data/input/merged_data/test/merged_test.csv\", sep=';')\n",
    "\n",
    "train, target_train = train.drop(columns=['good_bad_flag'] + ['customerid']), train[\"good_bad_flag\"]\n",
    "test = test.drop(columns=['customerid'],axis=1)\n",
    "\n",
    "pca10 = PCA(n_components=50)\n",
    "train = pd.DataFrame(pca10.fit_transform(train))\n",
    "test = pd.DataFrame(pca10.transform(test))\n",
    "\n",
    "sc = MinMaxScaler()\n",
    "train = pd.DataFrame(sc.fit_transform(train))\n",
    "test = pd.DataFrame(sc.transform(test))\n",
    "\n",
    "\n",
    "train[\"good_bad_flag\"] = target_train\n",
    "\n",
    "print(train)\n",
    "print(test)\n",
    "\n",
    "train.to_csv(\"pca_train.csv\",sep=';', encoding = 'utf8',index= False)\n",
    "test.to_csv(\"pca_test.csv\",sep=';', encoding = 'utf8',index= False)"
   ]
  }
 ],
 "metadata": {
  "colab": {
   "collapsed_sections": [],
   "name": "pca.ipynb",
   "provenance": []
  },
  "kernelspec": {
   "display_name": "Python 3",
   "language": "python",
   "name": "python3"
  },
  "language_info": {
   "codemirror_mode": {
    "name": "ipython",
    "version": 3
   },
   "file_extension": ".py",
   "mimetype": "text/x-python",
   "name": "python",
   "nbconvert_exporter": "python",
   "pygments_lexer": "ipython3",
   "version": "3.9.2"
  }
 },
 "nbformat": 4,
 "nbformat_minor": 1
}
