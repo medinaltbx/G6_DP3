{
 "cells": [
  {
   "cell_type": "code",
   "execution_count": 1,
   "metadata": {
    "id": "Ic0W_2e6lxE2"
   },
   "outputs": [],
   "source": [
    "import pandas as pd                    #gestionar dataframes\n",
    "import numpy as np  \n",
    "from sklearn.model_selection import train_test_split\n",
    "import seaborn as sns\n",
    "from sklearn.metrics import confusion_matrix\n",
    "import matplotlib.pyplot as plt\n",
    "from sklearn.metrics import accuracy_score\n",
    "import numpy as np"
   ]
  },
  {
   "cell_type": "code",
   "execution_count": 2,
   "metadata": {
    "colab": {
     "base_uri": "https://localhost:8080/",
     "height": 317
    },
    "id": "MTMoT_5Gmf3_",
    "outputId": "a4a51df2-663f-43dd-b330-2194e217c362"
   },
   "outputs": [
    {
     "data": {
      "text/html": [
       "<div>\n",
       "<style scoped>\n",
       "    .dataframe tbody tr th:only-of-type {\n",
       "        vertical-align: middle;\n",
       "    }\n",
       "\n",
       "    .dataframe tbody tr th {\n",
       "        vertical-align: top;\n",
       "    }\n",
       "\n",
       "    .dataframe thead th {\n",
       "        text-align: right;\n",
       "    }\n",
       "</style>\n",
       "<table border=\"1\" class=\"dataframe\">\n",
       "  <thead>\n",
       "    <tr style=\"text-align: right;\">\n",
       "      <th></th>\n",
       "      <th>customerid</th>\n",
       "      <th>edad</th>\n",
       "      <th>loannumber</th>\n",
       "      <th>loanamount</th>\n",
       "      <th>totaldue</th>\n",
       "      <th>termdays</th>\n",
       "      <th>referredby</th>\n",
       "      <th>good_bad_flag</th>\n",
       "      <th>times_loaned</th>\n",
       "      <th>times_late</th>\n",
       "      <th>...</th>\n",
       "      <th>employment_status_clients_Retired</th>\n",
       "      <th>employment_status_clients_Self-Employed</th>\n",
       "      <th>employment_status_clients_Student</th>\n",
       "      <th>employment_status_clients_UNKNOWN</th>\n",
       "      <th>employment_status_clients_Unemployed</th>\n",
       "      <th>level_of_education_clients_Graduate</th>\n",
       "      <th>level_of_education_clients_Post-Graduate</th>\n",
       "      <th>level_of_education_clients_Primary</th>\n",
       "      <th>level_of_education_clients_Secondary</th>\n",
       "      <th>level_of_education_clients_UNKNOWN</th>\n",
       "    </tr>\n",
       "  </thead>\n",
       "  <tbody>\n",
       "    <tr>\n",
       "      <th>0</th>\n",
       "      <td>8a858e135cb22031015cbafc76964ebd</td>\n",
       "      <td>48</td>\n",
       "      <td>2</td>\n",
       "      <td>10000.0</td>\n",
       "      <td>13000.0</td>\n",
       "      <td>30</td>\n",
       "      <td>1</td>\n",
       "      <td>1.0</td>\n",
       "      <td>1.0</td>\n",
       "      <td>0.0</td>\n",
       "      <td>...</td>\n",
       "      <td>0</td>\n",
       "      <td>0</td>\n",
       "      <td>0</td>\n",
       "      <td>1</td>\n",
       "      <td>0</td>\n",
       "      <td>0</td>\n",
       "      <td>0</td>\n",
       "      <td>0</td>\n",
       "      <td>0</td>\n",
       "      <td>1</td>\n",
       "    </tr>\n",
       "    <tr>\n",
       "      <th>1</th>\n",
       "      <td>8a858e275c7ea5ec015c82482d7c3996</td>\n",
       "      <td>36</td>\n",
       "      <td>2</td>\n",
       "      <td>10000.0</td>\n",
       "      <td>13000.0</td>\n",
       "      <td>30</td>\n",
       "      <td>0</td>\n",
       "      <td>0.0</td>\n",
       "      <td>1.0</td>\n",
       "      <td>1.0</td>\n",
       "      <td>...</td>\n",
       "      <td>0</td>\n",
       "      <td>0</td>\n",
       "      <td>0</td>\n",
       "      <td>0</td>\n",
       "      <td>0</td>\n",
       "      <td>0</td>\n",
       "      <td>0</td>\n",
       "      <td>0</td>\n",
       "      <td>0</td>\n",
       "      <td>1</td>\n",
       "    </tr>\n",
       "    <tr>\n",
       "      <th>2</th>\n",
       "      <td>8a858e5b5bd99460015bdc95cd485634</td>\n",
       "      <td>35</td>\n",
       "      <td>4</td>\n",
       "      <td>10000.0</td>\n",
       "      <td>13000.0</td>\n",
       "      <td>30</td>\n",
       "      <td>0</td>\n",
       "      <td>1.0</td>\n",
       "      <td>3.0</td>\n",
       "      <td>2.0</td>\n",
       "      <td>...</td>\n",
       "      <td>0</td>\n",
       "      <td>0</td>\n",
       "      <td>0</td>\n",
       "      <td>1</td>\n",
       "      <td>0</td>\n",
       "      <td>0</td>\n",
       "      <td>0</td>\n",
       "      <td>0</td>\n",
       "      <td>0</td>\n",
       "      <td>1</td>\n",
       "    </tr>\n",
       "    <tr>\n",
       "      <th>3</th>\n",
       "      <td>8a858efd5ca70688015cabd1f1e94b55</td>\n",
       "      <td>30</td>\n",
       "      <td>2</td>\n",
       "      <td>10000.0</td>\n",
       "      <td>11500.0</td>\n",
       "      <td>15</td>\n",
       "      <td>0</td>\n",
       "      <td>1.0</td>\n",
       "      <td>1.0</td>\n",
       "      <td>1.0</td>\n",
       "      <td>...</td>\n",
       "      <td>0</td>\n",
       "      <td>0</td>\n",
       "      <td>0</td>\n",
       "      <td>0</td>\n",
       "      <td>0</td>\n",
       "      <td>0</td>\n",
       "      <td>0</td>\n",
       "      <td>0</td>\n",
       "      <td>0</td>\n",
       "      <td>1</td>\n",
       "    </tr>\n",
       "    <tr>\n",
       "      <th>4</th>\n",
       "      <td>8a858ea05a859123015a8892914d15b7</td>\n",
       "      <td>31</td>\n",
       "      <td>6</td>\n",
       "      <td>20000.0</td>\n",
       "      <td>24500.0</td>\n",
       "      <td>30</td>\n",
       "      <td>0</td>\n",
       "      <td>1.0</td>\n",
       "      <td>5.0</td>\n",
       "      <td>2.0</td>\n",
       "      <td>...</td>\n",
       "      <td>0</td>\n",
       "      <td>0</td>\n",
       "      <td>0</td>\n",
       "      <td>0</td>\n",
       "      <td>0</td>\n",
       "      <td>0</td>\n",
       "      <td>0</td>\n",
       "      <td>0</td>\n",
       "      <td>0</td>\n",
       "      <td>1</td>\n",
       "    </tr>\n",
       "  </tbody>\n",
       "</table>\n",
       "<p>5 rows × 79 columns</p>\n",
       "</div>"
      ],
      "text/plain": [
       "                         customerid  edad  loannumber  loanamount  totaldue  \\\n",
       "0  8a858e135cb22031015cbafc76964ebd    48           2     10000.0   13000.0   \n",
       "1  8a858e275c7ea5ec015c82482d7c3996    36           2     10000.0   13000.0   \n",
       "2  8a858e5b5bd99460015bdc95cd485634    35           4     10000.0   13000.0   \n",
       "3  8a858efd5ca70688015cabd1f1e94b55    30           2     10000.0   11500.0   \n",
       "4  8a858ea05a859123015a8892914d15b7    31           6     20000.0   24500.0   \n",
       "\n",
       "   termdays  referredby  good_bad_flag  times_loaned  times_late  ...  \\\n",
       "0        30           1            1.0           1.0         0.0  ...   \n",
       "1        30           0            0.0           1.0         1.0  ...   \n",
       "2        30           0            1.0           3.0         2.0  ...   \n",
       "3        15           0            1.0           1.0         1.0  ...   \n",
       "4        30           0            1.0           5.0         2.0  ...   \n",
       "\n",
       "   employment_status_clients_Retired  employment_status_clients_Self-Employed  \\\n",
       "0                                  0                                        0   \n",
       "1                                  0                                        0   \n",
       "2                                  0                                        0   \n",
       "3                                  0                                        0   \n",
       "4                                  0                                        0   \n",
       "\n",
       "   employment_status_clients_Student  employment_status_clients_UNKNOWN  \\\n",
       "0                                  0                                  1   \n",
       "1                                  0                                  0   \n",
       "2                                  0                                  1   \n",
       "3                                  0                                  0   \n",
       "4                                  0                                  0   \n",
       "\n",
       "   employment_status_clients_Unemployed  level_of_education_clients_Graduate  \\\n",
       "0                                     0                                    0   \n",
       "1                                     0                                    0   \n",
       "2                                     0                                    0   \n",
       "3                                     0                                    0   \n",
       "4                                     0                                    0   \n",
       "\n",
       "   level_of_education_clients_Post-Graduate  \\\n",
       "0                                         0   \n",
       "1                                         0   \n",
       "2                                         0   \n",
       "3                                         0   \n",
       "4                                         0   \n",
       "\n",
       "   level_of_education_clients_Primary  level_of_education_clients_Secondary  \\\n",
       "0                                   0                                     0   \n",
       "1                                   0                                     0   \n",
       "2                                   0                                     0   \n",
       "3                                   0                                     0   \n",
       "4                                   0                                     0   \n",
       "\n",
       "   level_of_education_clients_UNKNOWN  \n",
       "0                                   1  \n",
       "1                                   1  \n",
       "2                                   1  \n",
       "3                                   1  \n",
       "4                                   1  \n",
       "\n",
       "[5 rows x 79 columns]"
      ]
     },
     "execution_count": 2,
     "metadata": {},
     "output_type": "execute_result"
    }
   ],
   "source": [
    "dfpca = pd.read_csv(r\"https://raw.githubusercontent.com/medinaltbx/G6_DP3/master/data/input/merged_data/train/merged_train.csv\", sep=';' , decimal='.')\n",
    "dfpca.head()\n"
   ]
  },
  {
   "cell_type": "code",
   "execution_count": 3,
   "metadata": {
    "id": "x8zVVJGwmjDw"
   },
   "outputs": [],
   "source": [
    "X = dfpca.drop(columns=['good_bad_flag'] + ['customerid'])\n",
    "y = dfpca['good_bad_flag']\n",
    "\n"
   ]
  },
  {
   "cell_type": "code",
   "execution_count": 4,
   "metadata": {
    "id": "yk8bVac9O9g9"
   },
   "outputs": [],
   "source": [
    "from sklearn.preprocessing import StandardScaler\n",
    "sc = StandardScaler()\n",
    "\n",
    "X = sc.fit_transform(X)\n"
   ]
  },
  {
   "cell_type": "code",
   "execution_count": 5,
   "metadata": {
    "colab": {
     "base_uri": "https://localhost:8080/"
    },
    "id": "LLa4o9tUQDA2",
    "outputId": "51ed4891-0bd3-4c9b-b8e0-284315bdd5b8"
   },
   "outputs": [
    {
     "name": "stdout",
     "output_type": "stream",
     "text": [
      "-1.148902568432962e-17\n",
      "0.9610389610389612\n"
     ]
    }
   ],
   "source": [
    "#here we want to check wether mean tends to 0 and variance =1\n",
    "\n",
    "print(np.mean(X))\n",
    "print(np.var(X))\n"
   ]
  },
  {
   "cell_type": "code",
   "execution_count": 6,
   "metadata": {
    "id": "w-t0nedImpyM"
   },
   "outputs": [],
   "source": [
    "X_train, X_test, y_train, y_test = train_test_split(X, y, test_size=0.2, random_state=0)\n"
   ]
  },
  {
   "cell_type": "code",
   "execution_count": 7,
   "metadata": {
    "colab": {
     "base_uri": "https://localhost:8080/"
    },
    "id": "0sVq68TRdHe4",
    "outputId": "87920d8a-cfcd-43c5-ca5f-8b416481d550"
   },
   "outputs": [
    {
     "name": "stdout",
     "output_type": "stream",
     "text": [
      "-0.00045200702135016907\n",
      "0.9510630498568969\n"
     ]
    }
   ],
   "source": [
    "print(np.mean(X_train))\n",
    "print(np.var(X_train))"
   ]
  },
  {
   "cell_type": "code",
   "execution_count": 8,
   "metadata": {
    "id": "zXOQNJIUeng9"
   },
   "outputs": [],
   "source": [
    "from sklearn.decomposition import PCA\n"
   ]
  },
  {
   "cell_type": "markdown",
   "metadata": {
    "id": "u3qKGYp3Bh3V"
   },
   "source": [
    "PCA WITH ALL FEATURES"
   ]
  },
  {
   "cell_type": "code",
   "execution_count": 9,
   "metadata": {
    "id": "yvu7VYZ8nPB5"
   },
   "outputs": [],
   "source": [
    "#PCA with all features\n",
    "\n",
    "\n",
    "pca = PCA()\n",
    "X_train1 = pca.fit_transform(X_train)\n",
    "X_test1 = pca.transform(X_test)"
   ]
  },
  {
   "cell_type": "code",
   "execution_count": 10,
   "metadata": {
    "colab": {
     "base_uri": "https://localhost:8080/"
    },
    "id": "Om1uIyXFnlcO",
    "outputId": "3da22e26-b96a-496e-8c16-4fc0d8890b74"
   },
   "outputs": [
    {
     "name": "stdout",
     "output_type": "stream",
     "text": [
      "[8.26186412e-02 3.42717383e-02 2.50381016e-02 2.43538143e-02\n",
      " 2.23724570e-02 2.05833631e-02 2.02278259e-02 1.97644643e-02\n",
      " 1.89365046e-02 1.85247347e-02 1.84117506e-02 1.81865138e-02\n",
      " 1.80471785e-02 1.77354136e-02 1.76278123e-02 1.75045405e-02\n",
      " 1.74114241e-02 1.72840553e-02 1.71979427e-02 1.71564252e-02\n",
      " 1.71024024e-02 1.70907977e-02 1.70805386e-02 1.70803132e-02\n",
      " 1.70793554e-02 1.70792956e-02 1.70792865e-02 1.70792865e-02\n",
      " 1.70733780e-02 1.69566886e-02 1.67248969e-02 1.66792260e-02\n",
      " 1.62145986e-02 1.53765193e-02 1.50302817e-02 1.49174417e-02\n",
      " 1.47391544e-02 1.44308502e-02 1.43309282e-02 1.42341184e-02\n",
      " 1.38933163e-02 1.38043366e-02 1.35556144e-02 1.33678058e-02\n",
      " 1.31045492e-02 1.26931202e-02 1.25815004e-02 1.23021413e-02\n",
      " 1.20816674e-02 1.16688942e-02 1.14294044e-02 1.13601930e-02\n",
      " 1.06674862e-02 1.01624960e-02 1.00074767e-02 9.60474239e-03\n",
      " 9.27370923e-03 6.87531269e-03 2.69477654e-03 2.21324151e-03\n",
      " 2.30878964e-05 1.06824393e-06 2.21925042e-32 5.50730985e-33\n",
      " 4.51557421e-33 1.89961264e-33 1.69723606e-33 6.32500585e-34\n",
      " 6.30728149e-34 6.30728149e-34 6.30728149e-34 6.30728149e-34\n",
      " 6.30728149e-34 6.30728149e-34 6.30728149e-34 6.30728149e-34\n",
      " 1.72502819e-34]\n"
     ]
    }
   ],
   "source": [
    "#returns the variance caused by each of the principal components.\n",
    "explained_variance = pca.explained_variance_ratio_\n",
    "print(explained_variance)"
   ]
  },
  {
   "cell_type": "code",
   "execution_count": 11,
   "metadata": {
    "colab": {
     "base_uri": "https://localhost:8080/",
     "height": 296
    },
    "id": "44GPrHRq8yNK",
    "outputId": "e7855c04-5a7b-44e6-96d7-4209d2828f8c"
   },
   "outputs": [
    {
     "data": {
      "text/plain": [
       "Text(0, 0.5, 'Explained variance (%)')"
      ]
     },
     "execution_count": 11,
     "metadata": {},
     "output_type": "execute_result"
    },
    {
     "data": {
      "image/png": "[encoded data removed]",
      "text/plain": [
       "<Figure size 432x288 with 1 Axes>"
      ]
     },
     "metadata": {
      "needs_background": "light"
     },
     "output_type": "display_data"
    }
   ],
   "source": [
    "plt.plot(np.cumsum(pca.explained_variance_ratio_ * 100))\n",
    "plt.xlabel(\"Number of components (Dimensions)\")\n",
    "plt.ylabel(\"Explained variance (%)\")"
   ]
  },
  {
   "cell_type": "markdown",
   "metadata": {
    "id": "oshgIvAy9p1z"
   },
   "source": [
    "The first component alone captures about 8% variability in the data and the second one captures about 3,5% variability in the data and so on. We have to fet above 50 components to achieve 80% variability in the data."
   ]
  },
  {
   "cell_type": "markdown",
   "metadata": {
    "id": "9ep9ushuBuxz"
   },
   "source": [
    "Apply Random forest with all features:\n"
   ]
  },
  {
   "cell_type": "code",
   "execution_count": 12,
   "metadata": {
    "colab": {
     "base_uri": "https://localhost:8080/"
    },
    "id": "kghaVnDunvbc",
    "outputId": "cb2d6096-df3e-4316-84ab-e44ac3427415"
   },
   "outputs": [
    {
     "name": "stdout",
     "output_type": "stream",
     "text": [
      "[[  0 143]\n",
      " [  0 513]]\n",
      "0.7820121951219512\n"
     ]
    }
   ],
   "source": [
    "from sklearn.ensemble import RandomForestClassifier\n",
    "\n",
    "classifier = RandomForestClassifier(max_depth=2, random_state=0)\n",
    "classifier.fit(X_train1, y_train)\n",
    "\n",
    "# Predicting the Test set results\n",
    "y_pred1 = classifier.predict(X_test1)\n",
    "\n",
    "from sklearn.metrics import confusion_matrix\n",
    "from sklearn.metrics import accuracy_score\n",
    "\n",
    "cm = confusion_matrix(y_test, y_pred1)\n",
    "print(cm)\n",
    "print(accuracy_score(y_test, y_pred1))"
   ]
  },
  {
   "cell_type": "markdown",
   "metadata": {
    "id": "1BY8kPYz5lHJ"
   },
   "source": [
    "PCA - 50 **components**:"
   ]
  },
  {
   "cell_type": "code",
   "execution_count": 13,
   "metadata": {
    "id": "DtouGFdCjPjR"
   },
   "outputs": [],
   "source": [
    "pca1 = PCA(n_components=50)\n",
    "X_train2 = pca1.fit_transform(X_train)\n",
    "X_test2 = pca1.transform(X_test)\n"
   ]
  },
  {
   "cell_type": "code",
   "execution_count": 14,
   "metadata": {
    "colab": {
     "base_uri": "https://localhost:8080/"
    },
    "id": "GMX9Zk9Bh9aW",
    "outputId": "3c3a6f56-35ce-4051-e005-1a38469edfe8",
    "tags": []
   },
   "outputs": [
    {
     "name": "stdout",
     "output_type": "stream",
     "text": [
      "[0.08261864 0.03427174 0.0250381  0.02435381 0.02237246 0.02058336\n",
      " 0.02022783 0.01976446 0.0189365  0.01852473 0.01841175 0.01818651\n",
      " 0.01804718 0.01773541 0.01762781 0.01750454 0.01741142 0.01728406\n",
      " 0.01719794 0.01715643 0.0171024  0.0170908  0.01708054 0.01708031\n",
      " 0.01707936 0.0170793  0.01707929 0.01707929 0.01707338 0.01695669\n",
      " 0.0167249  0.01667923 0.0162146  0.01537652 0.01503028 0.01491744\n",
      " 0.01473915 0.01443085 0.01433093 0.01423412 0.01389332 0.01380434\n",
      " 0.01355561 0.01336781 0.01310455 0.01269312 0.0125815  0.01230214\n",
      " 0.01208167 0.01166889]\n"
     ]
    }
   ],
   "source": [
    "explained_variance2 = pca1.explained_variance_ratio_\n",
    "print(explained_variance2)"
   ]
  },
  {
   "cell_type": "code",
   "execution_count": 15,
   "metadata": {
    "colab": {
     "base_uri": "https://localhost:8080/"
    },
    "id": "5z5ZC9LoRkPW",
    "outputId": "c3704df1-2c83-4dfa-fb10-2825f533d172"
   },
   "outputs": [
    {
     "name": "stdout",
     "output_type": "stream",
     "text": [
      "[[  0 143]\n",
      " [  0 513]]\n",
      "0.7820121951219512\n"
     ]
    }
   ],
   "source": [
    "from sklearn.ensemble import RandomForestClassifier\n",
    "\n",
    "classifier = RandomForestClassifier(max_depth=2, random_state=0)\n",
    "classifier.fit(X_train2, y_train)\n",
    "\n",
    "# Predicting the Test set results\n",
    "y_pred2 = classifier.predict(X_test2)\n",
    "\n",
    "from sklearn.metrics import confusion_matrix\n",
    "from sklearn.metrics import accuracy_score\n",
    "\n",
    "cm = confusion_matrix(y_test, y_pred2)\n",
    "print(cm)\n",
    "print(accuracy_score(y_test, y_pred2))"
   ]
  },
  {
   "cell_type": "markdown",
   "metadata": {
    "id": "bKKU-01W5aPL"
   },
   "source": [
    "PCA - 10 component:"
   ]
  },
  {
   "cell_type": "code",
   "execution_count": 16,
   "metadata": {
    "colab": {
     "base_uri": "https://localhost:8080/"
    },
    "id": "V5zBE9W3ju3X",
    "outputId": "7ac8dd23-181b-445c-cd9c-c0bcf1725b8d"
   },
   "outputs": [
    {
     "name": "stdout",
     "output_type": "stream",
     "text": [
      "[[  0 143]\n",
      " [  0 513]]\n",
      "0.7820121951219512\n"
     ]
    }
   ],
   "source": [
    "pca2 = PCA(n_components=10)\n",
    "X_train3 = pca2.fit_transform(X_train)\n",
    "X_test3 = pca2.transform(X_test)\n",
    "\n",
    "classifier = RandomForestClassifier(max_depth=2, random_state=0)\n",
    "classifier.fit(X_train3, y_train)\n",
    "\n",
    "# Predicting the Test set results\n",
    "y_pred3 = classifier.predict(X_test3)\n",
    "\n",
    "\n",
    "cm = confusion_matrix(y_test, y_pred3)\n",
    "print(cm)\n",
    "print(accuracy_score(y_test, y_pred3))"
   ]
  },
  {
   "cell_type": "code",
   "execution_count": 17,
   "metadata": {
    "colab": {
     "base_uri": "https://localhost:8080/",
     "height": 424
    },
    "id": "xPupSdTlEyYD",
    "outputId": "a04da20a-60bf-4e68-c3ef-d00069b9b703"
   },
   "outputs": [
    {
     "data": {
      "text/html": [
       "<div>\n",
       "<style scoped>\n",
       "    .dataframe tbody tr th:only-of-type {\n",
       "        vertical-align: middle;\n",
       "    }\n",
       "\n",
       "    .dataframe tbody tr th {\n",
       "        vertical-align: top;\n",
       "    }\n",
       "\n",
       "    .dataframe thead th {\n",
       "        text-align: right;\n",
       "    }\n",
       "</style>\n",
       "<table border=\"1\" class=\"dataframe\">\n",
       "  <thead>\n",
       "    <tr style=\"text-align: right;\">\n",
       "      <th></th>\n",
       "      <th>0</th>\n",
       "      <th>1</th>\n",
       "      <th>2</th>\n",
       "      <th>3</th>\n",
       "      <th>4</th>\n",
       "      <th>5</th>\n",
       "      <th>6</th>\n",
       "      <th>7</th>\n",
       "      <th>8</th>\n",
       "      <th>9</th>\n",
       "    </tr>\n",
       "  </thead>\n",
       "  <tbody>\n",
       "    <tr>\n",
       "      <th>0</th>\n",
       "      <td>-1.586438</td>\n",
       "      <td>0.085959</td>\n",
       "      <td>-0.458590</td>\n",
       "      <td>-0.858518</td>\n",
       "      <td>-0.020707</td>\n",
       "      <td>-0.637985</td>\n",
       "      <td>0.793632</td>\n",
       "      <td>0.357894</td>\n",
       "      <td>0.042265</td>\n",
       "      <td>-0.202104</td>\n",
       "    </tr>\n",
       "    <tr>\n",
       "      <th>1</th>\n",
       "      <td>-2.103138</td>\n",
       "      <td>0.184913</td>\n",
       "      <td>-0.317946</td>\n",
       "      <td>-1.232605</td>\n",
       "      <td>0.325536</td>\n",
       "      <td>-0.708045</td>\n",
       "      <td>0.707387</td>\n",
       "      <td>0.019560</td>\n",
       "      <td>0.045232</td>\n",
       "      <td>-0.397979</td>\n",
       "    </tr>\n",
       "    <tr>\n",
       "      <th>2</th>\n",
       "      <td>-0.935532</td>\n",
       "      <td>-0.142857</td>\n",
       "      <td>-0.659230</td>\n",
       "      <td>-0.630296</td>\n",
       "      <td>-0.336877</td>\n",
       "      <td>-0.927958</td>\n",
       "      <td>0.528468</td>\n",
       "      <td>-0.113181</td>\n",
       "      <td>0.103771</td>\n",
       "      <td>-0.339722</td>\n",
       "    </tr>\n",
       "    <tr>\n",
       "      <th>3</th>\n",
       "      <td>2.125045</td>\n",
       "      <td>-1.213439</td>\n",
       "      <td>0.628327</td>\n",
       "      <td>0.114186</td>\n",
       "      <td>-2.033684</td>\n",
       "      <td>-1.201977</td>\n",
       "      <td>-1.573677</td>\n",
       "      <td>-3.585399</td>\n",
       "      <td>1.380955</td>\n",
       "      <td>0.280185</td>\n",
       "    </tr>\n",
       "    <tr>\n",
       "      <th>4</th>\n",
       "      <td>3.752706</td>\n",
       "      <td>-1.086266</td>\n",
       "      <td>-1.082308</td>\n",
       "      <td>0.075566</td>\n",
       "      <td>-0.097130</td>\n",
       "      <td>-0.665113</td>\n",
       "      <td>0.753117</td>\n",
       "      <td>0.427626</td>\n",
       "      <td>0.217337</td>\n",
       "      <td>-0.428506</td>\n",
       "    </tr>\n",
       "    <tr>\n",
       "      <th>...</th>\n",
       "      <td>...</td>\n",
       "      <td>...</td>\n",
       "      <td>...</td>\n",
       "      <td>...</td>\n",
       "      <td>...</td>\n",
       "      <td>...</td>\n",
       "      <td>...</td>\n",
       "      <td>...</td>\n",
       "      <td>...</td>\n",
       "      <td>...</td>\n",
       "    </tr>\n",
       "    <tr>\n",
       "      <th>2616</th>\n",
       "      <td>4.870412</td>\n",
       "      <td>0.704643</td>\n",
       "      <td>2.157061</td>\n",
       "      <td>-0.700250</td>\n",
       "      <td>2.133643</td>\n",
       "      <td>-0.476452</td>\n",
       "      <td>0.259980</td>\n",
       "      <td>0.065925</td>\n",
       "      <td>-0.282187</td>\n",
       "      <td>-0.241961</td>\n",
       "    </tr>\n",
       "    <tr>\n",
       "      <th>2617</th>\n",
       "      <td>-1.708913</td>\n",
       "      <td>0.170698</td>\n",
       "      <td>-0.670951</td>\n",
       "      <td>-0.671316</td>\n",
       "      <td>-0.629029</td>\n",
       "      <td>0.999908</td>\n",
       "      <td>0.519890</td>\n",
       "      <td>0.322157</td>\n",
       "      <td>-0.472013</td>\n",
       "      <td>0.244892</td>\n",
       "    </tr>\n",
       "    <tr>\n",
       "      <th>2618</th>\n",
       "      <td>-2.349314</td>\n",
       "      <td>0.159948</td>\n",
       "      <td>-0.556955</td>\n",
       "      <td>1.348315</td>\n",
       "      <td>0.974340</td>\n",
       "      <td>-1.044929</td>\n",
       "      <td>0.415641</td>\n",
       "      <td>-0.460156</td>\n",
       "      <td>0.274458</td>\n",
       "      <td>-0.441967</td>\n",
       "    </tr>\n",
       "    <tr>\n",
       "      <th>2619</th>\n",
       "      <td>6.185907</td>\n",
       "      <td>0.389651</td>\n",
       "      <td>1.306675</td>\n",
       "      <td>0.439107</td>\n",
       "      <td>0.993866</td>\n",
       "      <td>0.414368</td>\n",
       "      <td>-1.316517</td>\n",
       "      <td>0.363594</td>\n",
       "      <td>-0.540546</td>\n",
       "      <td>0.270523</td>\n",
       "    </tr>\n",
       "    <tr>\n",
       "      <th>2620</th>\n",
       "      <td>-1.588644</td>\n",
       "      <td>-0.020039</td>\n",
       "      <td>-1.015946</td>\n",
       "      <td>2.845605</td>\n",
       "      <td>0.828509</td>\n",
       "      <td>-0.109467</td>\n",
       "      <td>-0.957160</td>\n",
       "      <td>-0.134104</td>\n",
       "      <td>0.992547</td>\n",
       "      <td>-0.718125</td>\n",
       "    </tr>\n",
       "  </tbody>\n",
       "</table>\n",
       "<p>2621 rows × 10 columns</p>\n",
       "</div>"
      ],
      "text/plain": [
       "             0         1         2         3         4         5         6  \\\n",
       "0    -1.586438  0.085959 -0.458590 -0.858518 -0.020707 -0.637985  0.793632   \n",
       "1    -2.103138  0.184913 -0.317946 -1.232605  0.325536 -0.708045  0.707387   \n",
       "2    -0.935532 -0.142857 -0.659230 -0.630296 -0.336877 -0.927958  0.528468   \n",
       "3     2.125045 -1.213439  0.628327  0.114186 -2.033684 -1.201977 -1.573677   \n",
       "4     3.752706 -1.086266 -1.082308  0.075566 -0.097130 -0.665113  0.753117   \n",
       "...        ...       ...       ...       ...       ...       ...       ...   \n",
       "2616  4.870412  0.704643  2.157061 -0.700250  2.133643 -0.476452  0.259980   \n",
       "2617 -1.708913  0.170698 -0.670951 -0.671316 -0.629029  0.999908  0.519890   \n",
       "2618 -2.349314  0.159948 -0.556955  1.348315  0.974340 -1.044929  0.415641   \n",
       "2619  6.185907  0.389651  1.306675  0.439107  0.993866  0.414368 -1.316517   \n",
       "2620 -1.588644 -0.020039 -1.015946  2.845605  0.828509 -0.109467 -0.957160   \n",
       "\n",
       "             7         8         9  \n",
       "0     0.357894  0.042265 -0.202104  \n",
       "1     0.019560  0.045232 -0.397979  \n",
       "2    -0.113181  0.103771 -0.339722  \n",
       "3    -3.585399  1.380955  0.280185  \n",
       "4     0.427626  0.217337 -0.428506  \n",
       "...        ...       ...       ...  \n",
       "2616  0.065925 -0.282187 -0.241961  \n",
       "2617  0.322157 -0.472013  0.244892  \n",
       "2618 -0.460156  0.274458 -0.441967  \n",
       "2619  0.363594 -0.540546  0.270523  \n",
       "2620 -0.134104  0.992547 -0.718125  \n",
       "\n",
       "[2621 rows x 10 columns]"
      ]
     },
     "execution_count": 17,
     "metadata": {},
     "output_type": "execute_result"
    }
   ],
   "source": [
    "X_train3 = pd.DataFrame(X_train3)\n",
    "X_train3"
   ]
  },
  {
   "cell_type": "code",
   "execution_count": 18,
   "metadata": {
    "colab": {
     "base_uri": "https://localhost:8080/",
     "height": 504
    },
    "id": "O59ai7EUExd0",
    "outputId": "0fb803c9-7279-49ee-9df3-953e5c1ecb8e"
   },
   "outputs": [
    {
     "data": {
      "text/plain": [
       "<AxesSubplot:>"
      ]
     },
     "execution_count": 18,
     "metadata": {},
     "output_type": "execute_result"
    },
    {
     "data": {
      "image/png": "[encoded data removed]",
      "text/plain": [
       "<Figure size 720x576 with 2 Axes>"
      ]
     },
     "metadata": {
      "needs_background": "light"
     },
     "output_type": "display_data"
    }
   ],
   "source": [
    "fig = plt.figure(figsize=(10, 8))\n",
    "sns.heatmap(X_train3.corr(), \n",
    "            annot=True)\n"
   ]
  },
  {
   "cell_type": "markdown",
   "metadata": {
    "id": "CTwIA6sMFACB"
   },
   "source": [
    "We can see there is no correlation betweern features"
   ]
  },
  {
   "cell_type": "markdown",
   "metadata": {
    "id": "8kQLTg8_lL4b"
   },
   "source": [
    "*Logistic Regression*"
   ]
  },
  {
   "cell_type": "code",
   "execution_count": 19,
   "metadata": {
    "id": "Ttxa6mhijCQi"
   },
   "outputs": [],
   "source": [
    "\n",
    "\n",
    "from sklearn.linear_model import LogisticRegression\n",
    "clf = LogisticRegression(max_iter=2500)\n",
    "\n"
   ]
  },
  {
   "cell_type": "code",
   "execution_count": 20,
   "metadata": {
    "colab": {
     "base_uri": "https://localhost:8080/"
    },
    "id": "vGFQDMqsjFOh",
    "outputId": "60b48645-64d2-430b-e5b2-9eec80a3f08d"
   },
   "outputs": [
    {
     "data": {
      "text/plain": [
       "LogisticRegression(max_iter=2500)"
      ]
     },
     "execution_count": 20,
     "metadata": {},
     "output_type": "execute_result"
    }
   ],
   "source": [
    "# Train the model\n",
    "clf.fit(X_train1, y_train)\n"
   ]
  },
  {
   "cell_type": "code",
   "execution_count": 21,
   "metadata": {
    "id": "H5xrLsqjjI6u"
   },
   "outputs": [],
   "source": [
    "\n",
    "# Make predictions\n",
    "y_pred = clf.predict(X_test1) # Predictions\n",
    "y_true = y_test # True values\n",
    "\n"
   ]
  },
  {
   "cell_type": "code",
   "execution_count": 22,
   "metadata": {
    "colab": {
     "base_uri": "https://localhost:8080/"
    },
    "id": "UIr4BCG1jMDt",
    "outputId": "f3816be1-cba1-4eb9-e582-d68da34706a2"
   },
   "outputs": [
    {
     "name": "stdout",
     "output_type": "stream",
     "text": [
      "Train accuracy: 0.79\n",
      "Test accuracy: 0.78\n"
     ]
    }
   ],
   "source": [
    "# Measure accuracy\n",
    "from sklearn.metrics import accuracy_score\n",
    "import numpy as np\n",
    "print(\"Train accuracy:\", np.round(accuracy_score(y_train, \n",
    "                                                 clf.predict(X_train1)), 2))\n",
    "print(\"Test accuracy:\", np.round(accuracy_score(y_true, y_pred1), 2))"
   ]
  },
  {
   "cell_type": "code",
   "execution_count": 23,
   "metadata": {
    "colab": {
     "base_uri": "https://localhost:8080/",
     "height": 661
    },
    "id": "qO-nafHH52Hw",
    "outputId": "69c2eb28-dd03-48ed-daf8-c4e8490b1f4d"
   },
   "outputs": [
    {
     "name": "stdout",
     "output_type": "stream",
     "text": [
      "\n",
      "Test confusion_matrix\n"
     ]
    },
    {
     "data": {
      "text/plain": [
       "Text(114.0, 0.5, 'True')"
      ]
     },
     "execution_count": 23,
     "metadata": {},
     "output_type": "execute_result"
    },
    {
     "data": {
      "image/png": "[encoded data removed]",
      "text/plain": [
       "<Figure size 1080x720 with 2 Axes>"
      ]
     },
     "metadata": {
      "needs_background": "light"
     },
     "output_type": "display_data"
    }
   ],
   "source": [
    "import seaborn as sns\n",
    "from sklearn.metrics import confusion_matrix\n",
    "import matplotlib.pyplot as plt\n",
    "\n",
    "fig = plt.figure(figsize=(15, 10))\n",
    "\n",
    "cf_matrix = confusion_matrix(y_true, y_pred1)\n",
    "print(\"\\nTest confusion_matrix\")\n",
    "sns.heatmap(cf_matrix, annot=True, cmap='Blues')\n",
    "plt.xlabel('Predicted', fontsize=12)\n",
    "plt.ylabel('True', fontsize=12)"
   ]
  },
  {
   "cell_type": "markdown",
   "metadata": {},
   "source": [
    "# Exportamos ambos dataset transformados"
   ]
  },
  {
   "cell_type": "code",
   "execution_count": null,
   "metadata": {},
   "outputs": [],
   "source": [
    "train = pd.read_csv(r\"https://raw.githubusercontent.com/medinaltbx/G6_DP3/master/data/input/merged_data/train/merged_train.csv\", sep=';')\n",
    "test = pd.read_csv(r\"https://raw.githubusercontent.com/medinaltbx/G6_DP3/master/data/input/merged_data/test/merged_test.csv\", sep=';')\n",
    "\n",
    "train, target_train = train.drop(columns=['good_bad_flag'] + ['customerid']), train[\"good_bad_flag\"]\n",
    "test = test.drop(columns=['customerid'],axis=1)\n",
    "\n",
    "sc = StandardScaler()\n",
    "train = sc.fit_transform(train)\n",
    "test = sc.transform(test)\n",
    "\n",
    "pca10 = PCA(n_components=50)\n",
    "train = pd.DataFrame(pca10.fit_transform(train))\n",
    "train[\"good_bad_flag\"] = target_train\n",
    "test = pd.DataFrame(pca10.transform(test))\n",
    "\n",
    "print(train)\n",
    "print(test)\n",
    "\n",
    "train.to_csv(\"pca_train.csv\",sep=';', encoding = 'utf8',index= False)\n",
    "test.to_csv(\"pca_test.csv\",sep=';', encoding = 'utf8',index= False)"
   ]
  }
 ],
 "metadata": {
  "colab": {
   "collapsed_sections": [],
   "name": "pca.ipynb",
   "provenance": []
  },
  "kernelspec": {
   "display_name": "Python 3 (ipykernel)",
   "language": "python",
   "name": "python3"
  },
  "language_info": {
   "codemirror_mode": {
    "name": "ipython",
    "version": 3
   },
   "file_extension": ".py",
   "mimetype": "text/x-python",
   "name": "python",
   "nbconvert_exporter": "python",
   "pygments_lexer": "ipython3",
   "version": "3.9.12"
  }
 },
 "nbformat": 4,
 "nbformat_minor": 4
}
