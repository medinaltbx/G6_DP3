{
 "cells": [
  {
   "cell_type": "code",
   "execution_count": 1,
   "metadata": {
    "id": "Ic0W_2e6lxE2"
   },
   "outputs": [],
   "source": [
    "import pandas as pd                    \n",
    "import numpy as np  \n",
    "from sklearn.model_selection import train_test_split\n",
    "import seaborn as sns\n",
    "from sklearn.metrics import confusion_matrix\n",
    "import matplotlib.pyplot as plt\n",
    "from sklearn.metrics import accuracy_score\n",
    "import numpy as np\n",
    "from sklearn.decomposition import PCA"
   ]
  },
  {
   "cell_type": "code",
   "execution_count": 2,
   "metadata": {
    "colab": {
     "base_uri": "https://localhost:8080/",
     "height": 317
    },
    "id": "MTMoT_5Gmf3_",
    "outputId": "de66a074-b808-4bd9-b7c4-534d0760f52b"
   },
   "outputs": [
    {
     "data": {
      "text/html": [
       "<div>\n",
       "<style scoped>\n",
       "    .dataframe tbody tr th:only-of-type {\n",
       "        vertical-align: middle;\n",
       "    }\n",
       "\n",
       "    .dataframe tbody tr th {\n",
       "        vertical-align: top;\n",
       "    }\n",
       "\n",
       "    .dataframe thead th {\n",
       "        text-align: right;\n",
       "    }\n",
       "</style>\n",
       "<table border=\"1\" class=\"dataframe\">\n",
       "  <thead>\n",
       "    <tr style=\"text-align: right;\">\n",
       "      <th></th>\n",
       "      <th>customerid</th>\n",
       "      <th>edad</th>\n",
       "      <th>loannumber</th>\n",
       "      <th>loanamount</th>\n",
       "      <th>totaldue</th>\n",
       "      <th>termdays</th>\n",
       "      <th>referredby</th>\n",
       "      <th>good_bad_flag</th>\n",
       "      <th>times_loaned</th>\n",
       "      <th>times_late</th>\n",
       "      <th>...</th>\n",
       "      <th>employment_status_clients_Retired</th>\n",
       "      <th>employment_status_clients_Self-Employed</th>\n",
       "      <th>employment_status_clients_Student</th>\n",
       "      <th>employment_status_clients_UNKNOWN</th>\n",
       "      <th>employment_status_clients_Unemployed</th>\n",
       "      <th>level_of_education_clients_Graduate</th>\n",
       "      <th>level_of_education_clients_Post-Graduate</th>\n",
       "      <th>level_of_education_clients_Primary</th>\n",
       "      <th>level_of_education_clients_Secondary</th>\n",
       "      <th>level_of_education_clients_UNKNOWN</th>\n",
       "    </tr>\n",
       "  </thead>\n",
       "  <tbody>\n",
       "    <tr>\n",
       "      <th>0</th>\n",
       "      <td>8a858e135cb22031015cbafc76964ebd</td>\n",
       "      <td>48</td>\n",
       "      <td>2</td>\n",
       "      <td>10000.0</td>\n",
       "      <td>13000.0</td>\n",
       "      <td>30</td>\n",
       "      <td>1</td>\n",
       "      <td>1.0</td>\n",
       "      <td>1.0</td>\n",
       "      <td>0.0</td>\n",
       "      <td>...</td>\n",
       "      <td>0</td>\n",
       "      <td>0</td>\n",
       "      <td>0</td>\n",
       "      <td>1</td>\n",
       "      <td>0</td>\n",
       "      <td>0</td>\n",
       "      <td>0</td>\n",
       "      <td>0</td>\n",
       "      <td>0</td>\n",
       "      <td>1</td>\n",
       "    </tr>\n",
       "    <tr>\n",
       "      <th>1</th>\n",
       "      <td>8a858e275c7ea5ec015c82482d7c3996</td>\n",
       "      <td>36</td>\n",
       "      <td>2</td>\n",
       "      <td>10000.0</td>\n",
       "      <td>13000.0</td>\n",
       "      <td>30</td>\n",
       "      <td>0</td>\n",
       "      <td>0.0</td>\n",
       "      <td>1.0</td>\n",
       "      <td>1.0</td>\n",
       "      <td>...</td>\n",
       "      <td>0</td>\n",
       "      <td>0</td>\n",
       "      <td>0</td>\n",
       "      <td>0</td>\n",
       "      <td>0</td>\n",
       "      <td>0</td>\n",
       "      <td>0</td>\n",
       "      <td>0</td>\n",
       "      <td>0</td>\n",
       "      <td>1</td>\n",
       "    </tr>\n",
       "    <tr>\n",
       "      <th>2</th>\n",
       "      <td>8a858e5b5bd99460015bdc95cd485634</td>\n",
       "      <td>35</td>\n",
       "      <td>4</td>\n",
       "      <td>10000.0</td>\n",
       "      <td>13000.0</td>\n",
       "      <td>30</td>\n",
       "      <td>0</td>\n",
       "      <td>1.0</td>\n",
       "      <td>3.0</td>\n",
       "      <td>2.0</td>\n",
       "      <td>...</td>\n",
       "      <td>0</td>\n",
       "      <td>0</td>\n",
       "      <td>0</td>\n",
       "      <td>1</td>\n",
       "      <td>0</td>\n",
       "      <td>0</td>\n",
       "      <td>0</td>\n",
       "      <td>0</td>\n",
       "      <td>0</td>\n",
       "      <td>1</td>\n",
       "    </tr>\n",
       "    <tr>\n",
       "      <th>3</th>\n",
       "      <td>8a858efd5ca70688015cabd1f1e94b55</td>\n",
       "      <td>30</td>\n",
       "      <td>2</td>\n",
       "      <td>10000.0</td>\n",
       "      <td>11500.0</td>\n",
       "      <td>15</td>\n",
       "      <td>0</td>\n",
       "      <td>1.0</td>\n",
       "      <td>1.0</td>\n",
       "      <td>1.0</td>\n",
       "      <td>...</td>\n",
       "      <td>0</td>\n",
       "      <td>0</td>\n",
       "      <td>0</td>\n",
       "      <td>0</td>\n",
       "      <td>0</td>\n",
       "      <td>0</td>\n",
       "      <td>0</td>\n",
       "      <td>0</td>\n",
       "      <td>0</td>\n",
       "      <td>1</td>\n",
       "    </tr>\n",
       "    <tr>\n",
       "      <th>4</th>\n",
       "      <td>8a858ea05a859123015a8892914d15b7</td>\n",
       "      <td>31</td>\n",
       "      <td>6</td>\n",
       "      <td>20000.0</td>\n",
       "      <td>24500.0</td>\n",
       "      <td>30</td>\n",
       "      <td>0</td>\n",
       "      <td>1.0</td>\n",
       "      <td>5.0</td>\n",
       "      <td>2.0</td>\n",
       "      <td>...</td>\n",
       "      <td>0</td>\n",
       "      <td>0</td>\n",
       "      <td>0</td>\n",
       "      <td>0</td>\n",
       "      <td>0</td>\n",
       "      <td>0</td>\n",
       "      <td>0</td>\n",
       "      <td>0</td>\n",
       "      <td>0</td>\n",
       "      <td>1</td>\n",
       "    </tr>\n",
       "  </tbody>\n",
       "</table>\n",
       "<p>5 rows × 79 columns</p>\n",
       "</div>"
      ],
      "text/plain": [
       "                         customerid  edad  loannumber  loanamount  totaldue  \\\n",
       "0  8a858e135cb22031015cbafc76964ebd    48           2     10000.0   13000.0   \n",
       "1  8a858e275c7ea5ec015c82482d7c3996    36           2     10000.0   13000.0   \n",
       "2  8a858e5b5bd99460015bdc95cd485634    35           4     10000.0   13000.0   \n",
       "3  8a858efd5ca70688015cabd1f1e94b55    30           2     10000.0   11500.0   \n",
       "4  8a858ea05a859123015a8892914d15b7    31           6     20000.0   24500.0   \n",
       "\n",
       "   termdays  referredby  good_bad_flag  times_loaned  times_late  ...  \\\n",
       "0        30           1            1.0           1.0         0.0  ...   \n",
       "1        30           0            0.0           1.0         1.0  ...   \n",
       "2        30           0            1.0           3.0         2.0  ...   \n",
       "3        15           0            1.0           1.0         1.0  ...   \n",
       "4        30           0            1.0           5.0         2.0  ...   \n",
       "\n",
       "   employment_status_clients_Retired  employment_status_clients_Self-Employed  \\\n",
       "0                                  0                                        0   \n",
       "1                                  0                                        0   \n",
       "2                                  0                                        0   \n",
       "3                                  0                                        0   \n",
       "4                                  0                                        0   \n",
       "\n",
       "   employment_status_clients_Student  employment_status_clients_UNKNOWN  \\\n",
       "0                                  0                                  1   \n",
       "1                                  0                                  0   \n",
       "2                                  0                                  1   \n",
       "3                                  0                                  0   \n",
       "4                                  0                                  0   \n",
       "\n",
       "   employment_status_clients_Unemployed  level_of_education_clients_Graduate  \\\n",
       "0                                     0                                    0   \n",
       "1                                     0                                    0   \n",
       "2                                     0                                    0   \n",
       "3                                     0                                    0   \n",
       "4                                     0                                    0   \n",
       "\n",
       "   level_of_education_clients_Post-Graduate  \\\n",
       "0                                         0   \n",
       "1                                         0   \n",
       "2                                         0   \n",
       "3                                         0   \n",
       "4                                         0   \n",
       "\n",
       "   level_of_education_clients_Primary  level_of_education_clients_Secondary  \\\n",
       "0                                   0                                     0   \n",
       "1                                   0                                     0   \n",
       "2                                   0                                     0   \n",
       "3                                   0                                     0   \n",
       "4                                   0                                     0   \n",
       "\n",
       "   level_of_education_clients_UNKNOWN  \n",
       "0                                   1  \n",
       "1                                   1  \n",
       "2                                   1  \n",
       "3                                   1  \n",
       "4                                   1  \n",
       "\n",
       "[5 rows x 79 columns]"
      ]
     },
     "execution_count": 2,
     "metadata": {},
     "output_type": "execute_result"
    }
   ],
   "source": [
    "dfpca = pd.read_csv(r\"https://raw.githubusercontent.com/medinaltbx/G6_DP3/master/data/input/merged_data/train/merged_train.csv\", sep=';' , decimal='.')\n",
    "dfpca.head()\n"
   ]
  },
  {
   "cell_type": "code",
   "execution_count": 3,
   "metadata": {
    "id": "x8zVVJGwmjDw"
   },
   "outputs": [],
   "source": [
    "X = dfpca.drop(columns=['good_bad_flag'] + ['customerid'])\n",
    "y = dfpca['good_bad_flag']\n",
    "\n"
   ]
  },
  {
   "cell_type": "code",
   "execution_count": 4,
   "metadata": {
    "id": "yk8bVac9O9g9"
   },
   "outputs": [],
   "source": [
    "from sklearn.preprocessing import StandardScaler\n",
    "sc = StandardScaler()\n",
    "\n",
    "X = sc.fit_transform(X)\n"
   ]
  },
  {
   "cell_type": "code",
   "execution_count": 5,
   "metadata": {
    "colab": {
     "base_uri": "https://localhost:8080/"
    },
    "id": "LLa4o9tUQDA2",
    "outputId": "ab4d48f4-91fd-4c1a-ae67-30708db91530"
   },
   "outputs": [
    {
     "name": "stdout",
     "output_type": "stream",
     "text": [
      "-2.1401126274731645e-18\n",
      "0.9610389610389612\n"
     ]
    }
   ],
   "source": [
    "#here we want to check wether mean tends to 0 and variance =1\n",
    "\n",
    "print(np.mean(X))\n",
    "print(np.var(X))\n"
   ]
  },
  {
   "cell_type": "code",
   "execution_count": 6,
   "metadata": {
    "id": "w-t0nedImpyM"
   },
   "outputs": [],
   "source": [
    "X_train, X_test, y_train, y_test = train_test_split(X, y, test_size=0.2, random_state=0)\n"
   ]
  },
  {
   "cell_type": "code",
   "execution_count": 7,
   "metadata": {
    "colab": {
     "base_uri": "https://localhost:8080/"
    },
    "id": "0sVq68TRdHe4",
    "outputId": "fdaa4950-99e0-4156-fd10-2aca2de4b2b9"
   },
   "outputs": [
    {
     "name": "stdout",
     "output_type": "stream",
     "text": [
      "-0.0004505487460826466\n",
      "0.951061408481108\n"
     ]
    }
   ],
   "source": [
    "print(np.mean(X_train))\n",
    "print(np.var(X_train))"
   ]
  },
  {
   "cell_type": "markdown",
   "metadata": {
    "id": "u3qKGYp3Bh3V"
   },
   "source": [
    "PCA WITH ALL FEATURES"
   ]
  },
  {
   "cell_type": "code",
   "execution_count": 8,
   "metadata": {
    "id": "yvu7VYZ8nPB5"
   },
   "outputs": [],
   "source": [
    "#PCA with all features\n",
    "\n",
    "\n",
    "pca = PCA()\n",
    "X_train1 = pca.fit_transform(X_train)\n",
    "X_test1 = pca.transform(X_test)"
   ]
  },
  {
   "cell_type": "code",
   "execution_count": 9,
   "metadata": {
    "colab": {
     "base_uri": "https://localhost:8080/"
    },
    "id": "Om1uIyXFnlcO",
    "outputId": "d5db4187-37a4-4046-af75-4c777c96ddc7"
   },
   "outputs": [
    {
     "name": "stdout",
     "output_type": "stream",
     "text": [
      "[8.26189421e-02 3.42724901e-02 2.50379632e-02 2.43535719e-02\n",
      " 2.23726194e-02 2.05820931e-02 2.02269833e-02 1.97625217e-02\n",
      " 1.89396144e-02 1.85186479e-02 1.84134797e-02 1.81862589e-02\n",
      " 1.80470023e-02 1.77357560e-02 1.76280144e-02 1.75050711e-02\n",
      " 1.74114598e-02 1.72826527e-02 1.71976208e-02 1.71566956e-02\n",
      " 1.71023606e-02 1.70909259e-02 1.70805881e-02 1.70803431e-02\n",
      " 1.70793830e-02 1.70793248e-02 1.70793161e-02 1.70793161e-02\n",
      " 1.70732448e-02 1.69571028e-02 1.67225606e-02 1.66790365e-02\n",
      " 1.62158675e-02 1.53765945e-02 1.50308174e-02 1.49168794e-02\n",
      " 1.47395985e-02 1.44312191e-02 1.43306420e-02 1.42342449e-02\n",
      " 1.38927378e-02 1.38041739e-02 1.35574076e-02 1.33675256e-02\n",
      " 1.31045871e-02 1.26931792e-02 1.25813779e-02 1.23021504e-02\n",
      " 1.20802746e-02 1.16689149e-02 1.14260978e-02 1.13610329e-02\n",
      " 1.06683395e-02 1.01656778e-02 1.00105888e-02 9.60489532e-03\n",
      " 9.27494098e-03 6.87506164e-03 2.69482436e-03 2.21323308e-03\n",
      " 2.30868647e-05 1.06824636e-06 1.70814700e-32 1.62937129e-32\n",
      " 4.93260498e-33 3.74776327e-33 3.03568317e-33 8.55211531e-34\n",
      " 6.32415125e-34 6.32415125e-34 6.32415125e-34 6.32415125e-34\n",
      " 6.32415125e-34 6.32415125e-34 6.32415125e-34 6.32415125e-34\n",
      " 5.35564498e-35]\n"
     ]
    }
   ],
   "source": [
    "#returns the variance caused by each of the principal components.\n",
    "explained_variance = pca.explained_variance_ratio_\n",
    "print(explained_variance)"
   ]
  },
  {
   "cell_type": "code",
   "execution_count": 10,
   "metadata": {
    "colab": {
     "base_uri": "https://localhost:8080/",
     "height": 296
    },
    "id": "44GPrHRq8yNK",
    "outputId": "e35b3303-af99-4ad8-e64d-936490152051"
   },
   "outputs": [
    {
     "data": {
      "text/plain": [
       "Text(0, 0.5, 'Explained variance (%)')"
      ]
     },
     "execution_count": 10,
     "metadata": {},
     "output_type": "execute_result"
    },
    {
     "data": {
      "image/png": "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\n",
      "text/plain": [
       "<Figure size 432x288 with 1 Axes>"
      ]
     },
     "metadata": {
      "needs_background": "light"
     },
     "output_type": "display_data"
    }
   ],
   "source": [
    "plt.plot(np.cumsum(pca.explained_variance_ratio_ * 100))\n",
    "plt.xlabel(\"Number of components (Dimensions)\")\n",
    "plt.ylabel(\"Explained variance (%)\")"
   ]
  },
  {
   "cell_type": "markdown",
   "metadata": {
    "id": "oshgIvAy9p1z"
   },
   "source": [
    "The first component alone captures about 8% variability in the data and the second one captures about 3,5% variability in the data and so on. We have to fet above 50 components to achieve 80% variability in the data."
   ]
  },
  {
   "cell_type": "markdown",
   "metadata": {
    "id": "9ep9ushuBuxz"
   },
   "source": [
    "Apply Random forest with all features:\n"
   ]
  },
  {
   "cell_type": "code",
   "execution_count": 11,
   "metadata": {
    "colab": {
     "base_uri": "https://localhost:8080/"
    },
    "id": "kghaVnDunvbc",
    "outputId": "22525104-588d-4507-8676-1c8516c0a7eb"
   },
   "outputs": [
    {
     "name": "stdout",
     "output_type": "stream",
     "text": [
      "[[  0 143]\n",
      " [  0 513]]\n",
      "0.7820121951219512\n"
     ]
    }
   ],
   "source": [
    "from sklearn.ensemble import RandomForestClassifier\n",
    "\n",
    "classifier = RandomForestClassifier(max_depth=2, random_state=0)\n",
    "classifier.fit(X_train1, y_train)\n",
    "\n",
    "# Predicting the Test set results\n",
    "y_pred1 = classifier.predict(X_test1)\n",
    "\n",
    "from sklearn.metrics import confusion_matrix\n",
    "from sklearn.metrics import accuracy_score\n",
    "\n",
    "cm = confusion_matrix(y_test, y_pred1)\n",
    "print(cm)\n",
    "print(accuracy_score(y_test, y_pred1))"
   ]
  },
  {
   "cell_type": "markdown",
   "metadata": {
    "id": "1BY8kPYz5lHJ"
   },
   "source": [
    "PCA - 50 **components**:"
   ]
  },
  {
   "cell_type": "code",
   "execution_count": 12,
   "metadata": {
    "id": "DtouGFdCjPjR"
   },
   "outputs": [],
   "source": [
    "pca1 = PCA(n_components=50)\n",
    "X_train2 = pca1.fit_transform(X_train)\n",
    "X_test2 = pca1.transform(X_test)\n"
   ]
  },
  {
   "cell_type": "code",
   "execution_count": 13,
   "metadata": {
    "colab": {
     "base_uri": "https://localhost:8080/"
    },
    "id": "GMX9Zk9Bh9aW",
    "outputId": "8e18ef37-ce15-4d25-c36f-79bdb075db58",
    "tags": []
   },
   "outputs": [
    {
     "name": "stdout",
     "output_type": "stream",
     "text": [
      "[0.08261894 0.03427249 0.02503796 0.02435357 0.02237262 0.02058209\n",
      " 0.02022698 0.01976252 0.01893961 0.01851865 0.01841348 0.01818626\n",
      " 0.018047   0.01773576 0.01762801 0.01750507 0.01741146 0.01728265\n",
      " 0.01719762 0.0171567  0.01710236 0.01709093 0.01708059 0.01708034\n",
      " 0.01707938 0.01707932 0.01707932 0.01707932 0.01707324 0.0169571\n",
      " 0.01672256 0.01667904 0.01621587 0.01537659 0.01503082 0.01491688\n",
      " 0.0147396  0.01443122 0.01433064 0.01423424 0.01389274 0.01380417\n",
      " 0.01355741 0.01336753 0.01310459 0.01269318 0.01258138 0.01230215\n",
      " 0.01208027 0.01166891]\n"
     ]
    }
   ],
   "source": [
    "explained_variance2 = pca1.explained_variance_ratio_\n",
    "print(explained_variance2)"
   ]
  },
  {
   "cell_type": "code",
   "execution_count": 14,
   "metadata": {
    "colab": {
     "base_uri": "https://localhost:8080/"
    },
    "id": "5z5ZC9LoRkPW",
    "outputId": "95e7f414-efe2-4e2d-ec5d-a9a3e0c8aa15"
   },
   "outputs": [
    {
     "name": "stdout",
     "output_type": "stream",
     "text": [
      "[[  0 143]\n",
      " [  0 513]]\n",
      "0.7820121951219512\n"
     ]
    }
   ],
   "source": [
    "from sklearn.ensemble import RandomForestClassifier\n",
    "\n",
    "classifier = RandomForestClassifier(max_depth=2, random_state=0)\n",
    "classifier.fit(X_train2, y_train)\n",
    "\n",
    "# Predicting the Test set results\n",
    "y_pred2 = classifier.predict(X_test2)\n",
    "\n",
    "from sklearn.metrics import confusion_matrix\n",
    "from sklearn.metrics import accuracy_score\n",
    "\n",
    "cm = confusion_matrix(y_test, y_pred2)\n",
    "print(cm)\n",
    "print(accuracy_score(y_test, y_pred2))"
   ]
  },
  {
   "cell_type": "markdown",
   "metadata": {
    "id": "bKKU-01W5aPL"
   },
   "source": [
    "PCA - 10 component:"
   ]
  },
  {
   "cell_type": "code",
   "execution_count": 15,
   "metadata": {
    "colab": {
     "base_uri": "https://localhost:8080/"
    },
    "id": "V5zBE9W3ju3X",
    "outputId": "693dbff0-85cc-4ca1-c232-c132add5f7c4"
   },
   "outputs": [
    {
     "name": "stdout",
     "output_type": "stream",
     "text": [
      "[[  0 143]\n",
      " [  0 513]]\n",
      "0.7820121951219512\n"
     ]
    }
   ],
   "source": [
    "pca2 = PCA(n_components=10)\n",
    "X_train3 = pca2.fit_transform(X_train)\n",
    "X_test3 = pca2.transform(X_test)\n",
    "\n",
    "classifier = RandomForestClassifier(max_depth=2, random_state=0)\n",
    "classifier.fit(X_train3, y_train)\n",
    "\n",
    "# Predicting the Test set results\n",
    "y_pred3 = classifier.predict(X_test3)\n",
    "\n",
    "\n",
    "cm = confusion_matrix(y_test, y_pred3)\n",
    "print(cm)\n",
    "print(accuracy_score(y_test, y_pred3))"
   ]
  },
  {
   "cell_type": "code",
   "execution_count": 16,
   "metadata": {
    "colab": {
     "base_uri": "https://localhost:8080/",
     "height": 424
    },
    "id": "xPupSdTlEyYD",
    "outputId": "0f053a99-9843-469f-dda2-1af6569e8c85"
   },
   "outputs": [
    {
     "data": {
      "text/html": [
       "<div>\n",
       "<style scoped>\n",
       "    .dataframe tbody tr th:only-of-type {\n",
       "        vertical-align: middle;\n",
       "    }\n",
       "\n",
       "    .dataframe tbody tr th {\n",
       "        vertical-align: top;\n",
       "    }\n",
       "\n",
       "    .dataframe thead th {\n",
       "        text-align: right;\n",
       "    }\n",
       "</style>\n",
       "<table border=\"1\" class=\"dataframe\">\n",
       "  <thead>\n",
       "    <tr style=\"text-align: right;\">\n",
       "      <th></th>\n",
       "      <th>0</th>\n",
       "      <th>1</th>\n",
       "      <th>2</th>\n",
       "      <th>3</th>\n",
       "      <th>4</th>\n",
       "      <th>5</th>\n",
       "      <th>6</th>\n",
       "      <th>7</th>\n",
       "      <th>8</th>\n",
       "      <th>9</th>\n",
       "    </tr>\n",
       "  </thead>\n",
       "  <tbody>\n",
       "    <tr>\n",
       "      <th>0</th>\n",
       "      <td>-1.585750</td>\n",
       "      <td>0.067511</td>\n",
       "      <td>-0.411212</td>\n",
       "      <td>-0.966771</td>\n",
       "      <td>-0.109696</td>\n",
       "      <td>-0.628855</td>\n",
       "      <td>-0.887157</td>\n",
       "      <td>0.231710</td>\n",
       "      <td>-0.352271</td>\n",
       "      <td>0.102096</td>\n",
       "    </tr>\n",
       "    <tr>\n",
       "      <th>1</th>\n",
       "      <td>-2.102281</td>\n",
       "      <td>0.181405</td>\n",
       "      <td>-0.201784</td>\n",
       "      <td>-1.146899</td>\n",
       "      <td>-0.561656</td>\n",
       "      <td>-0.666809</td>\n",
       "      <td>-0.789198</td>\n",
       "      <td>0.216901</td>\n",
       "      <td>-0.339848</td>\n",
       "      <td>0.106849</td>\n",
       "    </tr>\n",
       "    <tr>\n",
       "      <th>2</th>\n",
       "      <td>-0.935002</td>\n",
       "      <td>-0.131173</td>\n",
       "      <td>-0.574953</td>\n",
       "      <td>-0.665096</td>\n",
       "      <td>0.344161</td>\n",
       "      <td>-0.904764</td>\n",
       "      <td>-0.701638</td>\n",
       "      <td>0.275522</td>\n",
       "      <td>-0.300435</td>\n",
       "      <td>0.168755</td>\n",
       "    </tr>\n",
       "    <tr>\n",
       "      <th>3</th>\n",
       "      <td>2.125546</td>\n",
       "      <td>-1.112664</td>\n",
       "      <td>1.294238</td>\n",
       "      <td>0.450656</td>\n",
       "      <td>2.625441</td>\n",
       "      <td>-1.378705</td>\n",
       "      <td>1.589711</td>\n",
       "      <td>0.938064</td>\n",
       "      <td>1.786940</td>\n",
       "      <td>-0.079271</td>\n",
       "    </tr>\n",
       "    <tr>\n",
       "      <th>4</th>\n",
       "      <td>3.753887</td>\n",
       "      <td>-1.090287</td>\n",
       "      <td>-1.168160</td>\n",
       "      <td>-0.111063</td>\n",
       "      <td>0.105040</td>\n",
       "      <td>-0.782486</td>\n",
       "      <td>-0.791024</td>\n",
       "      <td>0.288503</td>\n",
       "      <td>-0.516793</td>\n",
       "      <td>0.406420</td>\n",
       "    </tr>\n",
       "    <tr>\n",
       "      <th>...</th>\n",
       "      <td>...</td>\n",
       "      <td>...</td>\n",
       "      <td>...</td>\n",
       "      <td>...</td>\n",
       "      <td>...</td>\n",
       "      <td>...</td>\n",
       "      <td>...</td>\n",
       "      <td>...</td>\n",
       "      <td>...</td>\n",
       "      <td>...</td>\n",
       "    </tr>\n",
       "    <tr>\n",
       "      <th>2616</th>\n",
       "      <td>4.871019</td>\n",
       "      <td>0.614929</td>\n",
       "      <td>1.966829</td>\n",
       "      <td>-0.193673</td>\n",
       "      <td>-2.698648</td>\n",
       "      <td>-0.534071</td>\n",
       "      <td>-0.301986</td>\n",
       "      <td>-0.219913</td>\n",
       "      <td>-0.090613</td>\n",
       "      <td>-0.184996</td>\n",
       "    </tr>\n",
       "    <tr>\n",
       "      <th>2617</th>\n",
       "      <td>-1.709366</td>\n",
       "      <td>0.152747</td>\n",
       "      <td>-0.519610</td>\n",
       "      <td>-0.737004</td>\n",
       "      <td>0.092515</td>\n",
       "      <td>1.219136</td>\n",
       "      <td>-0.316997</td>\n",
       "      <td>0.223519</td>\n",
       "      <td>-0.395583</td>\n",
       "      <td>0.076713</td>\n",
       "    </tr>\n",
       "    <tr>\n",
       "      <th>2618</th>\n",
       "      <td>-2.348866</td>\n",
       "      <td>0.115516</td>\n",
       "      <td>-0.931865</td>\n",
       "      <td>1.505718</td>\n",
       "      <td>-1.085581</td>\n",
       "      <td>-0.943104</td>\n",
       "      <td>-0.475752</td>\n",
       "      <td>0.291158</td>\n",
       "      <td>-0.042584</td>\n",
       "      <td>-0.026436</td>\n",
       "    </tr>\n",
       "    <tr>\n",
       "      <th>2619</th>\n",
       "      <td>6.184736</td>\n",
       "      <td>0.345227</td>\n",
       "      <td>1.346409</td>\n",
       "      <td>0.616151</td>\n",
       "      <td>-0.654964</td>\n",
       "      <td>0.152082</td>\n",
       "      <td>0.782930</td>\n",
       "      <td>-1.152257</td>\n",
       "      <td>0.719906</td>\n",
       "      <td>-0.679929</td>\n",
       "    </tr>\n",
       "    <tr>\n",
       "      <th>2620</th>\n",
       "      <td>-1.588259</td>\n",
       "      <td>-0.032566</td>\n",
       "      <td>-1.587391</td>\n",
       "      <td>2.449394</td>\n",
       "      <td>-0.340978</td>\n",
       "      <td>-0.100617</td>\n",
       "      <td>1.168145</td>\n",
       "      <td>-0.576601</td>\n",
       "      <td>-0.535623</td>\n",
       "      <td>-0.635162</td>\n",
       "    </tr>\n",
       "  </tbody>\n",
       "</table>\n",
       "<p>2621 rows × 10 columns</p>\n",
       "</div>"
      ],
      "text/plain": [
       "             0         1         2         3         4         5         6  \\\n",
       "0    -1.585750  0.067511 -0.411212 -0.966771 -0.109696 -0.628855 -0.887157   \n",
       "1    -2.102281  0.181405 -0.201784 -1.146899 -0.561656 -0.666809 -0.789198   \n",
       "2    -0.935002 -0.131173 -0.574953 -0.665096  0.344161 -0.904764 -0.701638   \n",
       "3     2.125546 -1.112664  1.294238  0.450656  2.625441 -1.378705  1.589711   \n",
       "4     3.753887 -1.090287 -1.168160 -0.111063  0.105040 -0.782486 -0.791024   \n",
       "...        ...       ...       ...       ...       ...       ...       ...   \n",
       "2616  4.871019  0.614929  1.966829 -0.193673 -2.698648 -0.534071 -0.301986   \n",
       "2617 -1.709366  0.152747 -0.519610 -0.737004  0.092515  1.219136 -0.316997   \n",
       "2618 -2.348866  0.115516 -0.931865  1.505718 -1.085581 -0.943104 -0.475752   \n",
       "2619  6.184736  0.345227  1.346409  0.616151 -0.654964  0.152082  0.782930   \n",
       "2620 -1.588259 -0.032566 -1.587391  2.449394 -0.340978 -0.100617  1.168145   \n",
       "\n",
       "             7         8         9  \n",
       "0     0.231710 -0.352271  0.102096  \n",
       "1     0.216901 -0.339848  0.106849  \n",
       "2     0.275522 -0.300435  0.168755  \n",
       "3     0.938064  1.786940 -0.079271  \n",
       "4     0.288503 -0.516793  0.406420  \n",
       "...        ...       ...       ...  \n",
       "2616 -0.219913 -0.090613 -0.184996  \n",
       "2617  0.223519 -0.395583  0.076713  \n",
       "2618  0.291158 -0.042584 -0.026436  \n",
       "2619 -1.152257  0.719906 -0.679929  \n",
       "2620 -0.576601 -0.535623 -0.635162  \n",
       "\n",
       "[2621 rows x 10 columns]"
      ]
     },
     "execution_count": 16,
     "metadata": {},
     "output_type": "execute_result"
    }
   ],
   "source": [
    "X_train3 = pd.DataFrame(X_train3)\n",
    "X_train3"
   ]
  },
  {
   "cell_type": "code",
   "execution_count": 17,
   "metadata": {
    "colab": {
     "base_uri": "https://localhost:8080/",
     "height": 504
    },
    "id": "O59ai7EUExd0",
    "outputId": "54a40afc-9426-4c1f-b758-f77413d61e68"
   },
   "outputs": [
    {
     "data": {
      "text/plain": [
       "<AxesSubplot:>"
      ]
     },
     "execution_count": 17,
     "metadata": {},
     "output_type": "execute_result"
    },
    {
     "data": {
      "image/png": "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\n",
      "text/plain": [
       "<Figure size 720x576 with 2 Axes>"
      ]
     },
     "metadata": {
      "needs_background": "light"
     },
     "output_type": "display_data"
    }
   ],
   "source": [
    "fig = plt.figure(figsize=(10, 8))\n",
    "sns.heatmap(X_train3.corr(), \n",
    "            annot=True)\n"
   ]
  },
  {
   "cell_type": "markdown",
   "metadata": {
    "id": "CTwIA6sMFACB"
   },
   "source": [
    "We can see there is no correlation betweern features"
   ]
  },
  {
   "cell_type": "markdown",
   "metadata": {
    "id": "8kQLTg8_lL4b"
   },
   "source": [
    "*Logistic Regression*"
   ]
  },
  {
   "cell_type": "code",
   "execution_count": 18,
   "metadata": {
    "id": "Ttxa6mhijCQi"
   },
   "outputs": [],
   "source": [
    "\n",
    "\n",
    "from sklearn.linear_model import LogisticRegression\n",
    "clf = LogisticRegression(max_iter=2500)\n",
    "\n"
   ]
  },
  {
   "cell_type": "code",
   "execution_count": 19,
   "metadata": {
    "colab": {
     "base_uri": "https://localhost:8080/"
    },
    "id": "vGFQDMqsjFOh",
    "outputId": "2b7f4380-03b6-4e5f-861a-bc9ebcb0fde1"
   },
   "outputs": [
    {
     "data": {
      "text/plain": [
       "LogisticRegression(max_iter=2500)"
      ]
     },
     "execution_count": 19,
     "metadata": {},
     "output_type": "execute_result"
    }
   ],
   "source": [
    "# Train the model\n",
    "clf.fit(X_train1, y_train)\n"
   ]
  },
  {
   "cell_type": "code",
   "execution_count": 20,
   "metadata": {
    "id": "H5xrLsqjjI6u"
   },
   "outputs": [],
   "source": [
    "\n",
    "# Make predictions\n",
    "y_pred = clf.predict(X_test1) # Predictions\n",
    "y_true = y_test # True values\n",
    "\n"
   ]
  },
  {
   "cell_type": "code",
   "execution_count": 21,
   "metadata": {
    "colab": {
     "base_uri": "https://localhost:8080/"
    },
    "id": "UIr4BCG1jMDt",
    "outputId": "d9ea775d-f351-4de9-ee29-2074df2e15d1"
   },
   "outputs": [
    {
     "name": "stdout",
     "output_type": "stream",
     "text": [
      "Train accuracy: 0.79\n",
      "Test accuracy: 0.78\n"
     ]
    }
   ],
   "source": [
    "# Measure accuracy\n",
    "from sklearn.metrics import accuracy_score\n",
    "import numpy as np\n",
    "print(\"Train accuracy:\", np.round(accuracy_score(y_train, \n",
    "                                                 clf.predict(X_train1)), 2))\n",
    "print(\"Test accuracy:\", np.round(accuracy_score(y_true, y_pred1), 2))"
   ]
  },
  {
   "cell_type": "code",
   "execution_count": 22,
   "metadata": {
    "colab": {
     "base_uri": "https://localhost:8080/",
     "height": 661
    },
    "id": "qO-nafHH52Hw",
    "outputId": "09a80e3a-ce84-4017-a7b4-7f33557acdb9"
   },
   "outputs": [
    {
     "name": "stdout",
     "output_type": "stream",
     "text": [
      "\n",
      "Test confusion_matrix\n"
     ]
    },
    {
     "data": {
      "text/plain": [
       "Text(114.0, 0.5, 'True')"
      ]
     },
     "execution_count": 22,
     "metadata": {},
     "output_type": "execute_result"
    },
    {
     "data": {
      "image/png": "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\n",
      "text/plain": [
       "<Figure size 1080x720 with 2 Axes>"
      ]
     },
     "metadata": {
      "needs_background": "light"
     },
     "output_type": "display_data"
    }
   ],
   "source": [
    "import seaborn as sns\n",
    "from sklearn.metrics import confusion_matrix\n",
    "import matplotlib.pyplot as plt\n",
    "\n",
    "fig = plt.figure(figsize=(15, 10))\n",
    "\n",
    "cf_matrix = confusion_matrix(y_true, y_pred1)\n",
    "print(\"\\nTest confusion_matrix\")\n",
    "sns.heatmap(cf_matrix, annot=True, cmap='Blues')\n",
    "plt.xlabel('Predicted', fontsize=12)\n",
    "plt.ylabel('True', fontsize=12)"
   ]
  },
  {
   "cell_type": "markdown",
   "metadata": {
    "id": "XA08g4MUrEFh"
   },
   "source": [
    "# Exportamos ambos dataset transformados"
   ]
  },
  {
   "cell_type": "code",
   "execution_count": 23,
   "metadata": {
    "colab": {
     "base_uri": "https://localhost:8080/"
    },
    "id": "RhVKCjZsrEFh",
    "outputId": "176d5604-cd8a-481c-98bf-87a464e96b87"
   },
   "outputs": [
    {
     "name": "stdout",
     "output_type": "stream",
     "text": [
      "             0         1         2         3         4         5         6  \\\n",
      "0     0.029099  0.391901  0.681472  0.304666  0.292053  0.511453  0.201741   \n",
      "1     0.029099  0.391902  0.410066  0.242869  0.302782  0.455489  0.044987   \n",
      "2     0.029099  0.391902  0.385487  0.241681  0.405798  0.468618  0.061886   \n",
      "3     0.014549  0.547583  0.312851  0.096839  0.287200  0.451902  0.036703   \n",
      "4     0.227935  0.351634  0.342829  0.044948  0.383960  0.503562  0.066014   \n",
      "...        ...       ...       ...       ...       ...       ...       ...   \n",
      "3272  0.014549  0.547583  0.515211  0.145400  0.322030  0.545246  0.033042   \n",
      "3273  0.014549  0.547583  0.447461  0.129804  0.334538  0.486073  0.037948   \n",
      "3274  0.591658  0.634306  0.482657  0.164319  0.294925  0.470758  0.062849   \n",
      "3275  0.227935  0.351634  0.454488  0.073262  0.449321  0.479267  0.045509   \n",
      "3276  0.014549  0.547583  0.516542  0.143149  0.275202  0.508145  0.199029   \n",
      "\n",
      "             7         8         9  ...        41        42        43  \\\n",
      "0     0.946982  0.452876  0.336277  ...  0.403957  0.378842  0.482393   \n",
      "1     0.224080  0.403079  0.459500  ...  0.404445  0.378874  0.482849   \n",
      "2     0.762845  0.208902  0.509411  ...  0.404868  0.378870  0.482101   \n",
      "3     0.368866  0.568853  0.241377  ...  0.404153  0.378746  0.482552   \n",
      "4     0.192388  0.310857  0.437541  ...  0.404566  0.379031  0.482769   \n",
      "...        ...       ...       ...  ...       ...       ...       ...   \n",
      "3272  0.379938  0.564497  0.230438  ...  0.404406  0.378962  0.482709   \n",
      "3273  0.909024  0.404074  0.308003  ...  0.404365  0.378826  0.482553   \n",
      "3274  0.581729  0.453155  0.684252  ...  0.404408  0.379260  0.482424   \n",
      "3275  0.276894  0.744259  0.755701  ...  0.403962  0.379061  0.482801   \n",
      "3276  0.936465  0.468021  0.357128  ...  0.403805  0.378833  0.482568   \n",
      "\n",
      "            44        45        46        47        48        49  \\\n",
      "0     0.495416  0.455285  0.359314  0.406306  0.484041  0.483105   \n",
      "1     0.496824  0.455464  0.359502  0.405741  0.484229  0.484449   \n",
      "2     0.496141  0.454147  0.358191  0.405079  0.483037  0.476116   \n",
      "3     0.497172  0.454583  0.358317  0.405497  0.481789  0.482848   \n",
      "4     0.496779  0.456102  0.358706  0.403337  0.483293  0.484207   \n",
      "...        ...       ...       ...       ...       ...       ...   \n",
      "3272  0.496861  0.454548  0.358462  0.406147  0.482902  0.482762   \n",
      "3273  0.496928  0.454769  0.358233  0.405809  0.482424  0.483097   \n",
      "3274  0.497681  0.456362  0.355892  0.407697  0.480925  0.486416   \n",
      "3275  0.496435  0.454645  0.357513  0.406034  0.484176  0.482433   \n",
      "3276  0.496081  0.455424  0.358843  0.405766  0.481373  0.482390   \n",
      "\n",
      "      good_bad_flag  \n",
      "0               1.0  \n",
      "1               0.0  \n",
      "2               1.0  \n",
      "3               1.0  \n",
      "4               1.0  \n",
      "...             ...  \n",
      "3272            0.0  \n",
      "3273            1.0  \n",
      "3274            1.0  \n",
      "3275            1.0  \n",
      "3276            1.0  \n",
      "\n",
      "[3277 rows x 51 columns]\n",
      "           0         1         2         3         4         5         6   \\\n",
      "0    0.014549  0.547583  0.651699  0.174389  0.280080  0.509163  0.025646   \n",
      "1    0.591658  0.634307  0.524759  0.180386  0.455768  0.466561  0.107877   \n",
      "2    0.227935  0.351634  0.385599  0.059804  0.521197  0.397331  0.060769   \n",
      "3    0.014549  0.547583  0.605391  0.165952  0.351792  0.428503  0.037675   \n",
      "4    0.029099  0.391902  0.365251  0.232422  0.285993  0.513552  0.216114   \n",
      "..        ...       ...       ...       ...       ...       ...       ...   \n",
      "380  0.014549  0.547583  0.267819  0.086528  0.272223  0.509362  0.033630   \n",
      "381  0.029099  0.391902  0.296164  0.219074  0.345304  0.491818  0.054891   \n",
      "382  0.029099  0.391902  0.364890  0.232526  0.301885  0.455333  0.045300   \n",
      "383  0.227935  0.351633  0.705053  0.125528  0.346522  0.467402  0.048626   \n",
      "384  0.029099  0.391901  0.432783  0.248212  0.290873  0.511908  0.028929   \n",
      "\n",
      "           7         8         9   ...        40        41        42  \\\n",
      "0    0.216707  0.429193  0.472521  ...  0.440890  0.404330  0.379109   \n",
      "1    0.480662  0.080194  0.404396  ...  0.440795  0.405366  0.379166   \n",
      "2    0.647426  0.576745  0.809611  ...  0.441136  0.404188  0.379646   \n",
      "3    0.890267  0.394160  0.289214  ...  0.440977  0.404376  0.378909   \n",
      "4    0.247633  0.441642  0.519755  ...  0.440639  0.404007  0.378670   \n",
      "..        ...       ...       ...  ...       ...       ...       ...   \n",
      "380  0.383995  0.578864  0.255294  ...  0.440930  0.404180  0.378748   \n",
      "381  0.234913  0.383770  0.452806  ...  0.440617  0.404722  0.378866   \n",
      "382  0.219801  0.396617  0.466231  ...  0.440888  0.404331  0.378764   \n",
      "383  0.172109  0.343693  0.429630  ...  0.440697  0.404218  0.379244   \n",
      "384  0.223488  0.520386  0.665143  ...  0.440887  0.404283  0.378983   \n",
      "\n",
      "           43        44        45        46        47        48        49  \n",
      "0    0.482798  0.496439  0.454929  0.358335  0.406774  0.483354  0.482292  \n",
      "1    0.482614  0.496584  0.456983  0.359361  0.407662  0.480501  0.483925  \n",
      "2    0.482458  0.495759  0.457646  0.358609  0.402439  0.480649  0.486900  \n",
      "3    0.482338  0.496452  0.454775  0.357969  0.406014  0.483203  0.482772  \n",
      "4    0.482771  0.495772  0.455440  0.360155  0.406870  0.481078  0.481587  \n",
      "..        ...       ...       ...       ...       ...       ...       ...  \n",
      "380  0.482715  0.497404  0.454534  0.358529  0.405591  0.481584  0.483089  \n",
      "381  0.482235  0.496405  0.453901  0.358427  0.405073  0.482610  0.476124  \n",
      "382  0.482591  0.496519  0.454942  0.358517  0.406219  0.483822  0.483685  \n",
      "383  0.483046  0.496873  0.456030  0.356536  0.406445  0.486585  0.482579  \n",
      "384  0.483592  0.496044  0.454391  0.359490  0.407710  0.484441  0.482975  \n",
      "\n",
      "[385 rows x 50 columns]\n"
     ]
    }
   ],
   "source": [
    "from sklearn.preprocessing import MinMaxScaler\n",
    "\n",
    "train = pd.read_csv(r\"https://raw.githubusercontent.com/medinaltbx/G6_DP3/master/data/input/merged_data/train/merged_train.csv\", sep=';')\n",
    "test = pd.read_csv(r\"https://raw.githubusercontent.com/medinaltbx/G6_DP3/master/data/input/merged_data/test/merged_test.csv\", sep=';')\n",
    "\n",
    "train, target_train = train.drop(columns=['good_bad_flag'] + ['customerid']), train[\"good_bad_flag\"]\n",
    "test = test.drop(columns=['customerid'],axis=1)\n",
    "\n",
    "pca10 = PCA(n_components=50)\n",
    "train = pd.DataFrame(pca10.fit_transform(train))\n",
    "test = pd.DataFrame(pca10.transform(test))\n",
    "\n",
    "sc = MinMaxScaler()\n",
    "train = pd.DataFrame(sc.fit_transform(train))\n",
    "test = pd.DataFrame(sc.transform(test))\n",
    "\n",
    "\n",
    "train[\"good_bad_flag\"] = target_train\n",
    "\n",
    "print(train)\n",
    "print(test)\n",
    "\n",
    "train.to_csv(\"/home/jovyan/work/data/input/merged_data/train/pca_train.csv\",sep=';', encoding = 'utf8',index= False)\n",
    "test.to_csv(\"/home/jovyan/work/data/input/merged_data/test/pca_test.csv\",sep=';', encoding = 'utf8',index= False)"
   ]
  }
 ],
 "metadata": {
  "colab": {
   "collapsed_sections": [],
   "name": "pca.ipynb",
   "provenance": []
  },
  "kernelspec": {
   "display_name": "Python 3",
   "language": "python",
   "name": "python3"
  },
  "language_info": {
   "codemirror_mode": {
    "name": "ipython",
    "version": 3
   },
   "file_extension": ".py",
   "mimetype": "text/x-python",
   "name": "python",
   "nbconvert_exporter": "python",
   "pygments_lexer": "ipython3",
<<<<<<< Updated upstream
   "version": "3.9.2"
=======
   "version": "3.8.8"
>>>>>>> Stashed changes
  }
 },
 "nbformat": 4,
 "nbformat_minor": 1
}
