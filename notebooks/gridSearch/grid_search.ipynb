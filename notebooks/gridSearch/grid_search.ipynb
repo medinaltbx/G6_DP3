{
 "cells": [
  {
   "cell_type": "code",
   "execution_count": 1,
   "id": "e544dd9b-b4e0-4846-b4a4-20fe213263ff",
   "metadata": {},
   "outputs": [
    {
     "name": "stdout",
     "output_type": "stream",
     "text": [
      "Requirement already satisfied: pandas in /opt/conda/lib/python3.9/site-packages (1.4.2)\n",
      "Requirement already satisfied: sklearn in /opt/conda/lib/python3.9/site-packages (0.0)\n",
      "Requirement already satisfied: xgboost in /opt/conda/lib/python3.9/site-packages (1.6.0)\n",
      "Requirement already satisfied: hyperopt in /opt/conda/lib/python3.9/site-packages (0.2.7)\n",
      "Requirement already satisfied: pytz>=2020.1 in /opt/conda/lib/python3.9/site-packages (from pandas) (2022.1)\n",
      "Requirement already satisfied: python-dateutil>=2.8.1 in /opt/conda/lib/python3.9/site-packages (from pandas) (2.8.2)\n",
      "Requirement already satisfied: numpy>=1.18.5 in /opt/conda/lib/python3.9/site-packages (from pandas) (1.22.3)\n",
      "Requirement already satisfied: scikit-learn in /opt/conda/lib/python3.9/site-packages (from sklearn) (1.0.2)\n",
      "Requirement already satisfied: scipy in /opt/conda/lib/python3.9/site-packages (from xgboost) (1.8.0)\n",
      "Requirement already satisfied: cloudpickle in /opt/conda/lib/python3.9/site-packages (from hyperopt) (2.0.0)\n",
      "Requirement already satisfied: py4j in /opt/conda/lib/python3.9/site-packages (from hyperopt) (0.10.9.5)\n",
      "Requirement already satisfied: tqdm in /opt/conda/lib/python3.9/site-packages (from hyperopt) (4.64.0)\n",
      "Requirement already satisfied: six in /opt/conda/lib/python3.9/site-packages (from hyperopt) (1.16.0)\n",
      "Requirement already satisfied: future in /opt/conda/lib/python3.9/site-packages (from hyperopt) (0.18.2)\n",
      "Requirement already satisfied: networkx>=2.2 in /opt/conda/lib/python3.9/site-packages (from hyperopt) (2.8)\n",
      "Requirement already satisfied: joblib>=0.11 in /opt/conda/lib/python3.9/site-packages (from scikit-learn->sklearn) (1.1.0)\n",
      "Requirement already satisfied: threadpoolctl>=2.0.0 in /opt/conda/lib/python3.9/site-packages (from scikit-learn->sklearn) (3.1.0)\n"
     ]
    }
   ],
   "source": [
    "!pip install pandas sklearn xgboost hyperopt"
   ]
  },
  {
   "cell_type": "code",
   "execution_count": 2,
   "id": "ca9673ff-b912-4ba6-8901-690000880a86",
   "metadata": {},
   "outputs": [],
   "source": [
    "import pandas as pd\n",
    "import xgboost as xgb\n",
    "from sklearn.model_selection import train_test_split, cross_val_score, RepeatedStratifiedKFold, GridSearchCV, RandomizedSearchCV, KFold\n",
    "from sklearn.metrics import accuracy_score, make_scorer\n",
    "from sklearn.pipeline import Pipeline\n",
    "import pickle\n",
    "from hyperopt import STATUS_OK, Trials, fmin, hp, tpe\n",
    "import warnings\n",
    "from sklearn.feature_selection import SelectKBest, chi2\n",
    "warnings.filterwarnings('ignore')\n"
   ]
  },
  {
   "cell_type": "markdown",
   "id": "faa1e7ac-4ae7-4af6-97e3-2a677a9275bf",
   "metadata": {},
   "source": [
    "## Generate baseline model"
   ]
  },
  {
   "cell_type": "code",
   "execution_count": 3,
   "id": "4c95d495-3250-4258-a9f9-27f95c28fb8a",
   "metadata": {},
   "outputs": [
    {
     "name": "stdout",
     "output_type": "stream",
     "text": [
      "BASELINE ACCURACY:  0.760670731707317\n"
     ]
    }
   ],
   "source": [
    "df = pd.read_csv(r\"https://raw.githubusercontent.com/medinaltbx/G6_DP3/master/data/input/merged_data/train/merged_train.csv\",sep=';')\n",
    "df.drop([\"customerid\"],axis=1,inplace=True)\n",
    "X, y = df.drop([\"good_bad_flag\"],axis=1), df['good_bad_flag']\n",
    "X_train, X_test, y_train, y_test = train_test_split(X, y, test_size=0.2)\n",
    "\n",
    "D_train = xgb.DMatrix(X_train, label=y_train)\n",
    "D_test = xgb.DMatrix(X_test, label=y_test)\n",
    "\n",
    "baseline_model = xgb.XGBClassifier()\n",
    "baseline_model.fit(X_train, y_train)\n",
    "\n",
    "y_pred = baseline_model.predict(X_test)\n",
    "accuracy_baseline = accuracy_score(y_test, y_pred)\n",
    "print(\"BASELINE ACCURACY: \",accuracy_baseline)"
   ]
  },
  {
   "cell_type": "markdown",
   "id": "4f96be0b-8ba5-4bfd-b244-7452bde0f713",
   "metadata": {},
   "source": [
    "## Generate model with base variables + Grid Search"
   ]
  },
  {
   "cell_type": "code",
   "execution_count": 4,
   "id": "af859f84-a2da-4763-8287-0a44c5174481",
   "metadata": {},
   "outputs": [
    {
     "name": "stdout",
     "output_type": "stream",
     "text": [
      "Fitting 3 folds for each of 180 candidates, totalling 540 fits\n",
      "Best AUC Score: 0.6704838100887899\n",
      "Accuracy: 0.7698170731707317\n"
     ]
    },
    {
     "ename": "NameError",
     "evalue": "name 'confusion_matrix' is not defined",
     "output_type": "error",
     "traceback": [
      "\u001b[0;31m---------------------------------------------------------------------------\u001b[0m",
      "\u001b[0;31mNameError\u001b[0m                                 Traceback (most recent call last)",
      "Input \u001b[0;32mIn [4]\u001b[0m, in \u001b[0;36m<cell line: 39>\u001b[0;34m()\u001b[0m\n\u001b[1;32m     37\u001b[0m \u001b[38;5;28mprint\u001b[39m(\u001b[38;5;124m'\u001b[39m\u001b[38;5;124mBest AUC Score: \u001b[39m\u001b[38;5;132;01m{}\u001b[39;00m\u001b[38;5;124m'\u001b[39m\u001b[38;5;241m.\u001b[39mformat(model\u001b[38;5;241m.\u001b[39mbest_score_))\n\u001b[1;32m     38\u001b[0m \u001b[38;5;28mprint\u001b[39m(\u001b[38;5;124m'\u001b[39m\u001b[38;5;124mAccuracy: \u001b[39m\u001b[38;5;132;01m{}\u001b[39;00m\u001b[38;5;124m'\u001b[39m\u001b[38;5;241m.\u001b[39mformat(accuracy_score(y_test, predict)))\n\u001b[0;32m---> 39\u001b[0m \u001b[38;5;28mprint\u001b[39m(\u001b[43mconfusion_matrix\u001b[49m(y_test,predict))\n",
      "\u001b[0;31mNameError\u001b[0m: name 'confusion_matrix' is not defined"
     ]
    }
   ],
   "source": [
    "df = pd.read_csv(rf\"https://raw.githubusercontent.com/medinaltbx/G6_DP3/master/data/input/merged_data/train/merged_train.csv\",sep=';')\n",
    "df.drop([\"customerid\"],axis=1,inplace=True)\n",
    "X, y = df.drop([\"good_bad_flag\"],axis=1), df['good_bad_flag']\n",
    "X_train, X_test, y_train, y_test = train_test_split(X, y, test_size=0.2)\n",
    "\n",
    "pipe = Pipeline([('fs', SelectKBest()),('clf', xgb.XGBClassifier(objective='binary:logistic'))])\n",
    "\n",
    "# Define our search space for grid search\n",
    "search_space = [\n",
    "  {\n",
    "    'clf__n_estimators': [100, 200, 300],\n",
    "    'clf__learning_rate': [0.01, 0.1],\n",
    "    'clf__max_depth': range(5, 10),\n",
    "    'clf__colsample_bytree': [i/10.0 for i in range(1, 3)],\n",
    "    'clf__gamma': [i/10.0 for i in range(3)],\n",
    "    'fs__score_func': [chi2],\n",
    "  }\n",
    "]\n",
    "# Define cross validation\n",
    "kfold = KFold(n_splits=3)\n",
    "# AUC and accuracy as score\n",
    "scoring = {'AUC':'roc_auc', 'Accuracy':make_scorer(accuracy_score)}\n",
    "# Define grid search\n",
    "grid = GridSearchCV(\n",
    "  pipe,\n",
    "  param_grid=search_space,\n",
    "  cv=kfold,\n",
    "  scoring=scoring,\n",
    "  refit='AUC',\n",
    "  verbose=1,\n",
    "  n_jobs=-1\n",
    ")\n",
    "# Fit grid search\n",
    "complete_model = grid.fit(X_train, y_train)\n",
    "\n",
    "predict = complete_model.predict(X_test)\n",
    "print('Best AUC Score: {}'.format(complete_model.best_score_))\n",
    "print('Accuracy: {}'.format(accuracy_score(y_test, predict)))"
   ]
  },
  {
   "cell_type": "code",
   "execution_count": null,
   "id": "246c97b4-38c7-4b1d-ab58-daf03b0d121e",
   "metadata": {},
   "outputs": [
    {
     "name": "stdout",
     "output_type": "stream",
     "text": [
      "Fitting 3 folds for each of 180 candidates, totalling 540 fits\n"
     ]
    }
   ],
   "source": [
    "df = pd.read_csv(rf\"https://raw.githubusercontent.com/medinaltbx/G6_DP3/master/data/input/merged_data/train/cluster_train.csv\",sep=';')\n",
    "df.drop([\"customerid\"],axis=1,inplace=True)\n",
    "X, y = df.drop([\"good_bad_flag\"],axis=1), df['good_bad_flag']\n",
    "X_train, X_test, y_train, y_test = train_test_split(X, y, test_size=0.2)\n",
    "\n",
    "pipe = Pipeline([('fs', SelectKBest()),('clf', xgb.XGBClassifier(objective='binary:logistic'))])\n",
    "\n",
    "# Define our search space for grid search\n",
    "search_space = [\n",
    "  {\n",
    "    'clf__n_estimators': [100, 200, 300],\n",
    "    'clf__learning_rate': [0.01, 0.1],\n",
    "    'clf__max_depth': range(5, 10),\n",
    "    'clf__colsample_bytree': [i/10.0 for i in range(1, 3)],\n",
    "    'clf__gamma': [i/10.0 for i in range(3)],\n",
    "    'fs__score_func': [chi2],\n",
    "  }\n",
    "]\n",
    "# Define cross validation\n",
    "kfold = KFold(n_splits=3)\n",
    "# AUC and accuracy as score\n",
    "scoring = {'AUC':'roc_auc', 'Accuracy':make_scorer(accuracy_score)}\n",
    "# Define grid search\n",
    "grid = GridSearchCV(\n",
    "  pipe,\n",
    "  param_grid=search_space,\n",
    "  cv=kfold,\n",
    "  scoring=scoring,\n",
    "  refit='AUC',\n",
    "  verbose=1,\n",
    "  n_jobs=-1\n",
    ")\n",
    "# Fit grid search\n",
    "cluster_model = grid.fit(X_train, y_train)\n",
    "\n",
    "predict = cluster_model.predict(X_test)\n",
    "print('Best AUC Score: {}'.format(cluster_model.best_score_))\n",
    "print('Accuracy: {}'.format(accuracy_score(y_test, predict)))"
   ]
  },
  {
   "cell_type": "code",
   "execution_count": null,
   "id": "6a1e2647-ce29-4178-8e1e-f71aa168192c",
   "metadata": {},
   "outputs": [],
   "source": [
    "df = pd.read_csv(rf\"https://raw.githubusercontent.com/medinaltbx/G6_DP3/master/data/input/merged_data/train/top_10_train.csv\",sep=';')\n",
    "df.drop([\"customerid\"],axis=1,inplace=True)\n",
    "X, y = df.drop([\"good_bad_flag\"],axis=1), df['good_bad_flag']\n",
    "X_train, X_test, y_train, y_test = train_test_split(X, y, test_size=0.2)\n",
    "\n",
    "pipe = Pipeline([('fs', SelectKBest()),('clf', xgb.XGBClassifier(objective='binary:logistic'))])\n",
    "\n",
    "# Define our search space for grid search\n",
    "search_space = [\n",
    "  {\n",
    "    'clf__n_estimators': [100, 200, 300],\n",
    "    'clf__learning_rate': [0.01, 0.1],\n",
    "    'clf__max_depth': range(5, 10),\n",
    "    'clf__colsample_bytree': [i/10.0 for i in range(1, 3)],\n",
    "    'clf__gamma': [i/10.0 for i in range(3)],\n",
    "    'fs__score_func': [chi2],\n",
    "  }\n",
    "]\n",
    "# Define cross validation\n",
    "kfold = KFold(n_splits=3)\n",
    "# AUC and accuracy as score\n",
    "scoring = {'AUC':'roc_auc', 'Accuracy':make_scorer(accuracy_score)}\n",
    "# Define grid search\n",
    "grid = GridSearchCV(\n",
    "  pipe,\n",
    "  param_grid=search_space,\n",
    "  cv=kfold,\n",
    "  scoring=scoring,\n",
    "  refit='AUC',\n",
    "  verbose=1,\n",
    "  n_jobs=-1\n",
    ")\n",
    "# Fit grid search\n",
    "top_10_model = grid.fit(X_train, y_train)\n",
    "\n",
    "predict = top_10_model.predict(X_test)\n",
    "print('Best AUC Score: {}'.format(top_10_model.best_score_))\n",
    "print('Accuracy: {}'.format(accuracy_score(y_test, predict)))"
   ]
  }
 ],
 "metadata": {
  "kernelspec": {
   "display_name": "Python 3 (ipykernel)",
   "language": "python",
   "name": "python3"
  },
  "language_info": {
   "codemirror_mode": {
    "name": "ipython",
    "version": 3
   },
   "file_extension": ".py",
   "mimetype": "text/x-python",
   "name": "python",
   "nbconvert_exporter": "python",
   "pygments_lexer": "ipython3",
   "version": "3.9.12"
  }
 },
 "nbformat": 4,
 "nbformat_minor": 5
}
