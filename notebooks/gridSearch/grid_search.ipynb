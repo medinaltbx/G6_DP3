{
 "cells": [
  {
   "cell_type": "code",
   "execution_count": 4,
   "id": "e544dd9b-b4e0-4846-b4a4-20fe213263ff",
   "metadata": {},
   "outputs": [
    {
     "name": "stdout",
     "output_type": "stream",
     "text": [
      "Requirement already satisfied: pandas in /opt/conda/lib/python3.9/site-packages (1.4.2)\n",
      "Requirement already satisfied: sklearn in /opt/conda/lib/python3.9/site-packages (0.0)\n",
      "Requirement already satisfied: xgboost in /opt/conda/lib/python3.9/site-packages (1.6.0)\n",
      "Requirement already satisfied: hyperopt in /opt/conda/lib/python3.9/site-packages (0.2.7)\n",
      "Requirement already satisfied: pytz>=2020.1 in /opt/conda/lib/python3.9/site-packages (from pandas) (2022.1)\n",
      "Requirement already satisfied: numpy>=1.18.5 in /opt/conda/lib/python3.9/site-packages (from pandas) (1.22.3)\n",
      "Requirement already satisfied: python-dateutil>=2.8.1 in /opt/conda/lib/python3.9/site-packages (from pandas) (2.8.2)\n",
      "Requirement already satisfied: scikit-learn in /opt/conda/lib/python3.9/site-packages (from sklearn) (1.0.2)\n",
      "Requirement already satisfied: scipy in /opt/conda/lib/python3.9/site-packages (from xgboost) (1.8.0)\n",
      "Requirement already satisfied: networkx>=2.2 in /opt/conda/lib/python3.9/site-packages (from hyperopt) (2.8)\n",
      "Requirement already satisfied: cloudpickle in /opt/conda/lib/python3.9/site-packages (from hyperopt) (2.0.0)\n",
      "Requirement already satisfied: tqdm in /opt/conda/lib/python3.9/site-packages (from hyperopt) (4.64.0)\n",
      "Requirement already satisfied: py4j in /opt/conda/lib/python3.9/site-packages (from hyperopt) (0.10.9.5)\n",
      "Requirement already satisfied: six in /opt/conda/lib/python3.9/site-packages (from hyperopt) (1.16.0)\n",
      "Requirement already satisfied: future in /opt/conda/lib/python3.9/site-packages (from hyperopt) (0.18.2)\n",
      "Requirement already satisfied: threadpoolctl>=2.0.0 in /opt/conda/lib/python3.9/site-packages (from scikit-learn->sklearn) (3.1.0)\n",
      "Requirement already satisfied: joblib>=0.11 in /opt/conda/lib/python3.9/site-packages (from scikit-learn->sklearn) (1.1.0)\n"
     ]
    }
   ],
   "source": [
    "!pip install pandas sklearn xgboost hyperopt"
   ]
  },
  {
   "cell_type": "code",
   "execution_count": 5,
   "id": "ca9673ff-b912-4ba6-8901-690000880a86",
   "metadata": {},
   "outputs": [],
   "source": [
    "import pandas as pd\n",
    "import xgboost as xgb\n",
    "from sklearn.model_selection import train_test_split, cross_val_score, RepeatedStratifiedKFold, GridSearchCV, RandomizedSearchCV, KFold\n",
    "from sklearn.metrics import accuracy_score, make_scorer\n",
    "from sklearn.pipeline import Pipeline\n",
    "import pickle\n",
    "from hyperopt import STATUS_OK, Trials, fmin, hp, tpe\n",
    "import warnings\n",
    "from sklearn.feature_selection import SelectKBest, chi2\n",
    "warnings.filterwarnings('ignore')\n"
   ]
  },
  {
   "cell_type": "markdown",
   "id": "faa1e7ac-4ae7-4af6-97e3-2a677a9275bf",
   "metadata": {},
   "source": [
    "## Generate baseline model"
   ]
  },
  {
   "cell_type": "code",
   "execution_count": 6,
   "id": "4c95d495-3250-4258-a9f9-27f95c28fb8a",
   "metadata": {},
   "outputs": [
    {
     "name": "stdout",
     "output_type": "stream",
     "text": [
      "BASELINE ACCURACY:  0.7835365853658537\n"
     ]
    }
   ],
   "source": [
    "df = pd.read_csv(r\"https://raw.githubusercontent.com/medinaltbx/G6_DP3/master/data/input/merged_data/train/merged_train.csv\",sep=';')\n",
    "df.drop([\"customerid\"],axis=1,inplace=True)\n",
    "X, y = df.drop([\"good_bad_flag\"],axis=1), df['good_bad_flag']\n",
    "X_train, X_test, y_train, y_test = train_test_split(X, y, test_size=0.2)\n",
    "\n",
    "D_train = xgb.DMatrix(X_train, label=y_train)\n",
    "D_test = xgb.DMatrix(X_test, label=y_test)\n",
    "\n",
    "baseline_model = xgb.XGBClassifier()\n",
    "baseline_model.fit(X_train, y_train)\n",
    "\n",
    "y_pred = baseline_model.predict(X_test)\n",
    "baseline_accuracy = accuracy_score(y_test, y_pred)\n",
    "print(\"BASELINE ACCURACY: \", baseline_accuracy)"
   ]
  },
  {
   "cell_type": "markdown",
   "id": "4f96be0b-8ba5-4bfd-b244-7452bde0f713",
   "metadata": {},
   "source": [
    "## Generate model with base variables + Grid Search"
   ]
  },
  {
   "cell_type": "code",
   "execution_count": 7,
   "id": "af859f84-a2da-4763-8287-0a44c5174481",
   "metadata": {},
   "outputs": [
    {
     "name": "stdout",
     "output_type": "stream",
     "text": [
      "Fitting 3 folds for each of 180 candidates, totalling 540 fits\n",
      "Best AUC Score: 0.6856376300878894\n",
      "Accuracy: 0.7713414634146342\n"
     ]
    }
   ],
   "source": [
    "df = pd.read_csv(rf\"https://raw.githubusercontent.com/medinaltbx/G6_DP3/master/data/input/merged_data/train/merged_train.csv\",sep=';')\n",
    "df.drop([\"customerid\"],axis=1,inplace=True)\n",
    "X, y = df.drop([\"good_bad_flag\"],axis=1), df['good_bad_flag']\n",
    "X_train, X_test, y_train, y_test = train_test_split(X, y, test_size=0.2)\n",
    "\n",
    "pipe = Pipeline([('fs', SelectKBest()),('clf', xgb.XGBClassifier(objective='binary:logistic'))])\n",
    "\n",
    "# Define our search space for grid search\n",
    "search_space = [\n",
    "  {\n",
    "    'clf__n_estimators': [100, 200, 300],\n",
    "    'clf__learning_rate': [0.01, 0.1],\n",
    "    'clf__max_depth': range(5, 10),\n",
    "    'clf__colsample_bytree': [i/10.0 for i in range(1, 3)],\n",
    "    'clf__gamma': [i/10.0 for i in range(3)],\n",
    "    'fs__score_func': [chi2],\n",
    "  }\n",
    "]\n",
    "# Define cross validation\n",
    "kfold = KFold(n_splits=3)\n",
    "# AUC and accuracy as score\n",
    "scoring = {'AUC':'roc_auc', 'Accuracy':make_scorer(accuracy_score)}\n",
    "# Define grid search\n",
    "grid = GridSearchCV(\n",
    "  pipe,\n",
    "  param_grid=search_space,\n",
    "  cv=kfold,\n",
    "  scoring=scoring,\n",
    "  refit='AUC',\n",
    "  verbose=1,\n",
    "  n_jobs=-1\n",
    ")\n",
    "# Fit grid search\n",
    "complete_model = grid.fit(X_train, y_train)\n",
    "predict_complete = complete_model.predict(X_test)\n",
    "complete_accuracy = accuracy_score(y_test, predict_complete)\n",
    "print('Best AUC Score: {}'.format(complete_model.best_score_))\n",
    "print('Accuracy: {}'.format(complete_accuracy))"
   ]
  },
  {
   "cell_type": "markdown",
   "id": "a464c590-cfba-4c2d-a1db-b0082faf4e3e",
   "metadata": {},
   "source": [
    "## Generate model with cluster feature + Grid Search"
   ]
  },
  {
   "cell_type": "code",
   "execution_count": 8,
   "id": "246c97b4-38c7-4b1d-ab58-daf03b0d121e",
   "metadata": {},
   "outputs": [
    {
     "name": "stdout",
     "output_type": "stream",
     "text": [
      "Fitting 3 folds for each of 180 candidates, totalling 540 fits\n",
      "Best AUC Score: 0.6399587151476193\n",
      "Accuracy: 0.7972560975609756\n"
     ]
    }
   ],
   "source": [
    "df = pd.read_csv(rf\"https://raw.githubusercontent.com/medinaltbx/G6_DP3/master/data/input/merged_data/train/cluster_train.csv\",sep=';')\n",
    "df.drop([\"customerid\"],axis=1,inplace=True)\n",
    "X, y = df.drop([\"good_bad_flag\"],axis=1), df['good_bad_flag']\n",
    "X_train, X_test, y_train, y_test = train_test_split(X, y, test_size=0.2)\n",
    "\n",
    "pipe = Pipeline([('fs', SelectKBest()),('clf', xgb.XGBClassifier(objective='binary:logistic'))])\n",
    "\n",
    "# Define our search space for grid search\n",
    "search_space = [\n",
    "  {\n",
    "    'clf__n_estimators': [100, 200, 300],\n",
    "    'clf__learning_rate': [0.01, 0.1],\n",
    "    'clf__max_depth': range(10, 20),\n",
    "    'clf__colsample_bytree': [i/10.0 for i in range(1, 3)],\n",
    "    'clf__gamma': [i/10.0 for i in range(3)],\n",
    "    'fs__score_func': [chi2],\n",
    "  }\n",
    "]\n",
    "# Define cross validation\n",
    "kfold = KFold(n_splits=3)\n",
    "# AUC and accuracy as score\n",
    "scoring = {'AUC':'roc_auc', 'Accuracy':make_scorer(accuracy_score)}\n",
    "# Define grid search\n",
    "grid = GridSearchCV(\n",
    "  pipe,\n",
    "  param_grid=search_space,\n",
    "  cv=kfold,\n",
    "  scoring=scoring,\n",
    "  refit='AUC',\n",
    "  verbose=1,\n",
    "  n_jobs=-1\n",
    ")\n",
    "# Fit grid search\n",
    "cluster_model = grid.fit(X_train, y_train)\n",
    "predict_cluster = cluster_model.predict(X_test)\n",
    "cluster_accuracy = accuracy_score(y_test, predict_cluster)\n",
    "print('Best AUC Score: {}'.format(cluster_model.best_score_))\n",
    "print('Accuracy: {}'.format(cluster_accuracy))"
   ]
  },
  {
   "cell_type": "markdown",
   "id": "b96a6a05-2728-4364-b935-92e29faccb0a",
   "metadata": {},
   "source": [
    "## Generate model with cluster top 10 features + Grid Search"
   ]
  },
  {
   "cell_type": "code",
   "execution_count": 9,
   "id": "6a1e2647-ce29-4178-8e1e-f71aa168192c",
   "metadata": {},
   "outputs": [
    {
     "name": "stdout",
     "output_type": "stream",
     "text": [
      "Fitting 3 folds for each of 180 candidates, totalling 540 fits\n",
      "Best AUC Score: 0.6656971296901795\n",
      "Accuracy: 0.7774390243902439\n"
     ]
    }
   ],
   "source": [
    "df = pd.read_csv(rf\"https://raw.githubusercontent.com/medinaltbx/G6_DP3/master/data/input/merged_data/train/top_10_train.csv\",sep=';')\n",
    "X, y = df.drop([\"good_bad_flag\"],axis=1), df['good_bad_flag']\n",
    "X_train, X_test, y_train, y_test = train_test_split(X, y, test_size=0.2)\n",
    "\n",
    "pipe = Pipeline([('fs', SelectKBest()),('clf', xgb.XGBClassifier(objective='binary:logistic'))])\n",
    "\n",
    "# Define our search space for grid search\n",
    "search_space = [\n",
    "  {\n",
    "    'clf__n_estimators': [100, 200, 300],\n",
    "    'clf__learning_rate': [0.01, 0.1],\n",
    "    'clf__max_depth': range(5, 10),\n",
    "    'clf__colsample_bytree': [i/10.0 for i in range(1, 3)],\n",
    "    'clf__gamma': [i/10.0 for i in range(3)],\n",
    "    'fs__score_func': [chi2],\n",
    "  }\n",
    "]\n",
    "# Define cross validation\n",
    "kfold = KFold(n_splits=3)\n",
    "# AUC and accuracy as score\n",
    "scoring = {'AUC':'roc_auc', 'Accuracy':make_scorer(accuracy_score)}\n",
    "# Define grid search\n",
    "grid = GridSearchCV(\n",
    "  pipe,\n",
    "  param_grid=search_space,\n",
    "  cv=kfold,\n",
    "  scoring=scoring,\n",
    "  refit='AUC',\n",
    "  verbose=1,\n",
    "  n_jobs=-1\n",
    ")\n",
    "# Fit grid search\n",
    "top_10_model = grid.fit(X_train, y_train)\n",
    "predict_top_10 = top_10_model.predict(X_test)\n",
    "top_10_accuracy = accuracy_score(y_test, predict_top_10)\n",
    "print('Best AUC Score: {}'.format(top_10_model.best_score_))\n",
    "print('Accuracy: {}'.format(top_10_acc))"
   ]
  },
  {
   "cell_type": "markdown",
   "id": "734f3b6e-334a-481c-824d-e106a79e7e2e",
   "metadata": {},
   "source": [
    "# Model comparison"
   ]
  },
  {
   "cell_type": "code",
   "execution_count": 11,
   "id": "561336a6-d156-4df8-8f21-83ae938016fb",
   "metadata": {},
   "outputs": [
    {
     "name": "stdout",
     "output_type": "stream",
     "text": [
      "Best Model:  GridSearchCV(cv=KFold(n_splits=3, random_state=None, shuffle=False),\n",
      "             estimator=Pipeline(steps=[('fs', SelectKBest()),\n",
      "                                       ('clf',\n",
      "                                        XGBClassifier(base_score=None,\n",
      "                                                      booster=None,\n",
      "                                                      callbacks=None,\n",
      "                                                      colsample_bylevel=None,\n",
      "                                                      colsample_bynode=None,\n",
      "                                                      colsample_bytree=None,\n",
      "                                                      early_stopping_rounds=None,\n",
      "                                                      enable_categorical=False,\n",
      "                                                      eval_metric=None,\n",
      "                                                      gamma=None, gpu_id=None,\n",
      "                                                      grow_policy=N...\n",
      "                                                      reg_alpha=None,\n",
      "                                                      reg_lambda=None, ...))]),\n",
      "             n_jobs=-1,\n",
      "             param_grid=[{'clf__colsample_bytree': [0.1, 0.2],\n",
      "                          'clf__gamma': [0.0, 0.1, 0.2],\n",
      "                          'clf__learning_rate': [0.01, 0.1],\n",
      "                          'clf__max_depth': range(5, 10),\n",
      "                          'clf__n_estimators': [100, 200, 300],\n",
      "                          'fs__score_func': [<function chi2 at 0x7f8d65b38670>]}],\n",
      "             refit='AUC',\n",
      "             scoring={'AUC': 'roc_auc',\n",
      "                      'Accuracy': make_scorer(accuracy_score)},\n",
      "             verbose=1)\n",
      "Best Accuracy:  0.7972560975609756\n"
     ]
    }
   ],
   "source": [
    "accuracies = [(baseline_accuracy, baseline_model), \n",
    "              (complete_accuracy, complete_model),\n",
    "              (top_10_accuracy, top_10_model),\n",
    "              (cluster_accuracy, cluster_model)]\n",
    "\n",
    "best_model, max_acc = None, 0\n",
    "for t in accuracies:\n",
    "    if t[0] > max_acc:\n",
    "        max_acc = t[0]\n",
    "        best_model = t[1]\n",
    "\n",
    "print(\"Best Model: \", best_model)\n",
    "print(\"Best Accuracy: \", max_acc)"
   ]
  }
 ],
 "metadata": {
  "kernelspec": {
   "display_name": "Python 3 (ipykernel)",
   "language": "python",
   "name": "python3"
  },
  "language_info": {
   "codemirror_mode": {
    "name": "ipython",
    "version": 3
   },
   "file_extension": ".py",
   "mimetype": "text/x-python",
   "name": "python",
   "nbconvert_exporter": "python",
   "pygments_lexer": "ipython3",
   "version": "3.9.12"
  }
 },
 "nbformat": 4,
 "nbformat_minor": 5
}
