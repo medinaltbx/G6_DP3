{
 "cells": [
  {
   "cell_type": "markdown",
   "id": "6316c522",
   "metadata": {},
   "source": [
    "# Clustering K-Means"
   ]
  },
  {
   "cell_type": "code",
   "execution_count": null,
   "id": "c2402acf-1e20-4d45-b5c4-ee3d3c442f3a",
   "metadata": {},
   "outputs": [],
   "source": [
    "!pip install matplotlib seaborn sklearn"
   ]
  },
  {
   "cell_type": "code",
   "execution_count": null,
   "id": "8d42ba2a",
   "metadata": {},
   "outputs": [],
   "source": [
    "# import libraries\n",
    "%matplotlib inline\n",
    "import matplotlib.pyplot as plt\n",
    "import seaborn as sns; sns.set()  # for plot styling\n",
    "import numpy as np\n",
    "import pandas as pd\n",
    "from sklearn.cluster import KMeans"
   ]
  },
  {
   "cell_type": "code",
   "execution_count": null,
   "id": "119d2407",
   "metadata": {},
   "outputs": [],
   "source": [
    "mt = pd.read_csv(r\"https://raw.githubusercontent.com/medinaltbx/G6_DP3/master/data/input/merged_data/train/merged_train.csv\", sep=';' , decimal='.')\n",
    "mt.head()"
   ]
  },
  {
   "cell_type": "code",
   "execution_count": null,
   "id": "dabd7ba3",
   "metadata": {},
   "outputs": [],
   "source": [
    "mt_cl = mt.drop(['customerid'], axis=1)\n",
    "mt_cl.head()\n"
   ]
  },
  {
   "cell_type": "code",
   "execution_count": null,
   "id": "6146c6d0",
   "metadata": {},
   "outputs": [],
   "source": [
    "mt_cl.shape"
   ]
  },
  {
   "cell_type": "markdown",
   "id": "24db6e43",
   "metadata": {},
   "source": [
    "## Elbow method para determinar nº de clusters"
   ]
  },
  {
   "cell_type": "code",
   "execution_count": null,
   "id": "4ed996c9",
   "metadata": {},
   "outputs": [],
   "source": [
    "distortions = []\n",
    "K = range(1,10)\n",
    "for k in K:\n",
    "    kmeanModel = KMeans(n_clusters=k)\n",
    "    kmeanModel.fit(mt_cl)\n",
    "    distortions.append(kmeanModel.inertia_)"
   ]
  },
  {
   "cell_type": "code",
   "execution_count": null,
   "id": "7f0f3912",
   "metadata": {},
   "outputs": [],
   "source": [
    "plt.figure(figsize=(16,8))\n",
    "plt.plot(K, distortions, 'bx-')\n",
    "plt.xlabel('k')\n",
    "plt.ylabel('Distortion')\n",
    "plt.title('The Elbow Method showing the optimal k')\n",
    "plt.show()"
   ]
  },
  {
   "cell_type": "markdown",
   "id": "03df412b",
   "metadata": {},
   "source": [
    "## Aplicando método de k-means"
   ]
  },
  {
   "cell_type": "code",
   "execution_count": null,
   "id": "cdbcce15",
   "metadata": {},
   "outputs": [],
   "source": [
    "clustering =  KMeans(n_clusters = 2, max_iter = 300)#Crea el modelo\n",
    "clustering.fit(mt_cl)"
   ]
  },
  {
   "cell_type": "markdown",
   "id": "dfa9074a",
   "metadata": {},
   "source": [
    "## Agregando la clasificación al archivo original"
   ]
  },
  {
   "cell_type": "code",
   "execution_count": null,
   "id": "a5867fcd",
   "metadata": {},
   "outputs": [],
   "source": [
    "mt['Kmeans_Cluster']=clustering.labels_\n",
    "mt.head()"
   ]
  },
  {
   "cell_type": "code",
   "execution_count": null,
   "id": "caf5f930",
   "metadata": {},
   "outputs": [],
   "source": [
    "mt.to_csv(\"cluster_train.csv\",sep=';',index=False)"
   ]
  },
  {
   "cell_type": "markdown",
   "id": "33b77d3f",
   "metadata": {},
   "source": [
    "## Visualización de clusters\n"
   ]
  },
  {
   "cell_type": "code",
   "execution_count": null,
   "id": "d6bd5603",
   "metadata": {},
   "outputs": [],
   "source": [
    "from sklearn.decomposition import PCA\n",
    "\n",
    "pca = PCA(n_components=2)\n",
    "pca_mt_cl = pca.fit_transform(mt_cl)\n",
    "pca_mt_cl_df = pd.DataFrame(data=pca_mt_cl, columns = ['Componente_1', 'Componente_2'])\n",
    "pca_nombres_mt = pd.concat([pca_mt_cl_df, mt[['Kmeans_Cluster']]], axis=1)\n",
    "\n",
    "pca_nombres_mt"
   ]
  },
  {
   "cell_type": "code",
   "execution_count": null,
   "id": "d75e3e95",
   "metadata": {},
   "outputs": [],
   "source": [
    "fig = plt.figure(figsize = (6,6))\n",
    "\n",
    "ax = fig.add_subplot(1,1,1)\n",
    "ax.set_xlabel('Componente 1', fontsize = 15)\n",
    "ax.set_ylabel('Componente 2', fontsize = 15)\n",
    "ax.set_title('Componentes Principales', fontsize = 20)\n",
    "\n",
    "color_theme = np.array([\"blue\", \"green\", \"orange\"])\n",
    "ax.scatter(x = pca_nombres_mt.Componente_1, y = pca_nombres_mt.Componente_2,\n",
    "          c=color_theme[pca_nombres_mt.Kmeans_Cluster], s = 50)\n",
    "plt.show()\n"
   ]
  },
  {
   "cell_type": "markdown",
   "id": "f61c42a5-6f0d-4d0e-b58b-88cefd581a54",
   "metadata": {},
   "source": [
    "## Añadimos clústers en el dataset de test"
   ]
  },
  {
   "cell_type": "code",
   "execution_count": null,
   "id": "d87eb6ca",
   "metadata": {},
   "outputs": [],
   "source": [
    "df = pd.read_csv(\"https://raw.githubusercontent.com/medinaltbx/G6_DP3/master/data/input/merged_data/test/merged_test.csv\",sep=';')\n",
    "df = df.dropna()\n",
    "customerid , test = df['customerid'], df.drop(['customerid'],axis=1)\n",
    "clustering.fit_transform(test)\n",
    "test['Kmeans_Cluster'], test['customerid'] = clustering.labels_, customerid\n",
    "test.head()"
   ]
  },
  {
   "cell_type": "code",
   "execution_count": null,
   "id": "eccf51fe-4f41-414a-94b5-7f68ae1b7e36",
   "metadata": {},
   "outputs": [],
   "source": [
    "test.to_csv(\"cluster_test.csv\",sep=';',index=False)"
   ]
  }
 ],
 "metadata": {
  "kernelspec": {
   "display_name": "Python 3 (ipykernel)",
   "language": "python",
   "name": "python3"
  },
  "language_info": {
   "codemirror_mode": {
    "name": "ipython",
    "version": 3
   },
   "file_extension": ".py",
   "mimetype": "text/x-python",
   "name": "python",
   "nbconvert_exporter": "python",
   "pygments_lexer": "ipython3",
   "version": "3.9.12"
  }
 },
 "nbformat": 4,
 "nbformat_minor": 5
}
